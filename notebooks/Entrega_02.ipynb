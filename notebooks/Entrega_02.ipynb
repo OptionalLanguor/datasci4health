{
  "nbformat": 4,
  "nbformat_minor": 0,
  "metadata": {
    "colab": {
      "name": "Entrega-02.ipynb",
      "provenance": [],
      "collapsed_sections": []
    },
    "kernelspec": {
      "name": "python3",
      "display_name": "Python 3"
    },
    "language_info": {
      "name": "python"
    }
  },
  "cells": [
    {
      "cell_type": "code",
      "metadata": {
        "id": "0-iJt-HNbkoz"
      },
      "source": [
        "import pandas as pd\n",
        "import matplotlib.pyplot as plt"
      ],
      "execution_count": null,
      "outputs": []
    },
    {
      "cell_type": "markdown",
      "metadata": {
        "id": "FR4KTvftbt7C"
      },
      "source": [
        "# Importing dataset."
      ]
    },
    {
      "cell_type": "code",
      "metadata": {
        "colab": {
          "base_uri": "https://localhost:8080/",
          "height": 204
        },
        "id": "dsi3d-RMbub9",
        "outputId": "6c9d0b73-532e-4476-eb6f-1bcfbe837d92"
      },
      "source": [
        "commom_path = \"https://raw.githubusercontent.com/OptionalLanguor/datasci4health/master/data/external/eeglab_dataset/\"\n",
        "participants_file = \"participants.tsv\"\n",
        "\n",
        "url_participants = commom_path + participants_file\n",
        "participants = pd.read_csv(url_participants, sep=\"\\t\")\n",
        "\n",
        "participants.head()"
      ],
      "execution_count": null,
      "outputs": [
        {
          "output_type": "execute_result",
          "data": {
            "text/html": [
              "<div>\n",
              "<style scoped>\n",
              "    .dataframe tbody tr th:only-of-type {\n",
              "        vertical-align: middle;\n",
              "    }\n",
              "\n",
              "    .dataframe tbody tr th {\n",
              "        vertical-align: top;\n",
              "    }\n",
              "\n",
              "    .dataframe thead th {\n",
              "        text-align: right;\n",
              "    }\n",
              "</style>\n",
              "<table border=\"1\" class=\"dataframe\">\n",
              "  <thead>\n",
              "    <tr style=\"text-align: right;\">\n",
              "      <th></th>\n",
              "      <th>participant_id</th>\n",
              "      <th>Original_ID</th>\n",
              "      <th>Group</th>\n",
              "      <th>sess1_Med</th>\n",
              "      <th>sess2_Med</th>\n",
              "      <th>sex</th>\n",
              "      <th>age</th>\n",
              "    </tr>\n",
              "  </thead>\n",
              "  <tbody>\n",
              "    <tr>\n",
              "      <th>0</th>\n",
              "      <td>sub-001</td>\n",
              "      <td>8010</td>\n",
              "      <td>CTL</td>\n",
              "      <td>NaN</td>\n",
              "      <td>no s2</td>\n",
              "      <td>Female</td>\n",
              "      <td>61</td>\n",
              "    </tr>\n",
              "    <tr>\n",
              "      <th>1</th>\n",
              "      <td>sub-002</td>\n",
              "      <td>801</td>\n",
              "      <td>PD</td>\n",
              "      <td>ON</td>\n",
              "      <td>OFF</td>\n",
              "      <td>Female</td>\n",
              "      <td>60</td>\n",
              "    </tr>\n",
              "    <tr>\n",
              "      <th>2</th>\n",
              "      <td>sub-003</td>\n",
              "      <td>802</td>\n",
              "      <td>PD</td>\n",
              "      <td>OFF</td>\n",
              "      <td>ON</td>\n",
              "      <td>Male</td>\n",
              "      <td>75</td>\n",
              "    </tr>\n",
              "    <tr>\n",
              "      <th>3</th>\n",
              "      <td>sub-004</td>\n",
              "      <td>803</td>\n",
              "      <td>PD</td>\n",
              "      <td>OFF</td>\n",
              "      <td>ON</td>\n",
              "      <td>Female</td>\n",
              "      <td>76</td>\n",
              "    </tr>\n",
              "    <tr>\n",
              "      <th>4</th>\n",
              "      <td>sub-005</td>\n",
              "      <td>804</td>\n",
              "      <td>PD</td>\n",
              "      <td>ON</td>\n",
              "      <td>OFF</td>\n",
              "      <td>Male</td>\n",
              "      <td>75</td>\n",
              "    </tr>\n",
              "  </tbody>\n",
              "</table>\n",
              "</div>"
            ],
            "text/plain": [
              "  participant_id  Original_ID Group sess1_Med sess2_Med     sex  age\n",
              "0        sub-001         8010   CTL       NaN     no s2  Female   61\n",
              "1        sub-002          801    PD        ON       OFF  Female   60\n",
              "2        sub-003          802    PD       OFF        ON    Male   75\n",
              "3        sub-004          803    PD       OFF        ON  Female   76\n",
              "4        sub-005          804    PD        ON       OFF    Male   75"
            ]
          },
          "metadata": {
            "tags": []
          },
          "execution_count": 82
        }
      ]
    },
    {
      "cell_type": "markdown",
      "metadata": {
        "id": "zVzGb9p381vi"
      },
      "source": [
        "## Replacing sex values\n",
        "Female: 0\n",
        "Male: 1\n"
      ]
    },
    {
      "cell_type": "code",
      "metadata": {
        "colab": {
          "base_uri": "https://localhost:8080/",
          "height": 204
        },
        "id": "0kmE_dcH5oF1",
        "outputId": "cac210e7-ea6f-4f2f-c1a0-009e72080e43"
      },
      "source": [
        "participants['sex'] = participants['sex'].replace(['Female'], 0)\n",
        "participants['sex'] = participants['sex'].replace(['Male'], 1)\n",
        "\n",
        "participants.head()"
      ],
      "execution_count": null,
      "outputs": [
        {
          "output_type": "execute_result",
          "data": {
            "text/html": [
              "<div>\n",
              "<style scoped>\n",
              "    .dataframe tbody tr th:only-of-type {\n",
              "        vertical-align: middle;\n",
              "    }\n",
              "\n",
              "    .dataframe tbody tr th {\n",
              "        vertical-align: top;\n",
              "    }\n",
              "\n",
              "    .dataframe thead th {\n",
              "        text-align: right;\n",
              "    }\n",
              "</style>\n",
              "<table border=\"1\" class=\"dataframe\">\n",
              "  <thead>\n",
              "    <tr style=\"text-align: right;\">\n",
              "      <th></th>\n",
              "      <th>participant_id</th>\n",
              "      <th>Original_ID</th>\n",
              "      <th>Group</th>\n",
              "      <th>sess1_Med</th>\n",
              "      <th>sess2_Med</th>\n",
              "      <th>sex</th>\n",
              "      <th>age</th>\n",
              "    </tr>\n",
              "  </thead>\n",
              "  <tbody>\n",
              "    <tr>\n",
              "      <th>0</th>\n",
              "      <td>sub-001</td>\n",
              "      <td>8010</td>\n",
              "      <td>CTL</td>\n",
              "      <td>NaN</td>\n",
              "      <td>no s2</td>\n",
              "      <td>0</td>\n",
              "      <td>61</td>\n",
              "    </tr>\n",
              "    <tr>\n",
              "      <th>1</th>\n",
              "      <td>sub-002</td>\n",
              "      <td>801</td>\n",
              "      <td>PD</td>\n",
              "      <td>ON</td>\n",
              "      <td>OFF</td>\n",
              "      <td>0</td>\n",
              "      <td>60</td>\n",
              "    </tr>\n",
              "    <tr>\n",
              "      <th>2</th>\n",
              "      <td>sub-003</td>\n",
              "      <td>802</td>\n",
              "      <td>PD</td>\n",
              "      <td>OFF</td>\n",
              "      <td>ON</td>\n",
              "      <td>1</td>\n",
              "      <td>75</td>\n",
              "    </tr>\n",
              "    <tr>\n",
              "      <th>3</th>\n",
              "      <td>sub-004</td>\n",
              "      <td>803</td>\n",
              "      <td>PD</td>\n",
              "      <td>OFF</td>\n",
              "      <td>ON</td>\n",
              "      <td>0</td>\n",
              "      <td>76</td>\n",
              "    </tr>\n",
              "    <tr>\n",
              "      <th>4</th>\n",
              "      <td>sub-005</td>\n",
              "      <td>804</td>\n",
              "      <td>PD</td>\n",
              "      <td>ON</td>\n",
              "      <td>OFF</td>\n",
              "      <td>1</td>\n",
              "      <td>75</td>\n",
              "    </tr>\n",
              "  </tbody>\n",
              "</table>\n",
              "</div>"
            ],
            "text/plain": [
              "  participant_id  Original_ID Group sess1_Med sess2_Med  sex  age\n",
              "0        sub-001         8010   CTL       NaN     no s2    0   61\n",
              "1        sub-002          801    PD        ON       OFF    0   60\n",
              "2        sub-003          802    PD       OFF        ON    1   75\n",
              "3        sub-004          803    PD       OFF        ON    0   76\n",
              "4        sub-005          804    PD        ON       OFF    1   75"
            ]
          },
          "metadata": {
            "tags": []
          },
          "execution_count": 32
        }
      ]
    },
    {
      "cell_type": "markdown",
      "metadata": {
        "id": "jKW580yPB6E0"
      },
      "source": [
        "## Replacing group values\n",
        "CTL: 0\n",
        "PD: 1"
      ]
    },
    {
      "cell_type": "code",
      "metadata": {
        "colab": {
          "base_uri": "https://localhost:8080/",
          "height": 204
        },
        "id": "2QijNL7GCClL",
        "outputId": "b0f0d384-9709-418e-d3a6-3e2bd8e0fd2e"
      },
      "source": [
        "participants['Group'] = participants['Group'].replace(['CTL'], 0)\n",
        "participants['Group'] = participants['Group'].replace(['PD'], 1)\n",
        "\n",
        "participants.head()"
      ],
      "execution_count": null,
      "outputs": [
        {
          "output_type": "execute_result",
          "data": {
            "text/html": [
              "<div>\n",
              "<style scoped>\n",
              "    .dataframe tbody tr th:only-of-type {\n",
              "        vertical-align: middle;\n",
              "    }\n",
              "\n",
              "    .dataframe tbody tr th {\n",
              "        vertical-align: top;\n",
              "    }\n",
              "\n",
              "    .dataframe thead th {\n",
              "        text-align: right;\n",
              "    }\n",
              "</style>\n",
              "<table border=\"1\" class=\"dataframe\">\n",
              "  <thead>\n",
              "    <tr style=\"text-align: right;\">\n",
              "      <th></th>\n",
              "      <th>participant_id</th>\n",
              "      <th>Original_ID</th>\n",
              "      <th>Group</th>\n",
              "      <th>sess1_Med</th>\n",
              "      <th>sess2_Med</th>\n",
              "      <th>sex</th>\n",
              "      <th>age</th>\n",
              "    </tr>\n",
              "  </thead>\n",
              "  <tbody>\n",
              "    <tr>\n",
              "      <th>0</th>\n",
              "      <td>sub-001</td>\n",
              "      <td>8010</td>\n",
              "      <td>0</td>\n",
              "      <td>NaN</td>\n",
              "      <td>no s2</td>\n",
              "      <td>0</td>\n",
              "      <td>61</td>\n",
              "    </tr>\n",
              "    <tr>\n",
              "      <th>1</th>\n",
              "      <td>sub-002</td>\n",
              "      <td>801</td>\n",
              "      <td>1</td>\n",
              "      <td>ON</td>\n",
              "      <td>OFF</td>\n",
              "      <td>0</td>\n",
              "      <td>60</td>\n",
              "    </tr>\n",
              "    <tr>\n",
              "      <th>2</th>\n",
              "      <td>sub-003</td>\n",
              "      <td>802</td>\n",
              "      <td>1</td>\n",
              "      <td>OFF</td>\n",
              "      <td>ON</td>\n",
              "      <td>1</td>\n",
              "      <td>75</td>\n",
              "    </tr>\n",
              "    <tr>\n",
              "      <th>3</th>\n",
              "      <td>sub-004</td>\n",
              "      <td>803</td>\n",
              "      <td>1</td>\n",
              "      <td>OFF</td>\n",
              "      <td>ON</td>\n",
              "      <td>0</td>\n",
              "      <td>76</td>\n",
              "    </tr>\n",
              "    <tr>\n",
              "      <th>4</th>\n",
              "      <td>sub-005</td>\n",
              "      <td>804</td>\n",
              "      <td>1</td>\n",
              "      <td>ON</td>\n",
              "      <td>OFF</td>\n",
              "      <td>1</td>\n",
              "      <td>75</td>\n",
              "    </tr>\n",
              "  </tbody>\n",
              "</table>\n",
              "</div>"
            ],
            "text/plain": [
              "  participant_id  Original_ID  Group sess1_Med sess2_Med  sex  age\n",
              "0        sub-001         8010      0       NaN     no s2    0   61\n",
              "1        sub-002          801      1        ON       OFF    0   60\n",
              "2        sub-003          802      1       OFF        ON    1   75\n",
              "3        sub-004          803      1       OFF        ON    0   76\n",
              "4        sub-005          804      1        ON       OFF    1   75"
            ]
          },
          "metadata": {
            "tags": []
          },
          "execution_count": 33
        }
      ]
    },
    {
      "cell_type": "markdown",
      "metadata": {
        "id": "iw9NFPM-9sgP"
      },
      "source": [
        "## Statistics"
      ]
    },
    {
      "cell_type": "code",
      "metadata": {
        "colab": {
          "base_uri": "https://localhost:8080/",
          "height": 264
        },
        "id": "ZZ2n6xpA9yC5",
        "outputId": "1572d4eb-0d27-4ad9-d57a-d3ad3e3caf31"
      },
      "source": [
        "females = participants[participants['sex'] == 0]\n",
        "males = participants[participants['sex'] == 1]\n",
        "\n",
        "total_participants = 56\n",
        "\n",
        "#print(\"{:.2f}% dos pacientes são homens\".format( (len(males) / total_participants) * 100))\n",
        "#print(\"{:.2f}% dos pacientes são mulheres\".format( (len(females) / total_participants) * 100))\n",
        "\n",
        "# Pie chart, where the slices will be ordered and plotted counter-clockwise:\n",
        "labels = 'Homens', 'Mulheres'\n",
        "sizes = [len(males), len(females)]\n",
        "explode = (0, 0.1)  # only \"explode\" the 2nd slice (i.e. 'Hogs')\n",
        "\n",
        "fig1, ax1 = plt.subplots()\n",
        "ax1.pie(sizes, explode=explode, labels=labels, autopct='%1.1f%%',\n",
        "        shadow=True, startangle=90)\n",
        "ax1.axis('equal')  # Equal aspect ratio ensures that pie is drawn as a circle.\n",
        "plt.title('Sexo dos participantes')\n",
        "plt.show()"
      ],
      "execution_count": null,
      "outputs": [
        {
          "output_type": "display_data",
          "data": {
            "image/png": "[encoded data removed]",
            "text/plain": [
              "<Figure size 432x288 with 1 Axes>"
            ]
          },
          "metadata": {
            "tags": []
          }
        }
      ]
    },
    {
      "cell_type": "code",
      "metadata": {
        "colab": {
          "base_uri": "https://localhost:8080/",
          "height": 511
        },
        "id": "qoVteycdCTbI",
        "outputId": "93898733-a324-4f17-faec-84b41deaf8b9"
      },
      "source": [
        "females_control_group = females[females['Group'] == 0]\n",
        "females_pacient_group = females[females['Group'] == 1]\n",
        "\n",
        "males_control_group = males[males['Group'] == 0]\n",
        "males_pacient_group = males[males['Group'] == 1]\n",
        "\n",
        "#print(\"{:.2f}% dos pacientes homens são do grupo de controle\".format( (len(males_control_group) / len(males)) * 100))\n",
        "#print(\"{:.2f}% dos pacientes homens são do grupo de pacientes\".format( (len(males_pacient_group) / len(males)) * 100))\n",
        "\n",
        "#print(\"{:.2f}% dos pacientes mulheres são do grupo de controle\".format( (len(females_control_group) / len(females)) * 100))\n",
        "#print(\"{:.2f}% dos pacientes mulheres são do grupo de pacientes\".format( (len(females_pacient_group) / len(females)) * 100))\n",
        "\n",
        "# Pie chart, where the slices will be ordered and plotted counter-clockwise:\n",
        "labels = 'Controle', 'Paciente'\n",
        "\n",
        "sizes = [len(males_control_group), len(males_pacient_group)]\n",
        "\n",
        "explode = (0, 0.1)  # only \"explode\" the 2nd slice (i.e. 'Hogs')\n",
        "\n",
        "fig1, ax1 = plt.subplots()\n",
        "\n",
        "ax1.pie(sizes, explode=explode, labels=labels, autopct='%1.1f%%',\n",
        "        shadow=True, startangle=90)\n",
        "\n",
        "ax1.axis('equal')  # Equal aspect ratio ensures that pie is drawn as a circle.\n",
        "\n",
        "plt.title('Homens')\n",
        "\n",
        "plt.show()\n",
        "\n",
        "# Pie chart, where the slices will be ordered and plotted counter-clockwise:\n",
        "labels = 'Controle', 'Paciente'\n",
        "\n",
        "sizes = [len(females_control_group), len(females_pacient_group)]\n",
        "\n",
        "explode = (0, 0.1)  # only \"explode\" the 2nd slice (i.e. 'Hogs')\n",
        "\n",
        "fig1, ax1 = plt.subplots()\n",
        "\n",
        "ax1.pie(sizes, explode=explode, labels=labels, autopct='%1.1f%%',\n",
        "        shadow=True, startangle=90)\n",
        "\n",
        "ax1.axis('equal')  # Equal aspect ratio ensures that pie is drawn as a circle.\n",
        "\n",
        "plt.title('Mulheres')\n",
        "\n",
        "plt.show()\n"
      ],
      "execution_count": null,
      "outputs": [
        {
          "output_type": "display_data",
          "data": {
            "image/png": "[encoded data removed]",
            "text/plain": [
              "<Figure size 432x288 with 1 Axes>"
            ]
          },
          "metadata": {
            "tags": []
          }
        },
        {
          "output_type": "display_data",
          "data": {
            "image/png": "[encoded data removed]",
            "text/plain": [
              "<Figure size 432x288 with 1 Axes>"
            ]
          },
          "metadata": {
            "tags": []
          }
        }
      ]
    },
    {
      "cell_type": "markdown",
      "metadata": {
        "id": "Qc1coQXVHqAz"
      },
      "source": [
        "##Sex Age histograms"
      ]
    },
    {
      "cell_type": "code",
      "metadata": {
        "colab": {
          "base_uri": "https://localhost:8080/",
          "height": 331
        },
        "id": "grh5b4OYGkp1",
        "outputId": "c55dd0a8-656f-4fcb-df99-0dd95efd9840"
      },
      "source": [
        "fig, axs = plt.subplots(2, sharey=True, tight_layout=True)\n",
        "\n",
        "axs[0].hist(females['age'], bins='auto')\n",
        "axs[1].hist(males['age'], bins='auto')\n"
      ],
      "execution_count": 90,
      "outputs": [
        {
          "output_type": "stream",
          "text": [
            "0    participant: Female\\n\n",
            "Name: sex, dtype: object\n"
          ],
          "name": "stdout"
        },
        {
          "output_type": "display_data",
          "data": {
            "image/png": "[encoded data removed]",
            "text/plain": [
              "<Figure size 432x288 with 2 Axes>"
            ]
          },
          "metadata": {
            "tags": [],
            "needs_background": "light"
          }
        }
      ]
    },
    {
      "cell_type": "markdown",
      "metadata": {
        "id": "GJvOBSI5cL1w"
      },
      "source": [
        "# Participant #1\n",
        "Number of sections: 1"
      ]
    },
    {
      "cell_type": "code",
      "metadata": {
        "colab": {
          "base_uri": "https://localhost:8080/",
          "height": 80
        },
        "id": "M8NQ4wQLeaGB",
        "outputId": "c4d694c8-7ea0-4156-b79f-459227489470"
      },
      "source": [
        "# Participant data\n",
        "p01 = participants[participants['participant_id'] == 'sub-001']\n",
        "p01.head()"
      ],
      "execution_count": 92,
      "outputs": [
        {
          "output_type": "execute_result",
          "data": {
            "text/html": [
              "<div>\n",
              "<style scoped>\n",
              "    .dataframe tbody tr th:only-of-type {\n",
              "        vertical-align: middle;\n",
              "    }\n",
              "\n",
              "    .dataframe tbody tr th {\n",
              "        vertical-align: top;\n",
              "    }\n",
              "\n",
              "    .dataframe thead th {\n",
              "        text-align: right;\n",
              "    }\n",
              "</style>\n",
              "<table border=\"1\" class=\"dataframe\">\n",
              "  <thead>\n",
              "    <tr style=\"text-align: right;\">\n",
              "      <th></th>\n",
              "      <th>participant_id</th>\n",
              "      <th>Original_ID</th>\n",
              "      <th>Group</th>\n",
              "      <th>sess1_Med</th>\n",
              "      <th>sess2_Med</th>\n",
              "      <th>sex</th>\n",
              "      <th>age</th>\n",
              "    </tr>\n",
              "  </thead>\n",
              "  <tbody>\n",
              "    <tr>\n",
              "      <th>0</th>\n",
              "      <td>sub-001</td>\n",
              "      <td>8010</td>\n",
              "      <td>CTL</td>\n",
              "      <td>NaN</td>\n",
              "      <td>no s2</td>\n",
              "      <td>Female</td>\n",
              "      <td>61</td>\n",
              "    </tr>\n",
              "  </tbody>\n",
              "</table>\n",
              "</div>"
            ],
            "text/plain": [
              "  participant_id  Original_ID Group sess1_Med sess2_Med     sex  age\n",
              "0        sub-001         8010   CTL       NaN     no s2  Female   61"
            ]
          },
          "metadata": {
            "tags": []
          },
          "execution_count": 92
        }
      ]
    },
    {
      "cell_type": "markdown",
      "metadata": {
        "id": "n60ReOGc9eBv"
      },
      "source": [
        "##channels"
      ]
    },
    {
      "cell_type": "code",
      "metadata": {
        "colab": {
          "base_uri": "https://localhost:8080/",
          "height": 204
        },
        "id": "XzYpESPNcMj-",
        "outputId": "127c47ea-e4d8-47bc-c241-6284fe48d943"
      },
      "source": [
        "url_channels_p01_s01 = commom_path + \"sub-001/ses-01/eeg/sub-001_ses-01_task-SimonConflict_channels.tsv\"\n",
        "channels_p01_s01 = pd.read_csv(url_channels_p01_s01, sep=\"\\t\")\n",
        "\n",
        "\n",
        "channels_p01_s01.head()"
      ],
      "execution_count": null,
      "outputs": [
        {
          "output_type": "execute_result",
          "data": {
            "text/html": [
              "<div>\n",
              "<style scoped>\n",
              "    .dataframe tbody tr th:only-of-type {\n",
              "        vertical-align: middle;\n",
              "    }\n",
              "\n",
              "    .dataframe tbody tr th {\n",
              "        vertical-align: top;\n",
              "    }\n",
              "\n",
              "    .dataframe thead th {\n",
              "        text-align: right;\n",
              "    }\n",
              "</style>\n",
              "<table border=\"1\" class=\"dataframe\">\n",
              "  <thead>\n",
              "    <tr style=\"text-align: right;\">\n",
              "      <th></th>\n",
              "      <th>name</th>\n",
              "      <th>type</th>\n",
              "      <th>units</th>\n",
              "    </tr>\n",
              "  </thead>\n",
              "  <tbody>\n",
              "    <tr>\n",
              "      <th>0</th>\n",
              "      <td>Fp1</td>\n",
              "      <td>NaN</td>\n",
              "      <td>NaN</td>\n",
              "    </tr>\n",
              "    <tr>\n",
              "      <th>1</th>\n",
              "      <td>Fz</td>\n",
              "      <td>NaN</td>\n",
              "      <td>NaN</td>\n",
              "    </tr>\n",
              "    <tr>\n",
              "      <th>2</th>\n",
              "      <td>F3</td>\n",
              "      <td>NaN</td>\n",
              "      <td>NaN</td>\n",
              "    </tr>\n",
              "    <tr>\n",
              "      <th>3</th>\n",
              "      <td>F7</td>\n",
              "      <td>NaN</td>\n",
              "      <td>NaN</td>\n",
              "    </tr>\n",
              "    <tr>\n",
              "      <th>4</th>\n",
              "      <td>FT9</td>\n",
              "      <td>NaN</td>\n",
              "      <td>NaN</td>\n",
              "    </tr>\n",
              "  </tbody>\n",
              "</table>\n",
              "</div>"
            ],
            "text/plain": [
              "  name  type  units\n",
              "0  Fp1   NaN    NaN\n",
              "1   Fz   NaN    NaN\n",
              "2   F3   NaN    NaN\n",
              "3   F7   NaN    NaN\n",
              "4  FT9   NaN    NaN"
            ]
          },
          "metadata": {
            "tags": []
          },
          "execution_count": 83
        }
      ]
    },
    {
      "cell_type": "markdown",
      "metadata": {
        "id": "k_fW7eJe9c0s"
      },
      "source": [
        "##eletrodos\n",
        "\n"
      ]
    },
    {
      "cell_type": "code",
      "metadata": {
        "colab": {
          "base_uri": "https://localhost:8080/",
          "height": 419
        },
        "id": "w8yb9cOc9lYW",
        "outputId": "2a3fddc6-b2c0-4dec-e46e-31fbf71c8284"
      },
      "source": [
        "url_eletrodes_p01_s01 = commom_path + \"sub-001/ses-01/eeg/sub-001_ses-01_task-SimonConflict_electrodes.tsv\"\n",
        "eletrodes_p01_s01 = pd.read_csv(url_eletrodes_p01_s01, sep=\"\\t\")\n",
        "\n",
        "eletrodes_p01_s01"
      ],
      "execution_count": null,
      "outputs": [
        {
          "output_type": "execute_result",
          "data": {
            "text/html": [
              "<div>\n",
              "<style scoped>\n",
              "    .dataframe tbody tr th:only-of-type {\n",
              "        vertical-align: middle;\n",
              "    }\n",
              "\n",
              "    .dataframe tbody tr th {\n",
              "        vertical-align: top;\n",
              "    }\n",
              "\n",
              "    .dataframe thead th {\n",
              "        text-align: right;\n",
              "    }\n",
              "</style>\n",
              "<table border=\"1\" class=\"dataframe\">\n",
              "  <thead>\n",
              "    <tr style=\"text-align: right;\">\n",
              "      <th></th>\n",
              "      <th>name</th>\n",
              "      <th>x</th>\n",
              "      <th>y</th>\n",
              "      <th>z</th>\n",
              "    </tr>\n",
              "  </thead>\n",
              "  <tbody>\n",
              "    <tr>\n",
              "      <th>0</th>\n",
              "      <td>Fp1</td>\n",
              "      <td>80.78</td>\n",
              "      <td>26.13</td>\n",
              "      <td>-4.00</td>\n",
              "    </tr>\n",
              "    <tr>\n",
              "      <th>1</th>\n",
              "      <td>Fz</td>\n",
              "      <td>60.74</td>\n",
              "      <td>-0.00</td>\n",
              "      <td>59.46</td>\n",
              "    </tr>\n",
              "    <tr>\n",
              "      <th>2</th>\n",
              "      <td>F3</td>\n",
              "      <td>57.55</td>\n",
              "      <td>48.20</td>\n",
              "      <td>39.87</td>\n",
              "    </tr>\n",
              "    <tr>\n",
              "      <th>3</th>\n",
              "      <td>F7</td>\n",
              "      <td>49.87</td>\n",
              "      <td>68.42</td>\n",
              "      <td>-7.49</td>\n",
              "    </tr>\n",
              "    <tr>\n",
              "      <th>4</th>\n",
              "      <td>FT9</td>\n",
              "      <td>23.30</td>\n",
              "      <td>70.08</td>\n",
              "      <td>-42.09</td>\n",
              "    </tr>\n",
              "    <tr>\n",
              "      <th>...</th>\n",
              "      <td>...</td>\n",
              "      <td>...</td>\n",
              "      <td>...</td>\n",
              "      <td>...</td>\n",
              "    </tr>\n",
              "    <tr>\n",
              "      <th>62</th>\n",
              "      <td>AF8</td>\n",
              "      <td>68.72</td>\n",
              "      <td>-49.67</td>\n",
              "      <td>-5.95</td>\n",
              "    </tr>\n",
              "    <tr>\n",
              "      <th>63</th>\n",
              "      <td>VEOG</td>\n",
              "      <td>62.04</td>\n",
              "      <td>-31.61</td>\n",
              "      <td>-48.75</td>\n",
              "    </tr>\n",
              "    <tr>\n",
              "      <th>64</th>\n",
              "      <td>X</td>\n",
              "      <td>NaN</td>\n",
              "      <td>NaN</td>\n",
              "      <td>NaN</td>\n",
              "    </tr>\n",
              "    <tr>\n",
              "      <th>65</th>\n",
              "      <td>Y</td>\n",
              "      <td>NaN</td>\n",
              "      <td>NaN</td>\n",
              "      <td>NaN</td>\n",
              "    </tr>\n",
              "    <tr>\n",
              "      <th>66</th>\n",
              "      <td>Z</td>\n",
              "      <td>NaN</td>\n",
              "      <td>NaN</td>\n",
              "      <td>NaN</td>\n",
              "    </tr>\n",
              "  </tbody>\n",
              "</table>\n",
              "<p>67 rows × 4 columns</p>\n",
              "</div>"
            ],
            "text/plain": [
              "    name      x      y      z\n",
              "0    Fp1  80.78  26.13  -4.00\n",
              "1     Fz  60.74  -0.00  59.46\n",
              "2     F3  57.55  48.20  39.87\n",
              "3     F7  49.87  68.42  -7.49\n",
              "4    FT9  23.30  70.08 -42.09\n",
              "..   ...    ...    ...    ...\n",
              "62   AF8  68.72 -49.67  -5.95\n",
              "63  VEOG  62.04 -31.61 -48.75\n",
              "64     X    NaN    NaN    NaN\n",
              "65     Y    NaN    NaN    NaN\n",
              "66     Z    NaN    NaN    NaN\n",
              "\n",
              "[67 rows x 4 columns]"
            ]
          },
          "metadata": {
            "tags": []
          },
          "execution_count": 74
        }
      ]
    },
    {
      "cell_type": "markdown",
      "metadata": {
        "id": "LfFJUfL0Brcb"
      },
      "source": [
        "##eventos"
      ]
    },
    {
      "cell_type": "code",
      "metadata": {
        "colab": {
          "base_uri": "https://localhost:8080/",
          "height": 204
        },
        "id": "zicVZDkoBuer",
        "outputId": "302005cd-2ecc-4f90-be6c-25fa04ca4c64"
      },
      "source": [
        "url_events_p01_s01 = commom_path + \"sub-001/ses-01/eeg/sub-001_ses-01_task-SimonConflict_events.tsv\"\n",
        "events_p01_s01 = pd.read_csv(url_events_p01_s01, sep=\"\\t\")\n",
        "\n",
        "events_p01_s01.head()"
      ],
      "execution_count": null,
      "outputs": [
        {
          "output_type": "execute_result",
          "data": {
            "text/html": [
              "<div>\n",
              "<style scoped>\n",
              "    .dataframe tbody tr th:only-of-type {\n",
              "        vertical-align: middle;\n",
              "    }\n",
              "\n",
              "    .dataframe tbody tr th {\n",
              "        vertical-align: top;\n",
              "    }\n",
              "\n",
              "    .dataframe thead th {\n",
              "        text-align: right;\n",
              "    }\n",
              "</style>\n",
              "<table border=\"1\" class=\"dataframe\">\n",
              "  <thead>\n",
              "    <tr style=\"text-align: right;\">\n",
              "      <th></th>\n",
              "      <th>onset</th>\n",
              "      <th>duration</th>\n",
              "      <th>sample</th>\n",
              "      <th>trial_type</th>\n",
              "      <th>response_time</th>\n",
              "      <th>stim_file</th>\n",
              "      <th>value</th>\n",
              "    </tr>\n",
              "  </thead>\n",
              "  <tbody>\n",
              "    <tr>\n",
              "      <th>0</th>\n",
              "      <td>0.000</td>\n",
              "      <td>NaN</td>\n",
              "      <td>NaN</td>\n",
              "      <td>STATUS</td>\n",
              "      <td>NaN</td>\n",
              "      <td>NaN</td>\n",
              "      <td>boundary</td>\n",
              "    </tr>\n",
              "    <tr>\n",
              "      <th>1</th>\n",
              "      <td>696.988</td>\n",
              "      <td>NaN</td>\n",
              "      <td>NaN</td>\n",
              "      <td>Trn Stim: yellow congru D</td>\n",
              "      <td>NaN</td>\n",
              "      <td>NaN</td>\n",
              "      <td>S114</td>\n",
              "    </tr>\n",
              "    <tr>\n",
              "      <th>2</th>\n",
              "      <td>697.790</td>\n",
              "      <td>NaN</td>\n",
              "      <td>NaN</td>\n",
              "      <td>Trn No Response</td>\n",
              "      <td>NaN</td>\n",
              "      <td>NaN</td>\n",
              "      <td>S105</td>\n",
              "    </tr>\n",
              "    <tr>\n",
              "      <th>3</th>\n",
              "      <td>699.890</td>\n",
              "      <td>NaN</td>\n",
              "      <td>NaN</td>\n",
              "      <td>Trn Stim: yellow congru C</td>\n",
              "      <td>NaN</td>\n",
              "      <td>NaN</td>\n",
              "      <td>S113</td>\n",
              "    </tr>\n",
              "    <tr>\n",
              "      <th>4</th>\n",
              "      <td>700.692</td>\n",
              "      <td>NaN</td>\n",
              "      <td>NaN</td>\n",
              "      <td>Trn No Response</td>\n",
              "      <td>NaN</td>\n",
              "      <td>NaN</td>\n",
              "      <td>S105</td>\n",
              "    </tr>\n",
              "  </tbody>\n",
              "</table>\n",
              "</div>"
            ],
            "text/plain": [
              "     onset  duration  sample  ... response_time  stim_file     value\n",
              "0    0.000       NaN     NaN  ...           NaN        NaN  boundary\n",
              "1  696.988       NaN     NaN  ...           NaN        NaN      S114\n",
              "2  697.790       NaN     NaN  ...           NaN        NaN      S105\n",
              "3  699.890       NaN     NaN  ...           NaN        NaN      S113\n",
              "4  700.692       NaN     NaN  ...           NaN        NaN      S105\n",
              "\n",
              "[5 rows x 7 columns]"
            ]
          },
          "metadata": {
            "tags": []
          },
          "execution_count": 75
        }
      ]
    },
    {
      "cell_type": "markdown",
      "metadata": {
        "id": "MnPoOi9VFMh3"
      },
      "source": [
        "# Participant #2\n",
        "Number of sections: 2"
      ]
    },
    {
      "cell_type": "code",
      "metadata": {
        "colab": {
          "base_uri": "https://localhost:8080/",
          "height": 80
        },
        "id": "z0vpjsBJemUt",
        "outputId": "71dc23a4-1e02-4b86-bf62-bc204f229f57"
      },
      "source": [
        "# Participant data\n",
        "p02 = participants[participants['participant_id'] == 'sub-002']\n",
        "p02.head()"
      ],
      "execution_count": 93,
      "outputs": [
        {
          "output_type": "execute_result",
          "data": {
            "text/html": [
              "<div>\n",
              "<style scoped>\n",
              "    .dataframe tbody tr th:only-of-type {\n",
              "        vertical-align: middle;\n",
              "    }\n",
              "\n",
              "    .dataframe tbody tr th {\n",
              "        vertical-align: top;\n",
              "    }\n",
              "\n",
              "    .dataframe thead th {\n",
              "        text-align: right;\n",
              "    }\n",
              "</style>\n",
              "<table border=\"1\" class=\"dataframe\">\n",
              "  <thead>\n",
              "    <tr style=\"text-align: right;\">\n",
              "      <th></th>\n",
              "      <th>participant_id</th>\n",
              "      <th>Original_ID</th>\n",
              "      <th>Group</th>\n",
              "      <th>sess1_Med</th>\n",
              "      <th>sess2_Med</th>\n",
              "      <th>sex</th>\n",
              "      <th>age</th>\n",
              "    </tr>\n",
              "  </thead>\n",
              "  <tbody>\n",
              "    <tr>\n",
              "      <th>1</th>\n",
              "      <td>sub-002</td>\n",
              "      <td>801</td>\n",
              "      <td>PD</td>\n",
              "      <td>ON</td>\n",
              "      <td>OFF</td>\n",
              "      <td>Female</td>\n",
              "      <td>60</td>\n",
              "    </tr>\n",
              "  </tbody>\n",
              "</table>\n",
              "</div>"
            ],
            "text/plain": [
              "  participant_id  Original_ID Group sess1_Med sess2_Med     sex  age\n",
              "1        sub-002          801    PD        ON       OFF  Female   60"
            ]
          },
          "metadata": {
            "tags": []
          },
          "execution_count": 93
        }
      ]
    },
    {
      "cell_type": "code",
      "metadata": {
        "id": "GHXdXCwAFarx"
      },
      "source": [
        "# Section 1\n",
        "url_channels_p02_s01 = commom_path + \"sub-002/ses-01/eeg/sub-002_ses-01_task-SimonConflict_channels.tsv\"\n",
        "url_eletrodes_p02_s01 = commom_path + \"sub-002/ses-01/eeg/sub-002_ses-01_task-SimonConflict_electrodes.tsv\"\n",
        "url_events_p02_s01 = commom_path + \"sub-002/ses-01/eeg/sub-002_ses-01_task-SimonConflict_events.tsv\"\n",
        "\n",
        "channels_p2_s01 = pd.read_csv(url_channels_p02_s01, sep=\"\\t\")\n",
        "eletrodes_p2_s01 = pd.read_csv(url_eletrodes_p02_s01, sep=\"\\t\")\n",
        "events_p2_s01 = pd.read_csv(url_events_p02_s01, sep=\"\\t\")"
      ],
      "execution_count": null,
      "outputs": []
    },
    {
      "cell_type": "code",
      "metadata": {
        "id": "nRA2HT9hIrUZ"
      },
      "source": [
        "# Section 2\n",
        "url_channels_p02_s02 = commom_path + \"sub-002/ses-02/eeg/sub-002_ses-02_task-SimonConflict_channels.tsv\"\n",
        "url_eletrodes_p02_s02 = commom_path + \"sub-002/ses-02/eeg/sub-002_ses-02_task-SimonConflict_electrodes.tsv\"\n",
        "url_events_p02_s02 = commom_path + \"sub-002/ses-02/eeg/sub-002_ses-02_task-SimonConflict_events.tsv\"\n",
        "\n",
        "channels_p02_s02 = pd.read_csv(url_channels_p02_s02, sep=\"\\t\")\n",
        "eletrodes_p02_s02 = pd.read_csv(url_eletrodes_p02_s02, sep=\"\\t\")\n",
        "events_p02_s02 = pd.read_csv(url_events_p02_s02, sep=\"\\t\")\n"
      ],
      "execution_count": null,
      "outputs": []
    },
    {
      "cell_type": "markdown",
      "metadata": {
        "id": "HA1Hf5xOJvp0"
      },
      "source": [
        "# Participant #3\n",
        "Number of sections: 2"
      ]
    },
    {
      "cell_type": "code",
      "metadata": {
        "colab": {
          "base_uri": "https://localhost:8080/",
          "height": 80
        },
        "id": "npqFE1L_enoF",
        "outputId": "6dc1135c-97f1-476f-c620-f9ace9f3b0ef"
      },
      "source": [
        "# Participant data\n",
        "p03 = participants[participants['participant_id'] == 'sub-003']\n",
        "p03.head()"
      ],
      "execution_count": 94,
      "outputs": [
        {
          "output_type": "execute_result",
          "data": {
            "text/html": [
              "<div>\n",
              "<style scoped>\n",
              "    .dataframe tbody tr th:only-of-type {\n",
              "        vertical-align: middle;\n",
              "    }\n",
              "\n",
              "    .dataframe tbody tr th {\n",
              "        vertical-align: top;\n",
              "    }\n",
              "\n",
              "    .dataframe thead th {\n",
              "        text-align: right;\n",
              "    }\n",
              "</style>\n",
              "<table border=\"1\" class=\"dataframe\">\n",
              "  <thead>\n",
              "    <tr style=\"text-align: right;\">\n",
              "      <th></th>\n",
              "      <th>participant_id</th>\n",
              "      <th>Original_ID</th>\n",
              "      <th>Group</th>\n",
              "      <th>sess1_Med</th>\n",
              "      <th>sess2_Med</th>\n",
              "      <th>sex</th>\n",
              "      <th>age</th>\n",
              "    </tr>\n",
              "  </thead>\n",
              "  <tbody>\n",
              "    <tr>\n",
              "      <th>2</th>\n",
              "      <td>sub-003</td>\n",
              "      <td>802</td>\n",
              "      <td>PD</td>\n",
              "      <td>OFF</td>\n",
              "      <td>ON</td>\n",
              "      <td>Male</td>\n",
              "      <td>75</td>\n",
              "    </tr>\n",
              "  </tbody>\n",
              "</table>\n",
              "</div>"
            ],
            "text/plain": [
              "  participant_id  Original_ID Group sess1_Med sess2_Med   sex  age\n",
              "2        sub-003          802    PD       OFF        ON  Male   75"
            ]
          },
          "metadata": {
            "tags": []
          },
          "execution_count": 94
        }
      ]
    },
    {
      "cell_type": "code",
      "metadata": {
        "id": "C-NFKV9PJvp2"
      },
      "source": [
        "# Section 1\n",
        "url_channels_p03_s01 = commom_path + \"sub-003/ses-01/eeg/sub-003_ses-01_task-SimonConflict_channels.tsv\"\n",
        "url_eletrodes_p03_s01 = commom_path + \"sub-003/ses-01/eeg/sub-003_ses-01_task-SimonConflict_electrodes.tsv\"\n",
        "url_events_p03_s01 = commom_path + \"sub-003/ses-01/eeg/sub-003_ses-01_task-SimonConflict_events.tsv\"\n",
        "\n",
        "channels_p03_s01 = pd.read_csv(url_channels_p03_s01, sep=\"\\t\")\n",
        "eletrodes_p03_s01 = pd.read_csv(url_eletrodes_p03_s01, sep=\"\\t\")\n",
        "events_p03_s01 = pd.read_csv(url_events_p03_s01, sep=\"\\t\")"
      ],
      "execution_count": null,
      "outputs": []
    },
    {
      "cell_type": "code",
      "metadata": {
        "id": "1d1Saq79Jvp4"
      },
      "source": [
        "# Section 2\n",
        "url_channels_p03_s02 = commom_path + \"sub-003/ses-02/eeg/sub-003_ses-02_task-SimonConflict_channels.tsv\"\n",
        "url_eletrodes_p03_s02 = commom_path + \"sub-003/ses-02/eeg/sub-003_ses-02_task-SimonConflict_electrodes.tsv\"\n",
        "url_events_p03_s02 = commom_path + \"sub-003/ses-02/eeg/sub-003_ses-02_task-SimonConflict_events.tsv\"\n",
        "\n",
        "channels_p03_s02 = pd.read_csv(url_channels_p03_s02, sep=\"\\t\")\n",
        "eletrodes_p03_s02 = pd.read_csv(url_eletrodes_p03_s02, sep=\"\\t\")\n",
        "events_p03_s02 = pd.read_csv(url_events_p03_s02, sep=\"\\t\")\n"
      ],
      "execution_count": null,
      "outputs": []
    },
    {
      "cell_type": "markdown",
      "metadata": {
        "id": "B9uCuc-0KIx_"
      },
      "source": [
        "# Participant #4\n",
        "Number of sections: 2"
      ]
    },
    {
      "cell_type": "code",
      "metadata": {
        "colab": {
          "base_uri": "https://localhost:8080/",
          "height": 80
        },
        "id": "dkNn5_sZeoIO",
        "outputId": "ca1d80bb-73b5-4be7-937b-3881caea9903"
      },
      "source": [
        "# Participant data\n",
        "p04 = participants[participants['participant_id'] == 'sub-004']\n",
        "p04.head()"
      ],
      "execution_count": 95,
      "outputs": [
        {
          "output_type": "execute_result",
          "data": {
            "text/html": [
              "<div>\n",
              "<style scoped>\n",
              "    .dataframe tbody tr th:only-of-type {\n",
              "        vertical-align: middle;\n",
              "    }\n",
              "\n",
              "    .dataframe tbody tr th {\n",
              "        vertical-align: top;\n",
              "    }\n",
              "\n",
              "    .dataframe thead th {\n",
              "        text-align: right;\n",
              "    }\n",
              "</style>\n",
              "<table border=\"1\" class=\"dataframe\">\n",
              "  <thead>\n",
              "    <tr style=\"text-align: right;\">\n",
              "      <th></th>\n",
              "      <th>participant_id</th>\n",
              "      <th>Original_ID</th>\n",
              "      <th>Group</th>\n",
              "      <th>sess1_Med</th>\n",
              "      <th>sess2_Med</th>\n",
              "      <th>sex</th>\n",
              "      <th>age</th>\n",
              "    </tr>\n",
              "  </thead>\n",
              "  <tbody>\n",
              "    <tr>\n",
              "      <th>3</th>\n",
              "      <td>sub-004</td>\n",
              "      <td>803</td>\n",
              "      <td>PD</td>\n",
              "      <td>OFF</td>\n",
              "      <td>ON</td>\n",
              "      <td>Female</td>\n",
              "      <td>76</td>\n",
              "    </tr>\n",
              "  </tbody>\n",
              "</table>\n",
              "</div>"
            ],
            "text/plain": [
              "  participant_id  Original_ID Group sess1_Med sess2_Med     sex  age\n",
              "3        sub-004          803    PD       OFF        ON  Female   76"
            ]
          },
          "metadata": {
            "tags": []
          },
          "execution_count": 95
        }
      ]
    },
    {
      "cell_type": "code",
      "metadata": {
        "id": "Y6R_XiSiKIyA"
      },
      "source": [
        "# Section 1\n",
        "url_channels_p04_s01 = commom_path + \"sub-004/ses-01/eeg/sub-004_ses-01_task-SimonConflict_channels.tsv\"\n",
        "url_eletrodes_p04_s01 = commom_path + \"sub-004/ses-01/eeg/sub-004_ses-01_task-SimonConflict_electrodes.tsv\"\n",
        "url_events_p04_s01 = commom_path + \"sub-004/ses-01/eeg/sub-004_ses-01_task-SimonConflict_events.tsv\"\n",
        "\n",
        "channels_p04_s01 = pd.read_csv(url_channels_p04_s01, sep=\"\\t\")\n",
        "eletrodes_p04_s01 = pd.read_csv(url_eletrodes_p04_s01, sep=\"\\t\")\n",
        "events_p04_s01 = pd.read_csv(url_events_p04_s01, sep=\"\\t\")"
      ],
      "execution_count": null,
      "outputs": []
    },
    {
      "cell_type": "code",
      "metadata": {
        "id": "2jjQ-D_mKIyA"
      },
      "source": [
        "# Section 2\n",
        "url_channels_p04_s02 = commom_path + \"sub-004/ses-02/eeg/sub-004_ses-02_task-SimonConflict_channels.tsv\"\n",
        "url_eletrodes_p04_s02 = commom_path + \"sub-004/ses-02/eeg/sub-004_ses-02_task-SimonConflict_electrodes.tsv\"\n",
        "url_events_p04_s02 = commom_path + \"sub-004/ses-02/eeg/sub-004_ses-02_task-SimonConflict_events.tsv\"\n",
        "\n",
        "channels_p04_s02 = pd.read_csv(url_channels_p04_s02, sep=\"\\t\")\n",
        "eletrodes_p04_s02 = pd.read_csv(url_eletrodes_p04_s02, sep=\"\\t\")\n",
        "events_p04_s02 = pd.read_csv(url_events_p04_s02, sep=\"\\t\")\n"
      ],
      "execution_count": null,
      "outputs": []
    },
    {
      "cell_type": "markdown",
      "metadata": {
        "id": "7LkDViCoKJW5"
      },
      "source": [
        "# Participant #5\n",
        "Number of sections: 2"
      ]
    },
    {
      "cell_type": "code",
      "metadata": {
        "colab": {
          "base_uri": "https://localhost:8080/",
          "height": 80
        },
        "id": "0c4jF245eouf",
        "outputId": "c4d694c8-7ea0-4156-b79f-459227489470"
      },
      "source": [
        "# Participant data\n",
        "p05 = participants[participants['participant_id'] == 'sub-005']\n",
        "p05.head()"
      ],
      "execution_count": null,
      "outputs": [
        {
          "output_type": "execute_result",
          "data": {
            "text/html": [
              "<div>\n",
              "<style scoped>\n",
              "    .dataframe tbody tr th:only-of-type {\n",
              "        vertical-align: middle;\n",
              "    }\n",
              "\n",
              "    .dataframe tbody tr th {\n",
              "        vertical-align: top;\n",
              "    }\n",
              "\n",
              "    .dataframe thead th {\n",
              "        text-align: right;\n",
              "    }\n",
              "</style>\n",
              "<table border=\"1\" class=\"dataframe\">\n",
              "  <thead>\n",
              "    <tr style=\"text-align: right;\">\n",
              "      <th></th>\n",
              "      <th>participant_id</th>\n",
              "      <th>Original_ID</th>\n",
              "      <th>Group</th>\n",
              "      <th>sess1_Med</th>\n",
              "      <th>sess2_Med</th>\n",
              "      <th>sex</th>\n",
              "      <th>age</th>\n",
              "    </tr>\n",
              "  </thead>\n",
              "  <tbody>\n",
              "    <tr>\n",
              "      <th>0</th>\n",
              "      <td>sub-001</td>\n",
              "      <td>8010</td>\n",
              "      <td>CTL</td>\n",
              "      <td>NaN</td>\n",
              "      <td>no s2</td>\n",
              "      <td>Female</td>\n",
              "      <td>61</td>\n",
              "    </tr>\n",
              "  </tbody>\n",
              "</table>\n",
              "</div>"
            ],
            "text/plain": [
              "  participant_id  Original_ID Group sess1_Med sess2_Med     sex  age\n",
              "0        sub-001         8010   CTL       NaN     no s2  Female   61"
            ]
          },
          "metadata": {
            "tags": []
          },
          "execution_count": 92
        }
      ]
    },
    {
      "cell_type": "code",
      "metadata": {
        "id": "9XJg4BakKJW6"
      },
      "source": [
        "# Section 1\n",
        "url_channels_p05_s01 = commom_path + \"sub-005/ses-01/eeg/sub-005_ses-01_task-SimonConflict_channels.tsv\"\n",
        "url_eletrodes_p05_s01 = commom_path + \"sub-005/ses-01/eeg/sub-005_ses-01_task-SimonConflict_electrodes.tsv\"\n",
        "url_events_p05_s01 = commom_path + \"sub-005/ses-01/eeg/sub-005_ses-01_task-SimonConflict_events.tsv\"\n",
        "\n",
        "channels_p05_s01 = pd.read_csv(url_channels_p05_s01, sep=\"\\t\")\n",
        "eletrodes_p05_s01 = pd.read_csv(url_eletrodes_p05_s01, sep=\"\\t\")\n",
        "events_p05_s01 = pd.read_csv(url_events_p05_s01, sep=\"\\t\")"
      ],
      "execution_count": null,
      "outputs": []
    },
    {
      "cell_type": "code",
      "metadata": {
        "id": "_1Mx7lpQKJW8"
      },
      "source": [
        "# Section 2\n",
        "url_channels_p05_s02 = commom_path + \"sub-005/ses-02/eeg/sub-005_ses-02_task-SimonConflict_channels.tsv\"\n",
        "url_eletrodes_p05_s02 = commom_path + \"sub-005/ses-02/eeg/sub-005_ses-02_task-SimonConflict_electrodes.tsv\"\n",
        "url_events_p05_s02 = commom_path + \"sub-005/ses-02/eeg/sub-005_ses-02_task-SimonConflict_events.tsv\"\n",
        "\n",
        "channels_p05_s02 = pd.read_csv(url_channels_p05_s02, sep=\"\\t\")\n",
        "eletrodes_p05_s02 = pd.read_csv(url_eletrodes_p05_s02, sep=\"\\t\")\n",
        "events_p05_s02 = pd.read_csv(url_events_p05_s02, sep=\"\\t\")\n"
      ],
      "execution_count": null,
      "outputs": []
    },
    {
      "cell_type": "markdown",
      "metadata": {
        "id": "3q_1H0t9KJlD"
      },
      "source": [
        "# Participant #6\n",
        "Number of sections: 2"
      ]
    },
    {
      "cell_type": "code",
      "metadata": {
        "colab": {
          "base_uri": "https://localhost:8080/",
          "height": 80
        },
        "id": "ZuWyaVNnepSe",
        "outputId": "c4d694c8-7ea0-4156-b79f-459227489470"
      },
      "source": [
        "# Participant data\n",
        "p06 = participants[participants['participant_id'] == 'sub-006']\n",
        "p06.head()"
      ],
      "execution_count": null,
      "outputs": [
        {
          "output_type": "execute_result",
          "data": {
            "text/html": [
              "<div>\n",
              "<style scoped>\n",
              "    .dataframe tbody tr th:only-of-type {\n",
              "        vertical-align: middle;\n",
              "    }\n",
              "\n",
              "    .dataframe tbody tr th {\n",
              "        vertical-align: top;\n",
              "    }\n",
              "\n",
              "    .dataframe thead th {\n",
              "        text-align: right;\n",
              "    }\n",
              "</style>\n",
              "<table border=\"1\" class=\"dataframe\">\n",
              "  <thead>\n",
              "    <tr style=\"text-align: right;\">\n",
              "      <th></th>\n",
              "      <th>participant_id</th>\n",
              "      <th>Original_ID</th>\n",
              "      <th>Group</th>\n",
              "      <th>sess1_Med</th>\n",
              "      <th>sess2_Med</th>\n",
              "      <th>sex</th>\n",
              "      <th>age</th>\n",
              "    </tr>\n",
              "  </thead>\n",
              "  <tbody>\n",
              "    <tr>\n",
              "      <th>0</th>\n",
              "      <td>sub-001</td>\n",
              "      <td>8010</td>\n",
              "      <td>CTL</td>\n",
              "      <td>NaN</td>\n",
              "      <td>no s2</td>\n",
              "      <td>Female</td>\n",
              "      <td>61</td>\n",
              "    </tr>\n",
              "  </tbody>\n",
              "</table>\n",
              "</div>"
            ],
            "text/plain": [
              "  participant_id  Original_ID Group sess1_Med sess2_Med     sex  age\n",
              "0        sub-001         8010   CTL       NaN     no s2  Female   61"
            ]
          },
          "metadata": {
            "tags": []
          },
          "execution_count": 92
        }
      ]
    },
    {
      "cell_type": "code",
      "metadata": {
        "id": "YqIMc4WNKJlE"
      },
      "source": [
        "# Section 1\n",
        "url_channels_p06_s01 = commom_path + \"sub-006/ses-01/eeg/sub-006_ses-01_task-SimonConflict_channels.tsv\"\n",
        "url_eletrodes_p06_s01 = commom_path + \"sub-006/ses-01/eeg/sub-006_ses-01_task-SimonConflict_electrodes.tsv\"\n",
        "url_events_p06_s01 = commom_path + \"sub-006/ses-01/eeg/sub-006_ses-01_task-SimonConflict_events.tsv\"\n",
        "\n",
        "channels_p06_s01 = pd.read_csv(url_channels_p06_s01, sep=\"\\t\")\n",
        "eletrodes_p06_s01 = pd.read_csv(url_eletrodes_p06_s01, sep=\"\\t\")\n",
        "events_p06_s01 = pd.read_csv(url_events_p06_s01, sep=\"\\t\")"
      ],
      "execution_count": null,
      "outputs": []
    },
    {
      "cell_type": "code",
      "metadata": {
        "id": "2AQkB9SmKJlF"
      },
      "source": [
        "# Section 2\n",
        "url_channels_p06_s02 = commom_path + \"sub-006/ses-02/eeg/sub-006_ses-02_task-SimonConflict_channels.tsv\"\n",
        "url_eletrodes_p06_s02 = commom_path + \"sub-006/ses-02/eeg/sub-006_ses-02_task-SimonConflict_electrodes.tsv\"\n",
        "url_events_p06_s02 = commom_path + \"sub-006/ses-02/eeg/sub-006_ses-02_task-SimonConflict_events.tsv\"\n",
        "\n",
        "channels_p06_s02 = pd.read_csv(url_channels_p06_s02, sep=\"\\t\")\n",
        "eletrodes_p06_s02 = pd.read_csv(url_eletrodes_p06_s02, sep=\"\\t\")\n",
        "events_p06_s02 = pd.read_csv(url_events_p06_s02, sep=\"\\t\")\n"
      ],
      "execution_count": null,
      "outputs": []
    },
    {
      "cell_type": "markdown",
      "metadata": {
        "id": "tqHYu8sQKJyL"
      },
      "source": [
        "# Participant #7\n",
        "Number of sections: 1"
      ]
    },
    {
      "cell_type": "code",
      "metadata": {
        "colab": {
          "base_uri": "https://localhost:8080/",
          "height": 80
        },
        "id": "7DpiXUqLep1Y",
        "outputId": "c4d694c8-7ea0-4156-b79f-459227489470"
      },
      "source": [
        "# Participant data\n",
        "p07 = participants[participants['participant_id'] == 'sub-007']\n",
        "p07.head()"
      ],
      "execution_count": null,
      "outputs": [
        {
          "output_type": "execute_result",
          "data": {
            "text/html": [
              "<div>\n",
              "<style scoped>\n",
              "    .dataframe tbody tr th:only-of-type {\n",
              "        vertical-align: middle;\n",
              "    }\n",
              "\n",
              "    .dataframe tbody tr th {\n",
              "        vertical-align: top;\n",
              "    }\n",
              "\n",
              "    .dataframe thead th {\n",
              "        text-align: right;\n",
              "    }\n",
              "</style>\n",
              "<table border=\"1\" class=\"dataframe\">\n",
              "  <thead>\n",
              "    <tr style=\"text-align: right;\">\n",
              "      <th></th>\n",
              "      <th>participant_id</th>\n",
              "      <th>Original_ID</th>\n",
              "      <th>Group</th>\n",
              "      <th>sess1_Med</th>\n",
              "      <th>sess2_Med</th>\n",
              "      <th>sex</th>\n",
              "      <th>age</th>\n",
              "    </tr>\n",
              "  </thead>\n",
              "  <tbody>\n",
              "    <tr>\n",
              "      <th>0</th>\n",
              "      <td>sub-001</td>\n",
              "      <td>8010</td>\n",
              "      <td>CTL</td>\n",
              "      <td>NaN</td>\n",
              "      <td>no s2</td>\n",
              "      <td>Female</td>\n",
              "      <td>61</td>\n",
              "    </tr>\n",
              "  </tbody>\n",
              "</table>\n",
              "</div>"
            ],
            "text/plain": [
              "  participant_id  Original_ID Group sess1_Med sess2_Med     sex  age\n",
              "0        sub-001         8010   CTL       NaN     no s2  Female   61"
            ]
          },
          "metadata": {
            "tags": []
          },
          "execution_count": 92
        }
      ]
    },
    {
      "cell_type": "code",
      "metadata": {
        "id": "x_Oy9mDEKJyM"
      },
      "source": [
        "# Section 1\n",
        "url_channels_p07_s01 = commom_path + \"sub-007/ses-01/eeg/sub-007_ses-01_task-SimonConflict_channels.tsv\"\n",
        "url_eletrodes_p07_s01 = commom_path + \"sub-007/ses-01/eeg/sub-007_ses-01_task-SimonConflict_electrodes.tsv\"\n",
        "url_events_p07_s01 = commom_path + \"sub-007/ses-01/eeg/sub-007_ses-01_task-SimonConflict_events.tsv\"\n",
        "\n",
        "channels_p07_s01 = pd.read_csv(url_channels_p07_s01, sep=\"\\t\")\n",
        "eletrodes_p07_s01 = pd.read_csv(url_eletrodes_p07_s01, sep=\"\\t\")\n",
        "events_p07_s01 = pd.read_csv(url_events_p07_s01, sep=\"\\t\")"
      ],
      "execution_count": null,
      "outputs": []
    },
    {
      "cell_type": "markdown",
      "metadata": {
        "id": "yZL7kpDjKJ8C"
      },
      "source": [
        "# Participant #8\n",
        "Number of sections: 2"
      ]
    },
    {
      "cell_type": "code",
      "metadata": {
        "colab": {
          "base_uri": "https://localhost:8080/",
          "height": 80
        },
        "id": "TKUKlJSfeqQn",
        "outputId": "c4d694c8-7ea0-4156-b79f-459227489470"
      },
      "source": [
        "# Participant data\n",
        "p08 = participants[participants['participant_id'] == 'sub-008']\n",
        "p08.head()"
      ],
      "execution_count": null,
      "outputs": [
        {
          "output_type": "execute_result",
          "data": {
            "text/html": [
              "<div>\n",
              "<style scoped>\n",
              "    .dataframe tbody tr th:only-of-type {\n",
              "        vertical-align: middle;\n",
              "    }\n",
              "\n",
              "    .dataframe tbody tr th {\n",
              "        vertical-align: top;\n",
              "    }\n",
              "\n",
              "    .dataframe thead th {\n",
              "        text-align: right;\n",
              "    }\n",
              "</style>\n",
              "<table border=\"1\" class=\"dataframe\">\n",
              "  <thead>\n",
              "    <tr style=\"text-align: right;\">\n",
              "      <th></th>\n",
              "      <th>participant_id</th>\n",
              "      <th>Original_ID</th>\n",
              "      <th>Group</th>\n",
              "      <th>sess1_Med</th>\n",
              "      <th>sess2_Med</th>\n",
              "      <th>sex</th>\n",
              "      <th>age</th>\n",
              "    </tr>\n",
              "  </thead>\n",
              "  <tbody>\n",
              "    <tr>\n",
              "      <th>0</th>\n",
              "      <td>sub-001</td>\n",
              "      <td>8010</td>\n",
              "      <td>CTL</td>\n",
              "      <td>NaN</td>\n",
              "      <td>no s2</td>\n",
              "      <td>Female</td>\n",
              "      <td>61</td>\n",
              "    </tr>\n",
              "  </tbody>\n",
              "</table>\n",
              "</div>"
            ],
            "text/plain": [
              "  participant_id  Original_ID Group sess1_Med sess2_Med     sex  age\n",
              "0        sub-001         8010   CTL       NaN     no s2  Female   61"
            ]
          },
          "metadata": {
            "tags": []
          },
          "execution_count": 92
        }
      ]
    },
    {
      "cell_type": "code",
      "metadata": {
        "id": "Gp5r9bjBKJ8D"
      },
      "source": [
        "# Section 1\n",
        "url_channels_p08_s01 = commom_path + \"sub-008/ses-01/eeg/sub-008_ses-01_task-SimonConflict_channels.tsv\"\n",
        "url_eletrodes_p08_s01 = commom_path + \"sub-008/ses-01/eeg/sub-008_ses-01_task-SimonConflict_electrodes.tsv\"\n",
        "url_events_p08_s01 = commom_path + \"sub-008/ses-01/eeg/sub-008_ses-01_task-SimonConflict_events.tsv\"\n",
        "\n",
        "channels_p08_s01 = pd.read_csv(url_channels_p08_s01, sep=\"\\t\")\n",
        "eletrodes_p08_s01 = pd.read_csv(url_eletrodes_p08_s01, sep=\"\\t\")\n",
        "events_p08_s01 = pd.read_csv(url_events_p08_s01, sep=\"\\t\")"
      ],
      "execution_count": null,
      "outputs": []
    },
    {
      "cell_type": "code",
      "metadata": {
        "id": "K695qljlKJ8E"
      },
      "source": [
        "# Section 2\n",
        "url_channels_p08_s02 = commom_path + \"sub-008/ses-02/eeg/sub-008_ses-02_task-SimonConflict_channels.tsv\"\n",
        "url_eletrodes_p08_s02 = commom_path + \"sub-008/ses-02/eeg/sub-008_ses-02_task-SimonConflict_electrodes.tsv\"\n",
        "url_events_p08_s02 = commom_path + \"/sub-008/ses-02/eeg/sub-008_ses-02_task-SimonConflict_events.tsv\"\n",
        "\n",
        "channels_p08_s02 = pd.read_csv(url_channels_p08_s02, sep=\"\\t\")\n",
        "eletrodes_p08_s02 = pd.read_csv(url_eletrodes_p08_s02, sep=\"\\t\")\n",
        "events_p08_s02 = pd.read_csv(url_events_p08_s02, sep=\"\\t\")\n"
      ],
      "execution_count": null,
      "outputs": []
    },
    {
      "cell_type": "markdown",
      "metadata": {
        "id": "IbzxP-sAKKIm"
      },
      "source": [
        "# Participant #9\n",
        "Number of sections: 1"
      ]
    },
    {
      "cell_type": "code",
      "metadata": {
        "colab": {
          "base_uri": "https://localhost:8080/",
          "height": 80
        },
        "id": "3MfuhhGZeqwV",
        "outputId": "c4d694c8-7ea0-4156-b79f-459227489470"
      },
      "source": [
        "# Participant data\n",
        "p09 = participants[participants['participant_id'] == 'sub-009']\n",
        "p09.head()"
      ],
      "execution_count": null,
      "outputs": [
        {
          "output_type": "execute_result",
          "data": {
            "text/html": [
              "<div>\n",
              "<style scoped>\n",
              "    .dataframe tbody tr th:only-of-type {\n",
              "        vertical-align: middle;\n",
              "    }\n",
              "\n",
              "    .dataframe tbody tr th {\n",
              "        vertical-align: top;\n",
              "    }\n",
              "\n",
              "    .dataframe thead th {\n",
              "        text-align: right;\n",
              "    }\n",
              "</style>\n",
              "<table border=\"1\" class=\"dataframe\">\n",
              "  <thead>\n",
              "    <tr style=\"text-align: right;\">\n",
              "      <th></th>\n",
              "      <th>participant_id</th>\n",
              "      <th>Original_ID</th>\n",
              "      <th>Group</th>\n",
              "      <th>sess1_Med</th>\n",
              "      <th>sess2_Med</th>\n",
              "      <th>sex</th>\n",
              "      <th>age</th>\n",
              "    </tr>\n",
              "  </thead>\n",
              "  <tbody>\n",
              "    <tr>\n",
              "      <th>0</th>\n",
              "      <td>sub-001</td>\n",
              "      <td>8010</td>\n",
              "      <td>CTL</td>\n",
              "      <td>NaN</td>\n",
              "      <td>no s2</td>\n",
              "      <td>Female</td>\n",
              "      <td>61</td>\n",
              "    </tr>\n",
              "  </tbody>\n",
              "</table>\n",
              "</div>"
            ],
            "text/plain": [
              "  participant_id  Original_ID Group sess1_Med sess2_Med     sex  age\n",
              "0        sub-001         8010   CTL       NaN     no s2  Female   61"
            ]
          },
          "metadata": {
            "tags": []
          },
          "execution_count": 92
        }
      ]
    },
    {
      "cell_type": "code",
      "metadata": {
        "id": "AZRzuni_KKIn"
      },
      "source": [
        "# Section 1\n",
        "url_channels_p09_s01 = commom_path + \"sub-009/ses-01/eeg/sub-009_ses-01_task-SimonConflict_channels.tsv\"\n",
        "url_eletrodes_p09_s01 = commom_path + \"sub-009/ses-01/eeg/sub-009_ses-01_task-SimonConflict_electrodes.tsv\"\n",
        "url_events_p09_s01 = commom_path + \"sub-009/ses-01/eeg/sub-009_ses-01_task-SimonConflict_events.tsv\"\n",
        "\n",
        "channels_p09_s01 = pd.read_csv(url_channels_p09_s01, sep=\"\\t\")\n",
        "eletrodes_p09_s01 = pd.read_csv(url_eletrodes_p09_s01, sep=\"\\t\")\n",
        "events_p09_s01 = pd.read_csv(url_events_p09_s01, sep=\"\\t\")"
      ],
      "execution_count": null,
      "outputs": []
    },
    {
      "cell_type": "markdown",
      "metadata": {
        "id": "cjjsQa8gKKUJ"
      },
      "source": [
        "# Participant #10\n",
        "Number of sections: 2"
      ]
    },
    {
      "cell_type": "code",
      "metadata": {
        "colab": {
          "base_uri": "https://localhost:8080/",
          "height": 80
        },
        "id": "PUf-4VvderSY",
        "outputId": "eb1e85d4-be6e-468e-ed7b-f3c22248ccd7"
      },
      "source": [
        "# Participant data\n",
        "p10 = participants[participants['participant_id'] == 'sub-010']\n",
        "p10.head()"
      ],
      "execution_count": 96,
      "outputs": [
        {
          "output_type": "execute_result",
          "data": {
            "text/html": [
              "<div>\n",
              "<style scoped>\n",
              "    .dataframe tbody tr th:only-of-type {\n",
              "        vertical-align: middle;\n",
              "    }\n",
              "\n",
              "    .dataframe tbody tr th {\n",
              "        vertical-align: top;\n",
              "    }\n",
              "\n",
              "    .dataframe thead th {\n",
              "        text-align: right;\n",
              "    }\n",
              "</style>\n",
              "<table border=\"1\" class=\"dataframe\">\n",
              "  <thead>\n",
              "    <tr style=\"text-align: right;\">\n",
              "      <th></th>\n",
              "      <th>participant_id</th>\n",
              "      <th>Original_ID</th>\n",
              "      <th>Group</th>\n",
              "      <th>sess1_Med</th>\n",
              "      <th>sess2_Med</th>\n",
              "      <th>sex</th>\n",
              "      <th>age</th>\n",
              "    </tr>\n",
              "  </thead>\n",
              "  <tbody>\n",
              "    <tr>\n",
              "      <th>9</th>\n",
              "      <td>sub-010</td>\n",
              "      <td>807</td>\n",
              "      <td>PD</td>\n",
              "      <td>OFF</td>\n",
              "      <td>ON</td>\n",
              "      <td>Female</td>\n",
              "      <td>72</td>\n",
              "    </tr>\n",
              "  </tbody>\n",
              "</table>\n",
              "</div>"
            ],
            "text/plain": [
              "  participant_id  Original_ID Group sess1_Med sess2_Med     sex  age\n",
              "9        sub-010          807    PD       OFF        ON  Female   72"
            ]
          },
          "metadata": {
            "tags": []
          },
          "execution_count": 96
        }
      ]
    },
    {
      "cell_type": "code",
      "metadata": {
        "id": "F79-m84PKKUK"
      },
      "source": [
        "# Section 1\n",
        "url_channels_p10_s01 = commom_path + \"sub-010/ses-01/eeg/sub-010_ses-01_task-SimonConflict_channels.tsv\"\n",
        "url_eletrodes_p10_s01 = commom_path + \"sub-010/ses-01/eeg/sub-010_ses-01_task-SimonConflict_electrodes.tsv\"\n",
        "url_events_p10_s01 = commom_path + \"sub-010/ses-01/eeg/sub-010_ses-01_task-SimonConflict_events.tsv\"\n",
        "\n",
        "channels_p10_s01 = pd.read_csv(url_channels_p10_s01, sep=\"\\t\")\n",
        "eletrodes_p10_s01 = pd.read_csv(url_eletrodes_p10_s01, sep=\"\\t\")\n",
        "events_p10_s01 = pd.read_csv(url_events_p10_s01, sep=\"\\t\")"
      ],
      "execution_count": null,
      "outputs": []
    },
    {
      "cell_type": "code",
      "metadata": {
        "id": "JYUIRObOKKUL"
      },
      "source": [
        "# Section 2\n",
        "url_channels_p10_s02 = commom_path + \"sub-010/ses-02/eeg/sub-010_ses-02_task-SimonConflict_channels.tsv\"\n",
        "url_eletrodes_p10_s02 = commom_path + \"sub-010/ses-02/eeg/sub-010_ses-02_task-SimonConflict_electrodes.tsv\"\n",
        "url_events_p10_s02 = commom_path + \"sub-010/ses-02/eeg/sub-010_ses-02_task-SimonConflict_events.tsv\"\n",
        "\n",
        "channels_p10_s02 = pd.read_csv(url_channels_p10_s02, sep=\"\\t\")\n",
        "eletrodes_p10_s02 = pd.read_csv(url_eletrodes_p10_s02, sep=\"\\t\")\n",
        "events_p10_s02 = pd.read_csv(url_events_p10_s02, sep=\"\\t\")\n"
      ],
      "execution_count": null,
      "outputs": []
    },
    {
      "cell_type": "markdown",
      "metadata": {
        "id": "jvOl-7iXKKf2"
      },
      "source": [
        "# Participant #11\n",
        "Number of sections:2"
      ]
    },
    {
      "cell_type": "code",
      "metadata": {
        "colab": {
          "base_uri": "https://localhost:8080/",
          "height": 80
        },
        "id": "MUVJvpx0ert9",
        "outputId": "83d9a6f6-3ed4-45c6-d83e-5a48a2e21e60"
      },
      "source": [
        "# Participant data\n",
        "p11 = participants[participants['participant_id'] == 'sub-011']\n",
        "p11.head()"
      ],
      "execution_count": 97,
      "outputs": [
        {
          "output_type": "execute_result",
          "data": {
            "text/html": [
              "<div>\n",
              "<style scoped>\n",
              "    .dataframe tbody tr th:only-of-type {\n",
              "        vertical-align: middle;\n",
              "    }\n",
              "\n",
              "    .dataframe tbody tr th {\n",
              "        vertical-align: top;\n",
              "    }\n",
              "\n",
              "    .dataframe thead th {\n",
              "        text-align: right;\n",
              "    }\n",
              "</style>\n",
              "<table border=\"1\" class=\"dataframe\">\n",
              "  <thead>\n",
              "    <tr style=\"text-align: right;\">\n",
              "      <th></th>\n",
              "      <th>participant_id</th>\n",
              "      <th>Original_ID</th>\n",
              "      <th>Group</th>\n",
              "      <th>sess1_Med</th>\n",
              "      <th>sess2_Med</th>\n",
              "      <th>sex</th>\n",
              "      <th>age</th>\n",
              "    </tr>\n",
              "  </thead>\n",
              "  <tbody>\n",
              "    <tr>\n",
              "      <th>10</th>\n",
              "      <td>sub-011</td>\n",
              "      <td>808</td>\n",
              "      <td>PD</td>\n",
              "      <td>OFF</td>\n",
              "      <td>ON</td>\n",
              "      <td>Male</td>\n",
              "      <td>68</td>\n",
              "    </tr>\n",
              "  </tbody>\n",
              "</table>\n",
              "</div>"
            ],
            "text/plain": [
              "   participant_id  Original_ID Group sess1_Med sess2_Med   sex  age\n",
              "10        sub-011          808    PD       OFF        ON  Male   68"
            ]
          },
          "metadata": {
            "tags": []
          },
          "execution_count": 97
        }
      ]
    },
    {
      "cell_type": "code",
      "metadata": {
        "id": "JrsB7Du-KKf4"
      },
      "source": [
        "# Section 1\n",
        "url_channels_p11_s01 = commom_path + \"sub-011/ses-01/eeg/sub-011_ses-01_task-SimonConflict_channels.tsv\"\n",
        "url_eletrodes_p11_s01 = commom_path + \"sub-011/ses-01/eeg/sub-011_ses-01_task-SimonConflict_electrodes.tsv\"\n",
        "url_events_p11_s01 = commom_path + \"sub-011/ses-01/eeg/sub-011_ses-01_task-SimonConflict_events.tsv\"\n",
        "\n",
        "channels_p11_s01 = pd.read_csv(url_channels_p11_s01, sep=\"\\t\")\n",
        "eletrodes_p11_s01 = pd.read_csv(url_eletrodes_p11_s01, sep=\"\\t\")\n",
        "events_p11_s01 = pd.read_csv(url_events_p11_s01, sep=\"\\t\")"
      ],
      "execution_count": null,
      "outputs": []
    },
    {
      "cell_type": "code",
      "metadata": {
        "id": "Yk3Kv400KKf4"
      },
      "source": [
        "# Section 2\n",
        "url_channels_p11_s02 = commom_path + \"sub-011/ses-02/eeg/sub-011_ses-02_task-SimonConflict_channels.tsv\"\n",
        "url_eletrodes_p11_s02 = commom_path + \"sub-011/ses-02/eeg/sub-011_ses-02_task-SimonConflict_electrodes.tsv\"\n",
        "url_events_p11_s02 = commom_path + \"sub-011/ses-02/eeg/sub-011_ses-02_task-SimonConflict_events.tsv\"\n",
        "\n",
        "channels_p11_s02 = pd.read_csv(url_channels_p11_s02, sep=\"\\t\")\n",
        "eletrodes_p11_s02 = pd.read_csv(url_eletrodes_p11_s02, sep=\"\\t\")\n",
        "events_p11_s02 = pd.read_csv(url_events_p11_s02, sep=\"\\t\")\n"
      ],
      "execution_count": null,
      "outputs": []
    },
    {
      "cell_type": "markdown",
      "metadata": {
        "id": "F609nJfGKKrf"
      },
      "source": [
        "# Participant #12\n",
        "Number of sections: 2"
      ]
    },
    {
      "cell_type": "code",
      "metadata": {
        "colab": {
          "base_uri": "https://localhost:8080/",
          "height": 80
        },
        "id": "AgGScr3GesOq",
        "outputId": "71b79d86-8484-4e47-e1ff-acd15a1d22cb"
      },
      "source": [
        "# Participant data\n",
        "p12 = participants[participants['participant_id'] == 'sub-012']\n",
        "p12.head()"
      ],
      "execution_count": 98,
      "outputs": [
        {
          "output_type": "execute_result",
          "data": {
            "text/html": [
              "<div>\n",
              "<style scoped>\n",
              "    .dataframe tbody tr th:only-of-type {\n",
              "        vertical-align: middle;\n",
              "    }\n",
              "\n",
              "    .dataframe tbody tr th {\n",
              "        vertical-align: top;\n",
              "    }\n",
              "\n",
              "    .dataframe thead th {\n",
              "        text-align: right;\n",
              "    }\n",
              "</style>\n",
              "<table border=\"1\" class=\"dataframe\">\n",
              "  <thead>\n",
              "    <tr style=\"text-align: right;\">\n",
              "      <th></th>\n",
              "      <th>participant_id</th>\n",
              "      <th>Original_ID</th>\n",
              "      <th>Group</th>\n",
              "      <th>sess1_Med</th>\n",
              "      <th>sess2_Med</th>\n",
              "      <th>sex</th>\n",
              "      <th>age</th>\n",
              "    </tr>\n",
              "  </thead>\n",
              "  <tbody>\n",
              "    <tr>\n",
              "      <th>11</th>\n",
              "      <td>sub-012</td>\n",
              "      <td>809</td>\n",
              "      <td>PD</td>\n",
              "      <td>ON</td>\n",
              "      <td>OFF</td>\n",
              "      <td>Male</td>\n",
              "      <td>71</td>\n",
              "    </tr>\n",
              "  </tbody>\n",
              "</table>\n",
              "</div>"
            ],
            "text/plain": [
              "   participant_id  Original_ID Group sess1_Med sess2_Med   sex  age\n",
              "11        sub-012          809    PD        ON       OFF  Male   71"
            ]
          },
          "metadata": {
            "tags": []
          },
          "execution_count": 98
        }
      ]
    },
    {
      "cell_type": "code",
      "metadata": {
        "id": "hAbUjzMcKKrg"
      },
      "source": [
        "# Section 1\n",
        "url_channels_p12_s01 = commom_path + \"sub-012/ses-01/eeg/sub-012_ses-01_task-SimonConflict_channels.tsv\"\n",
        "url_eletrodes_p12_s01 = commom_path + \"sub-012/ses-01/eeg/sub-012_ses-01_task-SimonConflict_electrodes.tsv\"\n",
        "url_events_p12_s01 = commom_path + \"sub-012/ses-01/eeg/sub-012_ses-01_task-SimonConflict_events.tsv\"\n",
        "\n",
        "channels_p12_s01 = pd.read_csv(url_channels_p12_s01, sep=\"\\t\")\n",
        "eletrodes_p12_s01 = pd.read_csv(url_eletrodes_p12_s01, sep=\"\\t\")\n",
        "events_p12_s01 = pd.read_csv(url_events_p12_s01, sep=\"\\t\")"
      ],
      "execution_count": null,
      "outputs": []
    },
    {
      "cell_type": "code",
      "metadata": {
        "id": "NQSuMO5AKKrh"
      },
      "source": [
        "# Section 2\n",
        "url_channels_p12_s02 = commom_path + \"sub-012/ses-02/eeg/sub-012_ses-02_task-SimonConflict_channels.tsv\"\n",
        "url_eletrodes_p12_s02 = commom_path + \"sub-012/ses-02/eeg/sub-012_ses-02_task-SimonConflict_electrodes.tsv\"\n",
        "url_events_p12_s02 = commom_path + \"sub-012/ses-02/eeg/sub-012_ses-02_task-SimonConflict_events.tsv\"\n",
        "\n",
        "channels_p12_s02 = pd.read_csv(url_channels_p12_s02, sep=\"\\t\")\n",
        "eletrodes_p12_s02 = pd.read_csv(url_eletrodes_p12_s02, sep=\"\\t\")\n",
        "events_p12_s02 = pd.read_csv(url_events_p12_s02, sep=\"\\t\")\n"
      ],
      "execution_count": null,
      "outputs": []
    },
    {
      "cell_type": "markdown",
      "metadata": {
        "id": "_Xgoqq47KK2F"
      },
      "source": [
        "# Participant #13\n",
        "Number of sections: 2"
      ]
    },
    {
      "cell_type": "code",
      "metadata": {
        "colab": {
          "base_uri": "https://localhost:8080/",
          "height": 80
        },
        "id": "2MRjFZE-esux",
        "outputId": "7b558cd3-13b2-486e-b9ed-47f986e2241a"
      },
      "source": [
        "# Participant data\n",
        "p13 = participants[participants['participant_id'] == 'sub-013']\n",
        "p13.head()"
      ],
      "execution_count": 99,
      "outputs": [
        {
          "output_type": "execute_result",
          "data": {
            "text/html": [
              "<div>\n",
              "<style scoped>\n",
              "    .dataframe tbody tr th:only-of-type {\n",
              "        vertical-align: middle;\n",
              "    }\n",
              "\n",
              "    .dataframe tbody tr th {\n",
              "        vertical-align: top;\n",
              "    }\n",
              "\n",
              "    .dataframe thead th {\n",
              "        text-align: right;\n",
              "    }\n",
              "</style>\n",
              "<table border=\"1\" class=\"dataframe\">\n",
              "  <thead>\n",
              "    <tr style=\"text-align: right;\">\n",
              "      <th></th>\n",
              "      <th>participant_id</th>\n",
              "      <th>Original_ID</th>\n",
              "      <th>Group</th>\n",
              "      <th>sess1_Med</th>\n",
              "      <th>sess2_Med</th>\n",
              "      <th>sex</th>\n",
              "      <th>age</th>\n",
              "    </tr>\n",
              "  </thead>\n",
              "  <tbody>\n",
              "    <tr>\n",
              "      <th>12</th>\n",
              "      <td>sub-013</td>\n",
              "      <td>810</td>\n",
              "      <td>PD</td>\n",
              "      <td>ON</td>\n",
              "      <td>OFF</td>\n",
              "      <td>Male</td>\n",
              "      <td>68</td>\n",
              "    </tr>\n",
              "  </tbody>\n",
              "</table>\n",
              "</div>"
            ],
            "text/plain": [
              "   participant_id  Original_ID Group sess1_Med sess2_Med   sex  age\n",
              "12        sub-013          810    PD        ON       OFF  Male   68"
            ]
          },
          "metadata": {
            "tags": []
          },
          "execution_count": 99
        }
      ]
    },
    {
      "cell_type": "code",
      "metadata": {
        "id": "j-uk8_atKK2G"
      },
      "source": [
        "# Section 1\n",
        "url_channels_p13_s01 = commom_path + \"sub-013/ses-01/eeg/sub-013_ses-01_task-SimonConflict_channels.tsv\"\n",
        "url_eletrodes_p13_s01 = commom_path + \"sub-013/ses-01/eeg/sub-013_ses-01_task-SimonConflict_electrodes.tsv\"\n",
        "url_events_p13_s01 = commom_path + \"sub-013/ses-01/eeg/sub-013_ses-01_task-SimonConflict_events.tsv\"\n",
        "\n",
        "channels_p13_s01 = pd.read_csv(url_channels_p13_s01, sep=\"\\t\")\n",
        "eletrodes_p13_s01 = pd.read_csv(url_eletrodes_p13_s01, sep=\"\\t\")\n",
        "events_p13_s01 = pd.read_csv(url_events_p13_s01, sep=\"\\t\")"
      ],
      "execution_count": null,
      "outputs": []
    },
    {
      "cell_type": "code",
      "metadata": {
        "id": "R3GvyA81KK2H"
      },
      "source": [
        "# Section 2\n",
        "url_channels_p13_s02 = commom_path + \"sub-013/ses-02/eeg/sub-013_ses-02_task-SimonConflict_channels.tsv\"\n",
        "url_eletrodes_p13_s02 = commom_path + \"sub-013/ses-02/eeg/sub-013_ses-02_task-SimonConflict_electrodes.tsv\"\n",
        "url_events_p13_s02 = commom_path + \"sub-013/ses-02/eeg/sub-013_ses-02_task-SimonConflict_events.tsv\"\n",
        "\n",
        "channels_p13_s02 = pd.read_csv(url_channels_p13_s02, sep=\"\\t\")\n",
        "eletrodes_p13_s02 = pd.read_csv(url_eletrodes_p13_s02, sep=\"\\t\")\n",
        "events_p13_s02 = pd.read_csv(url_events_p13_s02, sep=\"\\t\")\n"
      ],
      "execution_count": null,
      "outputs": []
    },
    {
      "cell_type": "markdown",
      "metadata": {
        "id": "WJfo6iWoKLAH"
      },
      "source": [
        "# Participant #14\n",
        "Number of sections: 2"
      ]
    },
    {
      "cell_type": "code",
      "metadata": {
        "colab": {
          "base_uri": "https://localhost:8080/",
          "height": 80
        },
        "id": "xDazrjCRetQk",
        "outputId": "c4d694c8-7ea0-4156-b79f-459227489470"
      },
      "source": [
        "# Participant data\n",
        "p14 = participants[participants['participant_id'] == 'sub-014']\n",
        "p14.head()"
      ],
      "execution_count": null,
      "outputs": [
        {
          "output_type": "execute_result",
          "data": {
            "text/html": [
              "<div>\n",
              "<style scoped>\n",
              "    .dataframe tbody tr th:only-of-type {\n",
              "        vertical-align: middle;\n",
              "    }\n",
              "\n",
              "    .dataframe tbody tr th {\n",
              "        vertical-align: top;\n",
              "    }\n",
              "\n",
              "    .dataframe thead th {\n",
              "        text-align: right;\n",
              "    }\n",
              "</style>\n",
              "<table border=\"1\" class=\"dataframe\">\n",
              "  <thead>\n",
              "    <tr style=\"text-align: right;\">\n",
              "      <th></th>\n",
              "      <th>participant_id</th>\n",
              "      <th>Original_ID</th>\n",
              "      <th>Group</th>\n",
              "      <th>sess1_Med</th>\n",
              "      <th>sess2_Med</th>\n",
              "      <th>sex</th>\n",
              "      <th>age</th>\n",
              "    </tr>\n",
              "  </thead>\n",
              "  <tbody>\n",
              "    <tr>\n",
              "      <th>0</th>\n",
              "      <td>sub-001</td>\n",
              "      <td>8010</td>\n",
              "      <td>CTL</td>\n",
              "      <td>NaN</td>\n",
              "      <td>no s2</td>\n",
              "      <td>Female</td>\n",
              "      <td>61</td>\n",
              "    </tr>\n",
              "  </tbody>\n",
              "</table>\n",
              "</div>"
            ],
            "text/plain": [
              "  participant_id  Original_ID Group sess1_Med sess2_Med     sex  age\n",
              "0        sub-001         8010   CTL       NaN     no s2  Female   61"
            ]
          },
          "metadata": {
            "tags": []
          },
          "execution_count": 92
        }
      ]
    },
    {
      "cell_type": "code",
      "metadata": {
        "id": "xliO8yfRKLAI"
      },
      "source": [
        "# Section 1\n",
        "url_channels_p14_s01 = commom_path + \"sub-014/ses-01/eeg/sub-014_ses-01_task-SimonConflict_channels.tsv\"\n",
        "url_eletrodes_p14_s01 = commom_path + \"sub-014/ses-01/eeg/sub-014_ses-01_task-SimonConflict_electrodes.tsv\"\n",
        "url_events_p14_s01 = commom_path + \"sub-014/ses-01/eeg/sub-014_ses-01_task-SimonConflict_events.tsv\"\n",
        "\n",
        "channels_p14_s01 = pd.read_csv(url_channels_p14_s01, sep=\"\\t\")\n",
        "eletrodes_p14_s01 = pd.read_csv(url_eletrodes_p14_s01, sep=\"\\t\")\n",
        "events_p14_s01 = pd.read_csv(url_events_p14_s01, sep=\"\\t\")"
      ],
      "execution_count": null,
      "outputs": []
    },
    {
      "cell_type": "code",
      "metadata": {
        "id": "S1s3IgEkKLAJ"
      },
      "source": [
        "# Section 2\n",
        "url_channels_p14_s02 = commom_path + \"sub-014/ses-02/eeg/sub-014_ses-02_task-SimonConflict_channels.tsv\"\n",
        "url_eletrodes_p14_s02 = commom_path + \"sub-014/ses-02/eeg/sub-014_ses-02_task-SimonConflict_electrodes.tsv\"\n",
        "url_events_p14_s02 = commom_path + \"sub-014/ses-02/eeg/sub-014_ses-02_task-SimonConflict_events.tsv\"\n",
        "\n",
        "channels_p14_s02 = pd.read_csv(url_channels_p14_s02, sep=\"\\t\")\n",
        "eletrodes_p14_s02 = pd.read_csv(url_eletrodes_p14_s02, sep=\"\\t\")\n",
        "events_p14_s02 = pd.read_csv(url_events_p14_s02, sep=\"\\t\")\n"
      ],
      "execution_count": null,
      "outputs": []
    },
    {
      "cell_type": "markdown",
      "metadata": {
        "id": "PoNIS5cZKLKV"
      },
      "source": [
        "# Participant #15\n",
        "Number of sections: 2"
      ]
    },
    {
      "cell_type": "code",
      "metadata": {
        "colab": {
          "base_uri": "https://localhost:8080/",
          "height": 80
        },
        "id": "uo8KEkx1etxn",
        "outputId": "b4f96aab-2dc3-483e-aab4-08718eac0007"
      },
      "source": [
        "# Participant data\n",
        "p15 = participants[participants['participant_id'] == 'sub-015']\n",
        "p15.head()"
      ],
      "execution_count": 100,
      "outputs": [
        {
          "output_type": "execute_result",
          "data": {
            "text/html": [
              "<div>\n",
              "<style scoped>\n",
              "    .dataframe tbody tr th:only-of-type {\n",
              "        vertical-align: middle;\n",
              "    }\n",
              "\n",
              "    .dataframe tbody tr th {\n",
              "        vertical-align: top;\n",
              "    }\n",
              "\n",
              "    .dataframe thead th {\n",
              "        text-align: right;\n",
              "    }\n",
              "</style>\n",
              "<table border=\"1\" class=\"dataframe\">\n",
              "  <thead>\n",
              "    <tr style=\"text-align: right;\">\n",
              "      <th></th>\n",
              "      <th>participant_id</th>\n",
              "      <th>Original_ID</th>\n",
              "      <th>Group</th>\n",
              "      <th>sess1_Med</th>\n",
              "      <th>sess2_Med</th>\n",
              "      <th>sex</th>\n",
              "      <th>age</th>\n",
              "    </tr>\n",
              "  </thead>\n",
              "  <tbody>\n",
              "    <tr>\n",
              "      <th>14</th>\n",
              "      <td>sub-015</td>\n",
              "      <td>813</td>\n",
              "      <td>PD</td>\n",
              "      <td>OFF</td>\n",
              "      <td>ON</td>\n",
              "      <td>Male</td>\n",
              "      <td>83</td>\n",
              "    </tr>\n",
              "  </tbody>\n",
              "</table>\n",
              "</div>"
            ],
            "text/plain": [
              "   participant_id  Original_ID Group sess1_Med sess2_Med   sex  age\n",
              "14        sub-015          813    PD       OFF        ON  Male   83"
            ]
          },
          "metadata": {
            "tags": []
          },
          "execution_count": 100
        }
      ]
    },
    {
      "cell_type": "code",
      "metadata": {
        "id": "tBhmkszkKLKW"
      },
      "source": [
        "# Section 1\n",
        "url_channels_p15_s01 = commom_path + \"sub-015/ses-01/eeg/sub-015_ses-01_task-SimonConflict_channels.tsv\"\n",
        "url_eletrodes_p15_s01 = commom_path + \"sub-015/ses-01/eeg/sub-015_ses-01_task-SimonConflict_electrodes.tsv\"\n",
        "url_events_p15_s01 = commom_path + \"sub-015/ses-01/eeg/sub-015_ses-01_task-SimonConflict_events.tsv\"\n",
        "\n",
        "channels_p15_s01 = pd.read_csv(url_channels_p15_s01, sep=\"\\t\")\n",
        "eletrodes_p15_s01 = pd.read_csv(url_eletrodes_p15_s01, sep=\"\\t\")\n",
        "events_p15_s01 = pd.read_csv(url_events_p15_s01, sep=\"\\t\")"
      ],
      "execution_count": null,
      "outputs": []
    },
    {
      "cell_type": "code",
      "metadata": {
        "id": "mr2sAyMBKLKX"
      },
      "source": [
        "# Section 2\n",
        "url_channels_p15_s02 = commom_path + \"sub-015/ses-02/eeg/sub-015_ses-02_task-SimonConflict_channels.tsv\"\n",
        "url_eletrodes_p15_s02 = commom_path + \"sub-015/ses-02/eeg/sub-015_ses-02_task-SimonConflict_electrodes.tsv\"\n",
        "url_events_p15_s02 = commom_path + \"sub-015/ses-02/eeg/sub-015_ses-02_task-SimonConflict_events.tsv\"\n",
        "\n",
        "channels_p15_s02 = pd.read_csv(url_channels_p15_s02, sep=\"\\t\")\n",
        "eletrodes_p15_s02 = pd.read_csv(url_eletrodes_p15_s02, sep=\"\\t\")\n",
        "events_p15_s02 = pd.read_csv(url_events_p15_s02, sep=\"\\t\")\n"
      ],
      "execution_count": null,
      "outputs": []
    },
    {
      "cell_type": "markdown",
      "metadata": {
        "id": "hLzhzWwnKLUV"
      },
      "source": [
        "# Participant #16\n",
        "Number of sections: 2"
      ]
    },
    {
      "cell_type": "code",
      "metadata": {
        "colab": {
          "base_uri": "https://localhost:8080/",
          "height": 80
        },
        "id": "_g6nugKWeuVh",
        "outputId": "b85be7ee-8d7e-449d-c564-d0e744b963cd"
      },
      "source": [
        "# Participant data\n",
        "p16 = participants[participants['participant_id'] == 'sub-016']\n",
        "p16.head()"
      ],
      "execution_count": 101,
      "outputs": [
        {
          "output_type": "execute_result",
          "data": {
            "text/html": [
              "<div>\n",
              "<style scoped>\n",
              "    .dataframe tbody tr th:only-of-type {\n",
              "        vertical-align: middle;\n",
              "    }\n",
              "\n",
              "    .dataframe tbody tr th {\n",
              "        vertical-align: top;\n",
              "    }\n",
              "\n",
              "    .dataframe thead th {\n",
              "        text-align: right;\n",
              "    }\n",
              "</style>\n",
              "<table border=\"1\" class=\"dataframe\">\n",
              "  <thead>\n",
              "    <tr style=\"text-align: right;\">\n",
              "      <th></th>\n",
              "      <th>participant_id</th>\n",
              "      <th>Original_ID</th>\n",
              "      <th>Group</th>\n",
              "      <th>sess1_Med</th>\n",
              "      <th>sess2_Med</th>\n",
              "      <th>sex</th>\n",
              "      <th>age</th>\n",
              "    </tr>\n",
              "  </thead>\n",
              "  <tbody>\n",
              "    <tr>\n",
              "      <th>15</th>\n",
              "      <td>sub-016</td>\n",
              "      <td>814</td>\n",
              "      <td>PD</td>\n",
              "      <td>ON</td>\n",
              "      <td>OFF</td>\n",
              "      <td>Male</td>\n",
              "      <td>61</td>\n",
              "    </tr>\n",
              "  </tbody>\n",
              "</table>\n",
              "</div>"
            ],
            "text/plain": [
              "   participant_id  Original_ID Group sess1_Med sess2_Med   sex  age\n",
              "15        sub-016          814    PD        ON       OFF  Male   61"
            ]
          },
          "metadata": {
            "tags": []
          },
          "execution_count": 101
        }
      ]
    },
    {
      "cell_type": "code",
      "metadata": {
        "id": "oxDssPClKLUX"
      },
      "source": [
        "# Section 1\n",
        "url_channels_p16_s01 = commom_path + \"sub-016/ses-01/eeg/sub-016_ses-01_task-SimonConflict_channels.tsv\"\n",
        "url_eletrodes_p16_s01 = commom_path + \"sub-016/ses-01/eeg/sub-016_ses-01_task-SimonConflict_electrodes.tsv\"\n",
        "url_events_p16_s01 = commom_path + \"sub-016/ses-01/eeg/sub-016_ses-01_task-SimonConflict_events.tsv\"\n",
        "\n",
        "channels_p16_s01 = pd.read_csv(url_channels_p16_s01, sep=\"\\t\")\n",
        "eletrodes_p16_s01 = pd.read_csv(url_eletrodes_p16_s01, sep=\"\\t\")\n",
        "events_p16_s01 = pd.read_csv(url_events_p16_s01, sep=\"\\t\")"
      ],
      "execution_count": null,
      "outputs": []
    },
    {
      "cell_type": "code",
      "metadata": {
        "id": "yBkaGDNPKLUY"
      },
      "source": [
        "# Section 2\n",
        "url_channels_p16_s02 = commom_path + \"sub-016/ses-02/eeg/sub-016_ses-02_task-SimonConflict_channels.tsv\"\n",
        "url_eletrodes_p16_s02 = commom_path + \"sub-016/ses-02/eeg/sub-016_ses-02_task-SimonConflict_electrodes.tsv\"\n",
        "url_events_p16_s02 = commom_path + \"sub-016/ses-02/eeg/sub-016_ses-02_task-SimonConflict_events.tsv\"\n",
        "\n",
        "channels_p16_s02 = pd.read_csv(url_channels_p16_s02, sep=\"\\t\")\n",
        "eletrodes_p16_s02 = pd.read_csv(url_eletrodes_p16_s02, sep=\"\\t\")\n",
        "events_p16_s02 = pd.read_csv(url_events_p16_s02, sep=\"\\t\")\n"
      ],
      "execution_count": null,
      "outputs": []
    },
    {
      "cell_type": "markdown",
      "metadata": {
        "id": "AG0xyLoRKLdY"
      },
      "source": [
        "# Participant #17\n",
        "Number of sections: 2"
      ]
    },
    {
      "cell_type": "code",
      "metadata": {
        "colab": {
          "base_uri": "https://localhost:8080/",
          "height": 80
        },
        "id": "JcLQdui1evQE",
        "outputId": "225af8b9-c9c0-4daf-9f0b-727f1d268943"
      },
      "source": [
        "# Participant data\n",
        "p17 = participants[participants['participant_id'] == 'sub-017']\n",
        "p17.head()"
      ],
      "execution_count": 102,
      "outputs": [
        {
          "output_type": "execute_result",
          "data": {
            "text/html": [
              "<div>\n",
              "<style scoped>\n",
              "    .dataframe tbody tr th:only-of-type {\n",
              "        vertical-align: middle;\n",
              "    }\n",
              "\n",
              "    .dataframe tbody tr th {\n",
              "        vertical-align: top;\n",
              "    }\n",
              "\n",
              "    .dataframe thead th {\n",
              "        text-align: right;\n",
              "    }\n",
              "</style>\n",
              "<table border=\"1\" class=\"dataframe\">\n",
              "  <thead>\n",
              "    <tr style=\"text-align: right;\">\n",
              "      <th></th>\n",
              "      <th>participant_id</th>\n",
              "      <th>Original_ID</th>\n",
              "      <th>Group</th>\n",
              "      <th>sess1_Med</th>\n",
              "      <th>sess2_Med</th>\n",
              "      <th>sex</th>\n",
              "      <th>age</th>\n",
              "    </tr>\n",
              "  </thead>\n",
              "  <tbody>\n",
              "    <tr>\n",
              "      <th>16</th>\n",
              "      <td>sub-017</td>\n",
              "      <td>815</td>\n",
              "      <td>PD</td>\n",
              "      <td>ON</td>\n",
              "      <td>OFF</td>\n",
              "      <td>Male</td>\n",
              "      <td>55</td>\n",
              "    </tr>\n",
              "  </tbody>\n",
              "</table>\n",
              "</div>"
            ],
            "text/plain": [
              "   participant_id  Original_ID Group sess1_Med sess2_Med   sex  age\n",
              "16        sub-017          815    PD        ON       OFF  Male   55"
            ]
          },
          "metadata": {
            "tags": []
          },
          "execution_count": 102
        }
      ]
    },
    {
      "cell_type": "code",
      "metadata": {
        "id": "KyZZLsW7KLdZ"
      },
      "source": [
        "# Section 1\n",
        "url_channels_p17_s01 = commom_path + \"sub-017/ses-01/eeg/sub-017_ses-01_task-SimonConflict_channels.tsv\"\n",
        "url_eletrodes_p17_s01 = commom_path + \"sub-017/ses-01/eeg/sub-017_ses-01_task-SimonConflict_electrodes.tsv\"\n",
        "url_events_p17_s01 = commom_path + \"sub-017/ses-01/eeg/sub-017_ses-01_task-SimonConflict_events.tsv\"\n",
        "\n",
        "channels_p17_s01 = pd.read_csv(url_channels_p17_s01, sep=\"\\t\")\n",
        "eletrodes_p17_s01 = pd.read_csv(url_eletrodes_p17_s01, sep=\"\\t\")\n",
        "events_p17_s01 = pd.read_csv(url_events_p17_s01, sep=\"\\t\")"
      ],
      "execution_count": null,
      "outputs": []
    },
    {
      "cell_type": "code",
      "metadata": {
        "id": "ycIB1ipSKLda"
      },
      "source": [
        "# Section 2\n",
        "url_channels_p17_s02 = commom_path + \"sub-017/ses-02/eeg/sub-017_ses-02_task-SimonConflict_channels.tsv\"\n",
        "url_eletrodes_p17_s02 = commom_path + \"sub-017/ses-02/eeg/sub-017_ses-02_task-SimonConflict_electrodes.tsv\"\n",
        "url_events_p17_s02 = commom_path + \"sub-017/ses-02/eeg/sub-017_ses-02_task-SimonConflict_events.tsv\"\n",
        "\n",
        "channels_p17_s02 = pd.read_csv(url_channels_p17_s02, sep=\"\\t\")\n",
        "eletrodes_p17_s02 = pd.read_csv(url_eletrodes_p17_s02, sep=\"\\t\")\n",
        "events_p17_s02 = pd.read_csv(url_events_p17_s02, sep=\"\\t\")\n"
      ],
      "execution_count": null,
      "outputs": []
    },
    {
      "cell_type": "markdown",
      "metadata": {
        "id": "QhCnPRyaKLnH"
      },
      "source": [
        "# Participant #18\n",
        "Number of sections: 2"
      ]
    },
    {
      "cell_type": "code",
      "metadata": {
        "colab": {
          "base_uri": "https://localhost:8080/",
          "height": 80
        },
        "id": "M8E5nPJuev0u",
        "outputId": "d2fdef2d-3890-4b47-fef6-378a5a41646b"
      },
      "source": [
        "# Participant data\n",
        "p18 = participants[participants['participant_id'] == 'sub-018']\n",
        "p18.head()"
      ],
      "execution_count": 103,
      "outputs": [
        {
          "output_type": "execute_result",
          "data": {
            "text/html": [
              "<div>\n",
              "<style scoped>\n",
              "    .dataframe tbody tr th:only-of-type {\n",
              "        vertical-align: middle;\n",
              "    }\n",
              "\n",
              "    .dataframe tbody tr th {\n",
              "        vertical-align: top;\n",
              "    }\n",
              "\n",
              "    .dataframe thead th {\n",
              "        text-align: right;\n",
              "    }\n",
              "</style>\n",
              "<table border=\"1\" class=\"dataframe\">\n",
              "  <thead>\n",
              "    <tr style=\"text-align: right;\">\n",
              "      <th></th>\n",
              "      <th>participant_id</th>\n",
              "      <th>Original_ID</th>\n",
              "      <th>Group</th>\n",
              "      <th>sess1_Med</th>\n",
              "      <th>sess2_Med</th>\n",
              "      <th>sex</th>\n",
              "      <th>age</th>\n",
              "    </tr>\n",
              "  </thead>\n",
              "  <tbody>\n",
              "    <tr>\n",
              "      <th>17</th>\n",
              "      <td>sub-018</td>\n",
              "      <td>816</td>\n",
              "      <td>PD</td>\n",
              "      <td>OFF</td>\n",
              "      <td>ON</td>\n",
              "      <td>Female</td>\n",
              "      <td>49</td>\n",
              "    </tr>\n",
              "  </tbody>\n",
              "</table>\n",
              "</div>"
            ],
            "text/plain": [
              "   participant_id  Original_ID Group sess1_Med sess2_Med     sex  age\n",
              "17        sub-018          816    PD       OFF        ON  Female   49"
            ]
          },
          "metadata": {
            "tags": []
          },
          "execution_count": 103
        }
      ]
    },
    {
      "cell_type": "code",
      "metadata": {
        "id": "56CXq5-8KLnI"
      },
      "source": [
        "# Section 1\n",
        "url_channels_p18_s01 = commom_path + \"sub-018/ses-01/eeg/sub-018_ses-01_task-SimonConflict_channels.tsv\"\n",
        "url_eletrodes_p18_s01 = commom_path + \"sub-018/ses-01/eeg/sub-018_ses-01_task-SimonConflict_electrodes.tsv\"\n",
        "url_events_p18_s01 = commom_path + \"sub-018/ses-01/eeg/sub-018_ses-01_task-SimonConflict_events.tsv\"\n",
        "\n",
        "channels_p18_s01 = pd.read_csv(url_channels_p18_s01, sep=\"\\t\")\n",
        "eletrodes_p18_s01 = pd.read_csv(url_eletrodes_p18_s01, sep=\"\\t\")\n",
        "events_p18_s01 = pd.read_csv(url_events_p18_s01, sep=\"\\t\")"
      ],
      "execution_count": null,
      "outputs": []
    },
    {
      "cell_type": "code",
      "metadata": {
        "id": "cVDi1wTkKLnJ"
      },
      "source": [
        "# Section 2\n",
        "url_channels_p18_s02 = commom_path + \"sub-018/ses-02/eeg/sub-018_ses-02_task-SimonConflict_channels.tsv\"\n",
        "url_eletrodes_p18_s02 = commom_path + \"sub-018/ses-02/eeg/sub-018_ses-02_task-SimonConflict_electrodes.tsv\"\n",
        "url_events_p18_s02 = commom_path + \"sub-018/ses-02/eeg/sub-018_ses-02_task-SimonConflict_events.tsv\"\n",
        "\n",
        "channels_p18_s02 = pd.read_csv(url_channels_p18_s02, sep=\"\\t\")\n",
        "eletrodes_p18_s02 = pd.read_csv(url_eletrodes_p18_s02, sep=\"\\t\")\n",
        "events_p18_s02 = pd.read_csv(url_events_p18_s02, sep=\"\\t\")\n"
      ],
      "execution_count": null,
      "outputs": []
    },
    {
      "cell_type": "markdown",
      "metadata": {
        "id": "eE7TVw7PKLw1"
      },
      "source": [
        "# Participant #19\n",
        "Number of sections: 2"
      ]
    },
    {
      "cell_type": "code",
      "metadata": {
        "colab": {
          "base_uri": "https://localhost:8080/",
          "height": 80
        },
        "id": "gMF7oDvgewQk",
        "outputId": "75af5846-ff27-4f1a-ef74-d6eb11bbbe6d"
      },
      "source": [
        "# Participant data\n",
        "p19 = participants[participants['participant_id'] == 'sub-019']\n",
        "p19.head()"
      ],
      "execution_count": 104,
      "outputs": [
        {
          "output_type": "execute_result",
          "data": {
            "text/html": [
              "<div>\n",
              "<style scoped>\n",
              "    .dataframe tbody tr th:only-of-type {\n",
              "        vertical-align: middle;\n",
              "    }\n",
              "\n",
              "    .dataframe tbody tr th {\n",
              "        vertical-align: top;\n",
              "    }\n",
              "\n",
              "    .dataframe thead th {\n",
              "        text-align: right;\n",
              "    }\n",
              "</style>\n",
              "<table border=\"1\" class=\"dataframe\">\n",
              "  <thead>\n",
              "    <tr style=\"text-align: right;\">\n",
              "      <th></th>\n",
              "      <th>participant_id</th>\n",
              "      <th>Original_ID</th>\n",
              "      <th>Group</th>\n",
              "      <th>sess1_Med</th>\n",
              "      <th>sess2_Med</th>\n",
              "      <th>sex</th>\n",
              "      <th>age</th>\n",
              "    </tr>\n",
              "  </thead>\n",
              "  <tbody>\n",
              "    <tr>\n",
              "      <th>18</th>\n",
              "      <td>sub-019</td>\n",
              "      <td>817</td>\n",
              "      <td>PD</td>\n",
              "      <td>OFF</td>\n",
              "      <td>ON</td>\n",
              "      <td>Male</td>\n",
              "      <td>71</td>\n",
              "    </tr>\n",
              "  </tbody>\n",
              "</table>\n",
              "</div>"
            ],
            "text/plain": [
              "   participant_id  Original_ID Group sess1_Med sess2_Med   sex  age\n",
              "18        sub-019          817    PD       OFF        ON  Male   71"
            ]
          },
          "metadata": {
            "tags": []
          },
          "execution_count": 104
        }
      ]
    },
    {
      "cell_type": "code",
      "metadata": {
        "id": "znDoAXsmKLw2"
      },
      "source": [
        "# Section 1\n",
        "url_channels_p19_s01 = commom_path + \"sub-019/ses-01/eeg/sub-019_ses-01_task-SimonConflict_channels.tsv\"\n",
        "url_eletrodes_p19_s01 = commom_path + \"sub-019/ses-01/eeg/sub-019_ses-01_task-SimonConflict_electrodes.tsv\"\n",
        "url_events_p19_s01 = commom_path + \"sub-019/ses-01/eeg/sub-019_ses-01_task-SimonConflict_events.tsv\"\n",
        "\n",
        "channels_p19_s01 = pd.read_csv(url_channels_p19_s01, sep=\"\\t\")\n",
        "eletrodes_p19_s01 = pd.read_csv(url_eletrodes_p19_s01, sep=\"\\t\")\n",
        "events_p19_s01 = pd.read_csv(url_events_p19_s01, sep=\"\\t\")"
      ],
      "execution_count": null,
      "outputs": []
    },
    {
      "cell_type": "code",
      "metadata": {
        "id": "FOewMi_oKLw3"
      },
      "source": [
        "# Section 2\n",
        "url_channels_p19_s02 = commom_path + \"sub-019/ses-02/eeg/sub-019_ses-02_task-SimonConflict_channels.tsv\"\n",
        "url_eletrodes_p19_s02 = commom_path + \"sub-019/ses-02/eeg/sub-019_ses-02_task-SimonConflict_electrodes.tsv\"\n",
        "url_events_p19_s02 = commom_path + \"sub-019/ses-02/eeg/sub-019_ses-02_task-SimonConflict_events.tsv\"\n",
        "\n",
        "channels_p19_s02 = pd.read_csv(url_channels_p19_s02, sep=\"\\t\")\n",
        "eletrodes_p19_s02 = pd.read_csv(url_eletrodes_p19_s02, sep=\"\\t\")\n",
        "events_p19_s02 = pd.read_csv(url_events_p19_s02, sep=\"\\t\")\n"
      ],
      "execution_count": null,
      "outputs": []
    },
    {
      "cell_type": "markdown",
      "metadata": {
        "id": "9iu4pCyqKL5z"
      },
      "source": [
        "# Participant #20\n",
        "Number of sections: 2"
      ]
    },
    {
      "cell_type": "code",
      "metadata": {
        "colab": {
          "base_uri": "https://localhost:8080/",
          "height": 80
        },
        "id": "qhKxrEplewtN",
        "outputId": "c7e22246-7d40-4c60-c9b8-a30a73471bb8"
      },
      "source": [
        "# Participant data\n",
        "p20 = participants[participants['participant_id'] == 'sub-020']\n",
        "p20.head()"
      ],
      "execution_count": 105,
      "outputs": [
        {
          "output_type": "execute_result",
          "data": {
            "text/html": [
              "<div>\n",
              "<style scoped>\n",
              "    .dataframe tbody tr th:only-of-type {\n",
              "        vertical-align: middle;\n",
              "    }\n",
              "\n",
              "    .dataframe tbody tr th {\n",
              "        vertical-align: top;\n",
              "    }\n",
              "\n",
              "    .dataframe thead th {\n",
              "        text-align: right;\n",
              "    }\n",
              "</style>\n",
              "<table border=\"1\" class=\"dataframe\">\n",
              "  <thead>\n",
              "    <tr style=\"text-align: right;\">\n",
              "      <th></th>\n",
              "      <th>participant_id</th>\n",
              "      <th>Original_ID</th>\n",
              "      <th>Group</th>\n",
              "      <th>sess1_Med</th>\n",
              "      <th>sess2_Med</th>\n",
              "      <th>sex</th>\n",
              "      <th>age</th>\n",
              "    </tr>\n",
              "  </thead>\n",
              "  <tbody>\n",
              "    <tr>\n",
              "      <th>19</th>\n",
              "      <td>sub-020</td>\n",
              "      <td>818</td>\n",
              "      <td>PD</td>\n",
              "      <td>ON</td>\n",
              "      <td>OFF</td>\n",
              "      <td>Female</td>\n",
              "      <td>74</td>\n",
              "    </tr>\n",
              "  </tbody>\n",
              "</table>\n",
              "</div>"
            ],
            "text/plain": [
              "   participant_id  Original_ID Group sess1_Med sess2_Med     sex  age\n",
              "19        sub-020          818    PD        ON       OFF  Female   74"
            ]
          },
          "metadata": {
            "tags": []
          },
          "execution_count": 105
        }
      ]
    },
    {
      "cell_type": "code",
      "metadata": {
        "id": "cUe6VtFrKL50"
      },
      "source": [
        "# Section 1\n",
        "url_channels_p20_s01 = commom_path + \"sub-020/ses-01/eeg/sub-020_ses-01_task-SimonConflict_channels.tsv\"\n",
        "url_eletrodes_p20_s01 = commom_path + \"sub-020/ses-01/eeg/sub-020_ses-01_task-SimonConflict_electrodes.tsv\"\n",
        "url_events_p20_s01 = commom_path + \"sub-020/ses-01/eeg/sub-020_ses-01_task-SimonConflict_events.tsv\"\n",
        "\n",
        "channels_p20_s01 = pd.read_csv(url_channels_p20_s01, sep=\"\\t\")\n",
        "eletrodes_p20_s01 = pd.read_csv(url_eletrodes_p20_s01, sep=\"\\t\")\n",
        "events_p20_s01 = pd.read_csv(url_events_p20_s01, sep=\"\\t\")"
      ],
      "execution_count": null,
      "outputs": []
    },
    {
      "cell_type": "code",
      "metadata": {
        "id": "3WOcyPvZKL50"
      },
      "source": [
        "# Section 2\n",
        "url_channels_p20_s02 = commom_path + \"sub-020/ses-02/eeg/sub-020_ses-02_task-SimonConflict_channels.tsv\"\n",
        "url_eletrodes_p20_s02 = commom_path + \"sub-020/ses-02/eeg/sub-020_ses-02_task-SimonConflict_electrodes.tsv\"\n",
        "url_events_p20_s02 = commom_path + \"sub-020/ses-02/eeg/sub-020_ses-02_task-SimonConflict_events.tsv\"\n",
        "\n",
        "channels_p20_s02 = pd.read_csv(url_channels_p20_s02, sep=\"\\t\")\n",
        "eletrodes_p20_s02 = pd.read_csv(url_channels_p20_s02, sep=\"\\t\")\n",
        "events_p20_s02 = pd.read_csv(url_events_p20_s02, sep=\"\\t\")\n"
      ],
      "execution_count": null,
      "outputs": []
    },
    {
      "cell_type": "markdown",
      "metadata": {
        "id": "8UDtNJRhKMEd"
      },
      "source": [
        "# Participant #21\n",
        "Number of sections: 2"
      ]
    },
    {
      "cell_type": "code",
      "metadata": {
        "colab": {
          "base_uri": "https://localhost:8080/",
          "height": 80
        },
        "id": "SYyvC0HFexLm",
        "outputId": "bdb0438b-0e40-4565-dfe5-f000bcd7ee3c"
      },
      "source": [
        "# Participant data\n",
        "p21 = participants[participants['participant_id'] == 'sub-021']\n",
        "p21.head()"
      ],
      "execution_count": 106,
      "outputs": [
        {
          "output_type": "execute_result",
          "data": {
            "text/html": [
              "<div>\n",
              "<style scoped>\n",
              "    .dataframe tbody tr th:only-of-type {\n",
              "        vertical-align: middle;\n",
              "    }\n",
              "\n",
              "    .dataframe tbody tr th {\n",
              "        vertical-align: top;\n",
              "    }\n",
              "\n",
              "    .dataframe thead th {\n",
              "        text-align: right;\n",
              "    }\n",
              "</style>\n",
              "<table border=\"1\" class=\"dataframe\">\n",
              "  <thead>\n",
              "    <tr style=\"text-align: right;\">\n",
              "      <th></th>\n",
              "      <th>participant_id</th>\n",
              "      <th>Original_ID</th>\n",
              "      <th>Group</th>\n",
              "      <th>sess1_Med</th>\n",
              "      <th>sess2_Med</th>\n",
              "      <th>sex</th>\n",
              "      <th>age</th>\n",
              "    </tr>\n",
              "  </thead>\n",
              "  <tbody>\n",
              "    <tr>\n",
              "      <th>20</th>\n",
              "      <td>sub-021</td>\n",
              "      <td>819</td>\n",
              "      <td>PD</td>\n",
              "      <td>OFF</td>\n",
              "      <td>ON</td>\n",
              "      <td>Male</td>\n",
              "      <td>76</td>\n",
              "    </tr>\n",
              "  </tbody>\n",
              "</table>\n",
              "</div>"
            ],
            "text/plain": [
              "   participant_id  Original_ID Group sess1_Med sess2_Med   sex  age\n",
              "20        sub-021          819    PD       OFF        ON  Male   76"
            ]
          },
          "metadata": {
            "tags": []
          },
          "execution_count": 106
        }
      ]
    },
    {
      "cell_type": "code",
      "metadata": {
        "id": "Jxji1BKaKMEf"
      },
      "source": [
        "# Section 1\n",
        "url_channels_p21_s01 = commom_path + \"sub-021/ses-01/eeg/sub-021_ses-01_task-SimonConflict_channels.tsv\"\n",
        "url_eletrodes_p21_s01 = commom_path + \"sub-021/ses-01/eeg/sub-021_ses-01_task-SimonConflict_electrodes.tsv\"\n",
        "url_events_p21_s01 = commom_path + \"sub-021/ses-01/eeg/sub-021_ses-01_task-SimonConflict_events.tsv\"\n",
        "\n",
        "channels_p21_s01 = pd.read_csv(url_channels_p21_s01, sep=\"\\t\")\n",
        "eletrodes_p21_s01 = pd.read_csv(url_eletrodes_p21_s01, sep=\"\\t\")\n",
        "events_p21_s01 = pd.read_csv(url_events_p21_s01, sep=\"\\t\")"
      ],
      "execution_count": null,
      "outputs": []
    },
    {
      "cell_type": "code",
      "metadata": {
        "id": "3-S-I9QlKMEf"
      },
      "source": [
        "# Section 2\n",
        "url_channels_p21_s02 = commom_path + \"sub-021/ses-02/eeg/sub-021_ses-02_task-SimonConflict_channels.tsv\"\n",
        "url_eletrodes_p21_s02 = commom_path + \"sub-021/ses-02/eeg/sub-021_ses-02_task-SimonConflict_electrodes.tsv\"\n",
        "url_events_p21_s02 = commom_path + \"sub-021/ses-02/eeg/sub-021_ses-02_task-SimonConflict_events.tsv\"\n",
        "\n",
        "channels_p2_s02 = pd.read_csv(url_channels_p21_s02, sep=\"\\t\")\n",
        "eletrodes_p2_s02 = pd.read_csv(url_eletrodes_p21_s02, sep=\"\\t\")\n",
        "events_p2_s02 = pd.read_csv(url_events_p21_s02, sep=\"\\t\")\n"
      ],
      "execution_count": null,
      "outputs": []
    },
    {
      "cell_type": "markdown",
      "metadata": {
        "id": "0vnzsEQqKMQl"
      },
      "source": [
        "# Participant #22\n",
        "Number of sections: 2"
      ]
    },
    {
      "cell_type": "code",
      "metadata": {
        "colab": {
          "base_uri": "https://localhost:8080/",
          "height": 80
        },
        "id": "Vp5ViUnyexp8",
        "outputId": "eba9214f-8f9f-40df-f61d-7f687725e479"
      },
      "source": [
        "# Participant data\n",
        "p22 = participants[participants['participant_id'] == 'sub-022']\n",
        "p22.head()"
      ],
      "execution_count": 107,
      "outputs": [
        {
          "output_type": "execute_result",
          "data": {
            "text/html": [
              "<div>\n",
              "<style scoped>\n",
              "    .dataframe tbody tr th:only-of-type {\n",
              "        vertical-align: middle;\n",
              "    }\n",
              "\n",
              "    .dataframe tbody tr th {\n",
              "        vertical-align: top;\n",
              "    }\n",
              "\n",
              "    .dataframe thead th {\n",
              "        text-align: right;\n",
              "    }\n",
              "</style>\n",
              "<table border=\"1\" class=\"dataframe\">\n",
              "  <thead>\n",
              "    <tr style=\"text-align: right;\">\n",
              "      <th></th>\n",
              "      <th>participant_id</th>\n",
              "      <th>Original_ID</th>\n",
              "      <th>Group</th>\n",
              "      <th>sess1_Med</th>\n",
              "      <th>sess2_Med</th>\n",
              "      <th>sex</th>\n",
              "      <th>age</th>\n",
              "    </tr>\n",
              "  </thead>\n",
              "  <tbody>\n",
              "    <tr>\n",
              "      <th>21</th>\n",
              "      <td>sub-022</td>\n",
              "      <td>820</td>\n",
              "      <td>PD</td>\n",
              "      <td>ON</td>\n",
              "      <td>OFF</td>\n",
              "      <td>Male</td>\n",
              "      <td>72</td>\n",
              "    </tr>\n",
              "  </tbody>\n",
              "</table>\n",
              "</div>"
            ],
            "text/plain": [
              "   participant_id  Original_ID Group sess1_Med sess2_Med   sex  age\n",
              "21        sub-022          820    PD        ON       OFF  Male   72"
            ]
          },
          "metadata": {
            "tags": []
          },
          "execution_count": 107
        }
      ]
    },
    {
      "cell_type": "code",
      "metadata": {
        "id": "6yOU3tvmKMQl"
      },
      "source": [
        "# Section 1\n",
        "url_channels_p22_s01 = commom_path + \"sub-022/ses-01/eeg/sub-022_ses-01_task-SimonConflict_channels.tsv\"\n",
        "url_eletrodes_p22_s01 = commom_path + \"sub-022/ses-01/eeg/sub-022_ses-01_task-SimonConflict_electrodes.tsv\"\n",
        "url_events_p22_s01 = commom_path + \"sub-022/ses-01/eeg/sub-022_ses-01_task-SimonConflict_events.tsv\"\n",
        "\n",
        "channels_p22_s01 = pd.read_csv(url_channels_p22_s01, sep=\"\\t\")\n",
        "eletrodes_p22_s01 = pd.read_csv(url_eletrodes_p22_s01, sep=\"\\t\")\n",
        "events_p22_s01 = pd.read_csv(url_events_p22_s01, sep=\"\\t\")"
      ],
      "execution_count": null,
      "outputs": []
    },
    {
      "cell_type": "code",
      "metadata": {
        "id": "X_W_lsx_KMQl"
      },
      "source": [
        "# Section 2\n",
        "url_channels_p22_s02 = commom_path + \"sub-022/ses-02/eeg/sub-022_ses-02_task-SimonConflict_channels.tsv\"\n",
        "url_eletrodes_p22_s02 = commom_path + \"sub-022/ses-02/eeg/sub-022_ses-02_task-SimonConflict_electrodes.tsv\"\n",
        "url_events_p22_s02 = commom_path + \"sub-022/ses-02/eeg/sub-022_ses-02_task-SimonConflict_events.tsv\"\n",
        "\n",
        "channels_p22_s02 = pd.read_csv(url_channels_p22_s02, sep=\"\\t\")\n",
        "eletrodes_p22_s02 = pd.read_csv(url_eletrodes_p22_s02, sep=\"\\t\")\n",
        "events_p22_s02 = pd.read_csv(url_events_p22_s02, sep=\"\\t\")\n"
      ],
      "execution_count": null,
      "outputs": []
    },
    {
      "cell_type": "markdown",
      "metadata": {
        "id": "gimVEmyoKMag"
      },
      "source": [
        "# Participant #23\n",
        "Number of sections: 2"
      ]
    },
    {
      "cell_type": "code",
      "metadata": {
        "colab": {
          "base_uri": "https://localhost:8080/",
          "height": 80
        },
        "id": "B74d6IlceyQZ",
        "outputId": "0bbdf012-cd0d-4e55-8354-3acf9702ea5e"
      },
      "source": [
        "# Participant data\n",
        "p23 = participants[participants['participant_id'] == 'sub-023']\n",
        "p23.head()"
      ],
      "execution_count": 108,
      "outputs": [
        {
          "output_type": "execute_result",
          "data": {
            "text/html": [
              "<div>\n",
              "<style scoped>\n",
              "    .dataframe tbody tr th:only-of-type {\n",
              "        vertical-align: middle;\n",
              "    }\n",
              "\n",
              "    .dataframe tbody tr th {\n",
              "        vertical-align: top;\n",
              "    }\n",
              "\n",
              "    .dataframe thead th {\n",
              "        text-align: right;\n",
              "    }\n",
              "</style>\n",
              "<table border=\"1\" class=\"dataframe\">\n",
              "  <thead>\n",
              "    <tr style=\"text-align: right;\">\n",
              "      <th></th>\n",
              "      <th>participant_id</th>\n",
              "      <th>Original_ID</th>\n",
              "      <th>Group</th>\n",
              "      <th>sess1_Med</th>\n",
              "      <th>sess2_Med</th>\n",
              "      <th>sex</th>\n",
              "      <th>age</th>\n",
              "    </tr>\n",
              "  </thead>\n",
              "  <tbody>\n",
              "    <tr>\n",
              "      <th>22</th>\n",
              "      <td>sub-023</td>\n",
              "      <td>821</td>\n",
              "      <td>PD</td>\n",
              "      <td>ON</td>\n",
              "      <td>OFF</td>\n",
              "      <td>Female</td>\n",
              "      <td>49</td>\n",
              "    </tr>\n",
              "  </tbody>\n",
              "</table>\n",
              "</div>"
            ],
            "text/plain": [
              "   participant_id  Original_ID Group sess1_Med sess2_Med     sex  age\n",
              "22        sub-023          821    PD        ON       OFF  Female   49"
            ]
          },
          "metadata": {
            "tags": []
          },
          "execution_count": 108
        }
      ]
    },
    {
      "cell_type": "code",
      "metadata": {
        "id": "Q0d_Yhi6KMai"
      },
      "source": [
        "# Section 1\n",
        "url_channels_p23_s01 = commom_path + \"sub-023/ses-01/eeg/sub-023_ses-01_task-SimonConflict_channels.tsv\"\n",
        "url_eletrodes_p23_s01 = commom_path + \"sub-023/ses-01/eeg/sub-023_ses-01_task-SimonConflict_electrodes.tsv\"\n",
        "url_events_p23_s01 = commom_path + \"sub-023/ses-01/eeg/sub-023_ses-01_task-SimonConflict_events.tsv\"\n",
        "\n",
        "channels_p23_s01 = pd.read_csv(url_channels_p23_s01, sep=\"\\t\")\n",
        "eletrodes_p23_s01 = pd.read_csv(url_eletrodes_p23_s01, sep=\"\\t\")\n",
        "events_p23_s01 = pd.read_csv(url_events_p23_s01, sep=\"\\t\")"
      ],
      "execution_count": null,
      "outputs": []
    },
    {
      "cell_type": "code",
      "metadata": {
        "id": "DgKRW232KMaj"
      },
      "source": [
        "# Section 2\n",
        "url_channels_p23_s02 = commom_path + \"sub-023/ses-02/eeg/sub-023_ses-02_task-SimonConflict_channels.tsv\"\n",
        "url_eletrodes_p23_s02 = commom_path + \"sub-023/ses-02/eeg/sub-023_ses-02_task-SimonConflict_electrodes.tsv\"\n",
        "url_events_p23_s02 = commom_path + \"sub-023/ses-02/eeg/sub-023_ses-02_task-SimonConflict_events.tsv\"\n",
        "\n",
        "channels_p23_s02 = pd.read_csv(url_channels_p23_s02, sep=\"\\t\")\n",
        "eletrodes_p23_s02 = pd.read_csv(url_eletrodes_p23_s02, sep=\"\\t\")\n",
        "events_p23_s02 = pd.read_csv(url_events_p23_s02, sep=\"\\t\")\n"
      ],
      "execution_count": null,
      "outputs": []
    },
    {
      "cell_type": "markdown",
      "metadata": {
        "id": "Hoxx2vzlKMmu"
      },
      "source": [
        "# Participant #24\n",
        "Number of sections: 2"
      ]
    },
    {
      "cell_type": "code",
      "metadata": {
        "colab": {
          "base_uri": "https://localhost:8080/",
          "height": 80
        },
        "id": "T3t5vPUReyu3",
        "outputId": "10f1f9a1-d93f-4b4b-e7cc-579e403ec370"
      },
      "source": [
        "# Participant data\n",
        "p24 = participants[participants['participant_id'] == 'sub-024']\n",
        "p24.head()"
      ],
      "execution_count": 109,
      "outputs": [
        {
          "output_type": "execute_result",
          "data": {
            "text/html": [
              "<div>\n",
              "<style scoped>\n",
              "    .dataframe tbody tr th:only-of-type {\n",
              "        vertical-align: middle;\n",
              "    }\n",
              "\n",
              "    .dataframe tbody tr th {\n",
              "        vertical-align: top;\n",
              "    }\n",
              "\n",
              "    .dataframe thead th {\n",
              "        text-align: right;\n",
              "    }\n",
              "</style>\n",
              "<table border=\"1\" class=\"dataframe\">\n",
              "  <thead>\n",
              "    <tr style=\"text-align: right;\">\n",
              "      <th></th>\n",
              "      <th>participant_id</th>\n",
              "      <th>Original_ID</th>\n",
              "      <th>Group</th>\n",
              "      <th>sess1_Med</th>\n",
              "      <th>sess2_Med</th>\n",
              "      <th>sex</th>\n",
              "      <th>age</th>\n",
              "    </tr>\n",
              "  </thead>\n",
              "  <tbody>\n",
              "    <tr>\n",
              "      <th>23</th>\n",
              "      <td>sub-024</td>\n",
              "      <td>822</td>\n",
              "      <td>PD</td>\n",
              "      <td>ON</td>\n",
              "      <td>OFF</td>\n",
              "      <td>Male</td>\n",
              "      <td>70</td>\n",
              "    </tr>\n",
              "  </tbody>\n",
              "</table>\n",
              "</div>"
            ],
            "text/plain": [
              "   participant_id  Original_ID Group sess1_Med sess2_Med   sex  age\n",
              "23        sub-024          822    PD        ON       OFF  Male   70"
            ]
          },
          "metadata": {
            "tags": []
          },
          "execution_count": 109
        }
      ]
    },
    {
      "cell_type": "code",
      "metadata": {
        "id": "g494BZHlKMmv"
      },
      "source": [
        "# Section 1\n",
        "url_channels_p24_s01 = commom_path + \"sub-024/ses-01/eeg/sub-024_ses-01_task-SimonConflict_channels.tsv\"\n",
        "url_eletrodes_p24_s01 = commom_path + \"sub-024/ses-01/eeg/sub-024_ses-01_task-SimonConflict_electrodes.tsv\"\n",
        "url_events_p24_s01 = commom_path + \"sub-024/ses-01/eeg/sub-024_ses-01_task-SimonConflict_events.tsv\"\n",
        "\n",
        "channels_p24_s01 = pd.read_csv(url_channels_p24_s01, sep=\"\\t\")\n",
        "eletrodes_p24_s01 = pd.read_csv(url_eletrodes_p24_s01, sep=\"\\t\")\n",
        "events_p24_s01 = pd.read_csv(url_events_p24_s01, sep=\"\\t\")"
      ],
      "execution_count": null,
      "outputs": []
    },
    {
      "cell_type": "code",
      "metadata": {
        "id": "WECDH2l-KMmw"
      },
      "source": [
        "# Section 2\n",
        "url_channels_p24_s02 = commom_path + \"sub-024/ses-02/eeg/sub-024_ses-02_task-SimonConflict_channels.tsv\"\n",
        "url_eletrodes_p24_s02 = commom_path + \"sub-024/ses-02/eeg/sub-024_ses-02_task-SimonConflict_electrodes.tsv\"\n",
        "url_events_p24_s02 = commom_path + \"sub-024/ses-02/eeg/sub-024_ses-02_task-SimonConflict_events.tsv\"\n",
        "\n",
        "channels_p24_s02 = pd.read_csv(url_channels_p24_s02, sep=\"\\t\")\n",
        "eletrodes_p24_s02 = pd.read_csv(url_eletrodes_p24_s02, sep=\"\\t\")\n",
        "events_p24_s02 = pd.read_csv(url_events_p24_s02, sep=\"\\t\")\n"
      ],
      "execution_count": null,
      "outputs": []
    },
    {
      "cell_type": "markdown",
      "metadata": {
        "id": "Woxst48wKMxj"
      },
      "source": [
        "# Participant #25\n",
        "Number of sections: 2"
      ]
    },
    {
      "cell_type": "code",
      "metadata": {
        "colab": {
          "base_uri": "https://localhost:8080/",
          "height": 80
        },
        "id": "d7V9byV4ezIM",
        "outputId": "6891ffeb-9137-49cd-a958-a28ec5812ece"
      },
      "source": [
        "# Participant data\n",
        "p25 = participants[participants['participant_id'] == 'sub-025']\n",
        "p25.head()"
      ],
      "execution_count": 110,
      "outputs": [
        {
          "output_type": "execute_result",
          "data": {
            "text/html": [
              "<div>\n",
              "<style scoped>\n",
              "    .dataframe tbody tr th:only-of-type {\n",
              "        vertical-align: middle;\n",
              "    }\n",
              "\n",
              "    .dataframe tbody tr th {\n",
              "        vertical-align: top;\n",
              "    }\n",
              "\n",
              "    .dataframe thead th {\n",
              "        text-align: right;\n",
              "    }\n",
              "</style>\n",
              "<table border=\"1\" class=\"dataframe\">\n",
              "  <thead>\n",
              "    <tr style=\"text-align: right;\">\n",
              "      <th></th>\n",
              "      <th>participant_id</th>\n",
              "      <th>Original_ID</th>\n",
              "      <th>Group</th>\n",
              "      <th>sess1_Med</th>\n",
              "      <th>sess2_Med</th>\n",
              "      <th>sex</th>\n",
              "      <th>age</th>\n",
              "    </tr>\n",
              "  </thead>\n",
              "  <tbody>\n",
              "    <tr>\n",
              "      <th>24</th>\n",
              "      <td>sub-025</td>\n",
              "      <td>823</td>\n",
              "      <td>PD</td>\n",
              "      <td>OFF</td>\n",
              "      <td>ON</td>\n",
              "      <td>Female</td>\n",
              "      <td>64</td>\n",
              "    </tr>\n",
              "  </tbody>\n",
              "</table>\n",
              "</div>"
            ],
            "text/plain": [
              "   participant_id  Original_ID Group sess1_Med sess2_Med     sex  age\n",
              "24        sub-025          823    PD       OFF        ON  Female   64"
            ]
          },
          "metadata": {
            "tags": []
          },
          "execution_count": 110
        }
      ]
    },
    {
      "cell_type": "code",
      "metadata": {
        "id": "eDOs47f4KMxk"
      },
      "source": [
        "# Section 1\n",
        "url_channels_p25_s01 = commom_path + \"sub-025/ses-01/eeg/sub-025_ses-01_task-SimonConflict_channels.tsv\"\n",
        "url_eletrodes_p25_s01 = commom_path + \"sub-025/ses-01/eeg/sub-025_ses-01_task-SimonConflict_electrodes.tsv\"\n",
        "url_events_p25_s01 = commom_path + \"sub-025/ses-01/eeg/sub-025_ses-01_task-SimonConflict_events.tsv\"\n",
        "\n",
        "channels_p25_s01 = pd.read_csv(url_channels_p25_s01, sep=\"\\t\")\n",
        "eletrodes_p25_s01 = pd.read_csv(url_eletrodes_p25_s01, sep=\"\\t\")\n",
        "events_p25_s01 = pd.read_csv(url_events_p25_s01, sep=\"\\t\")"
      ],
      "execution_count": null,
      "outputs": []
    },
    {
      "cell_type": "code",
      "metadata": {
        "id": "rdq_OnU0KMxl"
      },
      "source": [
        "# Section 2\n",
        "url_channels_p25_s02 = commom_path + \"sub-025/ses-02/eeg/sub-025_ses-02_task-SimonConflict_channels.tsv\"\n",
        "url_eletrodes_p25_s02 = commom_path + \"sub-025/ses-02/eeg/sub-025_ses-02_task-SimonConflict_electrodes.tsv\"\n",
        "url_events_p25_s02 = commom_path + \"sub-025/ses-02/eeg/sub-025_ses-02_task-SimonConflict_events.tsv\"\n",
        "\n",
        "channels_p25_s02 = pd.read_csv(url_channels_p25_s02, sep=\"\\t\")\n",
        "eletrodes_p25_s02 = pd.read_csv(url_eletrodes_p25_s02, sep=\"\\t\")\n",
        "events_p25_s02 = pd.read_csv(url_events_p25_s02, sep=\"\\t\")\n"
      ],
      "execution_count": null,
      "outputs": []
    },
    {
      "cell_type": "markdown",
      "metadata": {
        "id": "MgUKO8CiKM8C"
      },
      "source": [
        "# Participant #26\n",
        "Number of sections: 2"
      ]
    },
    {
      "cell_type": "code",
      "metadata": {
        "colab": {
          "base_uri": "https://localhost:8080/",
          "height": 80
        },
        "id": "7elb_d3eezpW",
        "outputId": "025c69e9-8f1d-4791-80aa-8a316b3401f6"
      },
      "source": [
        "# Participant data\n",
        "p26 = participants[participants['participant_id'] == 'sub-026']\n",
        "p26.head()"
      ],
      "execution_count": 111,
      "outputs": [
        {
          "output_type": "execute_result",
          "data": {
            "text/html": [
              "<div>\n",
              "<style scoped>\n",
              "    .dataframe tbody tr th:only-of-type {\n",
              "        vertical-align: middle;\n",
              "    }\n",
              "\n",
              "    .dataframe tbody tr th {\n",
              "        vertical-align: top;\n",
              "    }\n",
              "\n",
              "    .dataframe thead th {\n",
              "        text-align: right;\n",
              "    }\n",
              "</style>\n",
              "<table border=\"1\" class=\"dataframe\">\n",
              "  <thead>\n",
              "    <tr style=\"text-align: right;\">\n",
              "      <th></th>\n",
              "      <th>participant_id</th>\n",
              "      <th>Original_ID</th>\n",
              "      <th>Group</th>\n",
              "      <th>sess1_Med</th>\n",
              "      <th>sess2_Med</th>\n",
              "      <th>sex</th>\n",
              "      <th>age</th>\n",
              "    </tr>\n",
              "  </thead>\n",
              "  <tbody>\n",
              "    <tr>\n",
              "      <th>25</th>\n",
              "      <td>sub-026</td>\n",
              "      <td>824</td>\n",
              "      <td>PD</td>\n",
              "      <td>OFF</td>\n",
              "      <td>ON</td>\n",
              "      <td>Male</td>\n",
              "      <td>78</td>\n",
              "    </tr>\n",
              "  </tbody>\n",
              "</table>\n",
              "</div>"
            ],
            "text/plain": [
              "   participant_id  Original_ID Group sess1_Med sess2_Med   sex  age\n",
              "25        sub-026          824    PD       OFF        ON  Male   78"
            ]
          },
          "metadata": {
            "tags": []
          },
          "execution_count": 111
        }
      ]
    },
    {
      "cell_type": "code",
      "metadata": {
        "id": "6XI9DAEuKM8D"
      },
      "source": [
        "# Section 1\n",
        "url_channels_p26_s01 = commom_path + \"sub-026/ses-01/eeg/sub-026_ses-01_task-SimonConflict_channels.tsv\"\n",
        "url_eletrodes_p26_s01 = commom_path + \"sub-026/ses-01/eeg/sub-026_ses-01_task-SimonConflict_electrodes.tsv\"\n",
        "url_events_p26_s01 = commom_path + \"sub-026/ses-01/eeg/sub-026_ses-01_task-SimonConflict_events.tsv\"\n",
        "\n",
        "channels_p26_s01 = pd.read_csv(url_channels_p26_s01, sep=\"\\t\")\n",
        "eletrodes_p26_s01 = pd.read_csv(url_eletrodes_p26_s01, sep=\"\\t\")\n",
        "events_p26_s01 = pd.read_csv(url_events_p26_s01, sep=\"\\t\")"
      ],
      "execution_count": null,
      "outputs": []
    },
    {
      "cell_type": "code",
      "metadata": {
        "id": "0wndr2ycKM8E"
      },
      "source": [
        "# Section 2\n",
        "url_channels_p26_s02 = commom_path + \"sub-026/ses-02/eeg/sub-026_ses-02_task-SimonConflict_channels.tsv\"\n",
        "url_eletrodes_p26_s02 = commom_path + \"sub-026/ses-02/eeg/sub-026_ses-02_task-SimonConflict_electrodes.tsv\"\n",
        "url_events_p26_s02 = commom_path + \"sub-026/ses-02/eeg/sub-026_ses-02_task-SimonConflict_events.tsv\"\n",
        "\n",
        "channels_p26_s02 = pd.read_csv(url_channels_p26_s02, sep=\"\\t\")\n",
        "eletrodes_p26_s02 = pd.read_csv(url_eletrodes_p26_s02, sep=\"\\t\")\n",
        "events_p26_s02 = pd.read_csv(url_events_p26_s02, sep=\"\\t\")\n"
      ],
      "execution_count": null,
      "outputs": []
    },
    {
      "cell_type": "markdown",
      "metadata": {
        "id": "biTMU42MKNJM"
      },
      "source": [
        "# Participant #27\n",
        "Number of sections: 2"
      ]
    },
    {
      "cell_type": "code",
      "metadata": {
        "colab": {
          "base_uri": "https://localhost:8080/",
          "height": 80
        },
        "id": "YMbrotJoe0Nk",
        "outputId": "5c4079da-9b6a-42f6-cf89-ecf28c9946aa"
      },
      "source": [
        "# Participant data\n",
        "p27 = participants[participants['participant_id'] == 'sub-027']\n",
        "p27.head()"
      ],
      "execution_count": 112,
      "outputs": [
        {
          "output_type": "execute_result",
          "data": {
            "text/html": [
              "<div>\n",
              "<style scoped>\n",
              "    .dataframe tbody tr th:only-of-type {\n",
              "        vertical-align: middle;\n",
              "    }\n",
              "\n",
              "    .dataframe tbody tr th {\n",
              "        vertical-align: top;\n",
              "    }\n",
              "\n",
              "    .dataframe thead th {\n",
              "        text-align: right;\n",
              "    }\n",
              "</style>\n",
              "<table border=\"1\" class=\"dataframe\">\n",
              "  <thead>\n",
              "    <tr style=\"text-align: right;\">\n",
              "      <th></th>\n",
              "      <th>participant_id</th>\n",
              "      <th>Original_ID</th>\n",
              "      <th>Group</th>\n",
              "      <th>sess1_Med</th>\n",
              "      <th>sess2_Med</th>\n",
              "      <th>sex</th>\n",
              "      <th>age</th>\n",
              "    </tr>\n",
              "  </thead>\n",
              "  <tbody>\n",
              "    <tr>\n",
              "      <th>26</th>\n",
              "      <td>sub-027</td>\n",
              "      <td>825</td>\n",
              "      <td>PD</td>\n",
              "      <td>ON</td>\n",
              "      <td>OFF</td>\n",
              "      <td>Female</td>\n",
              "      <td>77</td>\n",
              "    </tr>\n",
              "  </tbody>\n",
              "</table>\n",
              "</div>"
            ],
            "text/plain": [
              "   participant_id  Original_ID Group sess1_Med sess2_Med     sex  age\n",
              "26        sub-027          825    PD        ON       OFF  Female   77"
            ]
          },
          "metadata": {
            "tags": []
          },
          "execution_count": 112
        }
      ]
    },
    {
      "cell_type": "code",
      "metadata": {
        "id": "5MygrcOkKNJN"
      },
      "source": [
        "# Section 1\n",
        "url_channels_p27_s01 = commom_path + \"sub-027/ses-01/eeg/sub-027_ses-01_task-SimonConflict_channels.tsv\"\n",
        "url_eletrodes_p27_s01 = commom_path + \"sub-027/ses-01/eeg/sub-027_ses-01_task-SimonConflict_electrodes.tsv\"\n",
        "url_events_p27_s01 = commom_path + \"sub-027/ses-01/eeg/sub-027_ses-01_task-SimonConflict_events.tsv\"\n",
        "\n",
        "channels_p27_s01 = pd.read_csv(url_channels_p27_s01, sep=\"\\t\")\n",
        "eletrodes_p27_s01 = pd.read_csv(url_eletrodes_p27_s01, sep=\"\\t\")\n",
        "events_p27_s01 = pd.read_csv(url_events_p27_s01, sep=\"\\t\")"
      ],
      "execution_count": null,
      "outputs": []
    },
    {
      "cell_type": "code",
      "metadata": {
        "id": "-cct8GuJKNJO"
      },
      "source": [
        "# Section 2\n",
        "url_channels_p27_s02 = commom_path + \"sub-027/ses-02/eeg/sub-027_ses-02_task-SimonConflict_channels.tsv\"\n",
        "url_eletrodes_p27_s02 = commom_path + \"sub-027/ses-02/eeg/sub-027_ses-02_task-SimonConflict_electrodes.tsv\"\n",
        "url_events_p27_s02 = commom_path + \"sub-027/ses-02/eeg/sub-027_ses-02_task-SimonConflict_events.tsv\"\n",
        "\n",
        "channels_p27_s02 = pd.read_csv(url_channels_p27_s02, sep=\"\\t\")\n",
        "eletrodes_p27_s02 = pd.read_csv(url_eletrodes_p27_s02, sep=\"\\t\")\n",
        "events_p27_s02 = pd.read_csv(url_events_p27_s02, sep=\"\\t\")\n"
      ],
      "execution_count": null,
      "outputs": []
    },
    {
      "cell_type": "markdown",
      "metadata": {
        "id": "XNbXjWuVKNTo"
      },
      "source": [
        "# Participant #28\n",
        "Number of sections: 2"
      ]
    },
    {
      "cell_type": "code",
      "metadata": {
        "colab": {
          "base_uri": "https://localhost:8080/",
          "height": 80
        },
        "id": "ikO1yEKAe0x8",
        "outputId": "16b498f2-6a47-44da-e503-8d36d1d014ce"
      },
      "source": [
        "# Participant data\n",
        "p28 = participants[participants['participant_id'] == 'sub-028']\n",
        "p28.head()"
      ],
      "execution_count": 113,
      "outputs": [
        {
          "output_type": "execute_result",
          "data": {
            "text/html": [
              "<div>\n",
              "<style scoped>\n",
              "    .dataframe tbody tr th:only-of-type {\n",
              "        vertical-align: middle;\n",
              "    }\n",
              "\n",
              "    .dataframe tbody tr th {\n",
              "        vertical-align: top;\n",
              "    }\n",
              "\n",
              "    .dataframe thead th {\n",
              "        text-align: right;\n",
              "    }\n",
              "</style>\n",
              "<table border=\"1\" class=\"dataframe\">\n",
              "  <thead>\n",
              "    <tr style=\"text-align: right;\">\n",
              "      <th></th>\n",
              "      <th>participant_id</th>\n",
              "      <th>Original_ID</th>\n",
              "      <th>Group</th>\n",
              "      <th>sess1_Med</th>\n",
              "      <th>sess2_Med</th>\n",
              "      <th>sex</th>\n",
              "      <th>age</th>\n",
              "    </tr>\n",
              "  </thead>\n",
              "  <tbody>\n",
              "    <tr>\n",
              "      <th>27</th>\n",
              "      <td>sub-028</td>\n",
              "      <td>826</td>\n",
              "      <td>PD</td>\n",
              "      <td>ON</td>\n",
              "      <td>OFF</td>\n",
              "      <td>Male</td>\n",
              "      <td>66</td>\n",
              "    </tr>\n",
              "  </tbody>\n",
              "</table>\n",
              "</div>"
            ],
            "text/plain": [
              "   participant_id  Original_ID Group sess1_Med sess2_Med   sex  age\n",
              "27        sub-028          826    PD        ON       OFF  Male   66"
            ]
          },
          "metadata": {
            "tags": []
          },
          "execution_count": 113
        }
      ]
    },
    {
      "cell_type": "code",
      "metadata": {
        "id": "0oJLEvplKNTq"
      },
      "source": [
        "# Section 1\n",
        "url_channels_p28_s01 = commom_path + \"sub-028/ses-01/eeg/sub-028_ses-01_task-SimonConflict_channels.tsv\"\n",
        "url_eletrodes_p28_s01 = commom_path + \"sub-028/ses-01/eeg/sub-028_ses-01_task-SimonConflict_electrodes.tsv\"\n",
        "url_events_p28_s01 = commom_path + \"sub-028/ses-01/eeg/sub-028_ses-01_task-SimonConflict_events.tsv\"\n",
        "\n",
        "channels_p28_s01 = pd.read_csv(url_channels_p28_s01, sep=\"\\t\")\n",
        "eletrodes_p28_s01 = pd.read_csv(url_eletrodes_p28_s01, sep=\"\\t\")\n",
        "events_p28_s01 = pd.read_csv(url_events_p28_s01, sep=\"\\t\")"
      ],
      "execution_count": null,
      "outputs": []
    },
    {
      "cell_type": "code",
      "metadata": {
        "id": "AUb7REVnKNTq"
      },
      "source": [
        "# Section 2\n",
        "url_channels_p28_s02 = commom_path + \"sub-028/ses-02/eeg/sub-028_ses-02_task-SimonConflict_channels.tsv\"\n",
        "url_eletrodes_p28_s02 = commom_path + \"sub-028/ses-02/eeg/sub-028_ses-02_task-SimonConflict_electrodes.tsv\"\n",
        "url_events_p28_s02 = commom_path + \"sub-028/ses-02/eeg/sub-028_ses-02_task-SimonConflict_events.tsv\"\n",
        "\n",
        "channels_p28_s02 = pd.read_csv(url_channels_p28_s02, sep=\"\\t\")\n",
        "eletrodes_p28_s02 = pd.read_csv(url_eletrodes_p28_s02, sep=\"\\t\")\n",
        "events_p28_s02 = pd.read_csv(url_events_p28_s02, sep=\"\\t\")\n"
      ],
      "execution_count": null,
      "outputs": []
    },
    {
      "cell_type": "markdown",
      "metadata": {
        "id": "Ba7T-92tKNer"
      },
      "source": [
        "# Participant #29\n",
        "Number of sections: 2"
      ]
    },
    {
      "cell_type": "code",
      "metadata": {
        "colab": {
          "base_uri": "https://localhost:8080/",
          "height": 80
        },
        "id": "sik8avWLe1PR",
        "outputId": "06f372ec-22f4-4ebf-e01c-9f2defacc483"
      },
      "source": [
        "# Participant data\n",
        "p29 = participants[participants['participant_id'] == 'sub-029']\n",
        "p29.head()"
      ],
      "execution_count": 114,
      "outputs": [
        {
          "output_type": "execute_result",
          "data": {
            "text/html": [
              "<div>\n",
              "<style scoped>\n",
              "    .dataframe tbody tr th:only-of-type {\n",
              "        vertical-align: middle;\n",
              "    }\n",
              "\n",
              "    .dataframe tbody tr th {\n",
              "        vertical-align: top;\n",
              "    }\n",
              "\n",
              "    .dataframe thead th {\n",
              "        text-align: right;\n",
              "    }\n",
              "</style>\n",
              "<table border=\"1\" class=\"dataframe\">\n",
              "  <thead>\n",
              "    <tr style=\"text-align: right;\">\n",
              "      <th></th>\n",
              "      <th>participant_id</th>\n",
              "      <th>Original_ID</th>\n",
              "      <th>Group</th>\n",
              "      <th>sess1_Med</th>\n",
              "      <th>sess2_Med</th>\n",
              "      <th>sex</th>\n",
              "      <th>age</th>\n",
              "    </tr>\n",
              "  </thead>\n",
              "  <tbody>\n",
              "    <tr>\n",
              "      <th>28</th>\n",
              "      <td>sub-029</td>\n",
              "      <td>827</td>\n",
              "      <td>PD</td>\n",
              "      <td>OFF</td>\n",
              "      <td>ON</td>\n",
              "      <td>Male</td>\n",
              "      <td>68</td>\n",
              "    </tr>\n",
              "  </tbody>\n",
              "</table>\n",
              "</div>"
            ],
            "text/plain": [
              "   participant_id  Original_ID Group sess1_Med sess2_Med   sex  age\n",
              "28        sub-029          827    PD       OFF        ON  Male   68"
            ]
          },
          "metadata": {
            "tags": []
          },
          "execution_count": 114
        }
      ]
    },
    {
      "cell_type": "code",
      "metadata": {
        "id": "RDCngUhoKNer"
      },
      "source": [
        "# Section 1\n",
        "url_channels_p29_s01 = commom_path + \"sub-029/ses-01/eeg/sub-029_ses-01_task-SimonConflict_channels.tsv\"\n",
        "url_eletrodes_p29_s01 = commom_path + \"sub-029/ses-01/eeg/sub-029_ses-01_task-SimonConflict_electrodes.tsv\"\n",
        "url_events_p29_s01 = commom_path + \"sub-029/ses-01/eeg/sub-029_ses-01_task-SimonConflict_events.tsv\"\n",
        "\n",
        "channels_p29_s01 = pd.read_csv(url_channels_p29_s01, sep=\"\\t\")\n",
        "eletrodes_p29_s01 = pd.read_csv(url_eletrodes_p29_s01, sep=\"\\t\")\n",
        "events_p29_s01 = pd.read_csv(url_events_p29_s01, sep=\"\\t\")"
      ],
      "execution_count": null,
      "outputs": []
    },
    {
      "cell_type": "code",
      "metadata": {
        "id": "0a74drRmKNes"
      },
      "source": [
        "# Section 2\n",
        "url_channels_p29_s02 = commom_path + \"sub-029/ses-02/eeg/sub-029_ses-02_task-SimonConflict_channels.tsv\"\n",
        "url_eletrodes_p29_s02 = commom_path + \"sub-029/ses-02/eeg/sub-029_ses-02_task-SimonConflict_electrodes.tsv\"\n",
        "url_events_p29_s02 = commom_path + \"sub-029/ses-02/eeg/sub-029_ses-02_task-SimonConflict_events.tsv\"\n",
        "\n",
        "channels_p29_s02 = pd.read_csv(url_channels_p29_s02, sep=\"\\t\")\n",
        "eletrodes_p29_s02 = pd.read_csv(url_eletrodes_p29_s02, sep=\"\\t\")\n",
        "events_p29_s02 = pd.read_csv(url_events_p29_s02, sep=\"\\t\")\n"
      ],
      "execution_count": null,
      "outputs": []
    },
    {
      "cell_type": "markdown",
      "metadata": {
        "id": "pwjhyiOSKN0w"
      },
      "source": [
        "# Participant #30\n",
        "Number of sections: 2"
      ]
    },
    {
      "cell_type": "code",
      "metadata": {
        "colab": {
          "base_uri": "https://localhost:8080/",
          "height": 80
        },
        "id": "FED2EXuve1ql",
        "outputId": "b4a75df7-b711-4a68-fb64-20dc196b070d"
      },
      "source": [
        "# Participant data\n",
        "p30 = participants[participants['participant_id'] == 'sub-030']\n",
        "p30.head()"
      ],
      "execution_count": 115,
      "outputs": [
        {
          "output_type": "execute_result",
          "data": {
            "text/html": [
              "<div>\n",
              "<style scoped>\n",
              "    .dataframe tbody tr th:only-of-type {\n",
              "        vertical-align: middle;\n",
              "    }\n",
              "\n",
              "    .dataframe tbody tr th {\n",
              "        vertical-align: top;\n",
              "    }\n",
              "\n",
              "    .dataframe thead th {\n",
              "        text-align: right;\n",
              "    }\n",
              "</style>\n",
              "<table border=\"1\" class=\"dataframe\">\n",
              "  <thead>\n",
              "    <tr style=\"text-align: right;\">\n",
              "      <th></th>\n",
              "      <th>participant_id</th>\n",
              "      <th>Original_ID</th>\n",
              "      <th>Group</th>\n",
              "      <th>sess1_Med</th>\n",
              "      <th>sess2_Med</th>\n",
              "      <th>sex</th>\n",
              "      <th>age</th>\n",
              "    </tr>\n",
              "  </thead>\n",
              "  <tbody>\n",
              "    <tr>\n",
              "      <th>29</th>\n",
              "      <td>sub-030</td>\n",
              "      <td>828</td>\n",
              "      <td>PD</td>\n",
              "      <td>OFF</td>\n",
              "      <td>ON</td>\n",
              "      <td>Female</td>\n",
              "      <td>76</td>\n",
              "    </tr>\n",
              "  </tbody>\n",
              "</table>\n",
              "</div>"
            ],
            "text/plain": [
              "   participant_id  Original_ID Group sess1_Med sess2_Med     sex  age\n",
              "29        sub-030          828    PD       OFF        ON  Female   76"
            ]
          },
          "metadata": {
            "tags": []
          },
          "execution_count": 115
        }
      ]
    },
    {
      "cell_type": "code",
      "metadata": {
        "id": "mMv4MvhAKN0x"
      },
      "source": [
        "# Section 1\n",
        "url_channels_p30_s01 = commom_path + \"sub-030/ses-01/eeg/sub-030_ses-01_task-SimonConflict_channels.tsv\"\n",
        "url_eletrodes_p30_s01 = commom_path + \"sub-030/ses-01/eeg/sub-030_ses-01_task-SimonConflict_electrodes.tsv\"\n",
        "url_events_p30_s01 = commom_path + \"sub-030/ses-01/eeg/sub-030_ses-01_task-SimonConflict_events.tsv\"\n",
        "\n",
        "channels_p30_s01 = pd.read_csv(url_channels_p30_s01, sep=\"\\t\")\n",
        "eletrodes_p30_s01 = pd.read_csv(url_eletrodes_p30_s01, sep=\"\\t\")\n",
        "events_p30_s01 = pd.read_csv(url_events_p30_s01, sep=\"\\t\")"
      ],
      "execution_count": null,
      "outputs": []
    },
    {
      "cell_type": "code",
      "metadata": {
        "id": "UunfP4rkKN0x"
      },
      "source": [
        "# Section 2\n",
        "url_channels_p30_s02 = commom_path + \"sub-030/ses-02/eeg/sub-030_ses-02_task-SimonConflict_channels.tsv\"\n",
        "url_eletrodes_p30_s02 = commom_path + \"sub-030/ses-02/eeg/sub-030_ses-02_task-SimonConflict_electrodes.tsv\"\n",
        "url_events_p30_s02 = commom_path + \"sub-030/ses-02/eeg/sub-030_ses-02_task-SimonConflict_events.tsv\"\n",
        "\n",
        "channels_p30_s02 = pd.read_csv(url_channels_p30_s02, sep=\"\\t\")\n",
        "eletrodes_p30_s02 = pd.read_csv(url_eletrodes_p30_s02, sep=\"\\t\")\n",
        "events_p30_s02 = pd.read_csv(url_events_p30_s02, sep=\"\\t\")\n"
      ],
      "execution_count": null,
      "outputs": []
    },
    {
      "cell_type": "markdown",
      "metadata": {
        "id": "sA4wVH_oKOB0"
      },
      "source": [
        "# Participant #31\n",
        "Number of sections: 2"
      ]
    },
    {
      "cell_type": "code",
      "metadata": {
        "colab": {
          "base_uri": "https://localhost:8080/",
          "height": 80
        },
        "id": "VQ-ECn3ze2Kj",
        "outputId": "30aa5b16-397e-4f59-d1dd-3e6602572301"
      },
      "source": [
        "# Participant data\n",
        "p31 = participants[participants['participant_id'] == 'sub-031']\n",
        "p31.head()"
      ],
      "execution_count": 116,
      "outputs": [
        {
          "output_type": "execute_result",
          "data": {
            "text/html": [
              "<div>\n",
              "<style scoped>\n",
              "    .dataframe tbody tr th:only-of-type {\n",
              "        vertical-align: middle;\n",
              "    }\n",
              "\n",
              "    .dataframe tbody tr th {\n",
              "        vertical-align: top;\n",
              "    }\n",
              "\n",
              "    .dataframe thead th {\n",
              "        text-align: right;\n",
              "    }\n",
              "</style>\n",
              "<table border=\"1\" class=\"dataframe\">\n",
              "  <thead>\n",
              "    <tr style=\"text-align: right;\">\n",
              "      <th></th>\n",
              "      <th>participant_id</th>\n",
              "      <th>Original_ID</th>\n",
              "      <th>Group</th>\n",
              "      <th>sess1_Med</th>\n",
              "      <th>sess2_Med</th>\n",
              "      <th>sex</th>\n",
              "      <th>age</th>\n",
              "    </tr>\n",
              "  </thead>\n",
              "  <tbody>\n",
              "    <tr>\n",
              "      <th>30</th>\n",
              "      <td>sub-031</td>\n",
              "      <td>829</td>\n",
              "      <td>PD</td>\n",
              "      <td>OFF</td>\n",
              "      <td>ON</td>\n",
              "      <td>Female</td>\n",
              "      <td>73</td>\n",
              "    </tr>\n",
              "  </tbody>\n",
              "</table>\n",
              "</div>"
            ],
            "text/plain": [
              "   participant_id  Original_ID Group sess1_Med sess2_Med     sex  age\n",
              "30        sub-031          829    PD       OFF        ON  Female   73"
            ]
          },
          "metadata": {
            "tags": []
          },
          "execution_count": 116
        }
      ]
    },
    {
      "cell_type": "code",
      "metadata": {
        "id": "_bh2RjI-KOB1"
      },
      "source": [
        "# Section 1\n",
        "url_channels_p31_s01 = commom_path + \"sub-031/ses-01/eeg/sub-031_ses-01_task-SimonConflict_channels.tsv\"\n",
        "url_eletrodes_p31_s01 = commom_path + \"sub-031/ses-01/eeg/sub-031_ses-01_task-SimonConflict_electrodes.tsv\"\n",
        "url_events_p31_s01 = commom_path + \"sub-031/ses-01/eeg/sub-031_ses-01_task-SimonConflict_events.tsv\"\n",
        "\n",
        "channels_p31_s01 = pd.read_csv(url_channels_p31_s01, sep=\"\\t\")\n",
        "eletrodes_p31_s01 = pd.read_csv(url_eletrodes_p31_s01, sep=\"\\t\")\n",
        "events_p31_s01 = pd.read_csv(url_events_p31_s01, sep=\"\\t\")"
      ],
      "execution_count": null,
      "outputs": []
    },
    {
      "cell_type": "code",
      "metadata": {
        "id": "SaB6A-BNKOB2"
      },
      "source": [
        "# Section 2\n",
        "url_channels_p31_s02 = commom_path + \"sub-031/ses-02/eeg/sub-031_ses-02_task-SimonConflict_channels.tsv\"\n",
        "url_eletrodes_p31_s02 = commom_path + \"sub-031/ses-02/eeg/sub-031_ses-02_task-SimonConflict_electrodes.tsv\"\n",
        "url_events_p31_s02 = commom_path + \"sub-031/ses-02/eeg/sub-031_ses-02_task-SimonConflict_events.tsv\"\n",
        "\n",
        "channels_p31_s02 = pd.read_csv(url_channels_p31_s02, sep=\"\\t\")\n",
        "eletrodes_p31_s02 = pd.read_csv(url_eletrodes_p31_s02, sep=\"\\t\")\n",
        "events_p31_s02 = pd.read_csv(url_events_p31_s02, sep=\"\\t\")\n"
      ],
      "execution_count": null,
      "outputs": []
    },
    {
      "cell_type": "markdown",
      "metadata": {
        "id": "FU0nJa1FKOMq"
      },
      "source": [
        "# Participant #32\n",
        "Number of sections: 1"
      ]
    },
    {
      "cell_type": "code",
      "metadata": {
        "colab": {
          "base_uri": "https://localhost:8080/",
          "height": 80
        },
        "id": "mTNE1u1Oe2sO",
        "outputId": "cbbfff0b-a4fb-40aa-d860-1313d35ad918"
      },
      "source": [
        "# Participant data\n",
        "p32 = participants[participants['participant_id'] == 'sub-032']\n",
        "p32.head()"
      ],
      "execution_count": 117,
      "outputs": [
        {
          "output_type": "execute_result",
          "data": {
            "text/html": [
              "<div>\n",
              "<style scoped>\n",
              "    .dataframe tbody tr th:only-of-type {\n",
              "        vertical-align: middle;\n",
              "    }\n",
              "\n",
              "    .dataframe tbody tr th {\n",
              "        vertical-align: top;\n",
              "    }\n",
              "\n",
              "    .dataframe thead th {\n",
              "        text-align: right;\n",
              "    }\n",
              "</style>\n",
              "<table border=\"1\" class=\"dataframe\">\n",
              "  <thead>\n",
              "    <tr style=\"text-align: right;\">\n",
              "      <th></th>\n",
              "      <th>participant_id</th>\n",
              "      <th>Original_ID</th>\n",
              "      <th>Group</th>\n",
              "      <th>sess1_Med</th>\n",
              "      <th>sess2_Med</th>\n",
              "      <th>sex</th>\n",
              "      <th>age</th>\n",
              "    </tr>\n",
              "  </thead>\n",
              "  <tbody>\n",
              "    <tr>\n",
              "      <th>31</th>\n",
              "      <td>sub-032</td>\n",
              "      <td>890</td>\n",
              "      <td>CTL</td>\n",
              "      <td>NaN</td>\n",
              "      <td>no s2</td>\n",
              "      <td>Female</td>\n",
              "      <td>66</td>\n",
              "    </tr>\n",
              "  </tbody>\n",
              "</table>\n",
              "</div>"
            ],
            "text/plain": [
              "   participant_id  Original_ID Group sess1_Med sess2_Med     sex  age\n",
              "31        sub-032          890   CTL       NaN     no s2  Female   66"
            ]
          },
          "metadata": {
            "tags": []
          },
          "execution_count": 117
        }
      ]
    },
    {
      "cell_type": "code",
      "metadata": {
        "id": "4ZdFB1BpKOMr"
      },
      "source": [
        "# Section 1\n",
        "url_channels_p32_s01 = commom_path + \"sub-032/ses-01/eeg/sub-032_ses-01_task-SimonConflict_channels.tsv\"\n",
        "url_eletrodes_p32_s01 = commom_path + \"sub-032/ses-01/eeg/sub-032_ses-01_task-SimonConflict_electrodes.tsv\"\n",
        "url_events_p32_s01 = commom_path + \"sub-032/ses-01/eeg/sub-032_ses-01_task-SimonConflict_events.tsv\"\n",
        "\n",
        "channels_p32_s01 = pd.read_csv(url_channels_p32_s01, sep=\"\\t\")\n",
        "eletrodes_p32_s01 = pd.read_csv(url_eletrodes_p32_s01, sep=\"\\t\")\n",
        "events_p32_s01 = pd.read_csv(url_events_p32_s01, sep=\"\\t\")"
      ],
      "execution_count": null,
      "outputs": []
    },
    {
      "cell_type": "markdown",
      "metadata": {
        "id": "Oq1MEg6TKOWn"
      },
      "source": [
        "# Participant #33\n",
        "Number of sections: 1"
      ]
    },
    {
      "cell_type": "code",
      "metadata": {
        "colab": {
          "base_uri": "https://localhost:8080/",
          "height": 80
        },
        "id": "PU2A5Fqve3JL",
        "outputId": "cdb2a6ea-0ae3-40d2-c549-b9a6339eed3b"
      },
      "source": [
        "# Participant data\n",
        "p33 = participants[participants['participant_id'] == 'sub-033']\n",
        "p33.head()"
      ],
      "execution_count": 118,
      "outputs": [
        {
          "output_type": "execute_result",
          "data": {
            "text/html": [
              "<div>\n",
              "<style scoped>\n",
              "    .dataframe tbody tr th:only-of-type {\n",
              "        vertical-align: middle;\n",
              "    }\n",
              "\n",
              "    .dataframe tbody tr th {\n",
              "        vertical-align: top;\n",
              "    }\n",
              "\n",
              "    .dataframe thead th {\n",
              "        text-align: right;\n",
              "    }\n",
              "</style>\n",
              "<table border=\"1\" class=\"dataframe\">\n",
              "  <thead>\n",
              "    <tr style=\"text-align: right;\">\n",
              "      <th></th>\n",
              "      <th>participant_id</th>\n",
              "      <th>Original_ID</th>\n",
              "      <th>Group</th>\n",
              "      <th>sess1_Med</th>\n",
              "      <th>sess2_Med</th>\n",
              "      <th>sex</th>\n",
              "      <th>age</th>\n",
              "    </tr>\n",
              "  </thead>\n",
              "  <tbody>\n",
              "    <tr>\n",
              "      <th>32</th>\n",
              "      <td>sub-033</td>\n",
              "      <td>891</td>\n",
              "      <td>CTL</td>\n",
              "      <td>NaN</td>\n",
              "      <td>no s2</td>\n",
              "      <td>Male</td>\n",
              "      <td>80</td>\n",
              "    </tr>\n",
              "  </tbody>\n",
              "</table>\n",
              "</div>"
            ],
            "text/plain": [
              "   participant_id  Original_ID Group sess1_Med sess2_Med   sex  age\n",
              "32        sub-033          891   CTL       NaN     no s2  Male   80"
            ]
          },
          "metadata": {
            "tags": []
          },
          "execution_count": 118
        }
      ]
    },
    {
      "cell_type": "code",
      "metadata": {
        "id": "hmDiVgGCKOWn"
      },
      "source": [
        "# Section 1\n",
        "url_channels_p33_s01 = commom_path + \"sub-033/ses-01/eeg/sub-033_ses-01_task-SimonConflict_channels.tsv\"\n",
        "url_eletrodes_p33_s01 = commom_path + \"sub-033/ses-01/eeg/sub-033_ses-01_task-SimonConflict_electrodes.tsv\"\n",
        "url_events_p33_s01 = commom_path + \"sub-033/ses-01/eeg/sub-033_ses-01_task-SimonConflict_events.tsv\"\n",
        "\n",
        "channels_p33_s01 = pd.read_csv(url_channels_p33_s01, sep=\"\\t\")\n",
        "eletrodes_p33_s01 = pd.read_csv(url_eletrodes_p33_s01, sep=\"\\t\")\n",
        "events_p33_s01 = pd.read_csv(url_events_p33_s01, sep=\"\\t\")"
      ],
      "execution_count": null,
      "outputs": []
    },
    {
      "cell_type": "markdown",
      "metadata": {
        "id": "e9BMMLqIKOgR"
      },
      "source": [
        "# Participant #34\n",
        "Number of sections: 1"
      ]
    },
    {
      "cell_type": "code",
      "metadata": {
        "colab": {
          "base_uri": "https://localhost:8080/",
          "height": 80
        },
        "id": "DuUSskUde3oV",
        "outputId": "b8ff51f5-1624-49a6-c49b-713455dbce24"
      },
      "source": [
        "# Participant data\n",
        "p34 = participants[participants['participant_id'] == 'sub-034']\n",
        "p34.head()"
      ],
      "execution_count": 119,
      "outputs": [
        {
          "output_type": "execute_result",
          "data": {
            "text/html": [
              "<div>\n",
              "<style scoped>\n",
              "    .dataframe tbody tr th:only-of-type {\n",
              "        vertical-align: middle;\n",
              "    }\n",
              "\n",
              "    .dataframe tbody tr th {\n",
              "        vertical-align: top;\n",
              "    }\n",
              "\n",
              "    .dataframe thead th {\n",
              "        text-align: right;\n",
              "    }\n",
              "</style>\n",
              "<table border=\"1\" class=\"dataframe\">\n",
              "  <thead>\n",
              "    <tr style=\"text-align: right;\">\n",
              "      <th></th>\n",
              "      <th>participant_id</th>\n",
              "      <th>Original_ID</th>\n",
              "      <th>Group</th>\n",
              "      <th>sess1_Med</th>\n",
              "      <th>sess2_Med</th>\n",
              "      <th>sex</th>\n",
              "      <th>age</th>\n",
              "    </tr>\n",
              "  </thead>\n",
              "  <tbody>\n",
              "    <tr>\n",
              "      <th>33</th>\n",
              "      <td>sub-034</td>\n",
              "      <td>892</td>\n",
              "      <td>CTL</td>\n",
              "      <td>NaN</td>\n",
              "      <td>no s2</td>\n",
              "      <td>Female</td>\n",
              "      <td>64</td>\n",
              "    </tr>\n",
              "  </tbody>\n",
              "</table>\n",
              "</div>"
            ],
            "text/plain": [
              "   participant_id  Original_ID Group sess1_Med sess2_Med     sex  age\n",
              "33        sub-034          892   CTL       NaN     no s2  Female   64"
            ]
          },
          "metadata": {
            "tags": []
          },
          "execution_count": 119
        }
      ]
    },
    {
      "cell_type": "code",
      "metadata": {
        "id": "w0S6TKtsKOgT"
      },
      "source": [
        "# Section 1\n",
        "url_channels_p34_s01 = commom_path + \"sub-034/ses-01/eeg/sub-034_ses-01_task-SimonConflict_channels.tsv\"\n",
        "url_eletrodes_p34_s01 = commom_path + \"sub-034/ses-01/eeg/sub-034_ses-01_task-SimonConflict_electrodes.tsv\"\n",
        "url_events_p34_s01 = commom_path + \"sub-034/ses-01/eeg/sub-034_ses-01_task-SimonConflict_events.tsv\"\n",
        "\n",
        "channels_p34_s01 = pd.read_csv(url_channels_p34_s01, sep=\"\\t\")\n",
        "eletrodes_p34_s01 = pd.read_csv(url_eletrodes_p34_s01, sep=\"\\t\")\n",
        "events_p34_s01 = pd.read_csv(url_events_p34_s01, sep=\"\\t\")"
      ],
      "execution_count": null,
      "outputs": []
    },
    {
      "cell_type": "markdown",
      "metadata": {
        "id": "zUzpTepgKOpR"
      },
      "source": [
        "# Participant #35\n",
        "Number of sections: 1"
      ]
    },
    {
      "cell_type": "code",
      "metadata": {
        "colab": {
          "base_uri": "https://localhost:8080/",
          "height": 80
        },
        "id": "SXjQHBvne4At",
        "outputId": "8945394b-a0e6-43d4-f34a-49110a819a0d"
      },
      "source": [
        "# Participant data\n",
        "p35 = participants[participants['participant_id'] == 'sub-035']\n",
        "p35.head()"
      ],
      "execution_count": 120,
      "outputs": [
        {
          "output_type": "execute_result",
          "data": {
            "text/html": [
              "<div>\n",
              "<style scoped>\n",
              "    .dataframe tbody tr th:only-of-type {\n",
              "        vertical-align: middle;\n",
              "    }\n",
              "\n",
              "    .dataframe tbody tr th {\n",
              "        vertical-align: top;\n",
              "    }\n",
              "\n",
              "    .dataframe thead th {\n",
              "        text-align: right;\n",
              "    }\n",
              "</style>\n",
              "<table border=\"1\" class=\"dataframe\">\n",
              "  <thead>\n",
              "    <tr style=\"text-align: right;\">\n",
              "      <th></th>\n",
              "      <th>participant_id</th>\n",
              "      <th>Original_ID</th>\n",
              "      <th>Group</th>\n",
              "      <th>sess1_Med</th>\n",
              "      <th>sess2_Med</th>\n",
              "      <th>sex</th>\n",
              "      <th>age</th>\n",
              "    </tr>\n",
              "  </thead>\n",
              "  <tbody>\n",
              "    <tr>\n",
              "      <th>34</th>\n",
              "      <td>sub-035</td>\n",
              "      <td>893</td>\n",
              "      <td>CTL</td>\n",
              "      <td>NaN</td>\n",
              "      <td>no s2</td>\n",
              "      <td>Female</td>\n",
              "      <td>64</td>\n",
              "    </tr>\n",
              "  </tbody>\n",
              "</table>\n",
              "</div>"
            ],
            "text/plain": [
              "   participant_id  Original_ID Group sess1_Med sess2_Med     sex  age\n",
              "34        sub-035          893   CTL       NaN     no s2  Female   64"
            ]
          },
          "metadata": {
            "tags": []
          },
          "execution_count": 120
        }
      ]
    },
    {
      "cell_type": "code",
      "metadata": {
        "id": "Xy_ZVF4vKOpS"
      },
      "source": [
        "# Section 1\n",
        "url_channels_p35_s01 = commom_path + \"sub-035/ses-01/eeg/sub-035_ses-01_task-SimonConflict_channels.tsv\"\n",
        "url_eletrodes_p35_s01 = commom_path + \"sub-035/ses-01/eeg/sub-035_ses-01_task-SimonConflict_electrodes.tsv\"\n",
        "url_events_p35_s01 = commom_path + \"sub-035/ses-01/eeg/sub-035_ses-01_task-SimonConflict_events.tsv\"\n",
        "\n",
        "channels_p35_s01 = pd.read_csv(url_channels_p35_s01, sep=\"\\t\")\n",
        "eletrodes_p35_s01 = pd.read_csv(url_eletrodes_p35_s01, sep=\"\\t\")\n",
        "events_p35_s01 = pd.read_csv(url_events_p35_s01, sep=\"\\t\")"
      ],
      "execution_count": null,
      "outputs": []
    },
    {
      "cell_type": "markdown",
      "metadata": {
        "id": "276tVSMMKO0K"
      },
      "source": [
        "# Participant #36\n",
        "Number of sections: 1"
      ]
    },
    {
      "cell_type": "code",
      "metadata": {
        "colab": {
          "base_uri": "https://localhost:8080/",
          "height": 80
        },
        "id": "p5zwddwee4iJ",
        "outputId": "c40eed6b-dc42-4c16-da5a-166161910d39"
      },
      "source": [
        "# Participant data\n",
        "p36 = participants[participants['participant_id'] == 'sub-036']\n",
        "p36.head()"
      ],
      "execution_count": 121,
      "outputs": [
        {
          "output_type": "execute_result",
          "data": {
            "text/html": [
              "<div>\n",
              "<style scoped>\n",
              "    .dataframe tbody tr th:only-of-type {\n",
              "        vertical-align: middle;\n",
              "    }\n",
              "\n",
              "    .dataframe tbody tr th {\n",
              "        vertical-align: top;\n",
              "    }\n",
              "\n",
              "    .dataframe thead th {\n",
              "        text-align: right;\n",
              "    }\n",
              "</style>\n",
              "<table border=\"1\" class=\"dataframe\">\n",
              "  <thead>\n",
              "    <tr style=\"text-align: right;\">\n",
              "      <th></th>\n",
              "      <th>participant_id</th>\n",
              "      <th>Original_ID</th>\n",
              "      <th>Group</th>\n",
              "      <th>sess1_Med</th>\n",
              "      <th>sess2_Med</th>\n",
              "      <th>sex</th>\n",
              "      <th>age</th>\n",
              "    </tr>\n",
              "  </thead>\n",
              "  <tbody>\n",
              "    <tr>\n",
              "      <th>35</th>\n",
              "      <td>sub-036</td>\n",
              "      <td>894</td>\n",
              "      <td>CTL</td>\n",
              "      <td>NaN</td>\n",
              "      <td>no s2</td>\n",
              "      <td>Female</td>\n",
              "      <td>69</td>\n",
              "    </tr>\n",
              "  </tbody>\n",
              "</table>\n",
              "</div>"
            ],
            "text/plain": [
              "   participant_id  Original_ID Group sess1_Med sess2_Med     sex  age\n",
              "35        sub-036          894   CTL       NaN     no s2  Female   69"
            ]
          },
          "metadata": {
            "tags": []
          },
          "execution_count": 121
        }
      ]
    },
    {
      "cell_type": "code",
      "metadata": {
        "id": "jwxjnOdmKO0L"
      },
      "source": [
        "# Section 1\n",
        "url_channels_p36_s01 = commom_path + \"sub-036/ses-01/eeg/sub-036_ses-01_task-SimonConflict_channels.tsv\"\n",
        "url_eletrodes_p36_s01 = commom_path + \"sub-036/ses-01/eeg/sub-036_ses-01_task-SimonConflict_electrodes.tsv\"\n",
        "url_events_p36_s01 = commom_path + \"sub-036/ses-01/eeg/sub-036_ses-01_task-SimonConflict_events.tsv\"\n",
        "\n",
        "channels_p36_s01 = pd.read_csv(url_channels_p36_s01, sep=\"\\t\")\n",
        "eletrodes_p36_s01 = pd.read_csv(url_eletrodes_p36_s01, sep=\"\\t\")\n",
        "events_p36_s01 = pd.read_csv(url_events_p36_s01, sep=\"\\t\")"
      ],
      "execution_count": null,
      "outputs": []
    },
    {
      "cell_type": "markdown",
      "metadata": {
        "id": "wJFPBeYSKO-M"
      },
      "source": [
        "# Participant #37\n",
        "Number of sections: 1"
      ]
    },
    {
      "cell_type": "code",
      "metadata": {
        "colab": {
          "base_uri": "https://localhost:8080/",
          "height": 80
        },
        "id": "paGSWQxRe47V",
        "outputId": "d8298742-508b-4018-dd82-cb001d813dc5"
      },
      "source": [
        "# Participant data\n",
        "p37 = participants[participants['participant_id'] == 'sub-037']\n",
        "p37.head()"
      ],
      "execution_count": 122,
      "outputs": [
        {
          "output_type": "execute_result",
          "data": {
            "text/html": [
              "<div>\n",
              "<style scoped>\n",
              "    .dataframe tbody tr th:only-of-type {\n",
              "        vertical-align: middle;\n",
              "    }\n",
              "\n",
              "    .dataframe tbody tr th {\n",
              "        vertical-align: top;\n",
              "    }\n",
              "\n",
              "    .dataframe thead th {\n",
              "        text-align: right;\n",
              "    }\n",
              "</style>\n",
              "<table border=\"1\" class=\"dataframe\">\n",
              "  <thead>\n",
              "    <tr style=\"text-align: right;\">\n",
              "      <th></th>\n",
              "      <th>participant_id</th>\n",
              "      <th>Original_ID</th>\n",
              "      <th>Group</th>\n",
              "      <th>sess1_Med</th>\n",
              "      <th>sess2_Med</th>\n",
              "      <th>sex</th>\n",
              "      <th>age</th>\n",
              "    </tr>\n",
              "  </thead>\n",
              "  <tbody>\n",
              "    <tr>\n",
              "      <th>36</th>\n",
              "      <td>sub-037</td>\n",
              "      <td>895</td>\n",
              "      <td>CTL</td>\n",
              "      <td>NaN</td>\n",
              "      <td>no s2</td>\n",
              "      <td>Male</td>\n",
              "      <td>69</td>\n",
              "    </tr>\n",
              "  </tbody>\n",
              "</table>\n",
              "</div>"
            ],
            "text/plain": [
              "   participant_id  Original_ID Group sess1_Med sess2_Med   sex  age\n",
              "36        sub-037          895   CTL       NaN     no s2  Male   69"
            ]
          },
          "metadata": {
            "tags": []
          },
          "execution_count": 122
        }
      ]
    },
    {
      "cell_type": "code",
      "metadata": {
        "id": "5W0xsL1EKO-T"
      },
      "source": [
        "# Section 1\n",
        "url_channels_p37_s01 = commom_path + \"sub-037/ses-01/eeg/sub-037_ses-01_task-SimonConflict_channels.tsv\"\n",
        "url_eletrodes_p37_s01 = commom_path + \"sub-037/ses-01/eeg/sub-037_ses-01_task-SimonConflict_electrodes.tsv\"\n",
        "url_events_p37_s01 = commom_path + \"sub-037/ses-01/eeg/sub-037_ses-01_task-SimonConflict_events.tsv\"\n",
        "\n",
        "channels_p37_s01 = pd.read_csv(url_channels_p37_s01, sep=\"\\t\")\n",
        "eletrodes_p37_s01 = pd.read_csv(url_eletrodes_p37_s01, sep=\"\\t\")\n",
        "events_p37_s01 = pd.read_csv(url_events_p37_s01, sep=\"\\t\")"
      ],
      "execution_count": null,
      "outputs": []
    },
    {
      "cell_type": "markdown",
      "metadata": {
        "id": "qKPRp-23KPIM"
      },
      "source": [
        "# Participant #38\n",
        "Number of sections: 1"
      ]
    },
    {
      "cell_type": "code",
      "metadata": {
        "colab": {
          "base_uri": "https://localhost:8080/",
          "height": 80
        },
        "id": "mkuYsFaOe5So",
        "outputId": "34a7739c-91b9-4277-fa06-c0e77210dece"
      },
      "source": [
        "# Participant data\n",
        "p38 = participants[participants['participant_id'] == 'sub-038']\n",
        "p38.head()"
      ],
      "execution_count": 123,
      "outputs": [
        {
          "output_type": "execute_result",
          "data": {
            "text/html": [
              "<div>\n",
              "<style scoped>\n",
              "    .dataframe tbody tr th:only-of-type {\n",
              "        vertical-align: middle;\n",
              "    }\n",
              "\n",
              "    .dataframe tbody tr th {\n",
              "        vertical-align: top;\n",
              "    }\n",
              "\n",
              "    .dataframe thead th {\n",
              "        text-align: right;\n",
              "    }\n",
              "</style>\n",
              "<table border=\"1\" class=\"dataframe\">\n",
              "  <thead>\n",
              "    <tr style=\"text-align: right;\">\n",
              "      <th></th>\n",
              "      <th>participant_id</th>\n",
              "      <th>Original_ID</th>\n",
              "      <th>Group</th>\n",
              "      <th>sess1_Med</th>\n",
              "      <th>sess2_Med</th>\n",
              "      <th>sex</th>\n",
              "      <th>age</th>\n",
              "    </tr>\n",
              "  </thead>\n",
              "  <tbody>\n",
              "    <tr>\n",
              "      <th>37</th>\n",
              "      <td>sub-038</td>\n",
              "      <td>896</td>\n",
              "      <td>CTL</td>\n",
              "      <td>NaN</td>\n",
              "      <td>no s2</td>\n",
              "      <td>Male</td>\n",
              "      <td>58</td>\n",
              "    </tr>\n",
              "  </tbody>\n",
              "</table>\n",
              "</div>"
            ],
            "text/plain": [
              "   participant_id  Original_ID Group sess1_Med sess2_Med   sex  age\n",
              "37        sub-038          896   CTL       NaN     no s2  Male   58"
            ]
          },
          "metadata": {
            "tags": []
          },
          "execution_count": 123
        }
      ]
    },
    {
      "cell_type": "code",
      "metadata": {
        "id": "WAPEYWfiKPIN"
      },
      "source": [
        "# Section 1\n",
        "url_channels_p38_s01 = commom_path + \"sub-038/ses-01/eeg/sub-038_ses-01_task-SimonConflict_channels.tsv\"\n",
        "url_eletrodes_p38_s01 = commom_path + \"sub-038/ses-01/eeg/sub-038_ses-01_task-SimonConflict_electrodes.tsv\"\n",
        "url_events_p38_s01 = commom_path + \"sub-038/ses-01/eeg/sub-038_ses-01_task-SimonConflict_events.tsv\"\n",
        "\n",
        "channels_p38_s01 = pd.read_csv(url_channels_p38_s01, sep=\"\\t\")\n",
        "eletrodes_p38_s01 = pd.read_csv(url_eletrodes_p38_s01, sep=\"\\t\")\n",
        "events_p38_s01 = pd.read_csv(url_events_p38_s01, sep=\"\\t\")"
      ],
      "execution_count": null,
      "outputs": []
    },
    {
      "cell_type": "markdown",
      "metadata": {
        "id": "mRS8A2z3KPV2"
      },
      "source": [
        "# Participant #39\n",
        "Number of sections: 1"
      ]
    },
    {
      "cell_type": "code",
      "metadata": {
        "colab": {
          "base_uri": "https://localhost:8080/",
          "height": 80
        },
        "id": "YxeP9UJDe5x_",
        "outputId": "600c9ea5-6965-4029-e676-7462622e3d24"
      },
      "source": [
        "# Participant data\n",
        "p39 = participants[participants['participant_id'] == 'sub-039']\n",
        "p39.head()"
      ],
      "execution_count": 124,
      "outputs": [
        {
          "output_type": "execute_result",
          "data": {
            "text/html": [
              "<div>\n",
              "<style scoped>\n",
              "    .dataframe tbody tr th:only-of-type {\n",
              "        vertical-align: middle;\n",
              "    }\n",
              "\n",
              "    .dataframe tbody tr th {\n",
              "        vertical-align: top;\n",
              "    }\n",
              "\n",
              "    .dataframe thead th {\n",
              "        text-align: right;\n",
              "    }\n",
              "</style>\n",
              "<table border=\"1\" class=\"dataframe\">\n",
              "  <thead>\n",
              "    <tr style=\"text-align: right;\">\n",
              "      <th></th>\n",
              "      <th>participant_id</th>\n",
              "      <th>Original_ID</th>\n",
              "      <th>Group</th>\n",
              "      <th>sess1_Med</th>\n",
              "      <th>sess2_Med</th>\n",
              "      <th>sex</th>\n",
              "      <th>age</th>\n",
              "    </tr>\n",
              "  </thead>\n",
              "  <tbody>\n",
              "    <tr>\n",
              "      <th>38</th>\n",
              "      <td>sub-039</td>\n",
              "      <td>897</td>\n",
              "      <td>CTL</td>\n",
              "      <td>NaN</td>\n",
              "      <td>no s2</td>\n",
              "      <td>Male</td>\n",
              "      <td>70</td>\n",
              "    </tr>\n",
              "  </tbody>\n",
              "</table>\n",
              "</div>"
            ],
            "text/plain": [
              "   participant_id  Original_ID Group sess1_Med sess2_Med   sex  age\n",
              "38        sub-039          897   CTL       NaN     no s2  Male   70"
            ]
          },
          "metadata": {
            "tags": []
          },
          "execution_count": 124
        }
      ]
    },
    {
      "cell_type": "code",
      "metadata": {
        "id": "TCGcd6ZgKPV3"
      },
      "source": [
        "# Section 1\n",
        "url_channels_p39_s01 = commom_path + \"sub-039/ses-01/eeg/sub-039_ses-01_task-SimonConflict_channels.tsv\"\n",
        "url_eletrodes_p39_s01 = commom_path + \"sub-039/ses-01/eeg/sub-039_ses-01_task-SimonConflict_electrodes.tsv\"\n",
        "url_events_p39_s01 = commom_path + \"sub-039/ses-01/eeg/sub-039_ses-01_task-SimonConflict_events.tsv\"\n",
        "\n",
        "channels_p39_s01 = pd.read_csv(url_channels_p39_s01, sep=\"\\t\")\n",
        "eletrodes_p39_s01 = pd.read_csv(url_eletrodes_p39_s01, sep=\"\\t\")\n",
        "events_p39_s01 = pd.read_csv(url_events_p39_s01, sep=\"\\t\")"
      ],
      "execution_count": null,
      "outputs": []
    },
    {
      "cell_type": "markdown",
      "metadata": {
        "id": "gDILYo5hKPoq"
      },
      "source": [
        "# Participant #40\n",
        "Number of sections: 1"
      ]
    },
    {
      "cell_type": "code",
      "metadata": {
        "colab": {
          "base_uri": "https://localhost:8080/",
          "height": 80
        },
        "id": "PWFblg6We60n",
        "outputId": "f4e485c3-21e8-4596-9e64-d70b55af031e"
      },
      "source": [
        "# Participant data\n",
        "p40 = participants[participants['participant_id'] == 'sub-040']\n",
        "p40.head()"
      ],
      "execution_count": 125,
      "outputs": [
        {
          "output_type": "execute_result",
          "data": {
            "text/html": [
              "<div>\n",
              "<style scoped>\n",
              "    .dataframe tbody tr th:only-of-type {\n",
              "        vertical-align: middle;\n",
              "    }\n",
              "\n",
              "    .dataframe tbody tr th {\n",
              "        vertical-align: top;\n",
              "    }\n",
              "\n",
              "    .dataframe thead th {\n",
              "        text-align: right;\n",
              "    }\n",
              "</style>\n",
              "<table border=\"1\" class=\"dataframe\">\n",
              "  <thead>\n",
              "    <tr style=\"text-align: right;\">\n",
              "      <th></th>\n",
              "      <th>participant_id</th>\n",
              "      <th>Original_ID</th>\n",
              "      <th>Group</th>\n",
              "      <th>sess1_Med</th>\n",
              "      <th>sess2_Med</th>\n",
              "      <th>sex</th>\n",
              "      <th>age</th>\n",
              "    </tr>\n",
              "  </thead>\n",
              "  <tbody>\n",
              "    <tr>\n",
              "      <th>39</th>\n",
              "      <td>sub-040</td>\n",
              "      <td>898</td>\n",
              "      <td>CTL</td>\n",
              "      <td>NaN</td>\n",
              "      <td>no s2</td>\n",
              "      <td>Male</td>\n",
              "      <td>64</td>\n",
              "    </tr>\n",
              "  </tbody>\n",
              "</table>\n",
              "</div>"
            ],
            "text/plain": [
              "   participant_id  Original_ID Group sess1_Med sess2_Med   sex  age\n",
              "39        sub-040          898   CTL       NaN     no s2  Male   64"
            ]
          },
          "metadata": {
            "tags": []
          },
          "execution_count": 125
        }
      ]
    },
    {
      "cell_type": "code",
      "metadata": {
        "id": "aQ8tLLT2KPor"
      },
      "source": [
        "# Section 1\n",
        "url_channels_p40_s01 = commom_path + \"sub-040/ses-01/eeg/sub-040_ses-01_task-SimonConflict_channels.tsv\"\n",
        "url_eletrodes_p40_s01 = commom_path + \"sub-040/ses-01/eeg/sub-040_ses-01_task-SimonConflict_electrodes.tsv\"\n",
        "url_events_p40_s01 = commom_path + \"sub-040/ses-01/eeg/sub-040_ses-01_task-SimonConflict_events.tsv\"\n",
        "\n",
        "channels_p40_s01 = pd.read_csv(url_channels_p40_s01, sep=\"\\t\")\n",
        "eletrodes_p40_s01 = pd.read_csv(url_eletrodes_p40_s01, sep=\"\\t\")\n",
        "events_p40_s01 = pd.read_csv(url_events_p40_s01, sep=\"\\t\")"
      ],
      "execution_count": null,
      "outputs": []
    },
    {
      "cell_type": "markdown",
      "metadata": {
        "id": "cG_YWUaAKPyj"
      },
      "source": [
        "# Participant #41\n",
        "Number of sections: 1"
      ]
    },
    {
      "cell_type": "code",
      "metadata": {
        "colab": {
          "base_uri": "https://localhost:8080/",
          "height": 80
        },
        "id": "_g1lnKKNe75C",
        "outputId": "1689552b-2282-4dc4-bacb-a948d08ddb75"
      },
      "source": [
        "# Participant data\n",
        "p41 = participants[participants['participant_id'] == 'sub-041']\n",
        "p41.head()"
      ],
      "execution_count": 126,
      "outputs": [
        {
          "output_type": "execute_result",
          "data": {
            "text/html": [
              "<div>\n",
              "<style scoped>\n",
              "    .dataframe tbody tr th:only-of-type {\n",
              "        vertical-align: middle;\n",
              "    }\n",
              "\n",
              "    .dataframe tbody tr th {\n",
              "        vertical-align: top;\n",
              "    }\n",
              "\n",
              "    .dataframe thead th {\n",
              "        text-align: right;\n",
              "    }\n",
              "</style>\n",
              "<table border=\"1\" class=\"dataframe\">\n",
              "  <thead>\n",
              "    <tr style=\"text-align: right;\">\n",
              "      <th></th>\n",
              "      <th>participant_id</th>\n",
              "      <th>Original_ID</th>\n",
              "      <th>Group</th>\n",
              "      <th>sess1_Med</th>\n",
              "      <th>sess2_Med</th>\n",
              "      <th>sex</th>\n",
              "      <th>age</th>\n",
              "    </tr>\n",
              "  </thead>\n",
              "  <tbody>\n",
              "    <tr>\n",
              "      <th>40</th>\n",
              "      <td>sub-041</td>\n",
              "      <td>899</td>\n",
              "      <td>CTL</td>\n",
              "      <td>NaN</td>\n",
              "      <td>no s2</td>\n",
              "      <td>Male</td>\n",
              "      <td>52</td>\n",
              "    </tr>\n",
              "  </tbody>\n",
              "</table>\n",
              "</div>"
            ],
            "text/plain": [
              "   participant_id  Original_ID Group sess1_Med sess2_Med   sex  age\n",
              "40        sub-041          899   CTL       NaN     no s2  Male   52"
            ]
          },
          "metadata": {
            "tags": []
          },
          "execution_count": 126
        }
      ]
    },
    {
      "cell_type": "code",
      "metadata": {
        "id": "8wKqtWi0KPyj"
      },
      "source": [
        "# Section 1\n",
        "url_channels_p41_s01 = commom_path + \"sub-041/ses-01/eeg/sub-041_ses-01_task-SimonConflict_channels.tsv\"\n",
        "url_eletrodes_p41_s01 = commom_path + \"sub-041/ses-01/eeg/sub-041_ses-01_task-SimonConflict_electrodes.tsv\"\n",
        "url_events_p41_s01 = commom_path + \"sub-041/ses-01/eeg/sub-041_ses-01_task-SimonConflict_events.tsv\"\n",
        "\n",
        "channels_p41_s01 = pd.read_csv(url_channels_p41_s01, sep=\"\\t\")\n",
        "eletrodes_p41_s01 = pd.read_csv(url_eletrodes_p41_s01, sep=\"\\t\")\n",
        "events_p41_s01 = pd.read_csv(url_events_p41_s01, sep=\"\\t\")"
      ],
      "execution_count": null,
      "outputs": []
    },
    {
      "cell_type": "markdown",
      "metadata": {
        "id": "kACyjQPzKP82"
      },
      "source": [
        "# Participant #42\n",
        "Number of sections: 1"
      ]
    },
    {
      "cell_type": "code",
      "metadata": {
        "colab": {
          "base_uri": "https://localhost:8080/",
          "height": 80
        },
        "id": "8S2k0_sge8Vq",
        "outputId": "fb5c0ed3-9358-4cc2-9fa6-871bd96d5153"
      },
      "source": [
        "# Participant data\n",
        "p42 = participants[participants['participant_id'] == 'sub-042']\n",
        "p42.head()"
      ],
      "execution_count": 127,
      "outputs": [
        {
          "output_type": "execute_result",
          "data": {
            "text/html": [
              "<div>\n",
              "<style scoped>\n",
              "    .dataframe tbody tr th:only-of-type {\n",
              "        vertical-align: middle;\n",
              "    }\n",
              "\n",
              "    .dataframe tbody tr th {\n",
              "        vertical-align: top;\n",
              "    }\n",
              "\n",
              "    .dataframe thead th {\n",
              "        text-align: right;\n",
              "    }\n",
              "</style>\n",
              "<table border=\"1\" class=\"dataframe\">\n",
              "  <thead>\n",
              "    <tr style=\"text-align: right;\">\n",
              "      <th></th>\n",
              "      <th>participant_id</th>\n",
              "      <th>Original_ID</th>\n",
              "      <th>Group</th>\n",
              "      <th>sess1_Med</th>\n",
              "      <th>sess2_Med</th>\n",
              "      <th>sex</th>\n",
              "      <th>age</th>\n",
              "    </tr>\n",
              "  </thead>\n",
              "  <tbody>\n",
              "    <tr>\n",
              "      <th>41</th>\n",
              "      <td>sub-042</td>\n",
              "      <td>900</td>\n",
              "      <td>CTL</td>\n",
              "      <td>NaN</td>\n",
              "      <td>no s2</td>\n",
              "      <td>Male</td>\n",
              "      <td>84</td>\n",
              "    </tr>\n",
              "  </tbody>\n",
              "</table>\n",
              "</div>"
            ],
            "text/plain": [
              "   participant_id  Original_ID Group sess1_Med sess2_Med   sex  age\n",
              "41        sub-042          900   CTL       NaN     no s2  Male   84"
            ]
          },
          "metadata": {
            "tags": []
          },
          "execution_count": 127
        }
      ]
    },
    {
      "cell_type": "code",
      "metadata": {
        "id": "_vlk4zeBKP84"
      },
      "source": [
        "# Section 1\n",
        "url_channels_p42_s01 = commom_path + \"sub-042/ses-01/eeg/sub-042_ses-01_task-SimonConflict_channels.tsv\"\n",
        "url_eletrodes_p42_s01 = commom_path + \"sub-042/ses-01/eeg/sub-042_ses-01_task-SimonConflict_electrodes.tsv\"\n",
        "url_events_p42_s01 = commom_path + \"sub-042/ses-01/eeg/sub-042_ses-01_task-SimonConflict_events.tsv\"\n",
        "\n",
        "channels_p42_s01 = pd.read_csv(url_channels_p42_s01, sep=\"\\t\")\n",
        "eletrodes_p42_s01 = pd.read_csv(url_eletrodes_p42_s01, sep=\"\\t\")\n",
        "events_p42_s01 = pd.read_csv(url_events_p42_s01, sep=\"\\t\")"
      ],
      "execution_count": null,
      "outputs": []
    },
    {
      "cell_type": "markdown",
      "metadata": {
        "id": "PLM-_ET1KQGO"
      },
      "source": [
        "# Participant #43\n",
        "Number of sections: 1"
      ]
    },
    {
      "cell_type": "code",
      "metadata": {
        "colab": {
          "base_uri": "https://localhost:8080/",
          "height": 80
        },
        "id": "GBHzs5uue83B",
        "outputId": "3fd8e522-4adf-49c1-e2e9-c69b58e53816"
      },
      "source": [
        "# Participant data\n",
        "p43 = participants[participants['participant_id'] == 'sub-043']\n",
        "p43.head()"
      ],
      "execution_count": 128,
      "outputs": [
        {
          "output_type": "execute_result",
          "data": {
            "text/html": [
              "<div>\n",
              "<style scoped>\n",
              "    .dataframe tbody tr th:only-of-type {\n",
              "        vertical-align: middle;\n",
              "    }\n",
              "\n",
              "    .dataframe tbody tr th {\n",
              "        vertical-align: top;\n",
              "    }\n",
              "\n",
              "    .dataframe thead th {\n",
              "        text-align: right;\n",
              "    }\n",
              "</style>\n",
              "<table border=\"1\" class=\"dataframe\">\n",
              "  <thead>\n",
              "    <tr style=\"text-align: right;\">\n",
              "      <th></th>\n",
              "      <th>participant_id</th>\n",
              "      <th>Original_ID</th>\n",
              "      <th>Group</th>\n",
              "      <th>sess1_Med</th>\n",
              "      <th>sess2_Med</th>\n",
              "      <th>sex</th>\n",
              "      <th>age</th>\n",
              "    </tr>\n",
              "  </thead>\n",
              "  <tbody>\n",
              "    <tr>\n",
              "      <th>42</th>\n",
              "      <td>sub-043</td>\n",
              "      <td>901</td>\n",
              "      <td>CTL</td>\n",
              "      <td>NaN</td>\n",
              "      <td>no s2</td>\n",
              "      <td>Female</td>\n",
              "      <td>69</td>\n",
              "    </tr>\n",
              "  </tbody>\n",
              "</table>\n",
              "</div>"
            ],
            "text/plain": [
              "   participant_id  Original_ID Group sess1_Med sess2_Med     sex  age\n",
              "42        sub-043          901   CTL       NaN     no s2  Female   69"
            ]
          },
          "metadata": {
            "tags": []
          },
          "execution_count": 128
        }
      ]
    },
    {
      "cell_type": "code",
      "metadata": {
        "id": "sw9MM7SaKQGP"
      },
      "source": [
        "# Section 1\n",
        "url_channels_p43_s01 = commom_path + \"sub-043/ses-01/eeg/sub-043_ses-01_task-SimonConflict_channels.tsv\"\n",
        "url_eletrodes_p43_s01 = commom_path + \"sub-043/ses-01/eeg/sub-043_ses-01_task-SimonConflict_electrodes.tsv\"\n",
        "url_events_p43_s01 = commom_path + \"sub-043/ses-01/eeg/sub-043_ses-01_task-SimonConflict_events.tsv\"\n",
        "\n",
        "channels_p43_s01 = pd.read_csv(url_channels_p43_s01, sep=\"\\t\")\n",
        "eletrodes_p43_s01 = pd.read_csv(url_eletrodes_p43_s01, sep=\"\\t\")\n",
        "events_p43_s01 = pd.read_csv(url_events_p43_s01, sep=\"\\t\")"
      ],
      "execution_count": null,
      "outputs": []
    },
    {
      "cell_type": "markdown",
      "metadata": {
        "id": "qmI4mOe0KQPz"
      },
      "source": [
        "# Participant #44\n",
        "Number of sections: 1"
      ]
    },
    {
      "cell_type": "code",
      "metadata": {
        "colab": {
          "base_uri": "https://localhost:8080/",
          "height": 80
        },
        "id": "IGlwUN0oe9Os",
        "outputId": "47136c0c-48eb-4238-a9d3-9455f59d1993"
      },
      "source": [
        "# Participant data\n",
        "p44 = participants[participants['participant_id'] == 'sub-044']\n",
        "p44.head()"
      ],
      "execution_count": 129,
      "outputs": [
        {
          "output_type": "execute_result",
          "data": {
            "text/html": [
              "<div>\n",
              "<style scoped>\n",
              "    .dataframe tbody tr th:only-of-type {\n",
              "        vertical-align: middle;\n",
              "    }\n",
              "\n",
              "    .dataframe tbody tr th {\n",
              "        vertical-align: top;\n",
              "    }\n",
              "\n",
              "    .dataframe thead th {\n",
              "        text-align: right;\n",
              "    }\n",
              "</style>\n",
              "<table border=\"1\" class=\"dataframe\">\n",
              "  <thead>\n",
              "    <tr style=\"text-align: right;\">\n",
              "      <th></th>\n",
              "      <th>participant_id</th>\n",
              "      <th>Original_ID</th>\n",
              "      <th>Group</th>\n",
              "      <th>sess1_Med</th>\n",
              "      <th>sess2_Med</th>\n",
              "      <th>sex</th>\n",
              "      <th>age</th>\n",
              "    </tr>\n",
              "  </thead>\n",
              "  <tbody>\n",
              "    <tr>\n",
              "      <th>43</th>\n",
              "      <td>sub-044</td>\n",
              "      <td>902</td>\n",
              "      <td>CTL</td>\n",
              "      <td>NaN</td>\n",
              "      <td>no s2</td>\n",
              "      <td>Male</td>\n",
              "      <td>83</td>\n",
              "    </tr>\n",
              "  </tbody>\n",
              "</table>\n",
              "</div>"
            ],
            "text/plain": [
              "   participant_id  Original_ID Group sess1_Med sess2_Med   sex  age\n",
              "43        sub-044          902   CTL       NaN     no s2  Male   83"
            ]
          },
          "metadata": {
            "tags": []
          },
          "execution_count": 129
        }
      ]
    },
    {
      "cell_type": "code",
      "metadata": {
        "id": "zaTPnrDbKQP0"
      },
      "source": [
        "# Section 1\n",
        "url_channels_p44_s01 = commom_path + \"sub-044/ses-01/eeg/sub-044_ses-01_task-SimonConflict_channels.tsv\"\n",
        "url_eletrodes_p44_s01 = commom_path + \"sub-044/ses-01/eeg/sub-044_ses-01_task-SimonConflict_electrodes.tsv\"\n",
        "url_events_p44_s01 = commom_path + \"sub-044/ses-01/eeg/sub-044_ses-01_task-SimonConflict_events.tsv\"\n",
        "\n",
        "channels_p44_s01 = pd.read_csv(url_channels_p44_s01, sep=\"\\t\")\n",
        "eletrodes_p44_s01 = pd.read_csv(url_eletrodes_p44_s01, sep=\"\\t\")\n",
        "events_p44_s01 = pd.read_csv(url_events_p44_s01, sep=\"\\t\")"
      ],
      "execution_count": null,
      "outputs": []
    },
    {
      "cell_type": "markdown",
      "metadata": {
        "id": "wepW1eQoKQZ3"
      },
      "source": [
        "# Participant #45\n",
        "Number of sections: 1"
      ]
    },
    {
      "cell_type": "code",
      "metadata": {
        "colab": {
          "base_uri": "https://localhost:8080/",
          "height": 80
        },
        "id": "Hl3NefdCe9kZ",
        "outputId": "33de77b1-501f-4b86-9dd3-bdf49fd6c11f"
      },
      "source": [
        "# Participant data\n",
        "p45 = participants[participants['participant_id'] == 'sub-045']\n",
        "p45.head()"
      ],
      "execution_count": 130,
      "outputs": [
        {
          "output_type": "execute_result",
          "data": {
            "text/html": [
              "<div>\n",
              "<style scoped>\n",
              "    .dataframe tbody tr th:only-of-type {\n",
              "        vertical-align: middle;\n",
              "    }\n",
              "\n",
              "    .dataframe tbody tr th {\n",
              "        vertical-align: top;\n",
              "    }\n",
              "\n",
              "    .dataframe thead th {\n",
              "        text-align: right;\n",
              "    }\n",
              "</style>\n",
              "<table border=\"1\" class=\"dataframe\">\n",
              "  <thead>\n",
              "    <tr style=\"text-align: right;\">\n",
              "      <th></th>\n",
              "      <th>participant_id</th>\n",
              "      <th>Original_ID</th>\n",
              "      <th>Group</th>\n",
              "      <th>sess1_Med</th>\n",
              "      <th>sess2_Med</th>\n",
              "      <th>sex</th>\n",
              "      <th>age</th>\n",
              "    </tr>\n",
              "  </thead>\n",
              "  <tbody>\n",
              "    <tr>\n",
              "      <th>44</th>\n",
              "      <td>sub-045</td>\n",
              "      <td>903</td>\n",
              "      <td>CTL</td>\n",
              "      <td>NaN</td>\n",
              "      <td>no s2</td>\n",
              "      <td>Male</td>\n",
              "      <td>83</td>\n",
              "    </tr>\n",
              "  </tbody>\n",
              "</table>\n",
              "</div>"
            ],
            "text/plain": [
              "   participant_id  Original_ID Group sess1_Med sess2_Med   sex  age\n",
              "44        sub-045          903   CTL       NaN     no s2  Male   83"
            ]
          },
          "metadata": {
            "tags": []
          },
          "execution_count": 130
        }
      ]
    },
    {
      "cell_type": "code",
      "metadata": {
        "id": "zLBdUKnyKQZ4"
      },
      "source": [
        "# Section 1\n",
        "url_channels_p45_s01 = commom_path + \"sub-045/ses-01/eeg/sub-045_ses-01_task-SimonConflict_channels.tsv\"\n",
        "url_eletrodes_p45_s01 = commom_path + \"sub-045/ses-01/eeg/sub-045_ses-01_task-SimonConflict_electrodes.tsv\"\n",
        "url_events_p45_s01 = commom_path + \"sub-045/ses-01/eeg/sub-045_ses-01_task-SimonConflict_events.tsv\"\n",
        "\n",
        "channels_p45_s01 = pd.read_csv(url_channels_p45_s01, sep=\"\\t\")\n",
        "eletrodes_p45_s01 = pd.read_csv(url_eletrodes_p45_s01, sep=\"\\t\")\n",
        "events_p45_s01 = pd.read_csv(url_events_p45_s01, sep=\"\\t\")"
      ],
      "execution_count": null,
      "outputs": []
    },
    {
      "cell_type": "markdown",
      "metadata": {
        "id": "aT2-6sZiKQih"
      },
      "source": [
        "# Participant #46\n",
        "Number of sections: 1"
      ]
    },
    {
      "cell_type": "code",
      "metadata": {
        "colab": {
          "base_uri": "https://localhost:8080/",
          "height": 80
        },
        "id": "g2CNaXLQe964",
        "outputId": "a93ea616-3aea-48fd-bc5d-4de0a4e96e22"
      },
      "source": [
        "# Participant data\n",
        "p46 = participants[participants['participant_id'] == 'sub-046']\n",
        "p46.head()"
      ],
      "execution_count": 131,
      "outputs": [
        {
          "output_type": "execute_result",
          "data": {
            "text/html": [
              "<div>\n",
              "<style scoped>\n",
              "    .dataframe tbody tr th:only-of-type {\n",
              "        vertical-align: middle;\n",
              "    }\n",
              "\n",
              "    .dataframe tbody tr th {\n",
              "        vertical-align: top;\n",
              "    }\n",
              "\n",
              "    .dataframe thead th {\n",
              "        text-align: right;\n",
              "    }\n",
              "</style>\n",
              "<table border=\"1\" class=\"dataframe\">\n",
              "  <thead>\n",
              "    <tr style=\"text-align: right;\">\n",
              "      <th></th>\n",
              "      <th>participant_id</th>\n",
              "      <th>Original_ID</th>\n",
              "      <th>Group</th>\n",
              "      <th>sess1_Med</th>\n",
              "      <th>sess2_Med</th>\n",
              "      <th>sex</th>\n",
              "      <th>age</th>\n",
              "    </tr>\n",
              "  </thead>\n",
              "  <tbody>\n",
              "    <tr>\n",
              "      <th>45</th>\n",
              "      <td>sub-046</td>\n",
              "      <td>904</td>\n",
              "      <td>CTL</td>\n",
              "      <td>NaN</td>\n",
              "      <td>no s2</td>\n",
              "      <td>Male</td>\n",
              "      <td>73</td>\n",
              "    </tr>\n",
              "  </tbody>\n",
              "</table>\n",
              "</div>"
            ],
            "text/plain": [
              "   participant_id  Original_ID Group sess1_Med sess2_Med   sex  age\n",
              "45        sub-046          904   CTL       NaN     no s2  Male   73"
            ]
          },
          "metadata": {
            "tags": []
          },
          "execution_count": 131
        }
      ]
    },
    {
      "cell_type": "code",
      "metadata": {
        "id": "sGgWYKKAKQii"
      },
      "source": [
        "# Section 1\n",
        "url_channels_p46_s01 = commom_path + \"sub-046/ses-01/eeg/sub-046_ses-01_task-SimonConflict_channels.tsv\"\n",
        "url_eletrodes_p46_s01 = commom_path + \"sub-046/ses-01/eeg/sub-046_ses-01_task-SimonConflict_electrodes.tsv\"\n",
        "url_events_p46_s01 = commom_path + \"sub-046/ses-01/eeg/sub-046_ses-01_task-SimonConflict_events.tsv\"\n",
        "\n",
        "channels_p46_s01 = pd.read_csv(url_channels_p46_s01, sep=\"\\t\")\n",
        "eletrodes_p46_s01 = pd.read_csv(url_eletrodes_p46_s01, sep=\"\\t\")\n",
        "events_p46_s01 = pd.read_csv(url_events_p46_s01, sep=\"\\t\")"
      ],
      "execution_count": null,
      "outputs": []
    },
    {
      "cell_type": "markdown",
      "metadata": {
        "id": "25GkRJYnKQrx"
      },
      "source": [
        "# Participant #47\n",
        "Number of sections: 1"
      ]
    },
    {
      "cell_type": "code",
      "metadata": {
        "colab": {
          "base_uri": "https://localhost:8080/",
          "height": 80
        },
        "id": "JDv-oMtPe-RM",
        "outputId": "629c59e2-b9fd-440e-fc65-6abc5b2995ea"
      },
      "source": [
        "# Participant data\n",
        "p47 = participants[participants['participant_id'] == 'sub-047']\n",
        "p47.head()"
      ],
      "execution_count": 132,
      "outputs": [
        {
          "output_type": "execute_result",
          "data": {
            "text/html": [
              "<div>\n",
              "<style scoped>\n",
              "    .dataframe tbody tr th:only-of-type {\n",
              "        vertical-align: middle;\n",
              "    }\n",
              "\n",
              "    .dataframe tbody tr th {\n",
              "        vertical-align: top;\n",
              "    }\n",
              "\n",
              "    .dataframe thead th {\n",
              "        text-align: right;\n",
              "    }\n",
              "</style>\n",
              "<table border=\"1\" class=\"dataframe\">\n",
              "  <thead>\n",
              "    <tr style=\"text-align: right;\">\n",
              "      <th></th>\n",
              "      <th>participant_id</th>\n",
              "      <th>Original_ID</th>\n",
              "      <th>Group</th>\n",
              "      <th>sess1_Med</th>\n",
              "      <th>sess2_Med</th>\n",
              "      <th>sex</th>\n",
              "      <th>age</th>\n",
              "    </tr>\n",
              "  </thead>\n",
              "  <tbody>\n",
              "    <tr>\n",
              "      <th>46</th>\n",
              "      <td>sub-047</td>\n",
              "      <td>905</td>\n",
              "      <td>CTL</td>\n",
              "      <td>NaN</td>\n",
              "      <td>no s2</td>\n",
              "      <td>Female</td>\n",
              "      <td>58</td>\n",
              "    </tr>\n",
              "  </tbody>\n",
              "</table>\n",
              "</div>"
            ],
            "text/plain": [
              "   participant_id  Original_ID Group sess1_Med sess2_Med     sex  age\n",
              "46        sub-047          905   CTL       NaN     no s2  Female   58"
            ]
          },
          "metadata": {
            "tags": []
          },
          "execution_count": 132
        }
      ]
    },
    {
      "cell_type": "code",
      "metadata": {
        "id": "Qwf0_6MEKQrx"
      },
      "source": [
        "# Section 1\n",
        "url_channels_p47_s01 = commom_path + \"sub-047/ses-01/eeg/sub-047_ses-01_task-SimonConflict_channels.tsv\"\n",
        "url_eletrodes_p47_s01 = commom_path + \"sub-047/ses-01/eeg/sub-047_ses-01_task-SimonConflict_electrodes.tsv\"\n",
        "url_events_p47_s01 = commom_path + \"sub-047/ses-01/eeg/sub-047_ses-01_task-SimonConflict_events.tsv\"\n",
        "\n",
        "channels_p47_s01 = pd.read_csv(url_channels_p47_s01, sep=\"\\t\")\n",
        "eletrodes_p47_s01 = pd.read_csv(url_eletrodes_p47_s01, sep=\"\\t\")\n",
        "events_p47_s01 = pd.read_csv(url_events_p47_s01, sep=\"\\t\")"
      ],
      "execution_count": null,
      "outputs": []
    },
    {
      "cell_type": "markdown",
      "metadata": {
        "id": "ASJrEEM6KQ1e"
      },
      "source": [
        "# Participant #48\n",
        "Number of sections: 1"
      ]
    },
    {
      "cell_type": "code",
      "metadata": {
        "colab": {
          "base_uri": "https://localhost:8080/",
          "height": 80
        },
        "id": "H69MKCLRe-o9",
        "outputId": "1372bbe8-a050-43ac-e25f-1c1a7654a583"
      },
      "source": [
        "# Participant data\n",
        "p48 = participants[participants['participant_id'] == 'sub-048']\n",
        "p48.head()"
      ],
      "execution_count": 133,
      "outputs": [
        {
          "output_type": "execute_result",
          "data": {
            "text/html": [
              "<div>\n",
              "<style scoped>\n",
              "    .dataframe tbody tr th:only-of-type {\n",
              "        vertical-align: middle;\n",
              "    }\n",
              "\n",
              "    .dataframe tbody tr th {\n",
              "        vertical-align: top;\n",
              "    }\n",
              "\n",
              "    .dataframe thead th {\n",
              "        text-align: right;\n",
              "    }\n",
              "</style>\n",
              "<table border=\"1\" class=\"dataframe\">\n",
              "  <thead>\n",
              "    <tr style=\"text-align: right;\">\n",
              "      <th></th>\n",
              "      <th>participant_id</th>\n",
              "      <th>Original_ID</th>\n",
              "      <th>Group</th>\n",
              "      <th>sess1_Med</th>\n",
              "      <th>sess2_Med</th>\n",
              "      <th>sex</th>\n",
              "      <th>age</th>\n",
              "    </tr>\n",
              "  </thead>\n",
              "  <tbody>\n",
              "    <tr>\n",
              "      <th>47</th>\n",
              "      <td>sub-048</td>\n",
              "      <td>906</td>\n",
              "      <td>CTL</td>\n",
              "      <td>NaN</td>\n",
              "      <td>no s2</td>\n",
              "      <td>Male</td>\n",
              "      <td>77</td>\n",
              "    </tr>\n",
              "  </tbody>\n",
              "</table>\n",
              "</div>"
            ],
            "text/plain": [
              "   participant_id  Original_ID Group sess1_Med sess2_Med   sex  age\n",
              "47        sub-048          906   CTL       NaN     no s2  Male   77"
            ]
          },
          "metadata": {
            "tags": []
          },
          "execution_count": 133
        }
      ]
    },
    {
      "cell_type": "code",
      "metadata": {
        "id": "UaIWITQZKQ1f"
      },
      "source": [
        "# Section 1\n",
        "url_channels_p48_s01 = commom_path + \"sub-048/ses-01/eeg/sub-048_ses-01_task-SimonConflict_channels.tsv\"\n",
        "url_eletrodes_p48_s01 = commom_path + \"sub-048/ses-01/eeg/sub-048_ses-01_task-SimonConflict_electrodes.tsv\"\n",
        "url_events_p48_s01 = commom_path + \"sub-048/ses-01/eeg/sub-048_ses-01_task-SimonConflict_events.tsv\"\n",
        "\n",
        "channels_p48_s01 = pd.read_csv(url_channels_p48_s01, sep=\"\\t\")\n",
        "eletrodes_p48_s01 = pd.read_csv(url_eletrodes_p48_s01, sep=\"\\t\")\n",
        "events_p48_s01 = pd.read_csv(url_events_p48_s01, sep=\"\\t\")"
      ],
      "execution_count": null,
      "outputs": []
    },
    {
      "cell_type": "markdown",
      "metadata": {
        "id": "CuZ96eJHKQ_S"
      },
      "source": [
        "# Participant #49\n",
        "Number of sections: 1"
      ]
    },
    {
      "cell_type": "code",
      "metadata": {
        "colab": {
          "base_uri": "https://localhost:8080/",
          "height": 80
        },
        "id": "prGrglpMe-_0",
        "outputId": "0e1416e1-0731-4955-d3c9-4ae49677251c"
      },
      "source": [
        "# Participant data\n",
        "p49 = participants[participants['participant_id'] == 'sub-049']\n",
        "p49.head()"
      ],
      "execution_count": 134,
      "outputs": [
        {
          "output_type": "execute_result",
          "data": {
            "text/html": [
              "<div>\n",
              "<style scoped>\n",
              "    .dataframe tbody tr th:only-of-type {\n",
              "        vertical-align: middle;\n",
              "    }\n",
              "\n",
              "    .dataframe tbody tr th {\n",
              "        vertical-align: top;\n",
              "    }\n",
              "\n",
              "    .dataframe thead th {\n",
              "        text-align: right;\n",
              "    }\n",
              "</style>\n",
              "<table border=\"1\" class=\"dataframe\">\n",
              "  <thead>\n",
              "    <tr style=\"text-align: right;\">\n",
              "      <th></th>\n",
              "      <th>participant_id</th>\n",
              "      <th>Original_ID</th>\n",
              "      <th>Group</th>\n",
              "      <th>sess1_Med</th>\n",
              "      <th>sess2_Med</th>\n",
              "      <th>sex</th>\n",
              "      <th>age</th>\n",
              "    </tr>\n",
              "  </thead>\n",
              "  <tbody>\n",
              "    <tr>\n",
              "      <th>48</th>\n",
              "      <td>sub-049</td>\n",
              "      <td>907</td>\n",
              "      <td>CTL</td>\n",
              "      <td>NaN</td>\n",
              "      <td>no s2</td>\n",
              "      <td>Female</td>\n",
              "      <td>65</td>\n",
              "    </tr>\n",
              "  </tbody>\n",
              "</table>\n",
              "</div>"
            ],
            "text/plain": [
              "   participant_id  Original_ID Group sess1_Med sess2_Med     sex  age\n",
              "48        sub-049          907   CTL       NaN     no s2  Female   65"
            ]
          },
          "metadata": {
            "tags": []
          },
          "execution_count": 134
        }
      ]
    },
    {
      "cell_type": "code",
      "metadata": {
        "id": "gDKmXr-ZKQ_T"
      },
      "source": [
        "# Section 1\n",
        "url_channels_p49_s01 = commom_path + \"sub-049/ses-01/eeg/sub-049_ses-01_task-SimonConflict_channels.tsv\"\n",
        "url_eletrodes_p49_s01 = commom_path + \"sub-049/ses-01/eeg/sub-049_ses-01_task-SimonConflict_electrodes.tsv\"\n",
        "url_events_p49_s01 = commom_path + \"sub-049/ses-01/eeg/sub-049_ses-01_task-SimonConflict_events.tsv\"\n",
        "\n",
        "channels_p49_s01 = pd.read_csv(url_channels_p49_s01, sep=\"\\t\")\n",
        "eletrodes_p49_s01 = pd.read_csv(url_eletrodes_p49_s01, sep=\"\\t\")\n",
        "events_p49_s01 = pd.read_csv(url_events_p49_s01, sep=\"\\t\")"
      ],
      "execution_count": null,
      "outputs": []
    },
    {
      "cell_type": "markdown",
      "metadata": {
        "id": "UbmPPiKgKRNA"
      },
      "source": [
        "# Participant #50\n",
        "Number of sections: 1"
      ]
    },
    {
      "cell_type": "code",
      "metadata": {
        "colab": {
          "base_uri": "https://localhost:8080/",
          "height": 80
        },
        "id": "raO9pM-Be_Ww",
        "outputId": "7ef9085b-319a-43fa-a326-c7b01fa2e843"
      },
      "source": [
        "# Participant data\n",
        "p50 = participants[participants['participant_id'] == 'sub-050']\n",
        "p50.head()"
      ],
      "execution_count": 135,
      "outputs": [
        {
          "output_type": "execute_result",
          "data": {
            "text/html": [
              "<div>\n",
              "<style scoped>\n",
              "    .dataframe tbody tr th:only-of-type {\n",
              "        vertical-align: middle;\n",
              "    }\n",
              "\n",
              "    .dataframe tbody tr th {\n",
              "        vertical-align: top;\n",
              "    }\n",
              "\n",
              "    .dataframe thead th {\n",
              "        text-align: right;\n",
              "    }\n",
              "</style>\n",
              "<table border=\"1\" class=\"dataframe\">\n",
              "  <thead>\n",
              "    <tr style=\"text-align: right;\">\n",
              "      <th></th>\n",
              "      <th>participant_id</th>\n",
              "      <th>Original_ID</th>\n",
              "      <th>Group</th>\n",
              "      <th>sess1_Med</th>\n",
              "      <th>sess2_Med</th>\n",
              "      <th>sex</th>\n",
              "      <th>age</th>\n",
              "    </tr>\n",
              "  </thead>\n",
              "  <tbody>\n",
              "    <tr>\n",
              "      <th>49</th>\n",
              "      <td>sub-050</td>\n",
              "      <td>908</td>\n",
              "      <td>CTL</td>\n",
              "      <td>NaN</td>\n",
              "      <td>no s2</td>\n",
              "      <td>Male</td>\n",
              "      <td>75</td>\n",
              "    </tr>\n",
              "  </tbody>\n",
              "</table>\n",
              "</div>"
            ],
            "text/plain": [
              "   participant_id  Original_ID Group sess1_Med sess2_Med   sex  age\n",
              "49        sub-050          908   CTL       NaN     no s2  Male   75"
            ]
          },
          "metadata": {
            "tags": []
          },
          "execution_count": 135
        }
      ]
    },
    {
      "cell_type": "code",
      "metadata": {
        "id": "xrofqOebKRNB"
      },
      "source": [
        "# Section 1\n",
        "url_channels_p50_s01 = commom_path + \"sub-050/ses-01/eeg/sub-050_ses-01_task-SimonConflict_channels.tsv\"\n",
        "url_eletrodes_p50_s01 = commom_path + \"sub-050/ses-01/eeg/sub-050_ses-01_task-SimonConflict_electrodes.tsv\"\n",
        "url_events_p50_s01 = commom_path + \"sub-050/ses-01/eeg/sub-050_ses-01_task-SimonConflict_events.tsv\"\n",
        "\n",
        "channels_p50_s01 = pd.read_csv(url_channels_p50_s01, sep=\"\\t\")\n",
        "eletrodes_p50_s01 = pd.read_csv(url_eletrodes_p50_s01, sep=\"\\t\")\n",
        "events_p50_s01 = pd.read_csv(url_events_p50_s01, sep=\"\\t\")"
      ],
      "execution_count": null,
      "outputs": []
    },
    {
      "cell_type": "markdown",
      "metadata": {
        "id": "NwULrixVKRXm"
      },
      "source": [
        "# Participant #51\n",
        "Number of sections: 1"
      ]
    },
    {
      "cell_type": "code",
      "metadata": {
        "colab": {
          "base_uri": "https://localhost:8080/",
          "height": 80
        },
        "id": "gN7NpsxSe_7P",
        "outputId": "26033609-e595-4908-927b-c732bf95e6f4"
      },
      "source": [
        "# Participant data\n",
        "p51 = participants[participants['participant_id'] == 'sub-051']\n",
        "p51.head()"
      ],
      "execution_count": 136,
      "outputs": [
        {
          "output_type": "execute_result",
          "data": {
            "text/html": [
              "<div>\n",
              "<style scoped>\n",
              "    .dataframe tbody tr th:only-of-type {\n",
              "        vertical-align: middle;\n",
              "    }\n",
              "\n",
              "    .dataframe tbody tr th {\n",
              "        vertical-align: top;\n",
              "    }\n",
              "\n",
              "    .dataframe thead th {\n",
              "        text-align: right;\n",
              "    }\n",
              "</style>\n",
              "<table border=\"1\" class=\"dataframe\">\n",
              "  <thead>\n",
              "    <tr style=\"text-align: right;\">\n",
              "      <th></th>\n",
              "      <th>participant_id</th>\n",
              "      <th>Original_ID</th>\n",
              "      <th>Group</th>\n",
              "      <th>sess1_Med</th>\n",
              "      <th>sess2_Med</th>\n",
              "      <th>sex</th>\n",
              "      <th>age</th>\n",
              "    </tr>\n",
              "  </thead>\n",
              "  <tbody>\n",
              "    <tr>\n",
              "      <th>50</th>\n",
              "      <td>sub-051</td>\n",
              "      <td>909</td>\n",
              "      <td>CTL</td>\n",
              "      <td>NaN</td>\n",
              "      <td>no s2</td>\n",
              "      <td>Male</td>\n",
              "      <td>64</td>\n",
              "    </tr>\n",
              "  </tbody>\n",
              "</table>\n",
              "</div>"
            ],
            "text/plain": [
              "   participant_id  Original_ID Group sess1_Med sess2_Med   sex  age\n",
              "50        sub-051          909   CTL       NaN     no s2  Male   64"
            ]
          },
          "metadata": {
            "tags": []
          },
          "execution_count": 136
        }
      ]
    },
    {
      "cell_type": "code",
      "metadata": {
        "id": "3ha3LGoZKRXn"
      },
      "source": [
        "# Section 1\n",
        "url_channels_p51_s01 = commom_path + \"sub-051/ses-01/eeg/sub-051_ses-01_task-SimonConflict_channels.tsv\"\n",
        "url_eletrodes_p51_s01 = commom_path + \"sub-051/ses-01/eeg/sub-051_ses-01_task-SimonConflict_electrodes.tsv\"\n",
        "url_events_p51_s01 = commom_path + \"sub-051/ses-01/eeg/sub-051_ses-01_task-SimonConflict_events.tsv\"\n",
        "\n",
        "channels_p51_s01 = pd.read_csv(url_channels_p51_s01, sep=\"\\t\")\n",
        "eletrodes_p51_s01 = pd.read_csv(url_eletrodes_p51_s01, sep=\"\\t\")\n",
        "events_p51_s01 = pd.read_csv(url_events_p51_s01, sep=\"\\t\")"
      ],
      "execution_count": null,
      "outputs": []
    },
    {
      "cell_type": "markdown",
      "metadata": {
        "id": "5s5AtW1CKRh8"
      },
      "source": [
        "# Participant #52\n",
        "Number of sections: 1"
      ]
    },
    {
      "cell_type": "code",
      "metadata": {
        "colab": {
          "base_uri": "https://localhost:8080/",
          "height": 80
        },
        "id": "sziSJsWNfAZm",
        "outputId": "c4d694c8-7ea0-4156-b79f-459227489470"
      },
      "source": [
        "# Participant data\n",
        "p52 = participants[participants['participant_id'] == 'sub-052']\n",
        "p52.head()"
      ],
      "execution_count": null,
      "outputs": [
        {
          "output_type": "execute_result",
          "data": {
            "text/html": [
              "<div>\n",
              "<style scoped>\n",
              "    .dataframe tbody tr th:only-of-type {\n",
              "        vertical-align: middle;\n",
              "    }\n",
              "\n",
              "    .dataframe tbody tr th {\n",
              "        vertical-align: top;\n",
              "    }\n",
              "\n",
              "    .dataframe thead th {\n",
              "        text-align: right;\n",
              "    }\n",
              "</style>\n",
              "<table border=\"1\" class=\"dataframe\">\n",
              "  <thead>\n",
              "    <tr style=\"text-align: right;\">\n",
              "      <th></th>\n",
              "      <th>participant_id</th>\n",
              "      <th>Original_ID</th>\n",
              "      <th>Group</th>\n",
              "      <th>sess1_Med</th>\n",
              "      <th>sess2_Med</th>\n",
              "      <th>sex</th>\n",
              "      <th>age</th>\n",
              "    </tr>\n",
              "  </thead>\n",
              "  <tbody>\n",
              "    <tr>\n",
              "      <th>0</th>\n",
              "      <td>sub-001</td>\n",
              "      <td>8010</td>\n",
              "      <td>CTL</td>\n",
              "      <td>NaN</td>\n",
              "      <td>no s2</td>\n",
              "      <td>Female</td>\n",
              "      <td>61</td>\n",
              "    </tr>\n",
              "  </tbody>\n",
              "</table>\n",
              "</div>"
            ],
            "text/plain": [
              "  participant_id  Original_ID Group sess1_Med sess2_Med     sex  age\n",
              "0        sub-001         8010   CTL       NaN     no s2  Female   61"
            ]
          },
          "metadata": {
            "tags": []
          },
          "execution_count": 92
        }
      ]
    },
    {
      "cell_type": "code",
      "metadata": {
        "id": "bei23OgYKRh8"
      },
      "source": [
        "# Section 1\n",
        "url_channels_p52_s01 = commom_path + \"sub-052/ses-01/eeg/sub-052_ses-01_task-SimonConflict_channels.tsv\"\n",
        "url_eletrodes_p52_s01 = commom_path + \"sub-052/ses-01/eeg/sub-052_ses-01_task-SimonConflict_electrodes.tsv\"\n",
        "url_events_p52_s01 = commom_path + \"sub-052/ses-01/eeg/sub-052_ses-01_task-SimonConflict_events.tsv\"\n",
        "\n",
        "channels_p52_s01 = pd.read_csv(url_channels_p52_s01, sep=\"\\t\")\n",
        "eletrodes_p52_s01 = pd.read_csv(url_eletrodes_p52_s01, sep=\"\\t\")\n",
        "events_p52_s01 = pd.read_csv(url_events_p52_s01, sep=\"\\t\")"
      ],
      "execution_count": null,
      "outputs": []
    },
    {
      "cell_type": "markdown",
      "metadata": {
        "id": "QNl8lEDtKRst"
      },
      "source": [
        "# Participant #53\n",
        "Number of sections: 1"
      ]
    },
    {
      "cell_type": "code",
      "metadata": {
        "colab": {
          "base_uri": "https://localhost:8080/",
          "height": 80
        },
        "id": "sOaoJrhzfA1L",
        "outputId": "0a49b096-bebb-424c-d56c-7c2167691a73"
      },
      "source": [
        "# Participant data\n",
        "p53 = participants[participants['participant_id'] == 'sub-053']\n",
        "p53.head()"
      ],
      "execution_count": 137,
      "outputs": [
        {
          "output_type": "execute_result",
          "data": {
            "text/html": [
              "<div>\n",
              "<style scoped>\n",
              "    .dataframe tbody tr th:only-of-type {\n",
              "        vertical-align: middle;\n",
              "    }\n",
              "\n",
              "    .dataframe tbody tr th {\n",
              "        vertical-align: top;\n",
              "    }\n",
              "\n",
              "    .dataframe thead th {\n",
              "        text-align: right;\n",
              "    }\n",
              "</style>\n",
              "<table border=\"1\" class=\"dataframe\">\n",
              "  <thead>\n",
              "    <tr style=\"text-align: right;\">\n",
              "      <th></th>\n",
              "      <th>participant_id</th>\n",
              "      <th>Original_ID</th>\n",
              "      <th>Group</th>\n",
              "      <th>sess1_Med</th>\n",
              "      <th>sess2_Med</th>\n",
              "      <th>sex</th>\n",
              "      <th>age</th>\n",
              "    </tr>\n",
              "  </thead>\n",
              "  <tbody>\n",
              "    <tr>\n",
              "      <th>52</th>\n",
              "      <td>sub-053</td>\n",
              "      <td>911</td>\n",
              "      <td>CTL</td>\n",
              "      <td>NaN</td>\n",
              "      <td>no s2</td>\n",
              "      <td>Male</td>\n",
              "      <td>73</td>\n",
              "    </tr>\n",
              "  </tbody>\n",
              "</table>\n",
              "</div>"
            ],
            "text/plain": [
              "   participant_id  Original_ID Group sess1_Med sess2_Med   sex  age\n",
              "52        sub-053          911   CTL       NaN     no s2  Male   73"
            ]
          },
          "metadata": {
            "tags": []
          },
          "execution_count": 137
        }
      ]
    },
    {
      "cell_type": "code",
      "metadata": {
        "id": "p6XPEEUuKRsu"
      },
      "source": [
        "# Section 1\n",
        "url_channels_p53_s01 = commom_path + \"sub-053/ses-01/eeg/sub-053_ses-01_task-SimonConflict_channels.tsv\"\n",
        "url_eletrodes_p53_s01 = commom_path + \"sub-053/ses-01/eeg/sub-053_ses-01_task-SimonConflict_electrodes.tsv\"\n",
        "url_events_p53_s01 = commom_path + \"sub-053/ses-01/eeg/sub-053_ses-01_task-SimonConflict_events.tsv\"\n",
        "\n",
        "channels_p53_s01 = pd.read_csv(url_channels_p53_s01, sep=\"\\t\")\n",
        "eletrodes_p53_s01 = pd.read_csv(url_eletrodes_p53_s01, sep=\"\\t\")\n",
        "events_p53_s01 = pd.read_csv(url_events_p53_s01, sep=\"\\t\")"
      ],
      "execution_count": null,
      "outputs": []
    },
    {
      "cell_type": "markdown",
      "metadata": {
        "id": "HFZNUuSHKR1v"
      },
      "source": [
        "# Participant #54\n",
        "Number of sections: 1"
      ]
    },
    {
      "cell_type": "code",
      "metadata": {
        "colab": {
          "base_uri": "https://localhost:8080/",
          "height": 80
        },
        "id": "genCe1u2fBMW",
        "outputId": "dd3c7c1d-6d2d-4111-b610-31e55f2c716b"
      },
      "source": [
        "# Participant data\n",
        "p54 = participants[participants['participant_id'] == 'sub-054']\n",
        "p54.head()"
      ],
      "execution_count": 138,
      "outputs": [
        {
          "output_type": "execute_result",
          "data": {
            "text/html": [
              "<div>\n",
              "<style scoped>\n",
              "    .dataframe tbody tr th:only-of-type {\n",
              "        vertical-align: middle;\n",
              "    }\n",
              "\n",
              "    .dataframe tbody tr th {\n",
              "        vertical-align: top;\n",
              "    }\n",
              "\n",
              "    .dataframe thead th {\n",
              "        text-align: right;\n",
              "    }\n",
              "</style>\n",
              "<table border=\"1\" class=\"dataframe\">\n",
              "  <thead>\n",
              "    <tr style=\"text-align: right;\">\n",
              "      <th></th>\n",
              "      <th>participant_id</th>\n",
              "      <th>Original_ID</th>\n",
              "      <th>Group</th>\n",
              "      <th>sess1_Med</th>\n",
              "      <th>sess2_Med</th>\n",
              "      <th>sex</th>\n",
              "      <th>age</th>\n",
              "    </tr>\n",
              "  </thead>\n",
              "  <tbody>\n",
              "    <tr>\n",
              "      <th>53</th>\n",
              "      <td>sub-054</td>\n",
              "      <td>912</td>\n",
              "      <td>CTL</td>\n",
              "      <td>NaN</td>\n",
              "      <td>no s2</td>\n",
              "      <td>Male</td>\n",
              "      <td>75</td>\n",
              "    </tr>\n",
              "  </tbody>\n",
              "</table>\n",
              "</div>"
            ],
            "text/plain": [
              "   participant_id  Original_ID Group sess1_Med sess2_Med   sex  age\n",
              "53        sub-054          912   CTL       NaN     no s2  Male   75"
            ]
          },
          "metadata": {
            "tags": []
          },
          "execution_count": 138
        }
      ]
    },
    {
      "cell_type": "code",
      "metadata": {
        "id": "SrM6LNpmKR1w"
      },
      "source": [
        "# Section 1\n",
        "url_channels_p54_s01 = commom_path + \"sub-054/ses-01/eeg/sub-054_ses-01_task-SimonConflict_channels.tsv\"\n",
        "url_eletrodes_p54_s01 = commom_path + \"sub-054/ses-01/eeg/sub-054_ses-01_task-SimonConflict_electrodes.tsv\"\n",
        "url_events_p54_s01 = commom_path + \"sub-054/ses-01/eeg/sub-054_ses-01_task-SimonConflict_events.tsv\"\n",
        "\n",
        "channels_p54_s01 = pd.read_csv(url_channels_p54_s01, sep=\"\\t\")\n",
        "eletrodes_p54_s01 = pd.read_csv(url_eletrodes_p54_s01, sep=\"\\t\")\n",
        "events_p54_s01 = pd.read_csv(url_events_p54_s01, sep=\"\\t\")"
      ],
      "execution_count": null,
      "outputs": []
    },
    {
      "cell_type": "markdown",
      "metadata": {
        "id": "wzLCm-OzKR_k"
      },
      "source": [
        "# Participant #55\n",
        "Number of sections: 1"
      ]
    },
    {
      "cell_type": "code",
      "metadata": {
        "colab": {
          "base_uri": "https://localhost:8080/",
          "height": 80
        },
        "id": "-P0bkJngfBxq",
        "outputId": "f535962c-a6c4-4d64-b347-c1fd3051934c"
      },
      "source": [
        "# Participant data\n",
        "p55 = participants[participants['participant_id'] == 'sub-055']\n",
        "p55.head()"
      ],
      "execution_count": 139,
      "outputs": [
        {
          "output_type": "execute_result",
          "data": {
            "text/html": [
              "<div>\n",
              "<style scoped>\n",
              "    .dataframe tbody tr th:only-of-type {\n",
              "        vertical-align: middle;\n",
              "    }\n",
              "\n",
              "    .dataframe tbody tr th {\n",
              "        vertical-align: top;\n",
              "    }\n",
              "\n",
              "    .dataframe thead th {\n",
              "        text-align: right;\n",
              "    }\n",
              "</style>\n",
              "<table border=\"1\" class=\"dataframe\">\n",
              "  <thead>\n",
              "    <tr style=\"text-align: right;\">\n",
              "      <th></th>\n",
              "      <th>participant_id</th>\n",
              "      <th>Original_ID</th>\n",
              "      <th>Group</th>\n",
              "      <th>sess1_Med</th>\n",
              "      <th>sess2_Med</th>\n",
              "      <th>sex</th>\n",
              "      <th>age</th>\n",
              "    </tr>\n",
              "  </thead>\n",
              "  <tbody>\n",
              "    <tr>\n",
              "      <th>54</th>\n",
              "      <td>sub-055</td>\n",
              "      <td>913</td>\n",
              "      <td>CTL</td>\n",
              "      <td>NaN</td>\n",
              "      <td>no s2</td>\n",
              "      <td>Male</td>\n",
              "      <td>69</td>\n",
              "    </tr>\n",
              "  </tbody>\n",
              "</table>\n",
              "</div>"
            ],
            "text/plain": [
              "   participant_id  Original_ID Group sess1_Med sess2_Med   sex  age\n",
              "54        sub-055          913   CTL       NaN     no s2  Male   69"
            ]
          },
          "metadata": {
            "tags": []
          },
          "execution_count": 139
        }
      ]
    },
    {
      "cell_type": "code",
      "metadata": {
        "id": "wzgKhhg3KR_k"
      },
      "source": [
        "# Section 1\n",
        "url_channels_p55_s01 = commom_path + \"sub-055/ses-01/eeg/sub-055_ses-01_task-SimonConflict_channels.tsv\"\n",
        "url_eletrodes_p55_s01 = commom_path + \"sub-055/ses-01/eeg/sub-055_ses-01_task-SimonConflict_electrodes.tsv\"\n",
        "url_events_p55_s01 = commom_path + \"sub-055/ses-01/eeg/sub-055_ses-01_task-SimonConflict_events.tsv\"\n",
        "\n",
        "channels_p55_s01 = pd.read_csv(url_channels_p55_s01, sep=\"\\t\")\n",
        "eletrodes_p55_s01 = pd.read_csv(url_eletrodes_p55_s01, sep=\"\\t\")\n",
        "events_p55_s01 = pd.read_csv(url_events_p55_s01, sep=\"\\t\")"
      ],
      "execution_count": null,
      "outputs": []
    },
    {
      "cell_type": "markdown",
      "metadata": {
        "id": "_T6AJ1fKa-wU"
      },
      "source": [
        "# Participant #56\n",
        "Number of sections: 1"
      ]
    },
    {
      "cell_type": "code",
      "metadata": {
        "colab": {
          "base_uri": "https://localhost:8080/",
          "height": 80
        },
        "id": "qhsg6QQmfCSk",
        "outputId": "41ed0294-d0f9-47c4-debb-19d237c933fd"
      },
      "source": [
        "# Participant data\n",
        "p56 = participants[participants['participant_id'] == 'sub-056']\n",
        "p56.head()"
      ],
      "execution_count": 140,
      "outputs": [
        {
          "output_type": "execute_result",
          "data": {
            "text/html": [
              "<div>\n",
              "<style scoped>\n",
              "    .dataframe tbody tr th:only-of-type {\n",
              "        vertical-align: middle;\n",
              "    }\n",
              "\n",
              "    .dataframe tbody tr th {\n",
              "        vertical-align: top;\n",
              "    }\n",
              "\n",
              "    .dataframe thead th {\n",
              "        text-align: right;\n",
              "    }\n",
              "</style>\n",
              "<table border=\"1\" class=\"dataframe\">\n",
              "  <thead>\n",
              "    <tr style=\"text-align: right;\">\n",
              "      <th></th>\n",
              "      <th>participant_id</th>\n",
              "      <th>Original_ID</th>\n",
              "      <th>Group</th>\n",
              "      <th>sess1_Med</th>\n",
              "      <th>sess2_Med</th>\n",
              "      <th>sex</th>\n",
              "      <th>age</th>\n",
              "    </tr>\n",
              "  </thead>\n",
              "  <tbody>\n",
              "    <tr>\n",
              "      <th>55</th>\n",
              "      <td>sub-056</td>\n",
              "      <td>914</td>\n",
              "      <td>CTL</td>\n",
              "      <td>NaN</td>\n",
              "      <td>no s2</td>\n",
              "      <td>Female</td>\n",
              "      <td>48</td>\n",
              "    </tr>\n",
              "  </tbody>\n",
              "</table>\n",
              "</div>"
            ],
            "text/plain": [
              "   participant_id  Original_ID Group sess1_Med sess2_Med     sex  age\n",
              "55        sub-056          914   CTL       NaN     no s2  Female   48"
            ]
          },
          "metadata": {
            "tags": []
          },
          "execution_count": 140
        }
      ]
    },
    {
      "cell_type": "code",
      "metadata": {
        "id": "5b4jin14a-wX"
      },
      "source": [
        "# Section 1\n",
        "url_channels_p56_s01 = commom_path + \"sub-056/ses-01/eeg/sub-056_ses-01_task-SimonConflict_channels.tsv\"\n",
        "url_eletrodes_p56_s01 = commom_path + \"sub-056/ses-01/eeg/sub-056_ses-01_task-SimonConflict_electrodes.tsv\"\n",
        "url_events_p56_s01 = commom_path + \"sub-056/ses-01/eeg/sub-056_ses-01_task-SimonConflict_events.tsv\"\n",
        "\n",
        "channels_p56_s01 = pd.read_csv(url_channels_p56_s01, sep=\"\\t\")\n",
        "eletrodes_p56_s01 = pd.read_csv(url_eletrodes_p56_s01, sep=\"\\t\")\n",
        "events_p56_s01 = pd.read_csv(url_events_p56_s01, sep=\"\\t\")"
      ],
      "execution_count": null,
      "outputs": []
    }
  ]
}