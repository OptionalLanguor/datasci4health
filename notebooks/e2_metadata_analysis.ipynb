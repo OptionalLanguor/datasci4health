{
 "cells": [
  {
   "cell_type": "markdown",
   "metadata": {
    "id": "KLSKmBpPaU90"
   },
   "source": [
    "# **Data Science for Health**\n",
    "\n",
    "## Project Activity - E2 - Exploratory Data Analysis"
   ]
  },
  {
   "cell_type": "markdown",
   "metadata": {},
   "source": [
    "---\n",
    "\n",
    "Group Members and RA:\n",
    "\n",
    "Alessandro Welbi Domingues Junior   263535\n",
    "\n",
    "Felipe Augusto Oliveira dos Santos  233292\n",
    "\n",
    "Felipe Marinho Tavares              265680\n",
    "\n",
    "Thiago Machado da Cunha             231357\n",
    "\n",
    "---"
   ]
  },
  {
   "cell_type": "markdown",
   "metadata": {
    "id": "KLSKmBpPaU90"
   },
   "source": [
    "About the *dataset*:\n",
    "\n",
    ">The dataset consists in Simon conflict task with cost of conflict reinforcement manipulation where 28 Parkinson patients and 28 matched controls were studied. PD came in twice separated by a week, either ON or OFF medication. CTL only came in once.  The data was collected in 2015 at Cognitive Rhythms and Computation Lab at University of New Mexico.  Patients also had an acceleromter taped to their most tremor affected hand.  X, Y, Z dimensions recorded throughout.\n",
    "\n",
    "\n",
    "*About EEG Channels*:\n",
    "\n",
    ">An electrode capturing brainwave activity is called an EEG channel. Typical EEG systems can have as few as a single channel to as many as 256 channels. Electrode placement on the head adheres to a formal standard called the 10/20 system or International 10/20 system. This system uses the distance from the bridge of the nose (the nasion) to the lowest point of the skull from the back of the head (normally indicated by a prominent bump—the inion) as a reference distance for a given person’s head size. The electrodes are then separated from each other either by 10% or 20% of this reference distance "
   ]
  },
  {
   "cell_type": "markdown",
   "metadata": {},
   "source": [
    "Out of the total 84 recordings from the dataset, 56 have metadata with information about sex and age."
   ]
  },
  {
   "cell_type": "code",
   "execution_count": 1,
   "metadata": {
    "id": "0-iJt-HNbkoz"
   },
   "outputs": [],
   "source": [
    "import pandas as pd\n",
    "import matplotlib.pyplot as plt"
   ]
  },
  {
   "cell_type": "markdown",
   "metadata": {
    "id": "FR4KTvftbt7C"
   },
   "source": [
    "# Importing dataset metadata"
   ]
  },
  {
   "cell_type": "code",
   "execution_count": 2,
   "metadata": {
    "colab": {
     "base_uri": "https://localhost:8080/",
     "height": 204
    },
    "id": "dsi3d-RMbub9",
    "outputId": "6c9d0b73-532e-4476-eb6f-1bcfbe837d92"
   },
   "outputs": [
    {
     "data": {
      "text/html": [
       "<div>\n",
       "<style scoped>\n",
       "    .dataframe tbody tr th:only-of-type {\n",
       "        vertical-align: middle;\n",
       "    }\n",
       "\n",
       "    .dataframe tbody tr th {\n",
       "        vertical-align: top;\n",
       "    }\n",
       "\n",
       "    .dataframe thead th {\n",
       "        text-align: right;\n",
       "    }\n",
       "</style>\n",
       "<table border=\"1\" class=\"dataframe\">\n",
       "  <thead>\n",
       "    <tr style=\"text-align: right;\">\n",
       "      <th></th>\n",
       "      <th>participant_id</th>\n",
       "      <th>Original_ID</th>\n",
       "      <th>Group</th>\n",
       "      <th>sess1_Med</th>\n",
       "      <th>sess2_Med</th>\n",
       "      <th>sex</th>\n",
       "      <th>age</th>\n",
       "    </tr>\n",
       "  </thead>\n",
       "  <tbody>\n",
       "    <tr>\n",
       "      <th>0</th>\n",
       "      <td>sub-001</td>\n",
       "      <td>8010</td>\n",
       "      <td>CTL</td>\n",
       "      <td>NaN</td>\n",
       "      <td>no s2</td>\n",
       "      <td>Female</td>\n",
       "      <td>61</td>\n",
       "    </tr>\n",
       "    <tr>\n",
       "      <th>1</th>\n",
       "      <td>sub-002</td>\n",
       "      <td>801</td>\n",
       "      <td>PD</td>\n",
       "      <td>ON</td>\n",
       "      <td>OFF</td>\n",
       "      <td>Female</td>\n",
       "      <td>60</td>\n",
       "    </tr>\n",
       "    <tr>\n",
       "      <th>2</th>\n",
       "      <td>sub-003</td>\n",
       "      <td>802</td>\n",
       "      <td>PD</td>\n",
       "      <td>OFF</td>\n",
       "      <td>ON</td>\n",
       "      <td>Male</td>\n",
       "      <td>75</td>\n",
       "    </tr>\n",
       "    <tr>\n",
       "      <th>3</th>\n",
       "      <td>sub-004</td>\n",
       "      <td>803</td>\n",
       "      <td>PD</td>\n",
       "      <td>OFF</td>\n",
       "      <td>ON</td>\n",
       "      <td>Female</td>\n",
       "      <td>76</td>\n",
       "    </tr>\n",
       "    <tr>\n",
       "      <th>4</th>\n",
       "      <td>sub-005</td>\n",
       "      <td>804</td>\n",
       "      <td>PD</td>\n",
       "      <td>ON</td>\n",
       "      <td>OFF</td>\n",
       "      <td>Male</td>\n",
       "      <td>75</td>\n",
       "    </tr>\n",
       "  </tbody>\n",
       "</table>\n",
       "</div>"
      ],
      "text/plain": [
       "  participant_id  Original_ID Group sess1_Med sess2_Med     sex  age\n",
       "0        sub-001         8010   CTL       NaN     no s2  Female   61\n",
       "1        sub-002          801    PD        ON       OFF  Female   60\n",
       "2        sub-003          802    PD       OFF        ON    Male   75\n",
       "3        sub-004          803    PD       OFF        ON  Female   76\n",
       "4        sub-005          804    PD        ON       OFF    Male   75"
      ]
     },
     "execution_count": 2,
     "metadata": {},
     "output_type": "execute_result"
    }
   ],
   "source": [
    "commom_path = \"https://raw.githubusercontent.com/OptionalLanguor/datasci4health/master/data/external/eeglab_dataset/\"\n",
    "participants_file = \"participants.tsv\"\n",
    "\n",
    "url_participants = commom_path + participants_file\n",
    "participants = pd.read_csv(url_participants, sep=\"\\t\")\n",
    "\n",
    "participants.head()"
   ]
  },
  {
   "cell_type": "markdown",
   "metadata": {
    "id": "zVzGb9p381vi"
   },
   "source": [
    "## Replacing sex values\n",
    "Female: 0\n",
    "Male: 1\n"
   ]
  },
  {
   "cell_type": "code",
   "execution_count": 3,
   "metadata": {
    "colab": {
     "base_uri": "https://localhost:8080/",
     "height": 204
    },
    "id": "0kmE_dcH5oF1",
    "outputId": "cac210e7-ea6f-4f2f-c1a0-009e72080e43"
   },
   "outputs": [
    {
     "data": {
      "text/html": [
       "<div>\n",
       "<style scoped>\n",
       "    .dataframe tbody tr th:only-of-type {\n",
       "        vertical-align: middle;\n",
       "    }\n",
       "\n",
       "    .dataframe tbody tr th {\n",
       "        vertical-align: top;\n",
       "    }\n",
       "\n",
       "    .dataframe thead th {\n",
       "        text-align: right;\n",
       "    }\n",
       "</style>\n",
       "<table border=\"1\" class=\"dataframe\">\n",
       "  <thead>\n",
       "    <tr style=\"text-align: right;\">\n",
       "      <th></th>\n",
       "      <th>participant_id</th>\n",
       "      <th>Original_ID</th>\n",
       "      <th>Group</th>\n",
       "      <th>sess1_Med</th>\n",
       "      <th>sess2_Med</th>\n",
       "      <th>sex</th>\n",
       "      <th>age</th>\n",
       "    </tr>\n",
       "  </thead>\n",
       "  <tbody>\n",
       "    <tr>\n",
       "      <th>0</th>\n",
       "      <td>sub-001</td>\n",
       "      <td>8010</td>\n",
       "      <td>CTL</td>\n",
       "      <td>NaN</td>\n",
       "      <td>no s2</td>\n",
       "      <td>0</td>\n",
       "      <td>61</td>\n",
       "    </tr>\n",
       "    <tr>\n",
       "      <th>1</th>\n",
       "      <td>sub-002</td>\n",
       "      <td>801</td>\n",
       "      <td>PD</td>\n",
       "      <td>ON</td>\n",
       "      <td>OFF</td>\n",
       "      <td>0</td>\n",
       "      <td>60</td>\n",
       "    </tr>\n",
       "    <tr>\n",
       "      <th>2</th>\n",
       "      <td>sub-003</td>\n",
       "      <td>802</td>\n",
       "      <td>PD</td>\n",
       "      <td>OFF</td>\n",
       "      <td>ON</td>\n",
       "      <td>1</td>\n",
       "      <td>75</td>\n",
       "    </tr>\n",
       "    <tr>\n",
       "      <th>3</th>\n",
       "      <td>sub-004</td>\n",
       "      <td>803</td>\n",
       "      <td>PD</td>\n",
       "      <td>OFF</td>\n",
       "      <td>ON</td>\n",
       "      <td>0</td>\n",
       "      <td>76</td>\n",
       "    </tr>\n",
       "    <tr>\n",
       "      <th>4</th>\n",
       "      <td>sub-005</td>\n",
       "      <td>804</td>\n",
       "      <td>PD</td>\n",
       "      <td>ON</td>\n",
       "      <td>OFF</td>\n",
       "      <td>1</td>\n",
       "      <td>75</td>\n",
       "    </tr>\n",
       "  </tbody>\n",
       "</table>\n",
       "</div>"
      ],
      "text/plain": [
       "  participant_id  Original_ID Group sess1_Med sess2_Med  sex  age\n",
       "0        sub-001         8010   CTL       NaN     no s2    0   61\n",
       "1        sub-002          801    PD        ON       OFF    0   60\n",
       "2        sub-003          802    PD       OFF        ON    1   75\n",
       "3        sub-004          803    PD       OFF        ON    0   76\n",
       "4        sub-005          804    PD        ON       OFF    1   75"
      ]
     },
     "execution_count": 3,
     "metadata": {},
     "output_type": "execute_result"
    }
   ],
   "source": [
    "participants['sex'] = participants['sex'].replace(['Female'], 0)\n",
    "participants['sex'] = participants['sex'].replace(['Male'], 1)\n",
    "\n",
    "participants.head()"
   ]
  },
  {
   "cell_type": "markdown",
   "metadata": {
    "id": "jKW580yPB6E0"
   },
   "source": [
    "## Replacing group values\n",
    "CTL: 0\n",
    "PD: 1"
   ]
  },
  {
   "cell_type": "code",
   "execution_count": 4,
   "metadata": {
    "colab": {
     "base_uri": "https://localhost:8080/",
     "height": 204
    },
    "id": "2QijNL7GCClL",
    "outputId": "b0f0d384-9709-418e-d3a6-3e2bd8e0fd2e"
   },
   "outputs": [
    {
     "data": {
      "text/html": [
       "<div>\n",
       "<style scoped>\n",
       "    .dataframe tbody tr th:only-of-type {\n",
       "        vertical-align: middle;\n",
       "    }\n",
       "\n",
       "    .dataframe tbody tr th {\n",
       "        vertical-align: top;\n",
       "    }\n",
       "\n",
       "    .dataframe thead th {\n",
       "        text-align: right;\n",
       "    }\n",
       "</style>\n",
       "<table border=\"1\" class=\"dataframe\">\n",
       "  <thead>\n",
       "    <tr style=\"text-align: right;\">\n",
       "      <th></th>\n",
       "      <th>participant_id</th>\n",
       "      <th>Original_ID</th>\n",
       "      <th>Group</th>\n",
       "      <th>sess1_Med</th>\n",
       "      <th>sess2_Med</th>\n",
       "      <th>sex</th>\n",
       "      <th>age</th>\n",
       "    </tr>\n",
       "  </thead>\n",
       "  <tbody>\n",
       "    <tr>\n",
       "      <th>0</th>\n",
       "      <td>sub-001</td>\n",
       "      <td>8010</td>\n",
       "      <td>0</td>\n",
       "      <td>NaN</td>\n",
       "      <td>no s2</td>\n",
       "      <td>0</td>\n",
       "      <td>61</td>\n",
       "    </tr>\n",
       "    <tr>\n",
       "      <th>1</th>\n",
       "      <td>sub-002</td>\n",
       "      <td>801</td>\n",
       "      <td>1</td>\n",
       "      <td>ON</td>\n",
       "      <td>OFF</td>\n",
       "      <td>0</td>\n",
       "      <td>60</td>\n",
       "    </tr>\n",
       "    <tr>\n",
       "      <th>2</th>\n",
       "      <td>sub-003</td>\n",
       "      <td>802</td>\n",
       "      <td>1</td>\n",
       "      <td>OFF</td>\n",
       "      <td>ON</td>\n",
       "      <td>1</td>\n",
       "      <td>75</td>\n",
       "    </tr>\n",
       "    <tr>\n",
       "      <th>3</th>\n",
       "      <td>sub-004</td>\n",
       "      <td>803</td>\n",
       "      <td>1</td>\n",
       "      <td>OFF</td>\n",
       "      <td>ON</td>\n",
       "      <td>0</td>\n",
       "      <td>76</td>\n",
       "    </tr>\n",
       "    <tr>\n",
       "      <th>4</th>\n",
       "      <td>sub-005</td>\n",
       "      <td>804</td>\n",
       "      <td>1</td>\n",
       "      <td>ON</td>\n",
       "      <td>OFF</td>\n",
       "      <td>1</td>\n",
       "      <td>75</td>\n",
       "    </tr>\n",
       "  </tbody>\n",
       "</table>\n",
       "</div>"
      ],
      "text/plain": [
       "  participant_id  Original_ID  Group sess1_Med sess2_Med  sex  age\n",
       "0        sub-001         8010      0       NaN     no s2    0   61\n",
       "1        sub-002          801      1        ON       OFF    0   60\n",
       "2        sub-003          802      1       OFF        ON    1   75\n",
       "3        sub-004          803      1       OFF        ON    0   76\n",
       "4        sub-005          804      1        ON       OFF    1   75"
      ]
     },
     "execution_count": 4,
     "metadata": {},
     "output_type": "execute_result"
    }
   ],
   "source": [
    "participants['Group'] = participants['Group'].replace(['CTL'], 0)\n",
    "participants['Group'] = participants['Group'].replace(['PD'], 1)\n",
    "\n",
    "participants.head()"
   ]
  },
  {
   "cell_type": "markdown",
   "metadata": {
    "id": "iw9NFPM-9sgP"
   },
   "source": [
    "## Statistics"
   ]
  },
  {
   "cell_type": "code",
   "execution_count": 5,
   "metadata": {
    "colab": {
     "base_uri": "https://localhost:8080/",
     "height": 264
    },
    "id": "ZZ2n6xpA9yC5",
    "outputId": "1572d4eb-0d27-4ad9-d57a-d3ad3e3caf31"
   },
   "outputs": [
    {
     "data": {
      "image/png": "[encoded data removed]",
      "text/plain": [
       "<Figure size 432x288 with 1 Axes>"
      ]
     },
     "metadata": {},
     "output_type": "display_data"
    }
   ],
   "source": [
    "females = participants[participants['sex'] == 0]\n",
    "males = participants[participants['sex'] == 1]\n",
    "\n",
    "total_participants = 56\n",
    "\n",
    "# Pie chart, where the slices will be ordered and plotted counter-clockwise:\n",
    "labels = 'Homens', 'Mulheres'\n",
    "sizes = [len(males), len(females)]\n",
    "explode = (0, 0.1)  # only \"explode\" the 2nd slice (i.e. 'Hogs')\n",
    "\n",
    "fig1, ax1 = plt.subplots()\n",
    "ax1.pie(sizes, explode=explode, labels=labels, autopct='%1.1f%%',\n",
    "        shadow=True, startangle=90)\n",
    "ax1.axis('equal')  # Equal aspect ratio ensures that pie is drawn as a circle.\n",
    "plt.title('Sexo dos participantes')\n",
    "plt.show()"
   ]
  },
  {
   "cell_type": "code",
   "execution_count": 6,
   "metadata": {
    "colab": {
     "base_uri": "https://localhost:8080/",
     "height": 511
    },
    "id": "qoVteycdCTbI",
    "outputId": "93898733-a324-4f17-faec-84b41deaf8b9"
   },
   "outputs": [
    {
     "data": {
      "image/png": "[encoded data removed]",
      "text/plain": [
       "<Figure size 432x288 with 1 Axes>"
      ]
     },
     "metadata": {},
     "output_type": "display_data"
    },
    {
     "data": {
      "image/png": "[encoded data removed]",
      "text/plain": [
       "<Figure size 432x288 with 1 Axes>"
      ]
     },
     "metadata": {},
     "output_type": "display_data"
    }
   ],
   "source": [
    "females_control_group = females[females['Group'] == 0]\n",
    "females_pacient_group = females[females['Group'] == 1]\n",
    "\n",
    "males_control_group = males[males['Group'] == 0]\n",
    "males_pacient_group = males[males['Group'] == 1]\n",
    "\n",
    "# Pie chart, where the slices will be ordered and plotted counter-clockwise:\n",
    "labels = 'Controle', 'Paciente'\n",
    "sizes = [len(males_control_group), len(males_pacient_group)]\n",
    "explode = (0, 0.1)  # only \"explode\" the 2nd slice (i.e. 'Hogs')\n",
    "fig1, ax1 = plt.subplots()\n",
    "ax1.pie(sizes, explode=explode, labels=labels, autopct='%1.1f%%',\n",
    "        shadow=True, startangle=90)\n",
    "\n",
    "ax1.axis('equal')  # Equal aspect ratio ensures that pie is drawn as a circle.\n",
    "plt.title('Homens')\n",
    "plt.show()\n",
    "\n",
    "# Pie chart, where the slices will be ordered and plotted counter-clockwise:\n",
    "labels = 'Controle', 'Paciente'\n",
    "sizes = [len(females_control_group), len(females_pacient_group)]\n",
    "explode = (0, 0.1)  # only \"explode\" the 2nd slice (i.e. 'Hogs')\n",
    "fig1, ax1 = plt.subplots()\n",
    "ax1.pie(sizes, explode=explode, labels=labels, autopct='%1.1f%%',\n",
    "        shadow=True, startangle=90)\n",
    "ax1.axis('equal')  # Equal aspect ratio ensures that pie is drawn as a circle.\n",
    "plt.title('Mulheres')\n",
    "plt.show()"
   ]
  },
  {
   "cell_type": "markdown",
   "metadata": {
    "id": "Qc1coQXVHqAz"
   },
   "source": [
    "## Distribution of sex and age between Male and Female"
   ]
  },
  {
   "cell_type": "code",
   "execution_count": 7,
   "metadata": {
    "colab": {
     "base_uri": "https://localhost:8080/",
     "height": 331
    },
    "id": "grh5b4OYGkp1",
    "outputId": "c55dd0a8-656f-4fcb-df99-0dd95efd9840"
   },
   "outputs": [
    {
     "name": "stdout",
     "output_type": "stream",
     "text": [
      "Total age distribution\n"
     ]
    },
    {
     "data": {
      "text/html": [
       "<div>\n",
       "<style scoped>\n",
       "    .dataframe tbody tr th:only-of-type {\n",
       "        vertical-align: middle;\n",
       "    }\n",
       "\n",
       "    .dataframe tbody tr th {\n",
       "        vertical-align: top;\n",
       "    }\n",
       "\n",
       "    .dataframe thead th {\n",
       "        text-align: right;\n",
       "    }\n",
       "</style>\n",
       "<table border=\"1\" class=\"dataframe\">\n",
       "  <thead>\n",
       "    <tr style=\"text-align: right;\">\n",
       "      <th></th>\n",
       "      <th>count</th>\n",
       "      <th>mean</th>\n",
       "      <th>std</th>\n",
       "      <th>min</th>\n",
       "      <th>25%</th>\n",
       "      <th>50%</th>\n",
       "      <th>75%</th>\n",
       "      <th>max</th>\n",
       "    </tr>\n",
       "  </thead>\n",
       "  <tbody>\n",
       "    <tr>\n",
       "      <th>age</th>\n",
       "      <td>56.0</td>\n",
       "      <td>69.482143</td>\n",
       "      <td>8.839973</td>\n",
       "      <td>48.0</td>\n",
       "      <td>64.0</td>\n",
       "      <td>70.0</td>\n",
       "      <td>75.25</td>\n",
       "      <td>84.0</td>\n",
       "    </tr>\n",
       "  </tbody>\n",
       "</table>\n",
       "</div>"
      ],
      "text/plain": [
       "     count       mean       std   min   25%   50%    75%   max\n",
       "age   56.0  69.482143  8.839973  48.0  64.0  70.0  75.25  84.0"
      ]
     },
     "metadata": {},
     "output_type": "display_data"
    },
    {
     "name": "stdout",
     "output_type": "stream",
     "text": [
      "Female age distribution:\n"
     ]
    },
    {
     "data": {
      "text/html": [
       "<div>\n",
       "<style scoped>\n",
       "    .dataframe tbody tr th:only-of-type {\n",
       "        vertical-align: middle;\n",
       "    }\n",
       "\n",
       "    .dataframe tbody tr th {\n",
       "        vertical-align: top;\n",
       "    }\n",
       "\n",
       "    .dataframe thead th {\n",
       "        text-align: right;\n",
       "    }\n",
       "</style>\n",
       "<table border=\"1\" class=\"dataframe\">\n",
       "  <thead>\n",
       "    <tr style=\"text-align: right;\">\n",
       "      <th></th>\n",
       "      <th>count</th>\n",
       "      <th>mean</th>\n",
       "      <th>std</th>\n",
       "      <th>min</th>\n",
       "      <th>25%</th>\n",
       "      <th>50%</th>\n",
       "      <th>75%</th>\n",
       "      <th>max</th>\n",
       "    </tr>\n",
       "  </thead>\n",
       "  <tbody>\n",
       "    <tr>\n",
       "      <th>age</th>\n",
       "      <td>22.0</td>\n",
       "      <td>66.5</td>\n",
       "      <td>9.71376</td>\n",
       "      <td>48.0</td>\n",
       "      <td>61.75</td>\n",
       "      <td>66.5</td>\n",
       "      <td>73.75</td>\n",
       "      <td>83.0</td>\n",
       "    </tr>\n",
       "  </tbody>\n",
       "</table>\n",
       "</div>"
      ],
      "text/plain": [
       "     count  mean      std   min    25%   50%    75%   max\n",
       "age   22.0  66.5  9.71376  48.0  61.75  66.5  73.75  83.0"
      ]
     },
     "metadata": {},
     "output_type": "display_data"
    },
    {
     "name": "stdout",
     "output_type": "stream",
     "text": [
      "Male age distribution:\n"
     ]
    },
    {
     "data": {
      "text/html": [
       "<div>\n",
       "<style scoped>\n",
       "    .dataframe tbody tr th:only-of-type {\n",
       "        vertical-align: middle;\n",
       "    }\n",
       "\n",
       "    .dataframe tbody tr th {\n",
       "        vertical-align: top;\n",
       "    }\n",
       "\n",
       "    .dataframe thead th {\n",
       "        text-align: right;\n",
       "    }\n",
       "</style>\n",
       "<table border=\"1\" class=\"dataframe\">\n",
       "  <thead>\n",
       "    <tr style=\"text-align: right;\">\n",
       "      <th></th>\n",
       "      <th>count</th>\n",
       "      <th>mean</th>\n",
       "      <th>std</th>\n",
       "      <th>min</th>\n",
       "      <th>25%</th>\n",
       "      <th>50%</th>\n",
       "      <th>75%</th>\n",
       "      <th>max</th>\n",
       "    </tr>\n",
       "  </thead>\n",
       "  <tbody>\n",
       "    <tr>\n",
       "      <th>age</th>\n",
       "      <td>34.0</td>\n",
       "      <td>71.411765</td>\n",
       "      <td>7.773762</td>\n",
       "      <td>52.0</td>\n",
       "      <td>68.0</td>\n",
       "      <td>71.5</td>\n",
       "      <td>75.75</td>\n",
       "      <td>84.0</td>\n",
       "    </tr>\n",
       "  </tbody>\n",
       "</table>\n",
       "</div>"
      ],
      "text/plain": [
       "     count       mean       std   min   25%   50%    75%   max\n",
       "age   34.0  71.411765  7.773762  52.0  68.0  71.5  75.75  84.0"
      ]
     },
     "metadata": {},
     "output_type": "display_data"
    }
   ],
   "source": [
    "print(\"Total age distribution\")\n",
    "display(participants[['age']].describe().T)\n",
    "\n",
    "print(\"Female age distribution:\")\n",
    "display(participants[participants['sex'] == 0][['age']].describe().T)\n",
    "\n",
    "print(\"Male age distribution:\")\n",
    "display(participants[participants['sex'] == 1][['age']].describe().T)"
   ]
  },
  {
   "cell_type": "code",
   "execution_count": 8,
   "metadata": {},
   "outputs": [
    {
     "name": "stdout",
     "output_type": "stream",
     "text": [
      "Boxplot for the three age distributions\n"
     ]
    },
    {
     "data": {
      "image/png": "[encoded data removed]",
      "text/plain": [
       "<Figure size 432x288 with 1 Axes>"
      ]
     },
     "metadata": {
      "needs_background": "light"
     },
     "output_type": "display_data"
    }
   ],
   "source": [
    "print(\"Boxplot for the three age distributions\")\n",
    "plt.boxplot([participants['age'].values, females['age'].values, males['age'].values],\n",
    "            labels=['All', 'Females', 'Males'])\n",
    "plt.show()"
   ]
  },
  {
   "cell_type": "code",
   "execution_count": 9,
   "metadata": {},
   "outputs": [
    {
     "data": {
      "image/png": "[encoded data removed]",
      "text/plain": [
       "<Figure size 360x360 with 3 Axes>"
      ]
     },
     "metadata": {
      "needs_background": "light"
     },
     "output_type": "display_data"
    }
   ],
   "source": [
    "fig, axs = plt.subplots(3, sharey=True, tight_layout=True, figsize=(5,5))\n",
    "axs[0].hist(participants[['age']], bins='auto')\n",
    "axs[0].set_title('Total age distribution')\n",
    "axs[1].hist(females['age'], bins='auto')\n",
    "axs[1].set_title('Female age distribution')\n",
    "axs[2].hist(males['age'], bins='auto')\n",
    "axs[2].set_title('Male age distribution')\n",
    "plt.show()"
   ]
  },
  {
   "cell_type": "markdown",
   "metadata": {
    "id": "GJvOBSI5cL1w"
   },
   "source": [
    "# Participant #1\n",
    "Number of sections: 1"
   ]
  },
  {
   "cell_type": "code",
   "execution_count": 10,
   "metadata": {
    "colab": {
     "base_uri": "https://localhost:8080/",
     "height": 80
    },
    "id": "M8NQ4wQLeaGB",
    "outputId": "c4d694c8-7ea0-4156-b79f-459227489470"
   },
   "outputs": [
    {
     "data": {
      "text/html": [
       "<div>\n",
       "<style scoped>\n",
       "    .dataframe tbody tr th:only-of-type {\n",
       "        vertical-align: middle;\n",
       "    }\n",
       "\n",
       "    .dataframe tbody tr th {\n",
       "        vertical-align: top;\n",
       "    }\n",
       "\n",
       "    .dataframe thead th {\n",
       "        text-align: right;\n",
       "    }\n",
       "</style>\n",
       "<table border=\"1\" class=\"dataframe\">\n",
       "  <thead>\n",
       "    <tr style=\"text-align: right;\">\n",
       "      <th></th>\n",
       "      <th>participant_id</th>\n",
       "      <th>Original_ID</th>\n",
       "      <th>Group</th>\n",
       "      <th>sess1_Med</th>\n",
       "      <th>sess2_Med</th>\n",
       "      <th>sex</th>\n",
       "      <th>age</th>\n",
       "    </tr>\n",
       "  </thead>\n",
       "  <tbody>\n",
       "    <tr>\n",
       "      <th>0</th>\n",
       "      <td>sub-001</td>\n",
       "      <td>8010</td>\n",
       "      <td>0</td>\n",
       "      <td>NaN</td>\n",
       "      <td>no s2</td>\n",
       "      <td>0</td>\n",
       "      <td>61</td>\n",
       "    </tr>\n",
       "  </tbody>\n",
       "</table>\n",
       "</div>"
      ],
      "text/plain": [
       "  participant_id  Original_ID  Group sess1_Med sess2_Med  sex  age\n",
       "0        sub-001         8010      0       NaN     no s2    0   61"
      ]
     },
     "execution_count": 10,
     "metadata": {},
     "output_type": "execute_result"
    }
   ],
   "source": [
    "# Participant data\n",
    "p01 = participants[participants['participant_id'] == 'sub-001']\n",
    "p01.head()"
   ]
  },
  {
   "cell_type": "markdown",
   "metadata": {
    "id": "n60ReOGc9eBv"
   },
   "source": [
    "##channels"
   ]
  },
  {
   "cell_type": "code",
   "execution_count": 11,
   "metadata": {
    "colab": {
     "base_uri": "https://localhost:8080/",
     "height": 204
    },
    "id": "XzYpESPNcMj-",
    "outputId": "127c47ea-e4d8-47bc-c241-6284fe48d943"
   },
   "outputs": [
    {
     "data": {
      "text/html": [
       "<div>\n",
       "<style scoped>\n",
       "    .dataframe tbody tr th:only-of-type {\n",
       "        vertical-align: middle;\n",
       "    }\n",
       "\n",
       "    .dataframe tbody tr th {\n",
       "        vertical-align: top;\n",
       "    }\n",
       "\n",
       "    .dataframe thead th {\n",
       "        text-align: right;\n",
       "    }\n",
       "</style>\n",
       "<table border=\"1\" class=\"dataframe\">\n",
       "  <thead>\n",
       "    <tr style=\"text-align: right;\">\n",
       "      <th></th>\n",
       "      <th>name</th>\n",
       "      <th>type</th>\n",
       "      <th>units</th>\n",
       "    </tr>\n",
       "  </thead>\n",
       "  <tbody>\n",
       "    <tr>\n",
       "      <th>0</th>\n",
       "      <td>Fp1</td>\n",
       "      <td>NaN</td>\n",
       "      <td>NaN</td>\n",
       "    </tr>\n",
       "    <tr>\n",
       "      <th>1</th>\n",
       "      <td>Fz</td>\n",
       "      <td>NaN</td>\n",
       "      <td>NaN</td>\n",
       "    </tr>\n",
       "    <tr>\n",
       "      <th>2</th>\n",
       "      <td>F3</td>\n",
       "      <td>NaN</td>\n",
       "      <td>NaN</td>\n",
       "    </tr>\n",
       "    <tr>\n",
       "      <th>3</th>\n",
       "      <td>F7</td>\n",
       "      <td>NaN</td>\n",
       "      <td>NaN</td>\n",
       "    </tr>\n",
       "    <tr>\n",
       "      <th>4</th>\n",
       "      <td>FT9</td>\n",
       "      <td>NaN</td>\n",
       "      <td>NaN</td>\n",
       "    </tr>\n",
       "  </tbody>\n",
       "</table>\n",
       "</div>"
      ],
      "text/plain": [
       "  name  type  units\n",
       "0  Fp1   NaN    NaN\n",
       "1   Fz   NaN    NaN\n",
       "2   F3   NaN    NaN\n",
       "3   F7   NaN    NaN\n",
       "4  FT9   NaN    NaN"
      ]
     },
     "execution_count": 11,
     "metadata": {},
     "output_type": "execute_result"
    }
   ],
   "source": [
    "url_channels_p01_s01 = commom_path + \"sub-001/ses-01/eeg/sub-001_ses-01_task-SimonConflict_channels.tsv\"\n",
    "channels_p01_s01 = pd.read_csv(url_channels_p01_s01, sep=\"\\t\")\n",
    "\n",
    "\n",
    "channels_p01_s01.head()"
   ]
  },
  {
   "cell_type": "markdown",
   "metadata": {
    "id": "k_fW7eJe9c0s"
   },
   "source": [
    "##eletrodos\n",
    "\n"
   ]
  },
  {
   "cell_type": "code",
   "execution_count": 12,
   "metadata": {
    "colab": {
     "base_uri": "https://localhost:8080/",
     "height": 419
    },
    "id": "w8yb9cOc9lYW",
    "outputId": "2a3fddc6-b2c0-4dec-e46e-31fbf71c8284"
   },
   "outputs": [
    {
     "data": {
      "text/html": [
       "<div>\n",
       "<style scoped>\n",
       "    .dataframe tbody tr th:only-of-type {\n",
       "        vertical-align: middle;\n",
       "    }\n",
       "\n",
       "    .dataframe tbody tr th {\n",
       "        vertical-align: top;\n",
       "    }\n",
       "\n",
       "    .dataframe thead th {\n",
       "        text-align: right;\n",
       "    }\n",
       "</style>\n",
       "<table border=\"1\" class=\"dataframe\">\n",
       "  <thead>\n",
       "    <tr style=\"text-align: right;\">\n",
       "      <th></th>\n",
       "      <th>name</th>\n",
       "      <th>x</th>\n",
       "      <th>y</th>\n",
       "      <th>z</th>\n",
       "    </tr>\n",
       "  </thead>\n",
       "  <tbody>\n",
       "    <tr>\n",
       "      <th>0</th>\n",
       "      <td>Fp1</td>\n",
       "      <td>80.78</td>\n",
       "      <td>26.13</td>\n",
       "      <td>-4.00</td>\n",
       "    </tr>\n",
       "    <tr>\n",
       "      <th>1</th>\n",
       "      <td>Fz</td>\n",
       "      <td>60.74</td>\n",
       "      <td>-0.00</td>\n",
       "      <td>59.46</td>\n",
       "    </tr>\n",
       "    <tr>\n",
       "      <th>2</th>\n",
       "      <td>F3</td>\n",
       "      <td>57.55</td>\n",
       "      <td>48.20</td>\n",
       "      <td>39.87</td>\n",
       "    </tr>\n",
       "    <tr>\n",
       "      <th>3</th>\n",
       "      <td>F7</td>\n",
       "      <td>49.87</td>\n",
       "      <td>68.42</td>\n",
       "      <td>-7.49</td>\n",
       "    </tr>\n",
       "    <tr>\n",
       "      <th>4</th>\n",
       "      <td>FT9</td>\n",
       "      <td>23.30</td>\n",
       "      <td>70.08</td>\n",
       "      <td>-42.09</td>\n",
       "    </tr>\n",
       "    <tr>\n",
       "      <th>...</th>\n",
       "      <td>...</td>\n",
       "      <td>...</td>\n",
       "      <td>...</td>\n",
       "      <td>...</td>\n",
       "    </tr>\n",
       "    <tr>\n",
       "      <th>62</th>\n",
       "      <td>AF8</td>\n",
       "      <td>68.72</td>\n",
       "      <td>-49.67</td>\n",
       "      <td>-5.95</td>\n",
       "    </tr>\n",
       "    <tr>\n",
       "      <th>63</th>\n",
       "      <td>VEOG</td>\n",
       "      <td>62.04</td>\n",
       "      <td>-31.61</td>\n",
       "      <td>-48.75</td>\n",
       "    </tr>\n",
       "    <tr>\n",
       "      <th>64</th>\n",
       "      <td>X</td>\n",
       "      <td>NaN</td>\n",
       "      <td>NaN</td>\n",
       "      <td>NaN</td>\n",
       "    </tr>\n",
       "    <tr>\n",
       "      <th>65</th>\n",
       "      <td>Y</td>\n",
       "      <td>NaN</td>\n",
       "      <td>NaN</td>\n",
       "      <td>NaN</td>\n",
       "    </tr>\n",
       "    <tr>\n",
       "      <th>66</th>\n",
       "      <td>Z</td>\n",
       "      <td>NaN</td>\n",
       "      <td>NaN</td>\n",
       "      <td>NaN</td>\n",
       "    </tr>\n",
       "  </tbody>\n",
       "</table>\n",
       "<p>67 rows × 4 columns</p>\n",
       "</div>"
      ],
      "text/plain": [
       "    name      x      y      z\n",
       "0    Fp1  80.78  26.13  -4.00\n",
       "1     Fz  60.74  -0.00  59.46\n",
       "2     F3  57.55  48.20  39.87\n",
       "3     F7  49.87  68.42  -7.49\n",
       "4    FT9  23.30  70.08 -42.09\n",
       "..   ...    ...    ...    ...\n",
       "62   AF8  68.72 -49.67  -5.95\n",
       "63  VEOG  62.04 -31.61 -48.75\n",
       "64     X    NaN    NaN    NaN\n",
       "65     Y    NaN    NaN    NaN\n",
       "66     Z    NaN    NaN    NaN\n",
       "\n",
       "[67 rows x 4 columns]"
      ]
     },
     "execution_count": 12,
     "metadata": {},
     "output_type": "execute_result"
    }
   ],
   "source": [
    "url_eletrodes_p01_s01 = commom_path + \"sub-001/ses-01/eeg/sub-001_ses-01_task-SimonConflict_electrodes.tsv\"\n",
    "eletrodes_p01_s01 = pd.read_csv(url_eletrodes_p01_s01, sep=\"\\t\")\n",
    "\n",
    "eletrodes_p01_s01"
   ]
  },
  {
   "cell_type": "markdown",
   "metadata": {
    "id": "LfFJUfL0Brcb"
   },
   "source": [
    "##eventos"
   ]
  },
  {
   "cell_type": "code",
   "execution_count": 13,
   "metadata": {
    "colab": {
     "base_uri": "https://localhost:8080/",
     "height": 204
    },
    "id": "zicVZDkoBuer",
    "outputId": "302005cd-2ecc-4f90-be6c-25fa04ca4c64"
   },
   "outputs": [
    {
     "data": {
      "text/html": [
       "<div>\n",
       "<style scoped>\n",
       "    .dataframe tbody tr th:only-of-type {\n",
       "        vertical-align: middle;\n",
       "    }\n",
       "\n",
       "    .dataframe tbody tr th {\n",
       "        vertical-align: top;\n",
       "    }\n",
       "\n",
       "    .dataframe thead th {\n",
       "        text-align: right;\n",
       "    }\n",
       "</style>\n",
       "<table border=\"1\" class=\"dataframe\">\n",
       "  <thead>\n",
       "    <tr style=\"text-align: right;\">\n",
       "      <th></th>\n",
       "      <th>onset</th>\n",
       "      <th>duration</th>\n",
       "      <th>sample</th>\n",
       "      <th>trial_type</th>\n",
       "      <th>response_time</th>\n",
       "      <th>stim_file</th>\n",
       "      <th>value</th>\n",
       "    </tr>\n",
       "  </thead>\n",
       "  <tbody>\n",
       "    <tr>\n",
       "      <th>0</th>\n",
       "      <td>0.000</td>\n",
       "      <td>NaN</td>\n",
       "      <td>NaN</td>\n",
       "      <td>STATUS</td>\n",
       "      <td>NaN</td>\n",
       "      <td>NaN</td>\n",
       "      <td>boundary</td>\n",
       "    </tr>\n",
       "    <tr>\n",
       "      <th>1</th>\n",
       "      <td>696.988</td>\n",
       "      <td>NaN</td>\n",
       "      <td>NaN</td>\n",
       "      <td>Trn Stim: yellow congru D</td>\n",
       "      <td>NaN</td>\n",
       "      <td>NaN</td>\n",
       "      <td>S114</td>\n",
       "    </tr>\n",
       "    <tr>\n",
       "      <th>2</th>\n",
       "      <td>697.790</td>\n",
       "      <td>NaN</td>\n",
       "      <td>NaN</td>\n",
       "      <td>Trn No Response</td>\n",
       "      <td>NaN</td>\n",
       "      <td>NaN</td>\n",
       "      <td>S105</td>\n",
       "    </tr>\n",
       "    <tr>\n",
       "      <th>3</th>\n",
       "      <td>699.890</td>\n",
       "      <td>NaN</td>\n",
       "      <td>NaN</td>\n",
       "      <td>Trn Stim: yellow congru C</td>\n",
       "      <td>NaN</td>\n",
       "      <td>NaN</td>\n",
       "      <td>S113</td>\n",
       "    </tr>\n",
       "    <tr>\n",
       "      <th>4</th>\n",
       "      <td>700.692</td>\n",
       "      <td>NaN</td>\n",
       "      <td>NaN</td>\n",
       "      <td>Trn No Response</td>\n",
       "      <td>NaN</td>\n",
       "      <td>NaN</td>\n",
       "      <td>S105</td>\n",
       "    </tr>\n",
       "  </tbody>\n",
       "</table>\n",
       "</div>"
      ],
      "text/plain": [
       "     onset  duration  sample                 trial_type  response_time  \\\n",
       "0    0.000       NaN     NaN                     STATUS            NaN   \n",
       "1  696.988       NaN     NaN  Trn Stim: yellow congru D            NaN   \n",
       "2  697.790       NaN     NaN            Trn No Response            NaN   \n",
       "3  699.890       NaN     NaN  Trn Stim: yellow congru C            NaN   \n",
       "4  700.692       NaN     NaN            Trn No Response            NaN   \n",
       "\n",
       "   stim_file     value  \n",
       "0        NaN  boundary  \n",
       "1        NaN      S114  \n",
       "2        NaN      S105  \n",
       "3        NaN      S113  \n",
       "4        NaN      S105  "
      ]
     },
     "execution_count": 13,
     "metadata": {},
     "output_type": "execute_result"
    }
   ],
   "source": [
    "url_events_p01_s01 = commom_path + \"sub-001/ses-01/eeg/sub-001_ses-01_task-SimonConflict_events.tsv\"\n",
    "events_p01_s01 = pd.read_csv(url_events_p01_s01, sep=\"\\t\")\n",
    "\n",
    "events_p01_s01.head()"
   ]
  },
  {
   "cell_type": "markdown",
   "metadata": {
    "id": "MnPoOi9VFMh3"
   },
   "source": [
    "# Participant #2\n",
    "Number of sections: 2"
   ]
  },
  {
   "cell_type": "code",
   "execution_count": 14,
   "metadata": {
    "colab": {
     "base_uri": "https://localhost:8080/",
     "height": 80
    },
    "id": "z0vpjsBJemUt",
    "outputId": "71dc23a4-1e02-4b86-bf62-bc204f229f57"
   },
   "outputs": [
    {
     "data": {
      "text/html": [
       "<div>\n",
       "<style scoped>\n",
       "    .dataframe tbody tr th:only-of-type {\n",
       "        vertical-align: middle;\n",
       "    }\n",
       "\n",
       "    .dataframe tbody tr th {\n",
       "        vertical-align: top;\n",
       "    }\n",
       "\n",
       "    .dataframe thead th {\n",
       "        text-align: right;\n",
       "    }\n",
       "</style>\n",
       "<table border=\"1\" class=\"dataframe\">\n",
       "  <thead>\n",
       "    <tr style=\"text-align: right;\">\n",
       "      <th></th>\n",
       "      <th>participant_id</th>\n",
       "      <th>Original_ID</th>\n",
       "      <th>Group</th>\n",
       "      <th>sess1_Med</th>\n",
       "      <th>sess2_Med</th>\n",
       "      <th>sex</th>\n",
       "      <th>age</th>\n",
       "    </tr>\n",
       "  </thead>\n",
       "  <tbody>\n",
       "    <tr>\n",
       "      <th>1</th>\n",
       "      <td>sub-002</td>\n",
       "      <td>801</td>\n",
       "      <td>1</td>\n",
       "      <td>ON</td>\n",
       "      <td>OFF</td>\n",
       "      <td>0</td>\n",
       "      <td>60</td>\n",
       "    </tr>\n",
       "  </tbody>\n",
       "</table>\n",
       "</div>"
      ],
      "text/plain": [
       "  participant_id  Original_ID  Group sess1_Med sess2_Med  sex  age\n",
       "1        sub-002          801      1        ON       OFF    0   60"
      ]
     },
     "execution_count": 14,
     "metadata": {},
     "output_type": "execute_result"
    }
   ],
   "source": [
    "# Participant data\n",
    "p02 = participants[participants['participant_id'] == 'sub-002']\n",
    "p02.head()"
   ]
  },
  {
   "cell_type": "code",
   "execution_count": 15,
   "metadata": {
    "id": "GHXdXCwAFarx"
   },
   "outputs": [],
   "source": [
    "# Section 1\n",
    "url_channels_p02_s01 = commom_path + \"sub-002/ses-01/eeg/sub-002_ses-01_task-SimonConflict_channels.tsv\"\n",
    "url_eletrodes_p02_s01 = commom_path + \"sub-002/ses-01/eeg/sub-002_ses-01_task-SimonConflict_electrodes.tsv\"\n",
    "url_events_p02_s01 = commom_path + \"sub-002/ses-01/eeg/sub-002_ses-01_task-SimonConflict_events.tsv\"\n",
    "\n",
    "channels_p2_s01 = pd.read_csv(url_channels_p02_s01, sep=\"\\t\")\n",
    "eletrodes_p2_s01 = pd.read_csv(url_eletrodes_p02_s01, sep=\"\\t\")\n",
    "events_p2_s01 = pd.read_csv(url_events_p02_s01, sep=\"\\t\")"
   ]
  },
  {
   "cell_type": "code",
   "execution_count": 16,
   "metadata": {
    "id": "nRA2HT9hIrUZ"
   },
   "outputs": [],
   "source": [
    "# Section 2\n",
    "url_channels_p02_s02 = commom_path + \"sub-002/ses-02/eeg/sub-002_ses-02_task-SimonConflict_channels.tsv\"\n",
    "url_eletrodes_p02_s02 = commom_path + \"sub-002/ses-02/eeg/sub-002_ses-02_task-SimonConflict_electrodes.tsv\"\n",
    "url_events_p02_s02 = commom_path + \"sub-002/ses-02/eeg/sub-002_ses-02_task-SimonConflict_events.tsv\"\n",
    "\n",
    "channels_p02_s02 = pd.read_csv(url_channels_p02_s02, sep=\"\\t\")\n",
    "eletrodes_p02_s02 = pd.read_csv(url_eletrodes_p02_s02, sep=\"\\t\")\n",
    "events_p02_s02 = pd.read_csv(url_events_p02_s02, sep=\"\\t\")\n"
   ]
  },
  {
   "cell_type": "markdown",
   "metadata": {
    "id": "HA1Hf5xOJvp0"
   },
   "source": [
    "# Participant #3\n",
    "Number of sections: 2"
   ]
  },
  {
   "cell_type": "code",
   "execution_count": 17,
   "metadata": {
    "colab": {
     "base_uri": "https://localhost:8080/",
     "height": 80
    },
    "id": "npqFE1L_enoF",
    "outputId": "6dc1135c-97f1-476f-c620-f9ace9f3b0ef"
   },
   "outputs": [
    {
     "data": {
      "text/html": [
       "<div>\n",
       "<style scoped>\n",
       "    .dataframe tbody tr th:only-of-type {\n",
       "        vertical-align: middle;\n",
       "    }\n",
       "\n",
       "    .dataframe tbody tr th {\n",
       "        vertical-align: top;\n",
       "    }\n",
       "\n",
       "    .dataframe thead th {\n",
       "        text-align: right;\n",
       "    }\n",
       "</style>\n",
       "<table border=\"1\" class=\"dataframe\">\n",
       "  <thead>\n",
       "    <tr style=\"text-align: right;\">\n",
       "      <th></th>\n",
       "      <th>participant_id</th>\n",
       "      <th>Original_ID</th>\n",
       "      <th>Group</th>\n",
       "      <th>sess1_Med</th>\n",
       "      <th>sess2_Med</th>\n",
       "      <th>sex</th>\n",
       "      <th>age</th>\n",
       "    </tr>\n",
       "  </thead>\n",
       "  <tbody>\n",
       "    <tr>\n",
       "      <th>2</th>\n",
       "      <td>sub-003</td>\n",
       "      <td>802</td>\n",
       "      <td>1</td>\n",
       "      <td>OFF</td>\n",
       "      <td>ON</td>\n",
       "      <td>1</td>\n",
       "      <td>75</td>\n",
       "    </tr>\n",
       "  </tbody>\n",
       "</table>\n",
       "</div>"
      ],
      "text/plain": [
       "  participant_id  Original_ID  Group sess1_Med sess2_Med  sex  age\n",
       "2        sub-003          802      1       OFF        ON    1   75"
      ]
     },
     "execution_count": 17,
     "metadata": {},
     "output_type": "execute_result"
    }
   ],
   "source": [
    "# Participant data\n",
    "p03 = participants[participants['participant_id'] == 'sub-003']\n",
    "p03.head()"
   ]
  },
  {
   "cell_type": "code",
   "execution_count": 18,
   "metadata": {
    "id": "C-NFKV9PJvp2"
   },
   "outputs": [],
   "source": [
    "# Section 1\n",
    "url_channels_p03_s01 = commom_path + \"sub-003/ses-01/eeg/sub-003_ses-01_task-SimonConflict_channels.tsv\"\n",
    "url_eletrodes_p03_s01 = commom_path + \"sub-003/ses-01/eeg/sub-003_ses-01_task-SimonConflict_electrodes.tsv\"\n",
    "url_events_p03_s01 = commom_path + \"sub-003/ses-01/eeg/sub-003_ses-01_task-SimonConflict_events.tsv\"\n",
    "\n",
    "channels_p03_s01 = pd.read_csv(url_channels_p03_s01, sep=\"\\t\")\n",
    "eletrodes_p03_s01 = pd.read_csv(url_eletrodes_p03_s01, sep=\"\\t\")\n",
    "events_p03_s01 = pd.read_csv(url_events_p03_s01, sep=\"\\t\")"
   ]
  },
  {
   "cell_type": "code",
   "execution_count": 19,
   "metadata": {
    "id": "1d1Saq79Jvp4"
   },
   "outputs": [],
   "source": [
    "# Section 2\n",
    "url_channels_p03_s02 = commom_path + \"sub-003/ses-02/eeg/sub-003_ses-02_task-SimonConflict_channels.tsv\"\n",
    "url_eletrodes_p03_s02 = commom_path + \"sub-003/ses-02/eeg/sub-003_ses-02_task-SimonConflict_electrodes.tsv\"\n",
    "url_events_p03_s02 = commom_path + \"sub-003/ses-02/eeg/sub-003_ses-02_task-SimonConflict_events.tsv\"\n",
    "\n",
    "channels_p03_s02 = pd.read_csv(url_channels_p03_s02, sep=\"\\t\")\n",
    "eletrodes_p03_s02 = pd.read_csv(url_eletrodes_p03_s02, sep=\"\\t\")\n",
    "events_p03_s02 = pd.read_csv(url_events_p03_s02, sep=\"\\t\")\n"
   ]
  },
  {
   "cell_type": "markdown",
   "metadata": {
    "id": "B9uCuc-0KIx_"
   },
   "source": [
    "# Participant #4\n",
    "Number of sections: 2"
   ]
  },
  {
   "cell_type": "code",
   "execution_count": 20,
   "metadata": {
    "colab": {
     "base_uri": "https://localhost:8080/",
     "height": 80
    },
    "id": "dkNn5_sZeoIO",
    "outputId": "ca1d80bb-73b5-4be7-937b-3881caea9903"
   },
   "outputs": [
    {
     "data": {
      "text/html": [
       "<div>\n",
       "<style scoped>\n",
       "    .dataframe tbody tr th:only-of-type {\n",
       "        vertical-align: middle;\n",
       "    }\n",
       "\n",
       "    .dataframe tbody tr th {\n",
       "        vertical-align: top;\n",
       "    }\n",
       "\n",
       "    .dataframe thead th {\n",
       "        text-align: right;\n",
       "    }\n",
       "</style>\n",
       "<table border=\"1\" class=\"dataframe\">\n",
       "  <thead>\n",
       "    <tr style=\"text-align: right;\">\n",
       "      <th></th>\n",
       "      <th>participant_id</th>\n",
       "      <th>Original_ID</th>\n",
       "      <th>Group</th>\n",
       "      <th>sess1_Med</th>\n",
       "      <th>sess2_Med</th>\n",
       "      <th>sex</th>\n",
       "      <th>age</th>\n",
       "    </tr>\n",
       "  </thead>\n",
       "  <tbody>\n",
       "    <tr>\n",
       "      <th>3</th>\n",
       "      <td>sub-004</td>\n",
       "      <td>803</td>\n",
       "      <td>1</td>\n",
       "      <td>OFF</td>\n",
       "      <td>ON</td>\n",
       "      <td>0</td>\n",
       "      <td>76</td>\n",
       "    </tr>\n",
       "  </tbody>\n",
       "</table>\n",
       "</div>"
      ],
      "text/plain": [
       "  participant_id  Original_ID  Group sess1_Med sess2_Med  sex  age\n",
       "3        sub-004          803      1       OFF        ON    0   76"
      ]
     },
     "execution_count": 20,
     "metadata": {},
     "output_type": "execute_result"
    }
   ],
   "source": [
    "# Participant data\n",
    "p04 = participants[participants['participant_id'] == 'sub-004']\n",
    "p04.head()"
   ]
  },
  {
   "cell_type": "code",
   "execution_count": 21,
   "metadata": {
    "id": "Y6R_XiSiKIyA"
   },
   "outputs": [],
   "source": [
    "# Section 1\n",
    "url_channels_p04_s01 = commom_path + \"sub-004/ses-01/eeg/sub-004_ses-01_task-SimonConflict_channels.tsv\"\n",
    "url_eletrodes_p04_s01 = commom_path + \"sub-004/ses-01/eeg/sub-004_ses-01_task-SimonConflict_electrodes.tsv\"\n",
    "url_events_p04_s01 = commom_path + \"sub-004/ses-01/eeg/sub-004_ses-01_task-SimonConflict_events.tsv\"\n",
    "\n",
    "channels_p04_s01 = pd.read_csv(url_channels_p04_s01, sep=\"\\t\")\n",
    "eletrodes_p04_s01 = pd.read_csv(url_eletrodes_p04_s01, sep=\"\\t\")\n",
    "events_p04_s01 = pd.read_csv(url_events_p04_s01, sep=\"\\t\")"
   ]
  },
  {
   "cell_type": "code",
   "execution_count": 22,
   "metadata": {
    "id": "2jjQ-D_mKIyA"
   },
   "outputs": [],
   "source": [
    "# Section 2\n",
    "url_channels_p04_s02 = commom_path + \"sub-004/ses-02/eeg/sub-004_ses-02_task-SimonConflict_channels.tsv\"\n",
    "url_eletrodes_p04_s02 = commom_path + \"sub-004/ses-02/eeg/sub-004_ses-02_task-SimonConflict_electrodes.tsv\"\n",
    "url_events_p04_s02 = commom_path + \"sub-004/ses-02/eeg/sub-004_ses-02_task-SimonConflict_events.tsv\"\n",
    "\n",
    "channels_p04_s02 = pd.read_csv(url_channels_p04_s02, sep=\"\\t\")\n",
    "eletrodes_p04_s02 = pd.read_csv(url_eletrodes_p04_s02, sep=\"\\t\")\n",
    "events_p04_s02 = pd.read_csv(url_events_p04_s02, sep=\"\\t\")\n"
   ]
  },
  {
   "cell_type": "markdown",
   "metadata": {
    "id": "7LkDViCoKJW5"
   },
   "source": [
    "# Participant #5\n",
    "Number of sections: 2"
   ]
  },
  {
   "cell_type": "code",
   "execution_count": 23,
   "metadata": {
    "colab": {
     "base_uri": "https://localhost:8080/",
     "height": 80
    },
    "id": "0c4jF245eouf",
    "outputId": "c4d694c8-7ea0-4156-b79f-459227489470"
   },
   "outputs": [
    {
     "data": {
      "text/html": [
       "<div>\n",
       "<style scoped>\n",
       "    .dataframe tbody tr th:only-of-type {\n",
       "        vertical-align: middle;\n",
       "    }\n",
       "\n",
       "    .dataframe tbody tr th {\n",
       "        vertical-align: top;\n",
       "    }\n",
       "\n",
       "    .dataframe thead th {\n",
       "        text-align: right;\n",
       "    }\n",
       "</style>\n",
       "<table border=\"1\" class=\"dataframe\">\n",
       "  <thead>\n",
       "    <tr style=\"text-align: right;\">\n",
       "      <th></th>\n",
       "      <th>participant_id</th>\n",
       "      <th>Original_ID</th>\n",
       "      <th>Group</th>\n",
       "      <th>sess1_Med</th>\n",
       "      <th>sess2_Med</th>\n",
       "      <th>sex</th>\n",
       "      <th>age</th>\n",
       "    </tr>\n",
       "  </thead>\n",
       "  <tbody>\n",
       "    <tr>\n",
       "      <th>4</th>\n",
       "      <td>sub-005</td>\n",
       "      <td>804</td>\n",
       "      <td>1</td>\n",
       "      <td>ON</td>\n",
       "      <td>OFF</td>\n",
       "      <td>1</td>\n",
       "      <td>75</td>\n",
       "    </tr>\n",
       "  </tbody>\n",
       "</table>\n",
       "</div>"
      ],
      "text/plain": [
       "  participant_id  Original_ID  Group sess1_Med sess2_Med  sex  age\n",
       "4        sub-005          804      1        ON       OFF    1   75"
      ]
     },
     "execution_count": 23,
     "metadata": {},
     "output_type": "execute_result"
    }
   ],
   "source": [
    "# Participant data\n",
    "p05 = participants[participants['participant_id'] == 'sub-005']\n",
    "p05.head()"
   ]
  },
  {
   "cell_type": "code",
   "execution_count": 24,
   "metadata": {
    "id": "9XJg4BakKJW6"
   },
   "outputs": [],
   "source": [
    "# Section 1\n",
    "url_channels_p05_s01 = commom_path + \"sub-005/ses-01/eeg/sub-005_ses-01_task-SimonConflict_channels.tsv\"\n",
    "url_eletrodes_p05_s01 = commom_path + \"sub-005/ses-01/eeg/sub-005_ses-01_task-SimonConflict_electrodes.tsv\"\n",
    "url_events_p05_s01 = commom_path + \"sub-005/ses-01/eeg/sub-005_ses-01_task-SimonConflict_events.tsv\"\n",
    "\n",
    "channels_p05_s01 = pd.read_csv(url_channels_p05_s01, sep=\"\\t\")\n",
    "eletrodes_p05_s01 = pd.read_csv(url_eletrodes_p05_s01, sep=\"\\t\")\n",
    "events_p05_s01 = pd.read_csv(url_events_p05_s01, sep=\"\\t\")"
   ]
  },
  {
   "cell_type": "code",
   "execution_count": 25,
   "metadata": {
    "id": "_1Mx7lpQKJW8"
   },
   "outputs": [],
   "source": [
    "# Section 2\n",
    "url_channels_p05_s02 = commom_path + \"sub-005/ses-02/eeg/sub-005_ses-02_task-SimonConflict_channels.tsv\"\n",
    "url_eletrodes_p05_s02 = commom_path + \"sub-005/ses-02/eeg/sub-005_ses-02_task-SimonConflict_electrodes.tsv\"\n",
    "url_events_p05_s02 = commom_path + \"sub-005/ses-02/eeg/sub-005_ses-02_task-SimonConflict_events.tsv\"\n",
    "\n",
    "channels_p05_s02 = pd.read_csv(url_channels_p05_s02, sep=\"\\t\")\n",
    "eletrodes_p05_s02 = pd.read_csv(url_eletrodes_p05_s02, sep=\"\\t\")\n",
    "events_p05_s02 = pd.read_csv(url_events_p05_s02, sep=\"\\t\")\n"
   ]
  },
  {
   "cell_type": "markdown",
   "metadata": {
    "id": "3q_1H0t9KJlD"
   },
   "source": [
    "# Participant #6\n",
    "Number of sections: 2"
   ]
  },
  {
   "cell_type": "code",
   "execution_count": 26,
   "metadata": {
    "colab": {
     "base_uri": "https://localhost:8080/",
     "height": 80
    },
    "id": "ZuWyaVNnepSe",
    "outputId": "c4d694c8-7ea0-4156-b79f-459227489470"
   },
   "outputs": [
    {
     "data": {
      "text/html": [
       "<div>\n",
       "<style scoped>\n",
       "    .dataframe tbody tr th:only-of-type {\n",
       "        vertical-align: middle;\n",
       "    }\n",
       "\n",
       "    .dataframe tbody tr th {\n",
       "        vertical-align: top;\n",
       "    }\n",
       "\n",
       "    .dataframe thead th {\n",
       "        text-align: right;\n",
       "    }\n",
       "</style>\n",
       "<table border=\"1\" class=\"dataframe\">\n",
       "  <thead>\n",
       "    <tr style=\"text-align: right;\">\n",
       "      <th></th>\n",
       "      <th>participant_id</th>\n",
       "      <th>Original_ID</th>\n",
       "      <th>Group</th>\n",
       "      <th>sess1_Med</th>\n",
       "      <th>sess2_Med</th>\n",
       "      <th>sex</th>\n",
       "      <th>age</th>\n",
       "    </tr>\n",
       "  </thead>\n",
       "  <tbody>\n",
       "    <tr>\n",
       "      <th>5</th>\n",
       "      <td>sub-006</td>\n",
       "      <td>805</td>\n",
       "      <td>1</td>\n",
       "      <td>ON</td>\n",
       "      <td>OFF</td>\n",
       "      <td>1</td>\n",
       "      <td>79</td>\n",
       "    </tr>\n",
       "  </tbody>\n",
       "</table>\n",
       "</div>"
      ],
      "text/plain": [
       "  participant_id  Original_ID  Group sess1_Med sess2_Med  sex  age\n",
       "5        sub-006          805      1        ON       OFF    1   79"
      ]
     },
     "execution_count": 26,
     "metadata": {},
     "output_type": "execute_result"
    }
   ],
   "source": [
    "# Participant data\n",
    "p06 = participants[participants['participant_id'] == 'sub-006']\n",
    "p06.head()"
   ]
  },
  {
   "cell_type": "code",
   "execution_count": 27,
   "metadata": {
    "id": "YqIMc4WNKJlE"
   },
   "outputs": [],
   "source": [
    "# Section 1\n",
    "url_channels_p06_s01 = commom_path + \"sub-006/ses-01/eeg/sub-006_ses-01_task-SimonConflict_channels.tsv\"\n",
    "url_eletrodes_p06_s01 = commom_path + \"sub-006/ses-01/eeg/sub-006_ses-01_task-SimonConflict_electrodes.tsv\"\n",
    "url_events_p06_s01 = commom_path + \"sub-006/ses-01/eeg/sub-006_ses-01_task-SimonConflict_events.tsv\"\n",
    "\n",
    "channels_p06_s01 = pd.read_csv(url_channels_p06_s01, sep=\"\\t\")\n",
    "eletrodes_p06_s01 = pd.read_csv(url_eletrodes_p06_s01, sep=\"\\t\")\n",
    "events_p06_s01 = pd.read_csv(url_events_p06_s01, sep=\"\\t\")"
   ]
  },
  {
   "cell_type": "code",
   "execution_count": 28,
   "metadata": {
    "id": "2AQkB9SmKJlF"
   },
   "outputs": [],
   "source": [
    "# Section 2\n",
    "url_channels_p06_s02 = commom_path + \"sub-006/ses-02/eeg/sub-006_ses-02_task-SimonConflict_channels.tsv\"\n",
    "url_eletrodes_p06_s02 = commom_path + \"sub-006/ses-02/eeg/sub-006_ses-02_task-SimonConflict_electrodes.tsv\"\n",
    "url_events_p06_s02 = commom_path + \"sub-006/ses-02/eeg/sub-006_ses-02_task-SimonConflict_events.tsv\"\n",
    "\n",
    "channels_p06_s02 = pd.read_csv(url_channels_p06_s02, sep=\"\\t\")\n",
    "eletrodes_p06_s02 = pd.read_csv(url_eletrodes_p06_s02, sep=\"\\t\")\n",
    "events_p06_s02 = pd.read_csv(url_events_p06_s02, sep=\"\\t\")\n"
   ]
  },
  {
   "cell_type": "markdown",
   "metadata": {
    "id": "tqHYu8sQKJyL"
   },
   "source": [
    "# Participant #7\n",
    "Number of sections: 1"
   ]
  },
  {
   "cell_type": "code",
   "execution_count": 29,
   "metadata": {
    "colab": {
     "base_uri": "https://localhost:8080/",
     "height": 80
    },
    "id": "7DpiXUqLep1Y",
    "outputId": "c4d694c8-7ea0-4156-b79f-459227489470"
   },
   "outputs": [
    {
     "data": {
      "text/html": [
       "<div>\n",
       "<style scoped>\n",
       "    .dataframe tbody tr th:only-of-type {\n",
       "        vertical-align: middle;\n",
       "    }\n",
       "\n",
       "    .dataframe tbody tr th {\n",
       "        vertical-align: top;\n",
       "    }\n",
       "\n",
       "    .dataframe thead th {\n",
       "        text-align: right;\n",
       "    }\n",
       "</style>\n",
       "<table border=\"1\" class=\"dataframe\">\n",
       "  <thead>\n",
       "    <tr style=\"text-align: right;\">\n",
       "      <th></th>\n",
       "      <th>participant_id</th>\n",
       "      <th>Original_ID</th>\n",
       "      <th>Group</th>\n",
       "      <th>sess1_Med</th>\n",
       "      <th>sess2_Med</th>\n",
       "      <th>sex</th>\n",
       "      <th>age</th>\n",
       "    </tr>\n",
       "  </thead>\n",
       "  <tbody>\n",
       "    <tr>\n",
       "      <th>6</th>\n",
       "      <td>sub-007</td>\n",
       "      <td>8060</td>\n",
       "      <td>0</td>\n",
       "      <td>NaN</td>\n",
       "      <td>no s2</td>\n",
       "      <td>0</td>\n",
       "      <td>83</td>\n",
       "    </tr>\n",
       "  </tbody>\n",
       "</table>\n",
       "</div>"
      ],
      "text/plain": [
       "  participant_id  Original_ID  Group sess1_Med sess2_Med  sex  age\n",
       "6        sub-007         8060      0       NaN     no s2    0   83"
      ]
     },
     "execution_count": 29,
     "metadata": {},
     "output_type": "execute_result"
    }
   ],
   "source": [
    "# Participant data\n",
    "p07 = participants[participants['participant_id'] == 'sub-007']\n",
    "p07.head()"
   ]
  },
  {
   "cell_type": "code",
   "execution_count": 30,
   "metadata": {
    "id": "x_Oy9mDEKJyM"
   },
   "outputs": [],
   "source": [
    "# Section 1\n",
    "url_channels_p07_s01 = commom_path + \"sub-007/ses-01/eeg/sub-007_ses-01_task-SimonConflict_channels.tsv\"\n",
    "url_eletrodes_p07_s01 = commom_path + \"sub-007/ses-01/eeg/sub-007_ses-01_task-SimonConflict_electrodes.tsv\"\n",
    "url_events_p07_s01 = commom_path + \"sub-007/ses-01/eeg/sub-007_ses-01_task-SimonConflict_events.tsv\"\n",
    "\n",
    "channels_p07_s01 = pd.read_csv(url_channels_p07_s01, sep=\"\\t\")\n",
    "eletrodes_p07_s01 = pd.read_csv(url_eletrodes_p07_s01, sep=\"\\t\")\n",
    "events_p07_s01 = pd.read_csv(url_events_p07_s01, sep=\"\\t\")"
   ]
  },
  {
   "cell_type": "markdown",
   "metadata": {
    "id": "yZL7kpDjKJ8C"
   },
   "source": [
    "# Participant #8\n",
    "Number of sections: 2"
   ]
  },
  {
   "cell_type": "code",
   "execution_count": 31,
   "metadata": {
    "colab": {
     "base_uri": "https://localhost:8080/",
     "height": 80
    },
    "id": "TKUKlJSfeqQn",
    "outputId": "c4d694c8-7ea0-4156-b79f-459227489470"
   },
   "outputs": [
    {
     "data": {
      "text/html": [
       "<div>\n",
       "<style scoped>\n",
       "    .dataframe tbody tr th:only-of-type {\n",
       "        vertical-align: middle;\n",
       "    }\n",
       "\n",
       "    .dataframe tbody tr th {\n",
       "        vertical-align: top;\n",
       "    }\n",
       "\n",
       "    .dataframe thead th {\n",
       "        text-align: right;\n",
       "    }\n",
       "</style>\n",
       "<table border=\"1\" class=\"dataframe\">\n",
       "  <thead>\n",
       "    <tr style=\"text-align: right;\">\n",
       "      <th></th>\n",
       "      <th>participant_id</th>\n",
       "      <th>Original_ID</th>\n",
       "      <th>Group</th>\n",
       "      <th>sess1_Med</th>\n",
       "      <th>sess2_Med</th>\n",
       "      <th>sex</th>\n",
       "      <th>age</th>\n",
       "    </tr>\n",
       "  </thead>\n",
       "  <tbody>\n",
       "    <tr>\n",
       "      <th>7</th>\n",
       "      <td>sub-008</td>\n",
       "      <td>806</td>\n",
       "      <td>1</td>\n",
       "      <td>OFF</td>\n",
       "      <td>ON</td>\n",
       "      <td>0</td>\n",
       "      <td>79</td>\n",
       "    </tr>\n",
       "  </tbody>\n",
       "</table>\n",
       "</div>"
      ],
      "text/plain": [
       "  participant_id  Original_ID  Group sess1_Med sess2_Med  sex  age\n",
       "7        sub-008          806      1       OFF        ON    0   79"
      ]
     },
     "execution_count": 31,
     "metadata": {},
     "output_type": "execute_result"
    }
   ],
   "source": [
    "# Participant data\n",
    "p08 = participants[participants['participant_id'] == 'sub-008']\n",
    "p08.head()"
   ]
  },
  {
   "cell_type": "code",
   "execution_count": 32,
   "metadata": {
    "id": "Gp5r9bjBKJ8D"
   },
   "outputs": [],
   "source": [
    "# Section 1\n",
    "url_channels_p08_s01 = commom_path + \"sub-008/ses-01/eeg/sub-008_ses-01_task-SimonConflict_channels.tsv\"\n",
    "url_eletrodes_p08_s01 = commom_path + \"sub-008/ses-01/eeg/sub-008_ses-01_task-SimonConflict_electrodes.tsv\"\n",
    "url_events_p08_s01 = commom_path + \"sub-008/ses-01/eeg/sub-008_ses-01_task-SimonConflict_events.tsv\"\n",
    "\n",
    "channels_p08_s01 = pd.read_csv(url_channels_p08_s01, sep=\"\\t\")\n",
    "eletrodes_p08_s01 = pd.read_csv(url_eletrodes_p08_s01, sep=\"\\t\")\n",
    "events_p08_s01 = pd.read_csv(url_events_p08_s01, sep=\"\\t\")"
   ]
  },
  {
   "cell_type": "code",
   "execution_count": 33,
   "metadata": {
    "id": "K695qljlKJ8E"
   },
   "outputs": [],
   "source": [
    "# Section 2\n",
    "url_channels_p08_s02 = commom_path + \"sub-008/ses-02/eeg/sub-008_ses-02_task-SimonConflict_channels.tsv\"\n",
    "url_eletrodes_p08_s02 = commom_path + \"sub-008/ses-02/eeg/sub-008_ses-02_task-SimonConflict_electrodes.tsv\"\n",
    "url_events_p08_s02 = commom_path + \"/sub-008/ses-02/eeg/sub-008_ses-02_task-SimonConflict_events.tsv\"\n",
    "\n",
    "channels_p08_s02 = pd.read_csv(url_channels_p08_s02, sep=\"\\t\")\n",
    "eletrodes_p08_s02 = pd.read_csv(url_eletrodes_p08_s02, sep=\"\\t\")\n",
    "events_p08_s02 = pd.read_csv(url_events_p08_s02, sep=\"\\t\")\n"
   ]
  },
  {
   "cell_type": "markdown",
   "metadata": {
    "id": "IbzxP-sAKKIm"
   },
   "source": [
    "# Participant #9\n",
    "Number of sections: 1"
   ]
  },
  {
   "cell_type": "code",
   "execution_count": 34,
   "metadata": {
    "colab": {
     "base_uri": "https://localhost:8080/",
     "height": 80
    },
    "id": "3MfuhhGZeqwV",
    "outputId": "c4d694c8-7ea0-4156-b79f-459227489470"
   },
   "outputs": [
    {
     "data": {
      "text/html": [
       "<div>\n",
       "<style scoped>\n",
       "    .dataframe tbody tr th:only-of-type {\n",
       "        vertical-align: middle;\n",
       "    }\n",
       "\n",
       "    .dataframe tbody tr th {\n",
       "        vertical-align: top;\n",
       "    }\n",
       "\n",
       "    .dataframe thead th {\n",
       "        text-align: right;\n",
       "    }\n",
       "</style>\n",
       "<table border=\"1\" class=\"dataframe\">\n",
       "  <thead>\n",
       "    <tr style=\"text-align: right;\">\n",
       "      <th></th>\n",
       "      <th>participant_id</th>\n",
       "      <th>Original_ID</th>\n",
       "      <th>Group</th>\n",
       "      <th>sess1_Med</th>\n",
       "      <th>sess2_Med</th>\n",
       "      <th>sex</th>\n",
       "      <th>age</th>\n",
       "    </tr>\n",
       "  </thead>\n",
       "  <tbody>\n",
       "    <tr>\n",
       "      <th>8</th>\n",
       "      <td>sub-009</td>\n",
       "      <td>8070</td>\n",
       "      <td>0</td>\n",
       "      <td>NaN</td>\n",
       "      <td>no s2</td>\n",
       "      <td>0</td>\n",
       "      <td>67</td>\n",
       "    </tr>\n",
       "  </tbody>\n",
       "</table>\n",
       "</div>"
      ],
      "text/plain": [
       "  participant_id  Original_ID  Group sess1_Med sess2_Med  sex  age\n",
       "8        sub-009         8070      0       NaN     no s2    0   67"
      ]
     },
     "execution_count": 34,
     "metadata": {},
     "output_type": "execute_result"
    }
   ],
   "source": [
    "# Participant data\n",
    "p09 = participants[participants['participant_id'] == 'sub-009']\n",
    "p09.head()"
   ]
  },
  {
   "cell_type": "code",
   "execution_count": 35,
   "metadata": {
    "id": "AZRzuni_KKIn"
   },
   "outputs": [],
   "source": [
    "# Section 1\n",
    "url_channels_p09_s01 = commom_path + \"sub-009/ses-01/eeg/sub-009_ses-01_task-SimonConflict_channels.tsv\"\n",
    "url_eletrodes_p09_s01 = commom_path + \"sub-009/ses-01/eeg/sub-009_ses-01_task-SimonConflict_electrodes.tsv\"\n",
    "url_events_p09_s01 = commom_path + \"sub-009/ses-01/eeg/sub-009_ses-01_task-SimonConflict_events.tsv\"\n",
    "\n",
    "channels_p09_s01 = pd.read_csv(url_channels_p09_s01, sep=\"\\t\")\n",
    "eletrodes_p09_s01 = pd.read_csv(url_eletrodes_p09_s01, sep=\"\\t\")\n",
    "events_p09_s01 = pd.read_csv(url_events_p09_s01, sep=\"\\t\")"
   ]
  },
  {
   "cell_type": "markdown",
   "metadata": {
    "id": "cjjsQa8gKKUJ"
   },
   "source": [
    "# Participant #10\n",
    "Number of sections: 2"
   ]
  },
  {
   "cell_type": "code",
   "execution_count": 36,
   "metadata": {
    "colab": {
     "base_uri": "https://localhost:8080/",
     "height": 80
    },
    "id": "PUf-4VvderSY",
    "outputId": "eb1e85d4-be6e-468e-ed7b-f3c22248ccd7"
   },
   "outputs": [
    {
     "data": {
      "text/html": [
       "<div>\n",
       "<style scoped>\n",
       "    .dataframe tbody tr th:only-of-type {\n",
       "        vertical-align: middle;\n",
       "    }\n",
       "\n",
       "    .dataframe tbody tr th {\n",
       "        vertical-align: top;\n",
       "    }\n",
       "\n",
       "    .dataframe thead th {\n",
       "        text-align: right;\n",
       "    }\n",
       "</style>\n",
       "<table border=\"1\" class=\"dataframe\">\n",
       "  <thead>\n",
       "    <tr style=\"text-align: right;\">\n",
       "      <th></th>\n",
       "      <th>participant_id</th>\n",
       "      <th>Original_ID</th>\n",
       "      <th>Group</th>\n",
       "      <th>sess1_Med</th>\n",
       "      <th>sess2_Med</th>\n",
       "      <th>sex</th>\n",
       "      <th>age</th>\n",
       "    </tr>\n",
       "  </thead>\n",
       "  <tbody>\n",
       "    <tr>\n",
       "      <th>9</th>\n",
       "      <td>sub-010</td>\n",
       "      <td>807</td>\n",
       "      <td>1</td>\n",
       "      <td>OFF</td>\n",
       "      <td>ON</td>\n",
       "      <td>0</td>\n",
       "      <td>72</td>\n",
       "    </tr>\n",
       "  </tbody>\n",
       "</table>\n",
       "</div>"
      ],
      "text/plain": [
       "  participant_id  Original_ID  Group sess1_Med sess2_Med  sex  age\n",
       "9        sub-010          807      1       OFF        ON    0   72"
      ]
     },
     "execution_count": 36,
     "metadata": {},
     "output_type": "execute_result"
    }
   ],
   "source": [
    "# Participant data\n",
    "p10 = participants[participants['participant_id'] == 'sub-010']\n",
    "p10.head()"
   ]
  },
  {
   "cell_type": "code",
   "execution_count": 37,
   "metadata": {
    "id": "F79-m84PKKUK"
   },
   "outputs": [],
   "source": [
    "# Section 1\n",
    "url_channels_p10_s01 = commom_path + \"sub-010/ses-01/eeg/sub-010_ses-01_task-SimonConflict_channels.tsv\"\n",
    "url_eletrodes_p10_s01 = commom_path + \"sub-010/ses-01/eeg/sub-010_ses-01_task-SimonConflict_electrodes.tsv\"\n",
    "url_events_p10_s01 = commom_path + \"sub-010/ses-01/eeg/sub-010_ses-01_task-SimonConflict_events.tsv\"\n",
    "\n",
    "channels_p10_s01 = pd.read_csv(url_channels_p10_s01, sep=\"\\t\")\n",
    "eletrodes_p10_s01 = pd.read_csv(url_eletrodes_p10_s01, sep=\"\\t\")\n",
    "events_p10_s01 = pd.read_csv(url_events_p10_s01, sep=\"\\t\")"
   ]
  },
  {
   "cell_type": "code",
   "execution_count": 38,
   "metadata": {
    "id": "JYUIRObOKKUL"
   },
   "outputs": [],
   "source": [
    "# Section 2\n",
    "url_channels_p10_s02 = commom_path + \"sub-010/ses-02/eeg/sub-010_ses-02_task-SimonConflict_channels.tsv\"\n",
    "url_eletrodes_p10_s02 = commom_path + \"sub-010/ses-02/eeg/sub-010_ses-02_task-SimonConflict_electrodes.tsv\"\n",
    "url_events_p10_s02 = commom_path + \"sub-010/ses-02/eeg/sub-010_ses-02_task-SimonConflict_events.tsv\"\n",
    "\n",
    "channels_p10_s02 = pd.read_csv(url_channels_p10_s02, sep=\"\\t\")\n",
    "eletrodes_p10_s02 = pd.read_csv(url_eletrodes_p10_s02, sep=\"\\t\")\n",
    "events_p10_s02 = pd.read_csv(url_events_p10_s02, sep=\"\\t\")\n"
   ]
  },
  {
   "cell_type": "markdown",
   "metadata": {
    "id": "jvOl-7iXKKf2"
   },
   "source": [
    "# Participant #11\n",
    "Number of sections:2"
   ]
  },
  {
   "cell_type": "code",
   "execution_count": 39,
   "metadata": {
    "colab": {
     "base_uri": "https://localhost:8080/",
     "height": 80
    },
    "id": "MUVJvpx0ert9",
    "outputId": "83d9a6f6-3ed4-45c6-d83e-5a48a2e21e60"
   },
   "outputs": [
    {
     "data": {
      "text/html": [
       "<div>\n",
       "<style scoped>\n",
       "    .dataframe tbody tr th:only-of-type {\n",
       "        vertical-align: middle;\n",
       "    }\n",
       "\n",
       "    .dataframe tbody tr th {\n",
       "        vertical-align: top;\n",
       "    }\n",
       "\n",
       "    .dataframe thead th {\n",
       "        text-align: right;\n",
       "    }\n",
       "</style>\n",
       "<table border=\"1\" class=\"dataframe\">\n",
       "  <thead>\n",
       "    <tr style=\"text-align: right;\">\n",
       "      <th></th>\n",
       "      <th>participant_id</th>\n",
       "      <th>Original_ID</th>\n",
       "      <th>Group</th>\n",
       "      <th>sess1_Med</th>\n",
       "      <th>sess2_Med</th>\n",
       "      <th>sex</th>\n",
       "      <th>age</th>\n",
       "    </tr>\n",
       "  </thead>\n",
       "  <tbody>\n",
       "    <tr>\n",
       "      <th>10</th>\n",
       "      <td>sub-011</td>\n",
       "      <td>808</td>\n",
       "      <td>1</td>\n",
       "      <td>OFF</td>\n",
       "      <td>ON</td>\n",
       "      <td>1</td>\n",
       "      <td>68</td>\n",
       "    </tr>\n",
       "  </tbody>\n",
       "</table>\n",
       "</div>"
      ],
      "text/plain": [
       "   participant_id  Original_ID  Group sess1_Med sess2_Med  sex  age\n",
       "10        sub-011          808      1       OFF        ON    1   68"
      ]
     },
     "execution_count": 39,
     "metadata": {},
     "output_type": "execute_result"
    }
   ],
   "source": [
    "# Participant data\n",
    "p11 = participants[participants['participant_id'] == 'sub-011']\n",
    "p11.head()"
   ]
  },
  {
   "cell_type": "code",
   "execution_count": 40,
   "metadata": {
    "id": "JrsB7Du-KKf4"
   },
   "outputs": [],
   "source": [
    "# Section 1\n",
    "url_channels_p11_s01 = commom_path + \"sub-011/ses-01/eeg/sub-011_ses-01_task-SimonConflict_channels.tsv\"\n",
    "url_eletrodes_p11_s01 = commom_path + \"sub-011/ses-01/eeg/sub-011_ses-01_task-SimonConflict_electrodes.tsv\"\n",
    "url_events_p11_s01 = commom_path + \"sub-011/ses-01/eeg/sub-011_ses-01_task-SimonConflict_events.tsv\"\n",
    "\n",
    "channels_p11_s01 = pd.read_csv(url_channels_p11_s01, sep=\"\\t\")\n",
    "eletrodes_p11_s01 = pd.read_csv(url_eletrodes_p11_s01, sep=\"\\t\")\n",
    "events_p11_s01 = pd.read_csv(url_events_p11_s01, sep=\"\\t\")"
   ]
  },
  {
   "cell_type": "code",
   "execution_count": 41,
   "metadata": {
    "id": "Yk3Kv400KKf4"
   },
   "outputs": [],
   "source": [
    "# Section 2\n",
    "url_channels_p11_s02 = commom_path + \"sub-011/ses-02/eeg/sub-011_ses-02_task-SimonConflict_channels.tsv\"\n",
    "url_eletrodes_p11_s02 = commom_path + \"sub-011/ses-02/eeg/sub-011_ses-02_task-SimonConflict_electrodes.tsv\"\n",
    "url_events_p11_s02 = commom_path + \"sub-011/ses-02/eeg/sub-011_ses-02_task-SimonConflict_events.tsv\"\n",
    "\n",
    "channels_p11_s02 = pd.read_csv(url_channels_p11_s02, sep=\"\\t\")\n",
    "eletrodes_p11_s02 = pd.read_csv(url_eletrodes_p11_s02, sep=\"\\t\")\n",
    "events_p11_s02 = pd.read_csv(url_events_p11_s02, sep=\"\\t\")\n"
   ]
  },
  {
   "cell_type": "markdown",
   "metadata": {
    "id": "F609nJfGKKrf"
   },
   "source": [
    "# Participant #12\n",
    "Number of sections: 2"
   ]
  },
  {
   "cell_type": "code",
   "execution_count": 42,
   "metadata": {
    "colab": {
     "base_uri": "https://localhost:8080/",
     "height": 80
    },
    "id": "AgGScr3GesOq",
    "outputId": "71b79d86-8484-4e47-e1ff-acd15a1d22cb"
   },
   "outputs": [
    {
     "data": {
      "text/html": [
       "<div>\n",
       "<style scoped>\n",
       "    .dataframe tbody tr th:only-of-type {\n",
       "        vertical-align: middle;\n",
       "    }\n",
       "\n",
       "    .dataframe tbody tr th {\n",
       "        vertical-align: top;\n",
       "    }\n",
       "\n",
       "    .dataframe thead th {\n",
       "        text-align: right;\n",
       "    }\n",
       "</style>\n",
       "<table border=\"1\" class=\"dataframe\">\n",
       "  <thead>\n",
       "    <tr style=\"text-align: right;\">\n",
       "      <th></th>\n",
       "      <th>participant_id</th>\n",
       "      <th>Original_ID</th>\n",
       "      <th>Group</th>\n",
       "      <th>sess1_Med</th>\n",
       "      <th>sess2_Med</th>\n",
       "      <th>sex</th>\n",
       "      <th>age</th>\n",
       "    </tr>\n",
       "  </thead>\n",
       "  <tbody>\n",
       "    <tr>\n",
       "      <th>11</th>\n",
       "      <td>sub-012</td>\n",
       "      <td>809</td>\n",
       "      <td>1</td>\n",
       "      <td>ON</td>\n",
       "      <td>OFF</td>\n",
       "      <td>1</td>\n",
       "      <td>71</td>\n",
       "    </tr>\n",
       "  </tbody>\n",
       "</table>\n",
       "</div>"
      ],
      "text/plain": [
       "   participant_id  Original_ID  Group sess1_Med sess2_Med  sex  age\n",
       "11        sub-012          809      1        ON       OFF    1   71"
      ]
     },
     "execution_count": 42,
     "metadata": {},
     "output_type": "execute_result"
    }
   ],
   "source": [
    "# Participant data\n",
    "p12 = participants[participants['participant_id'] == 'sub-012']\n",
    "p12.head()"
   ]
  },
  {
   "cell_type": "code",
   "execution_count": 43,
   "metadata": {
    "id": "hAbUjzMcKKrg"
   },
   "outputs": [],
   "source": [
    "# Section 1\n",
    "url_channels_p12_s01 = commom_path + \"sub-012/ses-01/eeg/sub-012_ses-01_task-SimonConflict_channels.tsv\"\n",
    "url_eletrodes_p12_s01 = commom_path + \"sub-012/ses-01/eeg/sub-012_ses-01_task-SimonConflict_electrodes.tsv\"\n",
    "url_events_p12_s01 = commom_path + \"sub-012/ses-01/eeg/sub-012_ses-01_task-SimonConflict_events.tsv\"\n",
    "\n",
    "channels_p12_s01 = pd.read_csv(url_channels_p12_s01, sep=\"\\t\")\n",
    "eletrodes_p12_s01 = pd.read_csv(url_eletrodes_p12_s01, sep=\"\\t\")\n",
    "events_p12_s01 = pd.read_csv(url_events_p12_s01, sep=\"\\t\")"
   ]
  },
  {
   "cell_type": "code",
   "execution_count": 44,
   "metadata": {
    "id": "NQSuMO5AKKrh"
   },
   "outputs": [],
   "source": [
    "# Section 2\n",
    "url_channels_p12_s02 = commom_path + \"sub-012/ses-02/eeg/sub-012_ses-02_task-SimonConflict_channels.tsv\"\n",
    "url_eletrodes_p12_s02 = commom_path + \"sub-012/ses-02/eeg/sub-012_ses-02_task-SimonConflict_electrodes.tsv\"\n",
    "url_events_p12_s02 = commom_path + \"sub-012/ses-02/eeg/sub-012_ses-02_task-SimonConflict_events.tsv\"\n",
    "\n",
    "channels_p12_s02 = pd.read_csv(url_channels_p12_s02, sep=\"\\t\")\n",
    "eletrodes_p12_s02 = pd.read_csv(url_eletrodes_p12_s02, sep=\"\\t\")\n",
    "events_p12_s02 = pd.read_csv(url_events_p12_s02, sep=\"\\t\")\n"
   ]
  },
  {
   "cell_type": "markdown",
   "metadata": {
    "id": "_Xgoqq47KK2F"
   },
   "source": [
    "# Participant #13\n",
    "Number of sections: 2"
   ]
  },
  {
   "cell_type": "code",
   "execution_count": 45,
   "metadata": {
    "colab": {
     "base_uri": "https://localhost:8080/",
     "height": 80
    },
    "id": "2MRjFZE-esux",
    "outputId": "7b558cd3-13b2-486e-b9ed-47f986e2241a"
   },
   "outputs": [
    {
     "data": {
      "text/html": [
       "<div>\n",
       "<style scoped>\n",
       "    .dataframe tbody tr th:only-of-type {\n",
       "        vertical-align: middle;\n",
       "    }\n",
       "\n",
       "    .dataframe tbody tr th {\n",
       "        vertical-align: top;\n",
       "    }\n",
       "\n",
       "    .dataframe thead th {\n",
       "        text-align: right;\n",
       "    }\n",
       "</style>\n",
       "<table border=\"1\" class=\"dataframe\">\n",
       "  <thead>\n",
       "    <tr style=\"text-align: right;\">\n",
       "      <th></th>\n",
       "      <th>participant_id</th>\n",
       "      <th>Original_ID</th>\n",
       "      <th>Group</th>\n",
       "      <th>sess1_Med</th>\n",
       "      <th>sess2_Med</th>\n",
       "      <th>sex</th>\n",
       "      <th>age</th>\n",
       "    </tr>\n",
       "  </thead>\n",
       "  <tbody>\n",
       "    <tr>\n",
       "      <th>12</th>\n",
       "      <td>sub-013</td>\n",
       "      <td>810</td>\n",
       "      <td>1</td>\n",
       "      <td>ON</td>\n",
       "      <td>OFF</td>\n",
       "      <td>1</td>\n",
       "      <td>68</td>\n",
       "    </tr>\n",
       "  </tbody>\n",
       "</table>\n",
       "</div>"
      ],
      "text/plain": [
       "   participant_id  Original_ID  Group sess1_Med sess2_Med  sex  age\n",
       "12        sub-013          810      1        ON       OFF    1   68"
      ]
     },
     "execution_count": 45,
     "metadata": {},
     "output_type": "execute_result"
    }
   ],
   "source": [
    "# Participant data\n",
    "p13 = participants[participants['participant_id'] == 'sub-013']\n",
    "p13.head()"
   ]
  },
  {
   "cell_type": "code",
   "execution_count": 46,
   "metadata": {
    "id": "j-uk8_atKK2G"
   },
   "outputs": [],
   "source": [
    "# Section 1\n",
    "url_channels_p13_s01 = commom_path + \"sub-013/ses-01/eeg/sub-013_ses-01_task-SimonConflict_channels.tsv\"\n",
    "url_eletrodes_p13_s01 = commom_path + \"sub-013/ses-01/eeg/sub-013_ses-01_task-SimonConflict_electrodes.tsv\"\n",
    "url_events_p13_s01 = commom_path + \"sub-013/ses-01/eeg/sub-013_ses-01_task-SimonConflict_events.tsv\"\n",
    "\n",
    "channels_p13_s01 = pd.read_csv(url_channels_p13_s01, sep=\"\\t\")\n",
    "eletrodes_p13_s01 = pd.read_csv(url_eletrodes_p13_s01, sep=\"\\t\")\n",
    "events_p13_s01 = pd.read_csv(url_events_p13_s01, sep=\"\\t\")"
   ]
  },
  {
   "cell_type": "code",
   "execution_count": 47,
   "metadata": {
    "id": "R3GvyA81KK2H"
   },
   "outputs": [],
   "source": [
    "# Section 2\n",
    "url_channels_p13_s02 = commom_path + \"sub-013/ses-02/eeg/sub-013_ses-02_task-SimonConflict_channels.tsv\"\n",
    "url_eletrodes_p13_s02 = commom_path + \"sub-013/ses-02/eeg/sub-013_ses-02_task-SimonConflict_electrodes.tsv\"\n",
    "url_events_p13_s02 = commom_path + \"sub-013/ses-02/eeg/sub-013_ses-02_task-SimonConflict_events.tsv\"\n",
    "\n",
    "channels_p13_s02 = pd.read_csv(url_channels_p13_s02, sep=\"\\t\")\n",
    "eletrodes_p13_s02 = pd.read_csv(url_eletrodes_p13_s02, sep=\"\\t\")\n",
    "events_p13_s02 = pd.read_csv(url_events_p13_s02, sep=\"\\t\")\n"
   ]
  },
  {
   "cell_type": "markdown",
   "metadata": {
    "id": "WJfo6iWoKLAH"
   },
   "source": [
    "# Participant #14\n",
    "Number of sections: 2"
   ]
  },
  {
   "cell_type": "code",
   "execution_count": 48,
   "metadata": {
    "colab": {
     "base_uri": "https://localhost:8080/",
     "height": 80
    },
    "id": "xDazrjCRetQk",
    "outputId": "c4d694c8-7ea0-4156-b79f-459227489470"
   },
   "outputs": [
    {
     "data": {
      "text/html": [
       "<div>\n",
       "<style scoped>\n",
       "    .dataframe tbody tr th:only-of-type {\n",
       "        vertical-align: middle;\n",
       "    }\n",
       "\n",
       "    .dataframe tbody tr th {\n",
       "        vertical-align: top;\n",
       "    }\n",
       "\n",
       "    .dataframe thead th {\n",
       "        text-align: right;\n",
       "    }\n",
       "</style>\n",
       "<table border=\"1\" class=\"dataframe\">\n",
       "  <thead>\n",
       "    <tr style=\"text-align: right;\">\n",
       "      <th></th>\n",
       "      <th>participant_id</th>\n",
       "      <th>Original_ID</th>\n",
       "      <th>Group</th>\n",
       "      <th>sess1_Med</th>\n",
       "      <th>sess2_Med</th>\n",
       "      <th>sex</th>\n",
       "      <th>age</th>\n",
       "    </tr>\n",
       "  </thead>\n",
       "  <tbody>\n",
       "    <tr>\n",
       "      <th>13</th>\n",
       "      <td>sub-014</td>\n",
       "      <td>811</td>\n",
       "      <td>1</td>\n",
       "      <td>ON</td>\n",
       "      <td>OFF</td>\n",
       "      <td>1</td>\n",
       "      <td>68</td>\n",
       "    </tr>\n",
       "  </tbody>\n",
       "</table>\n",
       "</div>"
      ],
      "text/plain": [
       "   participant_id  Original_ID  Group sess1_Med sess2_Med  sex  age\n",
       "13        sub-014          811      1        ON       OFF    1   68"
      ]
     },
     "execution_count": 48,
     "metadata": {},
     "output_type": "execute_result"
    }
   ],
   "source": [
    "# Participant data\n",
    "p14 = participants[participants['participant_id'] == 'sub-014']\n",
    "p14.head()"
   ]
  },
  {
   "cell_type": "code",
   "execution_count": 49,
   "metadata": {
    "id": "xliO8yfRKLAI"
   },
   "outputs": [],
   "source": [
    "# Section 1\n",
    "url_channels_p14_s01 = commom_path + \"sub-014/ses-01/eeg/sub-014_ses-01_task-SimonConflict_channels.tsv\"\n",
    "url_eletrodes_p14_s01 = commom_path + \"sub-014/ses-01/eeg/sub-014_ses-01_task-SimonConflict_electrodes.tsv\"\n",
    "url_events_p14_s01 = commom_path + \"sub-014/ses-01/eeg/sub-014_ses-01_task-SimonConflict_events.tsv\"\n",
    "\n",
    "channels_p14_s01 = pd.read_csv(url_channels_p14_s01, sep=\"\\t\")\n",
    "eletrodes_p14_s01 = pd.read_csv(url_eletrodes_p14_s01, sep=\"\\t\")\n",
    "events_p14_s01 = pd.read_csv(url_events_p14_s01, sep=\"\\t\")"
   ]
  },
  {
   "cell_type": "code",
   "execution_count": 50,
   "metadata": {
    "id": "S1s3IgEkKLAJ"
   },
   "outputs": [],
   "source": [
    "# Section 2\n",
    "url_channels_p14_s02 = commom_path + \"sub-014/ses-02/eeg/sub-014_ses-02_task-SimonConflict_channels.tsv\"\n",
    "url_eletrodes_p14_s02 = commom_path + \"sub-014/ses-02/eeg/sub-014_ses-02_task-SimonConflict_electrodes.tsv\"\n",
    "url_events_p14_s02 = commom_path + \"sub-014/ses-02/eeg/sub-014_ses-02_task-SimonConflict_events.tsv\"\n",
    "\n",
    "channels_p14_s02 = pd.read_csv(url_channels_p14_s02, sep=\"\\t\")\n",
    "eletrodes_p14_s02 = pd.read_csv(url_eletrodes_p14_s02, sep=\"\\t\")\n",
    "events_p14_s02 = pd.read_csv(url_events_p14_s02, sep=\"\\t\")\n"
   ]
  },
  {
   "cell_type": "markdown",
   "metadata": {
    "id": "PoNIS5cZKLKV"
   },
   "source": [
    "# Participant #15\n",
    "Number of sections: 2"
   ]
  },
  {
   "cell_type": "code",
   "execution_count": 51,
   "metadata": {
    "colab": {
     "base_uri": "https://localhost:8080/",
     "height": 80
    },
    "id": "uo8KEkx1etxn",
    "outputId": "b4f96aab-2dc3-483e-aab4-08718eac0007"
   },
   "outputs": [
    {
     "data": {
      "text/html": [
       "<div>\n",
       "<style scoped>\n",
       "    .dataframe tbody tr th:only-of-type {\n",
       "        vertical-align: middle;\n",
       "    }\n",
       "\n",
       "    .dataframe tbody tr th {\n",
       "        vertical-align: top;\n",
       "    }\n",
       "\n",
       "    .dataframe thead th {\n",
       "        text-align: right;\n",
       "    }\n",
       "</style>\n",
       "<table border=\"1\" class=\"dataframe\">\n",
       "  <thead>\n",
       "    <tr style=\"text-align: right;\">\n",
       "      <th></th>\n",
       "      <th>participant_id</th>\n",
       "      <th>Original_ID</th>\n",
       "      <th>Group</th>\n",
       "      <th>sess1_Med</th>\n",
       "      <th>sess2_Med</th>\n",
       "      <th>sex</th>\n",
       "      <th>age</th>\n",
       "    </tr>\n",
       "  </thead>\n",
       "  <tbody>\n",
       "    <tr>\n",
       "      <th>14</th>\n",
       "      <td>sub-015</td>\n",
       "      <td>813</td>\n",
       "      <td>1</td>\n",
       "      <td>OFF</td>\n",
       "      <td>ON</td>\n",
       "      <td>1</td>\n",
       "      <td>83</td>\n",
       "    </tr>\n",
       "  </tbody>\n",
       "</table>\n",
       "</div>"
      ],
      "text/plain": [
       "   participant_id  Original_ID  Group sess1_Med sess2_Med  sex  age\n",
       "14        sub-015          813      1       OFF        ON    1   83"
      ]
     },
     "execution_count": 51,
     "metadata": {},
     "output_type": "execute_result"
    }
   ],
   "source": [
    "# Participant data\n",
    "p15 = participants[participants['participant_id'] == 'sub-015']\n",
    "p15.head()"
   ]
  },
  {
   "cell_type": "code",
   "execution_count": 52,
   "metadata": {
    "id": "tBhmkszkKLKW"
   },
   "outputs": [],
   "source": [
    "# Section 1\n",
    "url_channels_p15_s01 = commom_path + \"sub-015/ses-01/eeg/sub-015_ses-01_task-SimonConflict_channels.tsv\"\n",
    "url_eletrodes_p15_s01 = commom_path + \"sub-015/ses-01/eeg/sub-015_ses-01_task-SimonConflict_electrodes.tsv\"\n",
    "url_events_p15_s01 = commom_path + \"sub-015/ses-01/eeg/sub-015_ses-01_task-SimonConflict_events.tsv\"\n",
    "\n",
    "channels_p15_s01 = pd.read_csv(url_channels_p15_s01, sep=\"\\t\")\n",
    "eletrodes_p15_s01 = pd.read_csv(url_eletrodes_p15_s01, sep=\"\\t\")\n",
    "events_p15_s01 = pd.read_csv(url_events_p15_s01, sep=\"\\t\")"
   ]
  },
  {
   "cell_type": "code",
   "execution_count": 53,
   "metadata": {
    "id": "mr2sAyMBKLKX"
   },
   "outputs": [],
   "source": [
    "# Section 2\n",
    "url_channels_p15_s02 = commom_path + \"sub-015/ses-02/eeg/sub-015_ses-02_task-SimonConflict_channels.tsv\"\n",
    "url_eletrodes_p15_s02 = commom_path + \"sub-015/ses-02/eeg/sub-015_ses-02_task-SimonConflict_electrodes.tsv\"\n",
    "url_events_p15_s02 = commom_path + \"sub-015/ses-02/eeg/sub-015_ses-02_task-SimonConflict_events.tsv\"\n",
    "\n",
    "channels_p15_s02 = pd.read_csv(url_channels_p15_s02, sep=\"\\t\")\n",
    "eletrodes_p15_s02 = pd.read_csv(url_eletrodes_p15_s02, sep=\"\\t\")\n",
    "events_p15_s02 = pd.read_csv(url_events_p15_s02, sep=\"\\t\")\n"
   ]
  },
  {
   "cell_type": "markdown",
   "metadata": {
    "id": "hLzhzWwnKLUV"
   },
   "source": [
    "# Participant #16\n",
    "Number of sections: 2"
   ]
  },
  {
   "cell_type": "code",
   "execution_count": 54,
   "metadata": {
    "colab": {
     "base_uri": "https://localhost:8080/",
     "height": 80
    },
    "id": "_g6nugKWeuVh",
    "outputId": "b85be7ee-8d7e-449d-c564-d0e744b963cd"
   },
   "outputs": [
    {
     "data": {
      "text/html": [
       "<div>\n",
       "<style scoped>\n",
       "    .dataframe tbody tr th:only-of-type {\n",
       "        vertical-align: middle;\n",
       "    }\n",
       "\n",
       "    .dataframe tbody tr th {\n",
       "        vertical-align: top;\n",
       "    }\n",
       "\n",
       "    .dataframe thead th {\n",
       "        text-align: right;\n",
       "    }\n",
       "</style>\n",
       "<table border=\"1\" class=\"dataframe\">\n",
       "  <thead>\n",
       "    <tr style=\"text-align: right;\">\n",
       "      <th></th>\n",
       "      <th>participant_id</th>\n",
       "      <th>Original_ID</th>\n",
       "      <th>Group</th>\n",
       "      <th>sess1_Med</th>\n",
       "      <th>sess2_Med</th>\n",
       "      <th>sex</th>\n",
       "      <th>age</th>\n",
       "    </tr>\n",
       "  </thead>\n",
       "  <tbody>\n",
       "    <tr>\n",
       "      <th>15</th>\n",
       "      <td>sub-016</td>\n",
       "      <td>814</td>\n",
       "      <td>1</td>\n",
       "      <td>ON</td>\n",
       "      <td>OFF</td>\n",
       "      <td>1</td>\n",
       "      <td>61</td>\n",
       "    </tr>\n",
       "  </tbody>\n",
       "</table>\n",
       "</div>"
      ],
      "text/plain": [
       "   participant_id  Original_ID  Group sess1_Med sess2_Med  sex  age\n",
       "15        sub-016          814      1        ON       OFF    1   61"
      ]
     },
     "execution_count": 54,
     "metadata": {},
     "output_type": "execute_result"
    }
   ],
   "source": [
    "# Participant data\n",
    "p16 = participants[participants['participant_id'] == 'sub-016']\n",
    "p16.head()"
   ]
  },
  {
   "cell_type": "code",
   "execution_count": 55,
   "metadata": {
    "id": "oxDssPClKLUX"
   },
   "outputs": [],
   "source": [
    "# Section 1\n",
    "url_channels_p16_s01 = commom_path + \"sub-016/ses-01/eeg/sub-016_ses-01_task-SimonConflict_channels.tsv\"\n",
    "url_eletrodes_p16_s01 = commom_path + \"sub-016/ses-01/eeg/sub-016_ses-01_task-SimonConflict_electrodes.tsv\"\n",
    "url_events_p16_s01 = commom_path + \"sub-016/ses-01/eeg/sub-016_ses-01_task-SimonConflict_events.tsv\"\n",
    "\n",
    "channels_p16_s01 = pd.read_csv(url_channels_p16_s01, sep=\"\\t\")\n",
    "eletrodes_p16_s01 = pd.read_csv(url_eletrodes_p16_s01, sep=\"\\t\")\n",
    "events_p16_s01 = pd.read_csv(url_events_p16_s01, sep=\"\\t\")"
   ]
  },
  {
   "cell_type": "code",
   "execution_count": 56,
   "metadata": {
    "id": "yBkaGDNPKLUY"
   },
   "outputs": [],
   "source": [
    "# Section 2\n",
    "url_channels_p16_s02 = commom_path + \"sub-016/ses-02/eeg/sub-016_ses-02_task-SimonConflict_channels.tsv\"\n",
    "url_eletrodes_p16_s02 = commom_path + \"sub-016/ses-02/eeg/sub-016_ses-02_task-SimonConflict_electrodes.tsv\"\n",
    "url_events_p16_s02 = commom_path + \"sub-016/ses-02/eeg/sub-016_ses-02_task-SimonConflict_events.tsv\"\n",
    "\n",
    "channels_p16_s02 = pd.read_csv(url_channels_p16_s02, sep=\"\\t\")\n",
    "eletrodes_p16_s02 = pd.read_csv(url_eletrodes_p16_s02, sep=\"\\t\")\n",
    "events_p16_s02 = pd.read_csv(url_events_p16_s02, sep=\"\\t\")\n"
   ]
  },
  {
   "cell_type": "markdown",
   "metadata": {
    "id": "AG0xyLoRKLdY"
   },
   "source": [
    "# Participant #17\n",
    "Number of sections: 2"
   ]
  },
  {
   "cell_type": "code",
   "execution_count": 57,
   "metadata": {
    "colab": {
     "base_uri": "https://localhost:8080/",
     "height": 80
    },
    "id": "JcLQdui1evQE",
    "outputId": "225af8b9-c9c0-4daf-9f0b-727f1d268943"
   },
   "outputs": [
    {
     "data": {
      "text/html": [
       "<div>\n",
       "<style scoped>\n",
       "    .dataframe tbody tr th:only-of-type {\n",
       "        vertical-align: middle;\n",
       "    }\n",
       "\n",
       "    .dataframe tbody tr th {\n",
       "        vertical-align: top;\n",
       "    }\n",
       "\n",
       "    .dataframe thead th {\n",
       "        text-align: right;\n",
       "    }\n",
       "</style>\n",
       "<table border=\"1\" class=\"dataframe\">\n",
       "  <thead>\n",
       "    <tr style=\"text-align: right;\">\n",
       "      <th></th>\n",
       "      <th>participant_id</th>\n",
       "      <th>Original_ID</th>\n",
       "      <th>Group</th>\n",
       "      <th>sess1_Med</th>\n",
       "      <th>sess2_Med</th>\n",
       "      <th>sex</th>\n",
       "      <th>age</th>\n",
       "    </tr>\n",
       "  </thead>\n",
       "  <tbody>\n",
       "    <tr>\n",
       "      <th>16</th>\n",
       "      <td>sub-017</td>\n",
       "      <td>815</td>\n",
       "      <td>1</td>\n",
       "      <td>ON</td>\n",
       "      <td>OFF</td>\n",
       "      <td>1</td>\n",
       "      <td>55</td>\n",
       "    </tr>\n",
       "  </tbody>\n",
       "</table>\n",
       "</div>"
      ],
      "text/plain": [
       "   participant_id  Original_ID  Group sess1_Med sess2_Med  sex  age\n",
       "16        sub-017          815      1        ON       OFF    1   55"
      ]
     },
     "execution_count": 57,
     "metadata": {},
     "output_type": "execute_result"
    }
   ],
   "source": [
    "# Participant data\n",
    "p17 = participants[participants['participant_id'] == 'sub-017']\n",
    "p17.head()"
   ]
  },
  {
   "cell_type": "code",
   "execution_count": 58,
   "metadata": {
    "id": "KyZZLsW7KLdZ"
   },
   "outputs": [],
   "source": [
    "# Section 1\n",
    "url_channels_p17_s01 = commom_path + \"sub-017/ses-01/eeg/sub-017_ses-01_task-SimonConflict_channels.tsv\"\n",
    "url_eletrodes_p17_s01 = commom_path + \"sub-017/ses-01/eeg/sub-017_ses-01_task-SimonConflict_electrodes.tsv\"\n",
    "url_events_p17_s01 = commom_path + \"sub-017/ses-01/eeg/sub-017_ses-01_task-SimonConflict_events.tsv\"\n",
    "\n",
    "channels_p17_s01 = pd.read_csv(url_channels_p17_s01, sep=\"\\t\")\n",
    "eletrodes_p17_s01 = pd.read_csv(url_eletrodes_p17_s01, sep=\"\\t\")\n",
    "events_p17_s01 = pd.read_csv(url_events_p17_s01, sep=\"\\t\")"
   ]
  },
  {
   "cell_type": "code",
   "execution_count": 59,
   "metadata": {
    "id": "ycIB1ipSKLda"
   },
   "outputs": [],
   "source": [
    "# Section 2\n",
    "url_channels_p17_s02 = commom_path + \"sub-017/ses-02/eeg/sub-017_ses-02_task-SimonConflict_channels.tsv\"\n",
    "url_eletrodes_p17_s02 = commom_path + \"sub-017/ses-02/eeg/sub-017_ses-02_task-SimonConflict_electrodes.tsv\"\n",
    "url_events_p17_s02 = commom_path + \"sub-017/ses-02/eeg/sub-017_ses-02_task-SimonConflict_events.tsv\"\n",
    "\n",
    "channels_p17_s02 = pd.read_csv(url_channels_p17_s02, sep=\"\\t\")\n",
    "eletrodes_p17_s02 = pd.read_csv(url_eletrodes_p17_s02, sep=\"\\t\")\n",
    "events_p17_s02 = pd.read_csv(url_events_p17_s02, sep=\"\\t\")\n"
   ]
  },
  {
   "cell_type": "markdown",
   "metadata": {
    "id": "QhCnPRyaKLnH"
   },
   "source": [
    "# Participant #18\n",
    "Number of sections: 2"
   ]
  },
  {
   "cell_type": "code",
   "execution_count": 60,
   "metadata": {
    "colab": {
     "base_uri": "https://localhost:8080/",
     "height": 80
    },
    "id": "M8E5nPJuev0u",
    "outputId": "d2fdef2d-3890-4b47-fef6-378a5a41646b"
   },
   "outputs": [
    {
     "data": {
      "text/html": [
       "<div>\n",
       "<style scoped>\n",
       "    .dataframe tbody tr th:only-of-type {\n",
       "        vertical-align: middle;\n",
       "    }\n",
       "\n",
       "    .dataframe tbody tr th {\n",
       "        vertical-align: top;\n",
       "    }\n",
       "\n",
       "    .dataframe thead th {\n",
       "        text-align: right;\n",
       "    }\n",
       "</style>\n",
       "<table border=\"1\" class=\"dataframe\">\n",
       "  <thead>\n",
       "    <tr style=\"text-align: right;\">\n",
       "      <th></th>\n",
       "      <th>participant_id</th>\n",
       "      <th>Original_ID</th>\n",
       "      <th>Group</th>\n",
       "      <th>sess1_Med</th>\n",
       "      <th>sess2_Med</th>\n",
       "      <th>sex</th>\n",
       "      <th>age</th>\n",
       "    </tr>\n",
       "  </thead>\n",
       "  <tbody>\n",
       "    <tr>\n",
       "      <th>17</th>\n",
       "      <td>sub-018</td>\n",
       "      <td>816</td>\n",
       "      <td>1</td>\n",
       "      <td>OFF</td>\n",
       "      <td>ON</td>\n",
       "      <td>0</td>\n",
       "      <td>49</td>\n",
       "    </tr>\n",
       "  </tbody>\n",
       "</table>\n",
       "</div>"
      ],
      "text/plain": [
       "   participant_id  Original_ID  Group sess1_Med sess2_Med  sex  age\n",
       "17        sub-018          816      1       OFF        ON    0   49"
      ]
     },
     "execution_count": 60,
     "metadata": {},
     "output_type": "execute_result"
    }
   ],
   "source": [
    "# Participant data\n",
    "p18 = participants[participants['participant_id'] == 'sub-018']\n",
    "p18.head()"
   ]
  },
  {
   "cell_type": "code",
   "execution_count": 61,
   "metadata": {
    "id": "56CXq5-8KLnI"
   },
   "outputs": [],
   "source": [
    "# Section 1\n",
    "url_channels_p18_s01 = commom_path + \"sub-018/ses-01/eeg/sub-018_ses-01_task-SimonConflict_channels.tsv\"\n",
    "url_eletrodes_p18_s01 = commom_path + \"sub-018/ses-01/eeg/sub-018_ses-01_task-SimonConflict_electrodes.tsv\"\n",
    "url_events_p18_s01 = commom_path + \"sub-018/ses-01/eeg/sub-018_ses-01_task-SimonConflict_events.tsv\"\n",
    "\n",
    "channels_p18_s01 = pd.read_csv(url_channels_p18_s01, sep=\"\\t\")\n",
    "eletrodes_p18_s01 = pd.read_csv(url_eletrodes_p18_s01, sep=\"\\t\")\n",
    "events_p18_s01 = pd.read_csv(url_events_p18_s01, sep=\"\\t\")"
   ]
  },
  {
   "cell_type": "code",
   "execution_count": 62,
   "metadata": {
    "id": "cVDi1wTkKLnJ"
   },
   "outputs": [],
   "source": [
    "# Section 2\n",
    "url_channels_p18_s02 = commom_path + \"sub-018/ses-02/eeg/sub-018_ses-02_task-SimonConflict_channels.tsv\"\n",
    "url_eletrodes_p18_s02 = commom_path + \"sub-018/ses-02/eeg/sub-018_ses-02_task-SimonConflict_electrodes.tsv\"\n",
    "url_events_p18_s02 = commom_path + \"sub-018/ses-02/eeg/sub-018_ses-02_task-SimonConflict_events.tsv\"\n",
    "\n",
    "channels_p18_s02 = pd.read_csv(url_channels_p18_s02, sep=\"\\t\")\n",
    "eletrodes_p18_s02 = pd.read_csv(url_eletrodes_p18_s02, sep=\"\\t\")\n",
    "events_p18_s02 = pd.read_csv(url_events_p18_s02, sep=\"\\t\")\n"
   ]
  },
  {
   "cell_type": "markdown",
   "metadata": {
    "id": "eE7TVw7PKLw1"
   },
   "source": [
    "# Participant #19\n",
    "Number of sections: 2"
   ]
  },
  {
   "cell_type": "code",
   "execution_count": 63,
   "metadata": {
    "colab": {
     "base_uri": "https://localhost:8080/",
     "height": 80
    },
    "id": "gMF7oDvgewQk",
    "outputId": "75af5846-ff27-4f1a-ef74-d6eb11bbbe6d"
   },
   "outputs": [
    {
     "data": {
      "text/html": [
       "<div>\n",
       "<style scoped>\n",
       "    .dataframe tbody tr th:only-of-type {\n",
       "        vertical-align: middle;\n",
       "    }\n",
       "\n",
       "    .dataframe tbody tr th {\n",
       "        vertical-align: top;\n",
       "    }\n",
       "\n",
       "    .dataframe thead th {\n",
       "        text-align: right;\n",
       "    }\n",
       "</style>\n",
       "<table border=\"1\" class=\"dataframe\">\n",
       "  <thead>\n",
       "    <tr style=\"text-align: right;\">\n",
       "      <th></th>\n",
       "      <th>participant_id</th>\n",
       "      <th>Original_ID</th>\n",
       "      <th>Group</th>\n",
       "      <th>sess1_Med</th>\n",
       "      <th>sess2_Med</th>\n",
       "      <th>sex</th>\n",
       "      <th>age</th>\n",
       "    </tr>\n",
       "  </thead>\n",
       "  <tbody>\n",
       "    <tr>\n",
       "      <th>18</th>\n",
       "      <td>sub-019</td>\n",
       "      <td>817</td>\n",
       "      <td>1</td>\n",
       "      <td>OFF</td>\n",
       "      <td>ON</td>\n",
       "      <td>1</td>\n",
       "      <td>71</td>\n",
       "    </tr>\n",
       "  </tbody>\n",
       "</table>\n",
       "</div>"
      ],
      "text/plain": [
       "   participant_id  Original_ID  Group sess1_Med sess2_Med  sex  age\n",
       "18        sub-019          817      1       OFF        ON    1   71"
      ]
     },
     "execution_count": 63,
     "metadata": {},
     "output_type": "execute_result"
    }
   ],
   "source": [
    "# Participant data\n",
    "p19 = participants[participants['participant_id'] == 'sub-019']\n",
    "p19.head()"
   ]
  },
  {
   "cell_type": "code",
   "execution_count": 64,
   "metadata": {
    "id": "znDoAXsmKLw2"
   },
   "outputs": [],
   "source": [
    "# Section 1\n",
    "url_channels_p19_s01 = commom_path + \"sub-019/ses-01/eeg/sub-019_ses-01_task-SimonConflict_channels.tsv\"\n",
    "url_eletrodes_p19_s01 = commom_path + \"sub-019/ses-01/eeg/sub-019_ses-01_task-SimonConflict_electrodes.tsv\"\n",
    "url_events_p19_s01 = commom_path + \"sub-019/ses-01/eeg/sub-019_ses-01_task-SimonConflict_events.tsv\"\n",
    "\n",
    "channels_p19_s01 = pd.read_csv(url_channels_p19_s01, sep=\"\\t\")\n",
    "eletrodes_p19_s01 = pd.read_csv(url_eletrodes_p19_s01, sep=\"\\t\")\n",
    "events_p19_s01 = pd.read_csv(url_events_p19_s01, sep=\"\\t\")"
   ]
  },
  {
   "cell_type": "code",
   "execution_count": 65,
   "metadata": {
    "id": "FOewMi_oKLw3"
   },
   "outputs": [],
   "source": [
    "# Section 2\n",
    "url_channels_p19_s02 = commom_path + \"sub-019/ses-02/eeg/sub-019_ses-02_task-SimonConflict_channels.tsv\"\n",
    "url_eletrodes_p19_s02 = commom_path + \"sub-019/ses-02/eeg/sub-019_ses-02_task-SimonConflict_electrodes.tsv\"\n",
    "url_events_p19_s02 = commom_path + \"sub-019/ses-02/eeg/sub-019_ses-02_task-SimonConflict_events.tsv\"\n",
    "\n",
    "channels_p19_s02 = pd.read_csv(url_channels_p19_s02, sep=\"\\t\")\n",
    "eletrodes_p19_s02 = pd.read_csv(url_eletrodes_p19_s02, sep=\"\\t\")\n",
    "events_p19_s02 = pd.read_csv(url_events_p19_s02, sep=\"\\t\")\n"
   ]
  },
  {
   "cell_type": "markdown",
   "metadata": {
    "id": "9iu4pCyqKL5z"
   },
   "source": [
    "# Participant #20\n",
    "Number of sections: 2"
   ]
  },
  {
   "cell_type": "code",
   "execution_count": 66,
   "metadata": {
    "colab": {
     "base_uri": "https://localhost:8080/",
     "height": 80
    },
    "id": "qhKxrEplewtN",
    "outputId": "c7e22246-7d40-4c60-c9b8-a30a73471bb8"
   },
   "outputs": [
    {
     "data": {
      "text/html": [
       "<div>\n",
       "<style scoped>\n",
       "    .dataframe tbody tr th:only-of-type {\n",
       "        vertical-align: middle;\n",
       "    }\n",
       "\n",
       "    .dataframe tbody tr th {\n",
       "        vertical-align: top;\n",
       "    }\n",
       "\n",
       "    .dataframe thead th {\n",
       "        text-align: right;\n",
       "    }\n",
       "</style>\n",
       "<table border=\"1\" class=\"dataframe\">\n",
       "  <thead>\n",
       "    <tr style=\"text-align: right;\">\n",
       "      <th></th>\n",
       "      <th>participant_id</th>\n",
       "      <th>Original_ID</th>\n",
       "      <th>Group</th>\n",
       "      <th>sess1_Med</th>\n",
       "      <th>sess2_Med</th>\n",
       "      <th>sex</th>\n",
       "      <th>age</th>\n",
       "    </tr>\n",
       "  </thead>\n",
       "  <tbody>\n",
       "    <tr>\n",
       "      <th>19</th>\n",
       "      <td>sub-020</td>\n",
       "      <td>818</td>\n",
       "      <td>1</td>\n",
       "      <td>ON</td>\n",
       "      <td>OFF</td>\n",
       "      <td>0</td>\n",
       "      <td>74</td>\n",
       "    </tr>\n",
       "  </tbody>\n",
       "</table>\n",
       "</div>"
      ],
      "text/plain": [
       "   participant_id  Original_ID  Group sess1_Med sess2_Med  sex  age\n",
       "19        sub-020          818      1        ON       OFF    0   74"
      ]
     },
     "execution_count": 66,
     "metadata": {},
     "output_type": "execute_result"
    }
   ],
   "source": [
    "# Participant data\n",
    "p20 = participants[participants['participant_id'] == 'sub-020']\n",
    "p20.head()"
   ]
  },
  {
   "cell_type": "code",
   "execution_count": 67,
   "metadata": {
    "id": "cUe6VtFrKL50"
   },
   "outputs": [],
   "source": [
    "# Section 1\n",
    "url_channels_p20_s01 = commom_path + \"sub-020/ses-01/eeg/sub-020_ses-01_task-SimonConflict_channels.tsv\"\n",
    "url_eletrodes_p20_s01 = commom_path + \"sub-020/ses-01/eeg/sub-020_ses-01_task-SimonConflict_electrodes.tsv\"\n",
    "url_events_p20_s01 = commom_path + \"sub-020/ses-01/eeg/sub-020_ses-01_task-SimonConflict_events.tsv\"\n",
    "\n",
    "channels_p20_s01 = pd.read_csv(url_channels_p20_s01, sep=\"\\t\")\n",
    "eletrodes_p20_s01 = pd.read_csv(url_eletrodes_p20_s01, sep=\"\\t\")\n",
    "events_p20_s01 = pd.read_csv(url_events_p20_s01, sep=\"\\t\")"
   ]
  },
  {
   "cell_type": "code",
   "execution_count": 68,
   "metadata": {
    "id": "3WOcyPvZKL50"
   },
   "outputs": [],
   "source": [
    "# Section 2\n",
    "url_channels_p20_s02 = commom_path + \"sub-020/ses-02/eeg/sub-020_ses-02_task-SimonConflict_channels.tsv\"\n",
    "url_eletrodes_p20_s02 = commom_path + \"sub-020/ses-02/eeg/sub-020_ses-02_task-SimonConflict_electrodes.tsv\"\n",
    "url_events_p20_s02 = commom_path + \"sub-020/ses-02/eeg/sub-020_ses-02_task-SimonConflict_events.tsv\"\n",
    "\n",
    "channels_p20_s02 = pd.read_csv(url_channels_p20_s02, sep=\"\\t\")\n",
    "eletrodes_p20_s02 = pd.read_csv(url_channels_p20_s02, sep=\"\\t\")\n",
    "events_p20_s02 = pd.read_csv(url_events_p20_s02, sep=\"\\t\")\n"
   ]
  },
  {
   "cell_type": "markdown",
   "metadata": {
    "id": "8UDtNJRhKMEd"
   },
   "source": [
    "# Participant #21\n",
    "Number of sections: 2"
   ]
  },
  {
   "cell_type": "code",
   "execution_count": 69,
   "metadata": {
    "colab": {
     "base_uri": "https://localhost:8080/",
     "height": 80
    },
    "id": "SYyvC0HFexLm",
    "outputId": "bdb0438b-0e40-4565-dfe5-f000bcd7ee3c"
   },
   "outputs": [
    {
     "data": {
      "text/html": [
       "<div>\n",
       "<style scoped>\n",
       "    .dataframe tbody tr th:only-of-type {\n",
       "        vertical-align: middle;\n",
       "    }\n",
       "\n",
       "    .dataframe tbody tr th {\n",
       "        vertical-align: top;\n",
       "    }\n",
       "\n",
       "    .dataframe thead th {\n",
       "        text-align: right;\n",
       "    }\n",
       "</style>\n",
       "<table border=\"1\" class=\"dataframe\">\n",
       "  <thead>\n",
       "    <tr style=\"text-align: right;\">\n",
       "      <th></th>\n",
       "      <th>participant_id</th>\n",
       "      <th>Original_ID</th>\n",
       "      <th>Group</th>\n",
       "      <th>sess1_Med</th>\n",
       "      <th>sess2_Med</th>\n",
       "      <th>sex</th>\n",
       "      <th>age</th>\n",
       "    </tr>\n",
       "  </thead>\n",
       "  <tbody>\n",
       "    <tr>\n",
       "      <th>20</th>\n",
       "      <td>sub-021</td>\n",
       "      <td>819</td>\n",
       "      <td>1</td>\n",
       "      <td>OFF</td>\n",
       "      <td>ON</td>\n",
       "      <td>1</td>\n",
       "      <td>76</td>\n",
       "    </tr>\n",
       "  </tbody>\n",
       "</table>\n",
       "</div>"
      ],
      "text/plain": [
       "   participant_id  Original_ID  Group sess1_Med sess2_Med  sex  age\n",
       "20        sub-021          819      1       OFF        ON    1   76"
      ]
     },
     "execution_count": 69,
     "metadata": {},
     "output_type": "execute_result"
    }
   ],
   "source": [
    "# Participant data\n",
    "p21 = participants[participants['participant_id'] == 'sub-021']\n",
    "p21.head()"
   ]
  },
  {
   "cell_type": "code",
   "execution_count": 70,
   "metadata": {
    "id": "Jxji1BKaKMEf"
   },
   "outputs": [],
   "source": [
    "# Section 1\n",
    "url_channels_p21_s01 = commom_path + \"sub-021/ses-01/eeg/sub-021_ses-01_task-SimonConflict_channels.tsv\"\n",
    "url_eletrodes_p21_s01 = commom_path + \"sub-021/ses-01/eeg/sub-021_ses-01_task-SimonConflict_electrodes.tsv\"\n",
    "url_events_p21_s01 = commom_path + \"sub-021/ses-01/eeg/sub-021_ses-01_task-SimonConflict_events.tsv\"\n",
    "\n",
    "channels_p21_s01 = pd.read_csv(url_channels_p21_s01, sep=\"\\t\")\n",
    "eletrodes_p21_s01 = pd.read_csv(url_eletrodes_p21_s01, sep=\"\\t\")\n",
    "events_p21_s01 = pd.read_csv(url_events_p21_s01, sep=\"\\t\")"
   ]
  },
  {
   "cell_type": "code",
   "execution_count": 71,
   "metadata": {
    "id": "3-S-I9QlKMEf"
   },
   "outputs": [],
   "source": [
    "# Section 2\n",
    "url_channels_p21_s02 = commom_path + \"sub-021/ses-02/eeg/sub-021_ses-02_task-SimonConflict_channels.tsv\"\n",
    "url_eletrodes_p21_s02 = commom_path + \"sub-021/ses-02/eeg/sub-021_ses-02_task-SimonConflict_electrodes.tsv\"\n",
    "url_events_p21_s02 = commom_path + \"sub-021/ses-02/eeg/sub-021_ses-02_task-SimonConflict_events.tsv\"\n",
    "\n",
    "channels_p2_s02 = pd.read_csv(url_channels_p21_s02, sep=\"\\t\")\n",
    "eletrodes_p2_s02 = pd.read_csv(url_eletrodes_p21_s02, sep=\"\\t\")\n",
    "events_p2_s02 = pd.read_csv(url_events_p21_s02, sep=\"\\t\")\n"
   ]
  },
  {
   "cell_type": "markdown",
   "metadata": {
    "id": "0vnzsEQqKMQl"
   },
   "source": [
    "# Participant #22\n",
    "Number of sections: 2"
   ]
  },
  {
   "cell_type": "code",
   "execution_count": 72,
   "metadata": {
    "colab": {
     "base_uri": "https://localhost:8080/",
     "height": 80
    },
    "id": "Vp5ViUnyexp8",
    "outputId": "eba9214f-8f9f-40df-f61d-7f687725e479"
   },
   "outputs": [
    {
     "data": {
      "text/html": [
       "<div>\n",
       "<style scoped>\n",
       "    .dataframe tbody tr th:only-of-type {\n",
       "        vertical-align: middle;\n",
       "    }\n",
       "\n",
       "    .dataframe tbody tr th {\n",
       "        vertical-align: top;\n",
       "    }\n",
       "\n",
       "    .dataframe thead th {\n",
       "        text-align: right;\n",
       "    }\n",
       "</style>\n",
       "<table border=\"1\" class=\"dataframe\">\n",
       "  <thead>\n",
       "    <tr style=\"text-align: right;\">\n",
       "      <th></th>\n",
       "      <th>participant_id</th>\n",
       "      <th>Original_ID</th>\n",
       "      <th>Group</th>\n",
       "      <th>sess1_Med</th>\n",
       "      <th>sess2_Med</th>\n",
       "      <th>sex</th>\n",
       "      <th>age</th>\n",
       "    </tr>\n",
       "  </thead>\n",
       "  <tbody>\n",
       "    <tr>\n",
       "      <th>21</th>\n",
       "      <td>sub-022</td>\n",
       "      <td>820</td>\n",
       "      <td>1</td>\n",
       "      <td>ON</td>\n",
       "      <td>OFF</td>\n",
       "      <td>1</td>\n",
       "      <td>72</td>\n",
       "    </tr>\n",
       "  </tbody>\n",
       "</table>\n",
       "</div>"
      ],
      "text/plain": [
       "   participant_id  Original_ID  Group sess1_Med sess2_Med  sex  age\n",
       "21        sub-022          820      1        ON       OFF    1   72"
      ]
     },
     "execution_count": 72,
     "metadata": {},
     "output_type": "execute_result"
    }
   ],
   "source": [
    "# Participant data\n",
    "p22 = participants[participants['participant_id'] == 'sub-022']\n",
    "p22.head()"
   ]
  },
  {
   "cell_type": "code",
   "execution_count": 73,
   "metadata": {
    "id": "6yOU3tvmKMQl"
   },
   "outputs": [],
   "source": [
    "# Section 1\n",
    "url_channels_p22_s01 = commom_path + \"sub-022/ses-01/eeg/sub-022_ses-01_task-SimonConflict_channels.tsv\"\n",
    "url_eletrodes_p22_s01 = commom_path + \"sub-022/ses-01/eeg/sub-022_ses-01_task-SimonConflict_electrodes.tsv\"\n",
    "url_events_p22_s01 = commom_path + \"sub-022/ses-01/eeg/sub-022_ses-01_task-SimonConflict_events.tsv\"\n",
    "\n",
    "channels_p22_s01 = pd.read_csv(url_channels_p22_s01, sep=\"\\t\")\n",
    "eletrodes_p22_s01 = pd.read_csv(url_eletrodes_p22_s01, sep=\"\\t\")\n",
    "events_p22_s01 = pd.read_csv(url_events_p22_s01, sep=\"\\t\")"
   ]
  },
  {
   "cell_type": "code",
   "execution_count": 74,
   "metadata": {
    "id": "X_W_lsx_KMQl"
   },
   "outputs": [],
   "source": [
    "# Section 2\n",
    "url_channels_p22_s02 = commom_path + \"sub-022/ses-02/eeg/sub-022_ses-02_task-SimonConflict_channels.tsv\"\n",
    "url_eletrodes_p22_s02 = commom_path + \"sub-022/ses-02/eeg/sub-022_ses-02_task-SimonConflict_electrodes.tsv\"\n",
    "url_events_p22_s02 = commom_path + \"sub-022/ses-02/eeg/sub-022_ses-02_task-SimonConflict_events.tsv\"\n",
    "\n",
    "channels_p22_s02 = pd.read_csv(url_channels_p22_s02, sep=\"\\t\")\n",
    "eletrodes_p22_s02 = pd.read_csv(url_eletrodes_p22_s02, sep=\"\\t\")\n",
    "events_p22_s02 = pd.read_csv(url_events_p22_s02, sep=\"\\t\")\n"
   ]
  },
  {
   "cell_type": "markdown",
   "metadata": {
    "id": "gimVEmyoKMag"
   },
   "source": [
    "# Participant #23\n",
    "Number of sections: 2"
   ]
  },
  {
   "cell_type": "code",
   "execution_count": 75,
   "metadata": {
    "colab": {
     "base_uri": "https://localhost:8080/",
     "height": 80
    },
    "id": "B74d6IlceyQZ",
    "outputId": "0bbdf012-cd0d-4e55-8354-3acf9702ea5e"
   },
   "outputs": [
    {
     "data": {
      "text/html": [
       "<div>\n",
       "<style scoped>\n",
       "    .dataframe tbody tr th:only-of-type {\n",
       "        vertical-align: middle;\n",
       "    }\n",
       "\n",
       "    .dataframe tbody tr th {\n",
       "        vertical-align: top;\n",
       "    }\n",
       "\n",
       "    .dataframe thead th {\n",
       "        text-align: right;\n",
       "    }\n",
       "</style>\n",
       "<table border=\"1\" class=\"dataframe\">\n",
       "  <thead>\n",
       "    <tr style=\"text-align: right;\">\n",
       "      <th></th>\n",
       "      <th>participant_id</th>\n",
       "      <th>Original_ID</th>\n",
       "      <th>Group</th>\n",
       "      <th>sess1_Med</th>\n",
       "      <th>sess2_Med</th>\n",
       "      <th>sex</th>\n",
       "      <th>age</th>\n",
       "    </tr>\n",
       "  </thead>\n",
       "  <tbody>\n",
       "    <tr>\n",
       "      <th>22</th>\n",
       "      <td>sub-023</td>\n",
       "      <td>821</td>\n",
       "      <td>1</td>\n",
       "      <td>ON</td>\n",
       "      <td>OFF</td>\n",
       "      <td>0</td>\n",
       "      <td>49</td>\n",
       "    </tr>\n",
       "  </tbody>\n",
       "</table>\n",
       "</div>"
      ],
      "text/plain": [
       "   participant_id  Original_ID  Group sess1_Med sess2_Med  sex  age\n",
       "22        sub-023          821      1        ON       OFF    0   49"
      ]
     },
     "execution_count": 75,
     "metadata": {},
     "output_type": "execute_result"
    }
   ],
   "source": [
    "# Participant data\n",
    "p23 = participants[participants['participant_id'] == 'sub-023']\n",
    "p23.head()"
   ]
  },
  {
   "cell_type": "code",
   "execution_count": 76,
   "metadata": {
    "id": "Q0d_Yhi6KMai"
   },
   "outputs": [],
   "source": [
    "# Section 1\n",
    "url_channels_p23_s01 = commom_path + \"sub-023/ses-01/eeg/sub-023_ses-01_task-SimonConflict_channels.tsv\"\n",
    "url_eletrodes_p23_s01 = commom_path + \"sub-023/ses-01/eeg/sub-023_ses-01_task-SimonConflict_electrodes.tsv\"\n",
    "url_events_p23_s01 = commom_path + \"sub-023/ses-01/eeg/sub-023_ses-01_task-SimonConflict_events.tsv\"\n",
    "\n",
    "channels_p23_s01 = pd.read_csv(url_channels_p23_s01, sep=\"\\t\")\n",
    "eletrodes_p23_s01 = pd.read_csv(url_eletrodes_p23_s01, sep=\"\\t\")\n",
    "events_p23_s01 = pd.read_csv(url_events_p23_s01, sep=\"\\t\")"
   ]
  },
  {
   "cell_type": "code",
   "execution_count": 77,
   "metadata": {
    "id": "DgKRW232KMaj"
   },
   "outputs": [],
   "source": [
    "# Section 2\n",
    "url_channels_p23_s02 = commom_path + \"sub-023/ses-02/eeg/sub-023_ses-02_task-SimonConflict_channels.tsv\"\n",
    "url_eletrodes_p23_s02 = commom_path + \"sub-023/ses-02/eeg/sub-023_ses-02_task-SimonConflict_electrodes.tsv\"\n",
    "url_events_p23_s02 = commom_path + \"sub-023/ses-02/eeg/sub-023_ses-02_task-SimonConflict_events.tsv\"\n",
    "\n",
    "channels_p23_s02 = pd.read_csv(url_channels_p23_s02, sep=\"\\t\")\n",
    "eletrodes_p23_s02 = pd.read_csv(url_eletrodes_p23_s02, sep=\"\\t\")\n",
    "events_p23_s02 = pd.read_csv(url_events_p23_s02, sep=\"\\t\")\n"
   ]
  },
  {
   "cell_type": "markdown",
   "metadata": {
    "id": "Hoxx2vzlKMmu"
   },
   "source": [
    "# Participant #24\n",
    "Number of sections: 2"
   ]
  },
  {
   "cell_type": "code",
   "execution_count": 78,
   "metadata": {
    "colab": {
     "base_uri": "https://localhost:8080/",
     "height": 80
    },
    "id": "T3t5vPUReyu3",
    "outputId": "10f1f9a1-d93f-4b4b-e7cc-579e403ec370"
   },
   "outputs": [
    {
     "data": {
      "text/html": [
       "<div>\n",
       "<style scoped>\n",
       "    .dataframe tbody tr th:only-of-type {\n",
       "        vertical-align: middle;\n",
       "    }\n",
       "\n",
       "    .dataframe tbody tr th {\n",
       "        vertical-align: top;\n",
       "    }\n",
       "\n",
       "    .dataframe thead th {\n",
       "        text-align: right;\n",
       "    }\n",
       "</style>\n",
       "<table border=\"1\" class=\"dataframe\">\n",
       "  <thead>\n",
       "    <tr style=\"text-align: right;\">\n",
       "      <th></th>\n",
       "      <th>participant_id</th>\n",
       "      <th>Original_ID</th>\n",
       "      <th>Group</th>\n",
       "      <th>sess1_Med</th>\n",
       "      <th>sess2_Med</th>\n",
       "      <th>sex</th>\n",
       "      <th>age</th>\n",
       "    </tr>\n",
       "  </thead>\n",
       "  <tbody>\n",
       "    <tr>\n",
       "      <th>23</th>\n",
       "      <td>sub-024</td>\n",
       "      <td>822</td>\n",
       "      <td>1</td>\n",
       "      <td>ON</td>\n",
       "      <td>OFF</td>\n",
       "      <td>1</td>\n",
       "      <td>70</td>\n",
       "    </tr>\n",
       "  </tbody>\n",
       "</table>\n",
       "</div>"
      ],
      "text/plain": [
       "   participant_id  Original_ID  Group sess1_Med sess2_Med  sex  age\n",
       "23        sub-024          822      1        ON       OFF    1   70"
      ]
     },
     "execution_count": 78,
     "metadata": {},
     "output_type": "execute_result"
    }
   ],
   "source": [
    "# Participant data\n",
    "p24 = participants[participants['participant_id'] == 'sub-024']\n",
    "p24.head()"
   ]
  },
  {
   "cell_type": "code",
   "execution_count": 79,
   "metadata": {
    "id": "g494BZHlKMmv"
   },
   "outputs": [],
   "source": [
    "# Section 1\n",
    "url_channels_p24_s01 = commom_path + \"sub-024/ses-01/eeg/sub-024_ses-01_task-SimonConflict_channels.tsv\"\n",
    "url_eletrodes_p24_s01 = commom_path + \"sub-024/ses-01/eeg/sub-024_ses-01_task-SimonConflict_electrodes.tsv\"\n",
    "url_events_p24_s01 = commom_path + \"sub-024/ses-01/eeg/sub-024_ses-01_task-SimonConflict_events.tsv\"\n",
    "\n",
    "channels_p24_s01 = pd.read_csv(url_channels_p24_s01, sep=\"\\t\")\n",
    "eletrodes_p24_s01 = pd.read_csv(url_eletrodes_p24_s01, sep=\"\\t\")\n",
    "events_p24_s01 = pd.read_csv(url_events_p24_s01, sep=\"\\t\")"
   ]
  },
  {
   "cell_type": "code",
   "execution_count": 80,
   "metadata": {
    "id": "WECDH2l-KMmw"
   },
   "outputs": [],
   "source": [
    "# Section 2\n",
    "url_channels_p24_s02 = commom_path + \"sub-024/ses-02/eeg/sub-024_ses-02_task-SimonConflict_channels.tsv\"\n",
    "url_eletrodes_p24_s02 = commom_path + \"sub-024/ses-02/eeg/sub-024_ses-02_task-SimonConflict_electrodes.tsv\"\n",
    "url_events_p24_s02 = commom_path + \"sub-024/ses-02/eeg/sub-024_ses-02_task-SimonConflict_events.tsv\"\n",
    "\n",
    "channels_p24_s02 = pd.read_csv(url_channels_p24_s02, sep=\"\\t\")\n",
    "eletrodes_p24_s02 = pd.read_csv(url_eletrodes_p24_s02, sep=\"\\t\")\n",
    "events_p24_s02 = pd.read_csv(url_events_p24_s02, sep=\"\\t\")\n"
   ]
  },
  {
   "cell_type": "markdown",
   "metadata": {
    "id": "Woxst48wKMxj"
   },
   "source": [
    "# Participant #25\n",
    "Number of sections: 2"
   ]
  },
  {
   "cell_type": "code",
   "execution_count": 81,
   "metadata": {
    "colab": {
     "base_uri": "https://localhost:8080/",
     "height": 80
    },
    "id": "d7V9byV4ezIM",
    "outputId": "6891ffeb-9137-49cd-a958-a28ec5812ece"
   },
   "outputs": [
    {
     "data": {
      "text/html": [
       "<div>\n",
       "<style scoped>\n",
       "    .dataframe tbody tr th:only-of-type {\n",
       "        vertical-align: middle;\n",
       "    }\n",
       "\n",
       "    .dataframe tbody tr th {\n",
       "        vertical-align: top;\n",
       "    }\n",
       "\n",
       "    .dataframe thead th {\n",
       "        text-align: right;\n",
       "    }\n",
       "</style>\n",
       "<table border=\"1\" class=\"dataframe\">\n",
       "  <thead>\n",
       "    <tr style=\"text-align: right;\">\n",
       "      <th></th>\n",
       "      <th>participant_id</th>\n",
       "      <th>Original_ID</th>\n",
       "      <th>Group</th>\n",
       "      <th>sess1_Med</th>\n",
       "      <th>sess2_Med</th>\n",
       "      <th>sex</th>\n",
       "      <th>age</th>\n",
       "    </tr>\n",
       "  </thead>\n",
       "  <tbody>\n",
       "    <tr>\n",
       "      <th>24</th>\n",
       "      <td>sub-025</td>\n",
       "      <td>823</td>\n",
       "      <td>1</td>\n",
       "      <td>OFF</td>\n",
       "      <td>ON</td>\n",
       "      <td>0</td>\n",
       "      <td>64</td>\n",
       "    </tr>\n",
       "  </tbody>\n",
       "</table>\n",
       "</div>"
      ],
      "text/plain": [
       "   participant_id  Original_ID  Group sess1_Med sess2_Med  sex  age\n",
       "24        sub-025          823      1       OFF        ON    0   64"
      ]
     },
     "execution_count": 81,
     "metadata": {},
     "output_type": "execute_result"
    }
   ],
   "source": [
    "# Participant data\n",
    "p25 = participants[participants['participant_id'] == 'sub-025']\n",
    "p25.head()"
   ]
  },
  {
   "cell_type": "code",
   "execution_count": 82,
   "metadata": {
    "id": "eDOs47f4KMxk"
   },
   "outputs": [],
   "source": [
    "# Section 1\n",
    "url_channels_p25_s01 = commom_path + \"sub-025/ses-01/eeg/sub-025_ses-01_task-SimonConflict_channels.tsv\"\n",
    "url_eletrodes_p25_s01 = commom_path + \"sub-025/ses-01/eeg/sub-025_ses-01_task-SimonConflict_electrodes.tsv\"\n",
    "url_events_p25_s01 = commom_path + \"sub-025/ses-01/eeg/sub-025_ses-01_task-SimonConflict_events.tsv\"\n",
    "\n",
    "channels_p25_s01 = pd.read_csv(url_channels_p25_s01, sep=\"\\t\")\n",
    "eletrodes_p25_s01 = pd.read_csv(url_eletrodes_p25_s01, sep=\"\\t\")\n",
    "events_p25_s01 = pd.read_csv(url_events_p25_s01, sep=\"\\t\")"
   ]
  },
  {
   "cell_type": "code",
   "execution_count": 83,
   "metadata": {
    "id": "rdq_OnU0KMxl"
   },
   "outputs": [],
   "source": [
    "# Section 2\n",
    "url_channels_p25_s02 = commom_path + \"sub-025/ses-02/eeg/sub-025_ses-02_task-SimonConflict_channels.tsv\"\n",
    "url_eletrodes_p25_s02 = commom_path + \"sub-025/ses-02/eeg/sub-025_ses-02_task-SimonConflict_electrodes.tsv\"\n",
    "url_events_p25_s02 = commom_path + \"sub-025/ses-02/eeg/sub-025_ses-02_task-SimonConflict_events.tsv\"\n",
    "\n",
    "channels_p25_s02 = pd.read_csv(url_channels_p25_s02, sep=\"\\t\")\n",
    "eletrodes_p25_s02 = pd.read_csv(url_eletrodes_p25_s02, sep=\"\\t\")\n",
    "events_p25_s02 = pd.read_csv(url_events_p25_s02, sep=\"\\t\")\n"
   ]
  },
  {
   "cell_type": "markdown",
   "metadata": {
    "id": "MgUKO8CiKM8C"
   },
   "source": [
    "# Participant #26\n",
    "Number of sections: 2"
   ]
  },
  {
   "cell_type": "code",
   "execution_count": 84,
   "metadata": {
    "colab": {
     "base_uri": "https://localhost:8080/",
     "height": 80
    },
    "id": "7elb_d3eezpW",
    "outputId": "025c69e9-8f1d-4791-80aa-8a316b3401f6"
   },
   "outputs": [
    {
     "data": {
      "text/html": [
       "<div>\n",
       "<style scoped>\n",
       "    .dataframe tbody tr th:only-of-type {\n",
       "        vertical-align: middle;\n",
       "    }\n",
       "\n",
       "    .dataframe tbody tr th {\n",
       "        vertical-align: top;\n",
       "    }\n",
       "\n",
       "    .dataframe thead th {\n",
       "        text-align: right;\n",
       "    }\n",
       "</style>\n",
       "<table border=\"1\" class=\"dataframe\">\n",
       "  <thead>\n",
       "    <tr style=\"text-align: right;\">\n",
       "      <th></th>\n",
       "      <th>participant_id</th>\n",
       "      <th>Original_ID</th>\n",
       "      <th>Group</th>\n",
       "      <th>sess1_Med</th>\n",
       "      <th>sess2_Med</th>\n",
       "      <th>sex</th>\n",
       "      <th>age</th>\n",
       "    </tr>\n",
       "  </thead>\n",
       "  <tbody>\n",
       "    <tr>\n",
       "      <th>25</th>\n",
       "      <td>sub-026</td>\n",
       "      <td>824</td>\n",
       "      <td>1</td>\n",
       "      <td>OFF</td>\n",
       "      <td>ON</td>\n",
       "      <td>1</td>\n",
       "      <td>78</td>\n",
       "    </tr>\n",
       "  </tbody>\n",
       "</table>\n",
       "</div>"
      ],
      "text/plain": [
       "   participant_id  Original_ID  Group sess1_Med sess2_Med  sex  age\n",
       "25        sub-026          824      1       OFF        ON    1   78"
      ]
     },
     "execution_count": 84,
     "metadata": {},
     "output_type": "execute_result"
    }
   ],
   "source": [
    "# Participant data\n",
    "p26 = participants[participants['participant_id'] == 'sub-026']\n",
    "p26.head()"
   ]
  },
  {
   "cell_type": "code",
   "execution_count": 85,
   "metadata": {
    "id": "6XI9DAEuKM8D"
   },
   "outputs": [],
   "source": [
    "# Section 1\n",
    "url_channels_p26_s01 = commom_path + \"sub-026/ses-01/eeg/sub-026_ses-01_task-SimonConflict_channels.tsv\"\n",
    "url_eletrodes_p26_s01 = commom_path + \"sub-026/ses-01/eeg/sub-026_ses-01_task-SimonConflict_electrodes.tsv\"\n",
    "url_events_p26_s01 = commom_path + \"sub-026/ses-01/eeg/sub-026_ses-01_task-SimonConflict_events.tsv\"\n",
    "\n",
    "channels_p26_s01 = pd.read_csv(url_channels_p26_s01, sep=\"\\t\")\n",
    "eletrodes_p26_s01 = pd.read_csv(url_eletrodes_p26_s01, sep=\"\\t\")\n",
    "events_p26_s01 = pd.read_csv(url_events_p26_s01, sep=\"\\t\")"
   ]
  },
  {
   "cell_type": "code",
   "execution_count": 86,
   "metadata": {
    "id": "0wndr2ycKM8E"
   },
   "outputs": [],
   "source": [
    "# Section 2\n",
    "url_channels_p26_s02 = commom_path + \"sub-026/ses-02/eeg/sub-026_ses-02_task-SimonConflict_channels.tsv\"\n",
    "url_eletrodes_p26_s02 = commom_path + \"sub-026/ses-02/eeg/sub-026_ses-02_task-SimonConflict_electrodes.tsv\"\n",
    "url_events_p26_s02 = commom_path + \"sub-026/ses-02/eeg/sub-026_ses-02_task-SimonConflict_events.tsv\"\n",
    "\n",
    "channels_p26_s02 = pd.read_csv(url_channels_p26_s02, sep=\"\\t\")\n",
    "eletrodes_p26_s02 = pd.read_csv(url_eletrodes_p26_s02, sep=\"\\t\")\n",
    "events_p26_s02 = pd.read_csv(url_events_p26_s02, sep=\"\\t\")\n"
   ]
  },
  {
   "cell_type": "markdown",
   "metadata": {
    "id": "biTMU42MKNJM"
   },
   "source": [
    "# Participant #27\n",
    "Number of sections: 2"
   ]
  },
  {
   "cell_type": "code",
   "execution_count": 87,
   "metadata": {
    "colab": {
     "base_uri": "https://localhost:8080/",
     "height": 80
    },
    "id": "YMbrotJoe0Nk",
    "outputId": "5c4079da-9b6a-42f6-cf89-ecf28c9946aa"
   },
   "outputs": [
    {
     "data": {
      "text/html": [
       "<div>\n",
       "<style scoped>\n",
       "    .dataframe tbody tr th:only-of-type {\n",
       "        vertical-align: middle;\n",
       "    }\n",
       "\n",
       "    .dataframe tbody tr th {\n",
       "        vertical-align: top;\n",
       "    }\n",
       "\n",
       "    .dataframe thead th {\n",
       "        text-align: right;\n",
       "    }\n",
       "</style>\n",
       "<table border=\"1\" class=\"dataframe\">\n",
       "  <thead>\n",
       "    <tr style=\"text-align: right;\">\n",
       "      <th></th>\n",
       "      <th>participant_id</th>\n",
       "      <th>Original_ID</th>\n",
       "      <th>Group</th>\n",
       "      <th>sess1_Med</th>\n",
       "      <th>sess2_Med</th>\n",
       "      <th>sex</th>\n",
       "      <th>age</th>\n",
       "    </tr>\n",
       "  </thead>\n",
       "  <tbody>\n",
       "    <tr>\n",
       "      <th>26</th>\n",
       "      <td>sub-027</td>\n",
       "      <td>825</td>\n",
       "      <td>1</td>\n",
       "      <td>ON</td>\n",
       "      <td>OFF</td>\n",
       "      <td>0</td>\n",
       "      <td>77</td>\n",
       "    </tr>\n",
       "  </tbody>\n",
       "</table>\n",
       "</div>"
      ],
      "text/plain": [
       "   participant_id  Original_ID  Group sess1_Med sess2_Med  sex  age\n",
       "26        sub-027          825      1        ON       OFF    0   77"
      ]
     },
     "execution_count": 87,
     "metadata": {},
     "output_type": "execute_result"
    }
   ],
   "source": [
    "# Participant data\n",
    "p27 = participants[participants['participant_id'] == 'sub-027']\n",
    "p27.head()"
   ]
  },
  {
   "cell_type": "code",
   "execution_count": 88,
   "metadata": {
    "id": "5MygrcOkKNJN"
   },
   "outputs": [],
   "source": [
    "# Section 1\n",
    "url_channels_p27_s01 = commom_path + \"sub-027/ses-01/eeg/sub-027_ses-01_task-SimonConflict_channels.tsv\"\n",
    "url_eletrodes_p27_s01 = commom_path + \"sub-027/ses-01/eeg/sub-027_ses-01_task-SimonConflict_electrodes.tsv\"\n",
    "url_events_p27_s01 = commom_path + \"sub-027/ses-01/eeg/sub-027_ses-01_task-SimonConflict_events.tsv\"\n",
    "\n",
    "channels_p27_s01 = pd.read_csv(url_channels_p27_s01, sep=\"\\t\")\n",
    "eletrodes_p27_s01 = pd.read_csv(url_eletrodes_p27_s01, sep=\"\\t\")\n",
    "events_p27_s01 = pd.read_csv(url_events_p27_s01, sep=\"\\t\")"
   ]
  },
  {
   "cell_type": "code",
   "execution_count": 89,
   "metadata": {
    "id": "-cct8GuJKNJO"
   },
   "outputs": [],
   "source": [
    "# Section 2\n",
    "url_channels_p27_s02 = commom_path + \"sub-027/ses-02/eeg/sub-027_ses-02_task-SimonConflict_channels.tsv\"\n",
    "url_eletrodes_p27_s02 = commom_path + \"sub-027/ses-02/eeg/sub-027_ses-02_task-SimonConflict_electrodes.tsv\"\n",
    "url_events_p27_s02 = commom_path + \"sub-027/ses-02/eeg/sub-027_ses-02_task-SimonConflict_events.tsv\"\n",
    "\n",
    "channels_p27_s02 = pd.read_csv(url_channels_p27_s02, sep=\"\\t\")\n",
    "eletrodes_p27_s02 = pd.read_csv(url_eletrodes_p27_s02, sep=\"\\t\")\n",
    "events_p27_s02 = pd.read_csv(url_events_p27_s02, sep=\"\\t\")\n"
   ]
  },
  {
   "cell_type": "markdown",
   "metadata": {
    "id": "XNbXjWuVKNTo"
   },
   "source": [
    "# Participant #28\n",
    "Number of sections: 2"
   ]
  },
  {
   "cell_type": "code",
   "execution_count": 90,
   "metadata": {
    "colab": {
     "base_uri": "https://localhost:8080/",
     "height": 80
    },
    "id": "ikO1yEKAe0x8",
    "outputId": "16b498f2-6a47-44da-e503-8d36d1d014ce"
   },
   "outputs": [
    {
     "data": {
      "text/html": [
       "<div>\n",
       "<style scoped>\n",
       "    .dataframe tbody tr th:only-of-type {\n",
       "        vertical-align: middle;\n",
       "    }\n",
       "\n",
       "    .dataframe tbody tr th {\n",
       "        vertical-align: top;\n",
       "    }\n",
       "\n",
       "    .dataframe thead th {\n",
       "        text-align: right;\n",
       "    }\n",
       "</style>\n",
       "<table border=\"1\" class=\"dataframe\">\n",
       "  <thead>\n",
       "    <tr style=\"text-align: right;\">\n",
       "      <th></th>\n",
       "      <th>participant_id</th>\n",
       "      <th>Original_ID</th>\n",
       "      <th>Group</th>\n",
       "      <th>sess1_Med</th>\n",
       "      <th>sess2_Med</th>\n",
       "      <th>sex</th>\n",
       "      <th>age</th>\n",
       "    </tr>\n",
       "  </thead>\n",
       "  <tbody>\n",
       "    <tr>\n",
       "      <th>27</th>\n",
       "      <td>sub-028</td>\n",
       "      <td>826</td>\n",
       "      <td>1</td>\n",
       "      <td>ON</td>\n",
       "      <td>OFF</td>\n",
       "      <td>1</td>\n",
       "      <td>66</td>\n",
       "    </tr>\n",
       "  </tbody>\n",
       "</table>\n",
       "</div>"
      ],
      "text/plain": [
       "   participant_id  Original_ID  Group sess1_Med sess2_Med  sex  age\n",
       "27        sub-028          826      1        ON       OFF    1   66"
      ]
     },
     "execution_count": 90,
     "metadata": {},
     "output_type": "execute_result"
    }
   ],
   "source": [
    "# Participant data\n",
    "p28 = participants[participants['participant_id'] == 'sub-028']\n",
    "p28.head()"
   ]
  },
  {
   "cell_type": "code",
   "execution_count": 91,
   "metadata": {
    "id": "0oJLEvplKNTq"
   },
   "outputs": [],
   "source": [
    "# Section 1\n",
    "url_channels_p28_s01 = commom_path + \"sub-028/ses-01/eeg/sub-028_ses-01_task-SimonConflict_channels.tsv\"\n",
    "url_eletrodes_p28_s01 = commom_path + \"sub-028/ses-01/eeg/sub-028_ses-01_task-SimonConflict_electrodes.tsv\"\n",
    "url_events_p28_s01 = commom_path + \"sub-028/ses-01/eeg/sub-028_ses-01_task-SimonConflict_events.tsv\"\n",
    "\n",
    "channels_p28_s01 = pd.read_csv(url_channels_p28_s01, sep=\"\\t\")\n",
    "eletrodes_p28_s01 = pd.read_csv(url_eletrodes_p28_s01, sep=\"\\t\")\n",
    "events_p28_s01 = pd.read_csv(url_events_p28_s01, sep=\"\\t\")"
   ]
  },
  {
   "cell_type": "code",
   "execution_count": 92,
   "metadata": {
    "id": "AUb7REVnKNTq"
   },
   "outputs": [],
   "source": [
    "# Section 2\n",
    "url_channels_p28_s02 = commom_path + \"sub-028/ses-02/eeg/sub-028_ses-02_task-SimonConflict_channels.tsv\"\n",
    "url_eletrodes_p28_s02 = commom_path + \"sub-028/ses-02/eeg/sub-028_ses-02_task-SimonConflict_electrodes.tsv\"\n",
    "url_events_p28_s02 = commom_path + \"sub-028/ses-02/eeg/sub-028_ses-02_task-SimonConflict_events.tsv\"\n",
    "\n",
    "channels_p28_s02 = pd.read_csv(url_channels_p28_s02, sep=\"\\t\")\n",
    "eletrodes_p28_s02 = pd.read_csv(url_eletrodes_p28_s02, sep=\"\\t\")\n",
    "events_p28_s02 = pd.read_csv(url_events_p28_s02, sep=\"\\t\")\n"
   ]
  },
  {
   "cell_type": "markdown",
   "metadata": {
    "id": "Ba7T-92tKNer"
   },
   "source": [
    "# Participant #29\n",
    "Number of sections: 2"
   ]
  },
  {
   "cell_type": "code",
   "execution_count": 93,
   "metadata": {
    "colab": {
     "base_uri": "https://localhost:8080/",
     "height": 80
    },
    "id": "sik8avWLe1PR",
    "outputId": "06f372ec-22f4-4ebf-e01c-9f2defacc483"
   },
   "outputs": [
    {
     "data": {
      "text/html": [
       "<div>\n",
       "<style scoped>\n",
       "    .dataframe tbody tr th:only-of-type {\n",
       "        vertical-align: middle;\n",
       "    }\n",
       "\n",
       "    .dataframe tbody tr th {\n",
       "        vertical-align: top;\n",
       "    }\n",
       "\n",
       "    .dataframe thead th {\n",
       "        text-align: right;\n",
       "    }\n",
       "</style>\n",
       "<table border=\"1\" class=\"dataframe\">\n",
       "  <thead>\n",
       "    <tr style=\"text-align: right;\">\n",
       "      <th></th>\n",
       "      <th>participant_id</th>\n",
       "      <th>Original_ID</th>\n",
       "      <th>Group</th>\n",
       "      <th>sess1_Med</th>\n",
       "      <th>sess2_Med</th>\n",
       "      <th>sex</th>\n",
       "      <th>age</th>\n",
       "    </tr>\n",
       "  </thead>\n",
       "  <tbody>\n",
       "    <tr>\n",
       "      <th>28</th>\n",
       "      <td>sub-029</td>\n",
       "      <td>827</td>\n",
       "      <td>1</td>\n",
       "      <td>OFF</td>\n",
       "      <td>ON</td>\n",
       "      <td>1</td>\n",
       "      <td>68</td>\n",
       "    </tr>\n",
       "  </tbody>\n",
       "</table>\n",
       "</div>"
      ],
      "text/plain": [
       "   participant_id  Original_ID  Group sess1_Med sess2_Med  sex  age\n",
       "28        sub-029          827      1       OFF        ON    1   68"
      ]
     },
     "execution_count": 93,
     "metadata": {},
     "output_type": "execute_result"
    }
   ],
   "source": [
    "# Participant data\n",
    "p29 = participants[participants['participant_id'] == 'sub-029']\n",
    "p29.head()"
   ]
  },
  {
   "cell_type": "code",
   "execution_count": 94,
   "metadata": {
    "id": "RDCngUhoKNer"
   },
   "outputs": [],
   "source": [
    "# Section 1\n",
    "url_channels_p29_s01 = commom_path + \"sub-029/ses-01/eeg/sub-029_ses-01_task-SimonConflict_channels.tsv\"\n",
    "url_eletrodes_p29_s01 = commom_path + \"sub-029/ses-01/eeg/sub-029_ses-01_task-SimonConflict_electrodes.tsv\"\n",
    "url_events_p29_s01 = commom_path + \"sub-029/ses-01/eeg/sub-029_ses-01_task-SimonConflict_events.tsv\"\n",
    "\n",
    "channels_p29_s01 = pd.read_csv(url_channels_p29_s01, sep=\"\\t\")\n",
    "eletrodes_p29_s01 = pd.read_csv(url_eletrodes_p29_s01, sep=\"\\t\")\n",
    "events_p29_s01 = pd.read_csv(url_events_p29_s01, sep=\"\\t\")"
   ]
  },
  {
   "cell_type": "code",
   "execution_count": 95,
   "metadata": {
    "id": "0a74drRmKNes"
   },
   "outputs": [],
   "source": [
    "# Section 2\n",
    "url_channels_p29_s02 = commom_path + \"sub-029/ses-02/eeg/sub-029_ses-02_task-SimonConflict_channels.tsv\"\n",
    "url_eletrodes_p29_s02 = commom_path + \"sub-029/ses-02/eeg/sub-029_ses-02_task-SimonConflict_electrodes.tsv\"\n",
    "url_events_p29_s02 = commom_path + \"sub-029/ses-02/eeg/sub-029_ses-02_task-SimonConflict_events.tsv\"\n",
    "\n",
    "channels_p29_s02 = pd.read_csv(url_channels_p29_s02, sep=\"\\t\")\n",
    "eletrodes_p29_s02 = pd.read_csv(url_eletrodes_p29_s02, sep=\"\\t\")\n",
    "events_p29_s02 = pd.read_csv(url_events_p29_s02, sep=\"\\t\")\n"
   ]
  },
  {
   "cell_type": "markdown",
   "metadata": {
    "id": "pwjhyiOSKN0w"
   },
   "source": [
    "# Participant #30\n",
    "Number of sections: 2"
   ]
  },
  {
   "cell_type": "code",
   "execution_count": 96,
   "metadata": {
    "colab": {
     "base_uri": "https://localhost:8080/",
     "height": 80
    },
    "id": "FED2EXuve1ql",
    "outputId": "b4a75df7-b711-4a68-fb64-20dc196b070d"
   },
   "outputs": [
    {
     "data": {
      "text/html": [
       "<div>\n",
       "<style scoped>\n",
       "    .dataframe tbody tr th:only-of-type {\n",
       "        vertical-align: middle;\n",
       "    }\n",
       "\n",
       "    .dataframe tbody tr th {\n",
       "        vertical-align: top;\n",
       "    }\n",
       "\n",
       "    .dataframe thead th {\n",
       "        text-align: right;\n",
       "    }\n",
       "</style>\n",
       "<table border=\"1\" class=\"dataframe\">\n",
       "  <thead>\n",
       "    <tr style=\"text-align: right;\">\n",
       "      <th></th>\n",
       "      <th>participant_id</th>\n",
       "      <th>Original_ID</th>\n",
       "      <th>Group</th>\n",
       "      <th>sess1_Med</th>\n",
       "      <th>sess2_Med</th>\n",
       "      <th>sex</th>\n",
       "      <th>age</th>\n",
       "    </tr>\n",
       "  </thead>\n",
       "  <tbody>\n",
       "    <tr>\n",
       "      <th>29</th>\n",
       "      <td>sub-030</td>\n",
       "      <td>828</td>\n",
       "      <td>1</td>\n",
       "      <td>OFF</td>\n",
       "      <td>ON</td>\n",
       "      <td>0</td>\n",
       "      <td>76</td>\n",
       "    </tr>\n",
       "  </tbody>\n",
       "</table>\n",
       "</div>"
      ],
      "text/plain": [
       "   participant_id  Original_ID  Group sess1_Med sess2_Med  sex  age\n",
       "29        sub-030          828      1       OFF        ON    0   76"
      ]
     },
     "execution_count": 96,
     "metadata": {},
     "output_type": "execute_result"
    }
   ],
   "source": [
    "# Participant data\n",
    "p30 = participants[participants['participant_id'] == 'sub-030']\n",
    "p30.head()"
   ]
  },
  {
   "cell_type": "code",
   "execution_count": 97,
   "metadata": {
    "id": "mMv4MvhAKN0x"
   },
   "outputs": [],
   "source": [
    "# Section 1\n",
    "url_channels_p30_s01 = commom_path + \"sub-030/ses-01/eeg/sub-030_ses-01_task-SimonConflict_channels.tsv\"\n",
    "url_eletrodes_p30_s01 = commom_path + \"sub-030/ses-01/eeg/sub-030_ses-01_task-SimonConflict_electrodes.tsv\"\n",
    "url_events_p30_s01 = commom_path + \"sub-030/ses-01/eeg/sub-030_ses-01_task-SimonConflict_events.tsv\"\n",
    "\n",
    "channels_p30_s01 = pd.read_csv(url_channels_p30_s01, sep=\"\\t\")\n",
    "eletrodes_p30_s01 = pd.read_csv(url_eletrodes_p30_s01, sep=\"\\t\")\n",
    "events_p30_s01 = pd.read_csv(url_events_p30_s01, sep=\"\\t\")"
   ]
  },
  {
   "cell_type": "code",
   "execution_count": 98,
   "metadata": {
    "id": "UunfP4rkKN0x"
   },
   "outputs": [],
   "source": [
    "# Section 2\n",
    "url_channels_p30_s02 = commom_path + \"sub-030/ses-02/eeg/sub-030_ses-02_task-SimonConflict_channels.tsv\"\n",
    "url_eletrodes_p30_s02 = commom_path + \"sub-030/ses-02/eeg/sub-030_ses-02_task-SimonConflict_electrodes.tsv\"\n",
    "url_events_p30_s02 = commom_path + \"sub-030/ses-02/eeg/sub-030_ses-02_task-SimonConflict_events.tsv\"\n",
    "\n",
    "channels_p30_s02 = pd.read_csv(url_channels_p30_s02, sep=\"\\t\")\n",
    "eletrodes_p30_s02 = pd.read_csv(url_eletrodes_p30_s02, sep=\"\\t\")\n",
    "events_p30_s02 = pd.read_csv(url_events_p30_s02, sep=\"\\t\")\n"
   ]
  },
  {
   "cell_type": "markdown",
   "metadata": {
    "id": "sA4wVH_oKOB0"
   },
   "source": [
    "# Participant #31\n",
    "Number of sections: 2"
   ]
  },
  {
   "cell_type": "code",
   "execution_count": 99,
   "metadata": {
    "colab": {
     "base_uri": "https://localhost:8080/",
     "height": 80
    },
    "id": "VQ-ECn3ze2Kj",
    "outputId": "30aa5b16-397e-4f59-d1dd-3e6602572301"
   },
   "outputs": [
    {
     "data": {
      "text/html": [
       "<div>\n",
       "<style scoped>\n",
       "    .dataframe tbody tr th:only-of-type {\n",
       "        vertical-align: middle;\n",
       "    }\n",
       "\n",
       "    .dataframe tbody tr th {\n",
       "        vertical-align: top;\n",
       "    }\n",
       "\n",
       "    .dataframe thead th {\n",
       "        text-align: right;\n",
       "    }\n",
       "</style>\n",
       "<table border=\"1\" class=\"dataframe\">\n",
       "  <thead>\n",
       "    <tr style=\"text-align: right;\">\n",
       "      <th></th>\n",
       "      <th>participant_id</th>\n",
       "      <th>Original_ID</th>\n",
       "      <th>Group</th>\n",
       "      <th>sess1_Med</th>\n",
       "      <th>sess2_Med</th>\n",
       "      <th>sex</th>\n",
       "      <th>age</th>\n",
       "    </tr>\n",
       "  </thead>\n",
       "  <tbody>\n",
       "    <tr>\n",
       "      <th>30</th>\n",
       "      <td>sub-031</td>\n",
       "      <td>829</td>\n",
       "      <td>1</td>\n",
       "      <td>OFF</td>\n",
       "      <td>ON</td>\n",
       "      <td>0</td>\n",
       "      <td>73</td>\n",
       "    </tr>\n",
       "  </tbody>\n",
       "</table>\n",
       "</div>"
      ],
      "text/plain": [
       "   participant_id  Original_ID  Group sess1_Med sess2_Med  sex  age\n",
       "30        sub-031          829      1       OFF        ON    0   73"
      ]
     },
     "execution_count": 99,
     "metadata": {},
     "output_type": "execute_result"
    }
   ],
   "source": [
    "# Participant data\n",
    "p31 = participants[participants['participant_id'] == 'sub-031']\n",
    "p31.head()"
   ]
  },
  {
   "cell_type": "code",
   "execution_count": 100,
   "metadata": {
    "id": "_bh2RjI-KOB1"
   },
   "outputs": [],
   "source": [
    "# Section 1\n",
    "url_channels_p31_s01 = commom_path + \"sub-031/ses-01/eeg/sub-031_ses-01_task-SimonConflict_channels.tsv\"\n",
    "url_eletrodes_p31_s01 = commom_path + \"sub-031/ses-01/eeg/sub-031_ses-01_task-SimonConflict_electrodes.tsv\"\n",
    "url_events_p31_s01 = commom_path + \"sub-031/ses-01/eeg/sub-031_ses-01_task-SimonConflict_events.tsv\"\n",
    "\n",
    "channels_p31_s01 = pd.read_csv(url_channels_p31_s01, sep=\"\\t\")\n",
    "eletrodes_p31_s01 = pd.read_csv(url_eletrodes_p31_s01, sep=\"\\t\")\n",
    "events_p31_s01 = pd.read_csv(url_events_p31_s01, sep=\"\\t\")"
   ]
  },
  {
   "cell_type": "code",
   "execution_count": 101,
   "metadata": {
    "id": "SaB6A-BNKOB2"
   },
   "outputs": [],
   "source": [
    "# Section 2\n",
    "url_channels_p31_s02 = commom_path + \"sub-031/ses-02/eeg/sub-031_ses-02_task-SimonConflict_channels.tsv\"\n",
    "url_eletrodes_p31_s02 = commom_path + \"sub-031/ses-02/eeg/sub-031_ses-02_task-SimonConflict_electrodes.tsv\"\n",
    "url_events_p31_s02 = commom_path + \"sub-031/ses-02/eeg/sub-031_ses-02_task-SimonConflict_events.tsv\"\n",
    "\n",
    "channels_p31_s02 = pd.read_csv(url_channels_p31_s02, sep=\"\\t\")\n",
    "eletrodes_p31_s02 = pd.read_csv(url_eletrodes_p31_s02, sep=\"\\t\")\n",
    "events_p31_s02 = pd.read_csv(url_events_p31_s02, sep=\"\\t\")\n"
   ]
  },
  {
   "cell_type": "markdown",
   "metadata": {
    "id": "FU0nJa1FKOMq"
   },
   "source": [
    "# Participant #32\n",
    "Number of sections: 1"
   ]
  },
  {
   "cell_type": "code",
   "execution_count": 102,
   "metadata": {
    "colab": {
     "base_uri": "https://localhost:8080/",
     "height": 80
    },
    "id": "mTNE1u1Oe2sO",
    "outputId": "cbbfff0b-a4fb-40aa-d860-1313d35ad918"
   },
   "outputs": [
    {
     "data": {
      "text/html": [
       "<div>\n",
       "<style scoped>\n",
       "    .dataframe tbody tr th:only-of-type {\n",
       "        vertical-align: middle;\n",
       "    }\n",
       "\n",
       "    .dataframe tbody tr th {\n",
       "        vertical-align: top;\n",
       "    }\n",
       "\n",
       "    .dataframe thead th {\n",
       "        text-align: right;\n",
       "    }\n",
       "</style>\n",
       "<table border=\"1\" class=\"dataframe\">\n",
       "  <thead>\n",
       "    <tr style=\"text-align: right;\">\n",
       "      <th></th>\n",
       "      <th>participant_id</th>\n",
       "      <th>Original_ID</th>\n",
       "      <th>Group</th>\n",
       "      <th>sess1_Med</th>\n",
       "      <th>sess2_Med</th>\n",
       "      <th>sex</th>\n",
       "      <th>age</th>\n",
       "    </tr>\n",
       "  </thead>\n",
       "  <tbody>\n",
       "    <tr>\n",
       "      <th>31</th>\n",
       "      <td>sub-032</td>\n",
       "      <td>890</td>\n",
       "      <td>0</td>\n",
       "      <td>NaN</td>\n",
       "      <td>no s2</td>\n",
       "      <td>0</td>\n",
       "      <td>66</td>\n",
       "    </tr>\n",
       "  </tbody>\n",
       "</table>\n",
       "</div>"
      ],
      "text/plain": [
       "   participant_id  Original_ID  Group sess1_Med sess2_Med  sex  age\n",
       "31        sub-032          890      0       NaN     no s2    0   66"
      ]
     },
     "execution_count": 102,
     "metadata": {},
     "output_type": "execute_result"
    }
   ],
   "source": [
    "# Participant data\n",
    "p32 = participants[participants['participant_id'] == 'sub-032']\n",
    "p32.head()"
   ]
  },
  {
   "cell_type": "code",
   "execution_count": 103,
   "metadata": {
    "id": "4ZdFB1BpKOMr"
   },
   "outputs": [],
   "source": [
    "# Section 1\n",
    "url_channels_p32_s01 = commom_path + \"sub-032/ses-01/eeg/sub-032_ses-01_task-SimonConflict_channels.tsv\"\n",
    "url_eletrodes_p32_s01 = commom_path + \"sub-032/ses-01/eeg/sub-032_ses-01_task-SimonConflict_electrodes.tsv\"\n",
    "url_events_p32_s01 = commom_path + \"sub-032/ses-01/eeg/sub-032_ses-01_task-SimonConflict_events.tsv\"\n",
    "\n",
    "channels_p32_s01 = pd.read_csv(url_channels_p32_s01, sep=\"\\t\")\n",
    "eletrodes_p32_s01 = pd.read_csv(url_eletrodes_p32_s01, sep=\"\\t\")\n",
    "events_p32_s01 = pd.read_csv(url_events_p32_s01, sep=\"\\t\")"
   ]
  },
  {
   "cell_type": "markdown",
   "metadata": {
    "id": "Oq1MEg6TKOWn"
   },
   "source": [
    "# Participant #33\n",
    "Number of sections: 1"
   ]
  },
  {
   "cell_type": "code",
   "execution_count": 104,
   "metadata": {
    "colab": {
     "base_uri": "https://localhost:8080/",
     "height": 80
    },
    "id": "PU2A5Fqve3JL",
    "outputId": "cdb2a6ea-0ae3-40d2-c549-b9a6339eed3b"
   },
   "outputs": [
    {
     "data": {
      "text/html": [
       "<div>\n",
       "<style scoped>\n",
       "    .dataframe tbody tr th:only-of-type {\n",
       "        vertical-align: middle;\n",
       "    }\n",
       "\n",
       "    .dataframe tbody tr th {\n",
       "        vertical-align: top;\n",
       "    }\n",
       "\n",
       "    .dataframe thead th {\n",
       "        text-align: right;\n",
       "    }\n",
       "</style>\n",
       "<table border=\"1\" class=\"dataframe\">\n",
       "  <thead>\n",
       "    <tr style=\"text-align: right;\">\n",
       "      <th></th>\n",
       "      <th>participant_id</th>\n",
       "      <th>Original_ID</th>\n",
       "      <th>Group</th>\n",
       "      <th>sess1_Med</th>\n",
       "      <th>sess2_Med</th>\n",
       "      <th>sex</th>\n",
       "      <th>age</th>\n",
       "    </tr>\n",
       "  </thead>\n",
       "  <tbody>\n",
       "    <tr>\n",
       "      <th>32</th>\n",
       "      <td>sub-033</td>\n",
       "      <td>891</td>\n",
       "      <td>0</td>\n",
       "      <td>NaN</td>\n",
       "      <td>no s2</td>\n",
       "      <td>1</td>\n",
       "      <td>80</td>\n",
       "    </tr>\n",
       "  </tbody>\n",
       "</table>\n",
       "</div>"
      ],
      "text/plain": [
       "   participant_id  Original_ID  Group sess1_Med sess2_Med  sex  age\n",
       "32        sub-033          891      0       NaN     no s2    1   80"
      ]
     },
     "execution_count": 104,
     "metadata": {},
     "output_type": "execute_result"
    }
   ],
   "source": [
    "# Participant data\n",
    "p33 = participants[participants['participant_id'] == 'sub-033']\n",
    "p33.head()"
   ]
  },
  {
   "cell_type": "code",
   "execution_count": 105,
   "metadata": {
    "id": "hmDiVgGCKOWn"
   },
   "outputs": [],
   "source": [
    "# Section 1\n",
    "url_channels_p33_s01 = commom_path + \"sub-033/ses-01/eeg/sub-033_ses-01_task-SimonConflict_channels.tsv\"\n",
    "url_eletrodes_p33_s01 = commom_path + \"sub-033/ses-01/eeg/sub-033_ses-01_task-SimonConflict_electrodes.tsv\"\n",
    "url_events_p33_s01 = commom_path + \"sub-033/ses-01/eeg/sub-033_ses-01_task-SimonConflict_events.tsv\"\n",
    "\n",
    "channels_p33_s01 = pd.read_csv(url_channels_p33_s01, sep=\"\\t\")\n",
    "eletrodes_p33_s01 = pd.read_csv(url_eletrodes_p33_s01, sep=\"\\t\")\n",
    "events_p33_s01 = pd.read_csv(url_events_p33_s01, sep=\"\\t\")"
   ]
  },
  {
   "cell_type": "markdown",
   "metadata": {
    "id": "e9BMMLqIKOgR"
   },
   "source": [
    "# Participant #34\n",
    "Number of sections: 1"
   ]
  },
  {
   "cell_type": "code",
   "execution_count": 106,
   "metadata": {
    "colab": {
     "base_uri": "https://localhost:8080/",
     "height": 80
    },
    "id": "DuUSskUde3oV",
    "outputId": "b8ff51f5-1624-49a6-c49b-713455dbce24"
   },
   "outputs": [
    {
     "data": {
      "text/html": [
       "<div>\n",
       "<style scoped>\n",
       "    .dataframe tbody tr th:only-of-type {\n",
       "        vertical-align: middle;\n",
       "    }\n",
       "\n",
       "    .dataframe tbody tr th {\n",
       "        vertical-align: top;\n",
       "    }\n",
       "\n",
       "    .dataframe thead th {\n",
       "        text-align: right;\n",
       "    }\n",
       "</style>\n",
       "<table border=\"1\" class=\"dataframe\">\n",
       "  <thead>\n",
       "    <tr style=\"text-align: right;\">\n",
       "      <th></th>\n",
       "      <th>participant_id</th>\n",
       "      <th>Original_ID</th>\n",
       "      <th>Group</th>\n",
       "      <th>sess1_Med</th>\n",
       "      <th>sess2_Med</th>\n",
       "      <th>sex</th>\n",
       "      <th>age</th>\n",
       "    </tr>\n",
       "  </thead>\n",
       "  <tbody>\n",
       "    <tr>\n",
       "      <th>33</th>\n",
       "      <td>sub-034</td>\n",
       "      <td>892</td>\n",
       "      <td>0</td>\n",
       "      <td>NaN</td>\n",
       "      <td>no s2</td>\n",
       "      <td>0</td>\n",
       "      <td>64</td>\n",
       "    </tr>\n",
       "  </tbody>\n",
       "</table>\n",
       "</div>"
      ],
      "text/plain": [
       "   participant_id  Original_ID  Group sess1_Med sess2_Med  sex  age\n",
       "33        sub-034          892      0       NaN     no s2    0   64"
      ]
     },
     "execution_count": 106,
     "metadata": {},
     "output_type": "execute_result"
    }
   ],
   "source": [
    "# Participant data\n",
    "p34 = participants[participants['participant_id'] == 'sub-034']\n",
    "p34.head()"
   ]
  },
  {
   "cell_type": "code",
   "execution_count": 107,
   "metadata": {
    "id": "w0S6TKtsKOgT"
   },
   "outputs": [],
   "source": [
    "# Section 1\n",
    "url_channels_p34_s01 = commom_path + \"sub-034/ses-01/eeg/sub-034_ses-01_task-SimonConflict_channels.tsv\"\n",
    "url_eletrodes_p34_s01 = commom_path + \"sub-034/ses-01/eeg/sub-034_ses-01_task-SimonConflict_electrodes.tsv\"\n",
    "url_events_p34_s01 = commom_path + \"sub-034/ses-01/eeg/sub-034_ses-01_task-SimonConflict_events.tsv\"\n",
    "\n",
    "channels_p34_s01 = pd.read_csv(url_channels_p34_s01, sep=\"\\t\")\n",
    "eletrodes_p34_s01 = pd.read_csv(url_eletrodes_p34_s01, sep=\"\\t\")\n",
    "events_p34_s01 = pd.read_csv(url_events_p34_s01, sep=\"\\t\")"
   ]
  },
  {
   "cell_type": "markdown",
   "metadata": {
    "id": "zUzpTepgKOpR"
   },
   "source": [
    "# Participant #35\n",
    "Number of sections: 1"
   ]
  },
  {
   "cell_type": "code",
   "execution_count": 108,
   "metadata": {
    "colab": {
     "base_uri": "https://localhost:8080/",
     "height": 80
    },
    "id": "SXjQHBvne4At",
    "outputId": "8945394b-a0e6-43d4-f34a-49110a819a0d"
   },
   "outputs": [
    {
     "data": {
      "text/html": [
       "<div>\n",
       "<style scoped>\n",
       "    .dataframe tbody tr th:only-of-type {\n",
       "        vertical-align: middle;\n",
       "    }\n",
       "\n",
       "    .dataframe tbody tr th {\n",
       "        vertical-align: top;\n",
       "    }\n",
       "\n",
       "    .dataframe thead th {\n",
       "        text-align: right;\n",
       "    }\n",
       "</style>\n",
       "<table border=\"1\" class=\"dataframe\">\n",
       "  <thead>\n",
       "    <tr style=\"text-align: right;\">\n",
       "      <th></th>\n",
       "      <th>participant_id</th>\n",
       "      <th>Original_ID</th>\n",
       "      <th>Group</th>\n",
       "      <th>sess1_Med</th>\n",
       "      <th>sess2_Med</th>\n",
       "      <th>sex</th>\n",
       "      <th>age</th>\n",
       "    </tr>\n",
       "  </thead>\n",
       "  <tbody>\n",
       "    <tr>\n",
       "      <th>34</th>\n",
       "      <td>sub-035</td>\n",
       "      <td>893</td>\n",
       "      <td>0</td>\n",
       "      <td>NaN</td>\n",
       "      <td>no s2</td>\n",
       "      <td>0</td>\n",
       "      <td>64</td>\n",
       "    </tr>\n",
       "  </tbody>\n",
       "</table>\n",
       "</div>"
      ],
      "text/plain": [
       "   participant_id  Original_ID  Group sess1_Med sess2_Med  sex  age\n",
       "34        sub-035          893      0       NaN     no s2    0   64"
      ]
     },
     "execution_count": 108,
     "metadata": {},
     "output_type": "execute_result"
    }
   ],
   "source": [
    "# Participant data\n",
    "p35 = participants[participants['participant_id'] == 'sub-035']\n",
    "p35.head()"
   ]
  },
  {
   "cell_type": "code",
   "execution_count": 109,
   "metadata": {
    "id": "Xy_ZVF4vKOpS"
   },
   "outputs": [],
   "source": [
    "# Section 1\n",
    "url_channels_p35_s01 = commom_path + \"sub-035/ses-01/eeg/sub-035_ses-01_task-SimonConflict_channels.tsv\"\n",
    "url_eletrodes_p35_s01 = commom_path + \"sub-035/ses-01/eeg/sub-035_ses-01_task-SimonConflict_electrodes.tsv\"\n",
    "url_events_p35_s01 = commom_path + \"sub-035/ses-01/eeg/sub-035_ses-01_task-SimonConflict_events.tsv\"\n",
    "\n",
    "channels_p35_s01 = pd.read_csv(url_channels_p35_s01, sep=\"\\t\")\n",
    "eletrodes_p35_s01 = pd.read_csv(url_eletrodes_p35_s01, sep=\"\\t\")\n",
    "events_p35_s01 = pd.read_csv(url_events_p35_s01, sep=\"\\t\")"
   ]
  },
  {
   "cell_type": "markdown",
   "metadata": {
    "id": "276tVSMMKO0K"
   },
   "source": [
    "# Participant #36\n",
    "Number of sections: 1"
   ]
  },
  {
   "cell_type": "code",
   "execution_count": 110,
   "metadata": {
    "colab": {
     "base_uri": "https://localhost:8080/",
     "height": 80
    },
    "id": "p5zwddwee4iJ",
    "outputId": "c40eed6b-dc42-4c16-da5a-166161910d39"
   },
   "outputs": [
    {
     "data": {
      "text/html": [
       "<div>\n",
       "<style scoped>\n",
       "    .dataframe tbody tr th:only-of-type {\n",
       "        vertical-align: middle;\n",
       "    }\n",
       "\n",
       "    .dataframe tbody tr th {\n",
       "        vertical-align: top;\n",
       "    }\n",
       "\n",
       "    .dataframe thead th {\n",
       "        text-align: right;\n",
       "    }\n",
       "</style>\n",
       "<table border=\"1\" class=\"dataframe\">\n",
       "  <thead>\n",
       "    <tr style=\"text-align: right;\">\n",
       "      <th></th>\n",
       "      <th>participant_id</th>\n",
       "      <th>Original_ID</th>\n",
       "      <th>Group</th>\n",
       "      <th>sess1_Med</th>\n",
       "      <th>sess2_Med</th>\n",
       "      <th>sex</th>\n",
       "      <th>age</th>\n",
       "    </tr>\n",
       "  </thead>\n",
       "  <tbody>\n",
       "    <tr>\n",
       "      <th>35</th>\n",
       "      <td>sub-036</td>\n",
       "      <td>894</td>\n",
       "      <td>0</td>\n",
       "      <td>NaN</td>\n",
       "      <td>no s2</td>\n",
       "      <td>0</td>\n",
       "      <td>69</td>\n",
       "    </tr>\n",
       "  </tbody>\n",
       "</table>\n",
       "</div>"
      ],
      "text/plain": [
       "   participant_id  Original_ID  Group sess1_Med sess2_Med  sex  age\n",
       "35        sub-036          894      0       NaN     no s2    0   69"
      ]
     },
     "execution_count": 110,
     "metadata": {},
     "output_type": "execute_result"
    }
   ],
   "source": [
    "# Participant data\n",
    "p36 = participants[participants['participant_id'] == 'sub-036']\n",
    "p36.head()"
   ]
  },
  {
   "cell_type": "code",
   "execution_count": 111,
   "metadata": {
    "id": "jwxjnOdmKO0L"
   },
   "outputs": [],
   "source": [
    "# Section 1\n",
    "url_channels_p36_s01 = commom_path + \"sub-036/ses-01/eeg/sub-036_ses-01_task-SimonConflict_channels.tsv\"\n",
    "url_eletrodes_p36_s01 = commom_path + \"sub-036/ses-01/eeg/sub-036_ses-01_task-SimonConflict_electrodes.tsv\"\n",
    "url_events_p36_s01 = commom_path + \"sub-036/ses-01/eeg/sub-036_ses-01_task-SimonConflict_events.tsv\"\n",
    "\n",
    "channels_p36_s01 = pd.read_csv(url_channels_p36_s01, sep=\"\\t\")\n",
    "eletrodes_p36_s01 = pd.read_csv(url_eletrodes_p36_s01, sep=\"\\t\")\n",
    "events_p36_s01 = pd.read_csv(url_events_p36_s01, sep=\"\\t\")"
   ]
  },
  {
   "cell_type": "markdown",
   "metadata": {
    "id": "wJFPBeYSKO-M"
   },
   "source": [
    "# Participant #37\n",
    "Number of sections: 1"
   ]
  },
  {
   "cell_type": "code",
   "execution_count": 112,
   "metadata": {
    "colab": {
     "base_uri": "https://localhost:8080/",
     "height": 80
    },
    "id": "paGSWQxRe47V",
    "outputId": "d8298742-508b-4018-dd82-cb001d813dc5"
   },
   "outputs": [
    {
     "data": {
      "text/html": [
       "<div>\n",
       "<style scoped>\n",
       "    .dataframe tbody tr th:only-of-type {\n",
       "        vertical-align: middle;\n",
       "    }\n",
       "\n",
       "    .dataframe tbody tr th {\n",
       "        vertical-align: top;\n",
       "    }\n",
       "\n",
       "    .dataframe thead th {\n",
       "        text-align: right;\n",
       "    }\n",
       "</style>\n",
       "<table border=\"1\" class=\"dataframe\">\n",
       "  <thead>\n",
       "    <tr style=\"text-align: right;\">\n",
       "      <th></th>\n",
       "      <th>participant_id</th>\n",
       "      <th>Original_ID</th>\n",
       "      <th>Group</th>\n",
       "      <th>sess1_Med</th>\n",
       "      <th>sess2_Med</th>\n",
       "      <th>sex</th>\n",
       "      <th>age</th>\n",
       "    </tr>\n",
       "  </thead>\n",
       "  <tbody>\n",
       "    <tr>\n",
       "      <th>36</th>\n",
       "      <td>sub-037</td>\n",
       "      <td>895</td>\n",
       "      <td>0</td>\n",
       "      <td>NaN</td>\n",
       "      <td>no s2</td>\n",
       "      <td>1</td>\n",
       "      <td>69</td>\n",
       "    </tr>\n",
       "  </tbody>\n",
       "</table>\n",
       "</div>"
      ],
      "text/plain": [
       "   participant_id  Original_ID  Group sess1_Med sess2_Med  sex  age\n",
       "36        sub-037          895      0       NaN     no s2    1   69"
      ]
     },
     "execution_count": 112,
     "metadata": {},
     "output_type": "execute_result"
    }
   ],
   "source": [
    "# Participant data\n",
    "p37 = participants[participants['participant_id'] == 'sub-037']\n",
    "p37.head()"
   ]
  },
  {
   "cell_type": "code",
   "execution_count": 113,
   "metadata": {
    "id": "5W0xsL1EKO-T"
   },
   "outputs": [],
   "source": [
    "# Section 1\n",
    "url_channels_p37_s01 = commom_path + \"sub-037/ses-01/eeg/sub-037_ses-01_task-SimonConflict_channels.tsv\"\n",
    "url_eletrodes_p37_s01 = commom_path + \"sub-037/ses-01/eeg/sub-037_ses-01_task-SimonConflict_electrodes.tsv\"\n",
    "url_events_p37_s01 = commom_path + \"sub-037/ses-01/eeg/sub-037_ses-01_task-SimonConflict_events.tsv\"\n",
    "\n",
    "channels_p37_s01 = pd.read_csv(url_channels_p37_s01, sep=\"\\t\")\n",
    "eletrodes_p37_s01 = pd.read_csv(url_eletrodes_p37_s01, sep=\"\\t\")\n",
    "events_p37_s01 = pd.read_csv(url_events_p37_s01, sep=\"\\t\")"
   ]
  },
  {
   "cell_type": "markdown",
   "metadata": {
    "id": "qKPRp-23KPIM"
   },
   "source": [
    "# Participant #38\n",
    "Number of sections: 1"
   ]
  },
  {
   "cell_type": "code",
   "execution_count": 114,
   "metadata": {
    "colab": {
     "base_uri": "https://localhost:8080/",
     "height": 80
    },
    "id": "mkuYsFaOe5So",
    "outputId": "34a7739c-91b9-4277-fa06-c0e77210dece"
   },
   "outputs": [
    {
     "data": {
      "text/html": [
       "<div>\n",
       "<style scoped>\n",
       "    .dataframe tbody tr th:only-of-type {\n",
       "        vertical-align: middle;\n",
       "    }\n",
       "\n",
       "    .dataframe tbody tr th {\n",
       "        vertical-align: top;\n",
       "    }\n",
       "\n",
       "    .dataframe thead th {\n",
       "        text-align: right;\n",
       "    }\n",
       "</style>\n",
       "<table border=\"1\" class=\"dataframe\">\n",
       "  <thead>\n",
       "    <tr style=\"text-align: right;\">\n",
       "      <th></th>\n",
       "      <th>participant_id</th>\n",
       "      <th>Original_ID</th>\n",
       "      <th>Group</th>\n",
       "      <th>sess1_Med</th>\n",
       "      <th>sess2_Med</th>\n",
       "      <th>sex</th>\n",
       "      <th>age</th>\n",
       "    </tr>\n",
       "  </thead>\n",
       "  <tbody>\n",
       "    <tr>\n",
       "      <th>37</th>\n",
       "      <td>sub-038</td>\n",
       "      <td>896</td>\n",
       "      <td>0</td>\n",
       "      <td>NaN</td>\n",
       "      <td>no s2</td>\n",
       "      <td>1</td>\n",
       "      <td>58</td>\n",
       "    </tr>\n",
       "  </tbody>\n",
       "</table>\n",
       "</div>"
      ],
      "text/plain": [
       "   participant_id  Original_ID  Group sess1_Med sess2_Med  sex  age\n",
       "37        sub-038          896      0       NaN     no s2    1   58"
      ]
     },
     "execution_count": 114,
     "metadata": {},
     "output_type": "execute_result"
    }
   ],
   "source": [
    "# Participant data\n",
    "p38 = participants[participants['participant_id'] == 'sub-038']\n",
    "p38.head()"
   ]
  },
  {
   "cell_type": "code",
   "execution_count": 115,
   "metadata": {
    "id": "WAPEYWfiKPIN"
   },
   "outputs": [],
   "source": [
    "# Section 1\n",
    "url_channels_p38_s01 = commom_path + \"sub-038/ses-01/eeg/sub-038_ses-01_task-SimonConflict_channels.tsv\"\n",
    "url_eletrodes_p38_s01 = commom_path + \"sub-038/ses-01/eeg/sub-038_ses-01_task-SimonConflict_electrodes.tsv\"\n",
    "url_events_p38_s01 = commom_path + \"sub-038/ses-01/eeg/sub-038_ses-01_task-SimonConflict_events.tsv\"\n",
    "\n",
    "channels_p38_s01 = pd.read_csv(url_channels_p38_s01, sep=\"\\t\")\n",
    "eletrodes_p38_s01 = pd.read_csv(url_eletrodes_p38_s01, sep=\"\\t\")\n",
    "events_p38_s01 = pd.read_csv(url_events_p38_s01, sep=\"\\t\")"
   ]
  },
  {
   "cell_type": "markdown",
   "metadata": {
    "id": "mRS8A2z3KPV2"
   },
   "source": [
    "# Participant #39\n",
    "Number of sections: 1"
   ]
  },
  {
   "cell_type": "code",
   "execution_count": 116,
   "metadata": {
    "colab": {
     "base_uri": "https://localhost:8080/",
     "height": 80
    },
    "id": "YxeP9UJDe5x_",
    "outputId": "600c9ea5-6965-4029-e676-7462622e3d24"
   },
   "outputs": [
    {
     "data": {
      "text/html": [
       "<div>\n",
       "<style scoped>\n",
       "    .dataframe tbody tr th:only-of-type {\n",
       "        vertical-align: middle;\n",
       "    }\n",
       "\n",
       "    .dataframe tbody tr th {\n",
       "        vertical-align: top;\n",
       "    }\n",
       "\n",
       "    .dataframe thead th {\n",
       "        text-align: right;\n",
       "    }\n",
       "</style>\n",
       "<table border=\"1\" class=\"dataframe\">\n",
       "  <thead>\n",
       "    <tr style=\"text-align: right;\">\n",
       "      <th></th>\n",
       "      <th>participant_id</th>\n",
       "      <th>Original_ID</th>\n",
       "      <th>Group</th>\n",
       "      <th>sess1_Med</th>\n",
       "      <th>sess2_Med</th>\n",
       "      <th>sex</th>\n",
       "      <th>age</th>\n",
       "    </tr>\n",
       "  </thead>\n",
       "  <tbody>\n",
       "    <tr>\n",
       "      <th>38</th>\n",
       "      <td>sub-039</td>\n",
       "      <td>897</td>\n",
       "      <td>0</td>\n",
       "      <td>NaN</td>\n",
       "      <td>no s2</td>\n",
       "      <td>1</td>\n",
       "      <td>70</td>\n",
       "    </tr>\n",
       "  </tbody>\n",
       "</table>\n",
       "</div>"
      ],
      "text/plain": [
       "   participant_id  Original_ID  Group sess1_Med sess2_Med  sex  age\n",
       "38        sub-039          897      0       NaN     no s2    1   70"
      ]
     },
     "execution_count": 116,
     "metadata": {},
     "output_type": "execute_result"
    }
   ],
   "source": [
    "# Participant data\n",
    "p39 = participants[participants['participant_id'] == 'sub-039']\n",
    "p39.head()"
   ]
  },
  {
   "cell_type": "code",
   "execution_count": 117,
   "metadata": {
    "id": "TCGcd6ZgKPV3"
   },
   "outputs": [],
   "source": [
    "# Section 1\n",
    "url_channels_p39_s01 = commom_path + \"sub-039/ses-01/eeg/sub-039_ses-01_task-SimonConflict_channels.tsv\"\n",
    "url_eletrodes_p39_s01 = commom_path + \"sub-039/ses-01/eeg/sub-039_ses-01_task-SimonConflict_electrodes.tsv\"\n",
    "url_events_p39_s01 = commom_path + \"sub-039/ses-01/eeg/sub-039_ses-01_task-SimonConflict_events.tsv\"\n",
    "\n",
    "channels_p39_s01 = pd.read_csv(url_channels_p39_s01, sep=\"\\t\")\n",
    "eletrodes_p39_s01 = pd.read_csv(url_eletrodes_p39_s01, sep=\"\\t\")\n",
    "events_p39_s01 = pd.read_csv(url_events_p39_s01, sep=\"\\t\")"
   ]
  },
  {
   "cell_type": "markdown",
   "metadata": {
    "id": "gDILYo5hKPoq"
   },
   "source": [
    "# Participant #40\n",
    "Number of sections: 1"
   ]
  },
  {
   "cell_type": "code",
   "execution_count": 118,
   "metadata": {
    "colab": {
     "base_uri": "https://localhost:8080/",
     "height": 80
    },
    "id": "PWFblg6We60n",
    "outputId": "f4e485c3-21e8-4596-9e64-d70b55af031e"
   },
   "outputs": [
    {
     "data": {
      "text/html": [
       "<div>\n",
       "<style scoped>\n",
       "    .dataframe tbody tr th:only-of-type {\n",
       "        vertical-align: middle;\n",
       "    }\n",
       "\n",
       "    .dataframe tbody tr th {\n",
       "        vertical-align: top;\n",
       "    }\n",
       "\n",
       "    .dataframe thead th {\n",
       "        text-align: right;\n",
       "    }\n",
       "</style>\n",
       "<table border=\"1\" class=\"dataframe\">\n",
       "  <thead>\n",
       "    <tr style=\"text-align: right;\">\n",
       "      <th></th>\n",
       "      <th>participant_id</th>\n",
       "      <th>Original_ID</th>\n",
       "      <th>Group</th>\n",
       "      <th>sess1_Med</th>\n",
       "      <th>sess2_Med</th>\n",
       "      <th>sex</th>\n",
       "      <th>age</th>\n",
       "    </tr>\n",
       "  </thead>\n",
       "  <tbody>\n",
       "    <tr>\n",
       "      <th>39</th>\n",
       "      <td>sub-040</td>\n",
       "      <td>898</td>\n",
       "      <td>0</td>\n",
       "      <td>NaN</td>\n",
       "      <td>no s2</td>\n",
       "      <td>1</td>\n",
       "      <td>64</td>\n",
       "    </tr>\n",
       "  </tbody>\n",
       "</table>\n",
       "</div>"
      ],
      "text/plain": [
       "   participant_id  Original_ID  Group sess1_Med sess2_Med  sex  age\n",
       "39        sub-040          898      0       NaN     no s2    1   64"
      ]
     },
     "execution_count": 118,
     "metadata": {},
     "output_type": "execute_result"
    }
   ],
   "source": [
    "# Participant data\n",
    "p40 = participants[participants['participant_id'] == 'sub-040']\n",
    "p40.head()"
   ]
  },
  {
   "cell_type": "code",
   "execution_count": 119,
   "metadata": {
    "id": "aQ8tLLT2KPor"
   },
   "outputs": [],
   "source": [
    "# Section 1\n",
    "url_channels_p40_s01 = commom_path + \"sub-040/ses-01/eeg/sub-040_ses-01_task-SimonConflict_channels.tsv\"\n",
    "url_eletrodes_p40_s01 = commom_path + \"sub-040/ses-01/eeg/sub-040_ses-01_task-SimonConflict_electrodes.tsv\"\n",
    "url_events_p40_s01 = commom_path + \"sub-040/ses-01/eeg/sub-040_ses-01_task-SimonConflict_events.tsv\"\n",
    "\n",
    "channels_p40_s01 = pd.read_csv(url_channels_p40_s01, sep=\"\\t\")\n",
    "eletrodes_p40_s01 = pd.read_csv(url_eletrodes_p40_s01, sep=\"\\t\")\n",
    "events_p40_s01 = pd.read_csv(url_events_p40_s01, sep=\"\\t\")"
   ]
  },
  {
   "cell_type": "markdown",
   "metadata": {
    "id": "cG_YWUaAKPyj"
   },
   "source": [
    "# Participant #41\n",
    "Number of sections: 1"
   ]
  },
  {
   "cell_type": "code",
   "execution_count": 120,
   "metadata": {
    "colab": {
     "base_uri": "https://localhost:8080/",
     "height": 80
    },
    "id": "_g1lnKKNe75C",
    "outputId": "1689552b-2282-4dc4-bacb-a948d08ddb75"
   },
   "outputs": [
    {
     "data": {
      "text/html": [
       "<div>\n",
       "<style scoped>\n",
       "    .dataframe tbody tr th:only-of-type {\n",
       "        vertical-align: middle;\n",
       "    }\n",
       "\n",
       "    .dataframe tbody tr th {\n",
       "        vertical-align: top;\n",
       "    }\n",
       "\n",
       "    .dataframe thead th {\n",
       "        text-align: right;\n",
       "    }\n",
       "</style>\n",
       "<table border=\"1\" class=\"dataframe\">\n",
       "  <thead>\n",
       "    <tr style=\"text-align: right;\">\n",
       "      <th></th>\n",
       "      <th>participant_id</th>\n",
       "      <th>Original_ID</th>\n",
       "      <th>Group</th>\n",
       "      <th>sess1_Med</th>\n",
       "      <th>sess2_Med</th>\n",
       "      <th>sex</th>\n",
       "      <th>age</th>\n",
       "    </tr>\n",
       "  </thead>\n",
       "  <tbody>\n",
       "    <tr>\n",
       "      <th>40</th>\n",
       "      <td>sub-041</td>\n",
       "      <td>899</td>\n",
       "      <td>0</td>\n",
       "      <td>NaN</td>\n",
       "      <td>no s2</td>\n",
       "      <td>1</td>\n",
       "      <td>52</td>\n",
       "    </tr>\n",
       "  </tbody>\n",
       "</table>\n",
       "</div>"
      ],
      "text/plain": [
       "   participant_id  Original_ID  Group sess1_Med sess2_Med  sex  age\n",
       "40        sub-041          899      0       NaN     no s2    1   52"
      ]
     },
     "execution_count": 120,
     "metadata": {},
     "output_type": "execute_result"
    }
   ],
   "source": [
    "# Participant data\n",
    "p41 = participants[participants['participant_id'] == 'sub-041']\n",
    "p41.head()"
   ]
  },
  {
   "cell_type": "code",
   "execution_count": 121,
   "metadata": {
    "id": "8wKqtWi0KPyj"
   },
   "outputs": [],
   "source": [
    "# Section 1\n",
    "url_channels_p41_s01 = commom_path + \"sub-041/ses-01/eeg/sub-041_ses-01_task-SimonConflict_channels.tsv\"\n",
    "url_eletrodes_p41_s01 = commom_path + \"sub-041/ses-01/eeg/sub-041_ses-01_task-SimonConflict_electrodes.tsv\"\n",
    "url_events_p41_s01 = commom_path + \"sub-041/ses-01/eeg/sub-041_ses-01_task-SimonConflict_events.tsv\"\n",
    "\n",
    "channels_p41_s01 = pd.read_csv(url_channels_p41_s01, sep=\"\\t\")\n",
    "eletrodes_p41_s01 = pd.read_csv(url_eletrodes_p41_s01, sep=\"\\t\")\n",
    "events_p41_s01 = pd.read_csv(url_events_p41_s01, sep=\"\\t\")"
   ]
  },
  {
   "cell_type": "markdown",
   "metadata": {
    "id": "kACyjQPzKP82"
   },
   "source": [
    "# Participant #42\n",
    "Number of sections: 1"
   ]
  },
  {
   "cell_type": "code",
   "execution_count": 122,
   "metadata": {
    "colab": {
     "base_uri": "https://localhost:8080/",
     "height": 80
    },
    "id": "8S2k0_sge8Vq",
    "outputId": "fb5c0ed3-9358-4cc2-9fa6-871bd96d5153"
   },
   "outputs": [
    {
     "data": {
      "text/html": [
       "<div>\n",
       "<style scoped>\n",
       "    .dataframe tbody tr th:only-of-type {\n",
       "        vertical-align: middle;\n",
       "    }\n",
       "\n",
       "    .dataframe tbody tr th {\n",
       "        vertical-align: top;\n",
       "    }\n",
       "\n",
       "    .dataframe thead th {\n",
       "        text-align: right;\n",
       "    }\n",
       "</style>\n",
       "<table border=\"1\" class=\"dataframe\">\n",
       "  <thead>\n",
       "    <tr style=\"text-align: right;\">\n",
       "      <th></th>\n",
       "      <th>participant_id</th>\n",
       "      <th>Original_ID</th>\n",
       "      <th>Group</th>\n",
       "      <th>sess1_Med</th>\n",
       "      <th>sess2_Med</th>\n",
       "      <th>sex</th>\n",
       "      <th>age</th>\n",
       "    </tr>\n",
       "  </thead>\n",
       "  <tbody>\n",
       "    <tr>\n",
       "      <th>41</th>\n",
       "      <td>sub-042</td>\n",
       "      <td>900</td>\n",
       "      <td>0</td>\n",
       "      <td>NaN</td>\n",
       "      <td>no s2</td>\n",
       "      <td>1</td>\n",
       "      <td>84</td>\n",
       "    </tr>\n",
       "  </tbody>\n",
       "</table>\n",
       "</div>"
      ],
      "text/plain": [
       "   participant_id  Original_ID  Group sess1_Med sess2_Med  sex  age\n",
       "41        sub-042          900      0       NaN     no s2    1   84"
      ]
     },
     "execution_count": 122,
     "metadata": {},
     "output_type": "execute_result"
    }
   ],
   "source": [
    "# Participant data\n",
    "p42 = participants[participants['participant_id'] == 'sub-042']\n",
    "p42.head()"
   ]
  },
  {
   "cell_type": "code",
   "execution_count": 123,
   "metadata": {
    "id": "_vlk4zeBKP84"
   },
   "outputs": [],
   "source": [
    "# Section 1\n",
    "url_channels_p42_s01 = commom_path + \"sub-042/ses-01/eeg/sub-042_ses-01_task-SimonConflict_channels.tsv\"\n",
    "url_eletrodes_p42_s01 = commom_path + \"sub-042/ses-01/eeg/sub-042_ses-01_task-SimonConflict_electrodes.tsv\"\n",
    "url_events_p42_s01 = commom_path + \"sub-042/ses-01/eeg/sub-042_ses-01_task-SimonConflict_events.tsv\"\n",
    "\n",
    "channels_p42_s01 = pd.read_csv(url_channels_p42_s01, sep=\"\\t\")\n",
    "eletrodes_p42_s01 = pd.read_csv(url_eletrodes_p42_s01, sep=\"\\t\")\n",
    "events_p42_s01 = pd.read_csv(url_events_p42_s01, sep=\"\\t\")"
   ]
  },
  {
   "cell_type": "markdown",
   "metadata": {
    "id": "PLM-_ET1KQGO"
   },
   "source": [
    "# Participant #43\n",
    "Number of sections: 1"
   ]
  },
  {
   "cell_type": "code",
   "execution_count": 124,
   "metadata": {
    "colab": {
     "base_uri": "https://localhost:8080/",
     "height": 80
    },
    "id": "GBHzs5uue83B",
    "outputId": "3fd8e522-4adf-49c1-e2e9-c69b58e53816"
   },
   "outputs": [
    {
     "data": {
      "text/html": [
       "<div>\n",
       "<style scoped>\n",
       "    .dataframe tbody tr th:only-of-type {\n",
       "        vertical-align: middle;\n",
       "    }\n",
       "\n",
       "    .dataframe tbody tr th {\n",
       "        vertical-align: top;\n",
       "    }\n",
       "\n",
       "    .dataframe thead th {\n",
       "        text-align: right;\n",
       "    }\n",
       "</style>\n",
       "<table border=\"1\" class=\"dataframe\">\n",
       "  <thead>\n",
       "    <tr style=\"text-align: right;\">\n",
       "      <th></th>\n",
       "      <th>participant_id</th>\n",
       "      <th>Original_ID</th>\n",
       "      <th>Group</th>\n",
       "      <th>sess1_Med</th>\n",
       "      <th>sess2_Med</th>\n",
       "      <th>sex</th>\n",
       "      <th>age</th>\n",
       "    </tr>\n",
       "  </thead>\n",
       "  <tbody>\n",
       "    <tr>\n",
       "      <th>42</th>\n",
       "      <td>sub-043</td>\n",
       "      <td>901</td>\n",
       "      <td>0</td>\n",
       "      <td>NaN</td>\n",
       "      <td>no s2</td>\n",
       "      <td>0</td>\n",
       "      <td>69</td>\n",
       "    </tr>\n",
       "  </tbody>\n",
       "</table>\n",
       "</div>"
      ],
      "text/plain": [
       "   participant_id  Original_ID  Group sess1_Med sess2_Med  sex  age\n",
       "42        sub-043          901      0       NaN     no s2    0   69"
      ]
     },
     "execution_count": 124,
     "metadata": {},
     "output_type": "execute_result"
    }
   ],
   "source": [
    "# Participant data\n",
    "p43 = participants[participants['participant_id'] == 'sub-043']\n",
    "p43.head()"
   ]
  },
  {
   "cell_type": "code",
   "execution_count": 125,
   "metadata": {
    "id": "sw9MM7SaKQGP"
   },
   "outputs": [],
   "source": [
    "# Section 1\n",
    "url_channels_p43_s01 = commom_path + \"sub-043/ses-01/eeg/sub-043_ses-01_task-SimonConflict_channels.tsv\"\n",
    "url_eletrodes_p43_s01 = commom_path + \"sub-043/ses-01/eeg/sub-043_ses-01_task-SimonConflict_electrodes.tsv\"\n",
    "url_events_p43_s01 = commom_path + \"sub-043/ses-01/eeg/sub-043_ses-01_task-SimonConflict_events.tsv\"\n",
    "\n",
    "channels_p43_s01 = pd.read_csv(url_channels_p43_s01, sep=\"\\t\")\n",
    "eletrodes_p43_s01 = pd.read_csv(url_eletrodes_p43_s01, sep=\"\\t\")\n",
    "events_p43_s01 = pd.read_csv(url_events_p43_s01, sep=\"\\t\")"
   ]
  },
  {
   "cell_type": "markdown",
   "metadata": {
    "id": "qmI4mOe0KQPz"
   },
   "source": [
    "# Participant #44\n",
    "Number of sections: 1"
   ]
  },
  {
   "cell_type": "code",
   "execution_count": 126,
   "metadata": {
    "colab": {
     "base_uri": "https://localhost:8080/",
     "height": 80
    },
    "id": "IGlwUN0oe9Os",
    "outputId": "47136c0c-48eb-4238-a9d3-9455f59d1993"
   },
   "outputs": [
    {
     "data": {
      "text/html": [
       "<div>\n",
       "<style scoped>\n",
       "    .dataframe tbody tr th:only-of-type {\n",
       "        vertical-align: middle;\n",
       "    }\n",
       "\n",
       "    .dataframe tbody tr th {\n",
       "        vertical-align: top;\n",
       "    }\n",
       "\n",
       "    .dataframe thead th {\n",
       "        text-align: right;\n",
       "    }\n",
       "</style>\n",
       "<table border=\"1\" class=\"dataframe\">\n",
       "  <thead>\n",
       "    <tr style=\"text-align: right;\">\n",
       "      <th></th>\n",
       "      <th>participant_id</th>\n",
       "      <th>Original_ID</th>\n",
       "      <th>Group</th>\n",
       "      <th>sess1_Med</th>\n",
       "      <th>sess2_Med</th>\n",
       "      <th>sex</th>\n",
       "      <th>age</th>\n",
       "    </tr>\n",
       "  </thead>\n",
       "  <tbody>\n",
       "    <tr>\n",
       "      <th>43</th>\n",
       "      <td>sub-044</td>\n",
       "      <td>902</td>\n",
       "      <td>0</td>\n",
       "      <td>NaN</td>\n",
       "      <td>no s2</td>\n",
       "      <td>1</td>\n",
       "      <td>83</td>\n",
       "    </tr>\n",
       "  </tbody>\n",
       "</table>\n",
       "</div>"
      ],
      "text/plain": [
       "   participant_id  Original_ID  Group sess1_Med sess2_Med  sex  age\n",
       "43        sub-044          902      0       NaN     no s2    1   83"
      ]
     },
     "execution_count": 126,
     "metadata": {},
     "output_type": "execute_result"
    }
   ],
   "source": [
    "# Participant data\n",
    "p44 = participants[participants['participant_id'] == 'sub-044']\n",
    "p44.head()"
   ]
  },
  {
   "cell_type": "code",
   "execution_count": 127,
   "metadata": {
    "id": "zaTPnrDbKQP0"
   },
   "outputs": [],
   "source": [
    "# Section 1\n",
    "url_channels_p44_s01 = commom_path + \"sub-044/ses-01/eeg/sub-044_ses-01_task-SimonConflict_channels.tsv\"\n",
    "url_eletrodes_p44_s01 = commom_path + \"sub-044/ses-01/eeg/sub-044_ses-01_task-SimonConflict_electrodes.tsv\"\n",
    "url_events_p44_s01 = commom_path + \"sub-044/ses-01/eeg/sub-044_ses-01_task-SimonConflict_events.tsv\"\n",
    "\n",
    "channels_p44_s01 = pd.read_csv(url_channels_p44_s01, sep=\"\\t\")\n",
    "eletrodes_p44_s01 = pd.read_csv(url_eletrodes_p44_s01, sep=\"\\t\")\n",
    "events_p44_s01 = pd.read_csv(url_events_p44_s01, sep=\"\\t\")"
   ]
  },
  {
   "cell_type": "markdown",
   "metadata": {
    "id": "wepW1eQoKQZ3"
   },
   "source": [
    "# Participant #45\n",
    "Number of sections: 1"
   ]
  },
  {
   "cell_type": "code",
   "execution_count": 128,
   "metadata": {
    "colab": {
     "base_uri": "https://localhost:8080/",
     "height": 80
    },
    "id": "Hl3NefdCe9kZ",
    "outputId": "33de77b1-501f-4b86-9dd3-bdf49fd6c11f"
   },
   "outputs": [
    {
     "data": {
      "text/html": [
       "<div>\n",
       "<style scoped>\n",
       "    .dataframe tbody tr th:only-of-type {\n",
       "        vertical-align: middle;\n",
       "    }\n",
       "\n",
       "    .dataframe tbody tr th {\n",
       "        vertical-align: top;\n",
       "    }\n",
       "\n",
       "    .dataframe thead th {\n",
       "        text-align: right;\n",
       "    }\n",
       "</style>\n",
       "<table border=\"1\" class=\"dataframe\">\n",
       "  <thead>\n",
       "    <tr style=\"text-align: right;\">\n",
       "      <th></th>\n",
       "      <th>participant_id</th>\n",
       "      <th>Original_ID</th>\n",
       "      <th>Group</th>\n",
       "      <th>sess1_Med</th>\n",
       "      <th>sess2_Med</th>\n",
       "      <th>sex</th>\n",
       "      <th>age</th>\n",
       "    </tr>\n",
       "  </thead>\n",
       "  <tbody>\n",
       "    <tr>\n",
       "      <th>44</th>\n",
       "      <td>sub-045</td>\n",
       "      <td>903</td>\n",
       "      <td>0</td>\n",
       "      <td>NaN</td>\n",
       "      <td>no s2</td>\n",
       "      <td>1</td>\n",
       "      <td>83</td>\n",
       "    </tr>\n",
       "  </tbody>\n",
       "</table>\n",
       "</div>"
      ],
      "text/plain": [
       "   participant_id  Original_ID  Group sess1_Med sess2_Med  sex  age\n",
       "44        sub-045          903      0       NaN     no s2    1   83"
      ]
     },
     "execution_count": 128,
     "metadata": {},
     "output_type": "execute_result"
    }
   ],
   "source": [
    "# Participant data\n",
    "p45 = participants[participants['participant_id'] == 'sub-045']\n",
    "p45.head()"
   ]
  },
  {
   "cell_type": "code",
   "execution_count": 129,
   "metadata": {
    "id": "zLBdUKnyKQZ4"
   },
   "outputs": [],
   "source": [
    "# Section 1\n",
    "url_channels_p45_s01 = commom_path + \"sub-045/ses-01/eeg/sub-045_ses-01_task-SimonConflict_channels.tsv\"\n",
    "url_eletrodes_p45_s01 = commom_path + \"sub-045/ses-01/eeg/sub-045_ses-01_task-SimonConflict_electrodes.tsv\"\n",
    "url_events_p45_s01 = commom_path + \"sub-045/ses-01/eeg/sub-045_ses-01_task-SimonConflict_events.tsv\"\n",
    "\n",
    "channels_p45_s01 = pd.read_csv(url_channels_p45_s01, sep=\"\\t\")\n",
    "eletrodes_p45_s01 = pd.read_csv(url_eletrodes_p45_s01, sep=\"\\t\")\n",
    "events_p45_s01 = pd.read_csv(url_events_p45_s01, sep=\"\\t\")"
   ]
  },
  {
   "cell_type": "markdown",
   "metadata": {
    "id": "aT2-6sZiKQih"
   },
   "source": [
    "# Participant #46\n",
    "Number of sections: 1"
   ]
  },
  {
   "cell_type": "code",
   "execution_count": 130,
   "metadata": {
    "colab": {
     "base_uri": "https://localhost:8080/",
     "height": 80
    },
    "id": "g2CNaXLQe964",
    "outputId": "a93ea616-3aea-48fd-bc5d-4de0a4e96e22"
   },
   "outputs": [
    {
     "data": {
      "text/html": [
       "<div>\n",
       "<style scoped>\n",
       "    .dataframe tbody tr th:only-of-type {\n",
       "        vertical-align: middle;\n",
       "    }\n",
       "\n",
       "    .dataframe tbody tr th {\n",
       "        vertical-align: top;\n",
       "    }\n",
       "\n",
       "    .dataframe thead th {\n",
       "        text-align: right;\n",
       "    }\n",
       "</style>\n",
       "<table border=\"1\" class=\"dataframe\">\n",
       "  <thead>\n",
       "    <tr style=\"text-align: right;\">\n",
       "      <th></th>\n",
       "      <th>participant_id</th>\n",
       "      <th>Original_ID</th>\n",
       "      <th>Group</th>\n",
       "      <th>sess1_Med</th>\n",
       "      <th>sess2_Med</th>\n",
       "      <th>sex</th>\n",
       "      <th>age</th>\n",
       "    </tr>\n",
       "  </thead>\n",
       "  <tbody>\n",
       "    <tr>\n",
       "      <th>45</th>\n",
       "      <td>sub-046</td>\n",
       "      <td>904</td>\n",
       "      <td>0</td>\n",
       "      <td>NaN</td>\n",
       "      <td>no s2</td>\n",
       "      <td>1</td>\n",
       "      <td>73</td>\n",
       "    </tr>\n",
       "  </tbody>\n",
       "</table>\n",
       "</div>"
      ],
      "text/plain": [
       "   participant_id  Original_ID  Group sess1_Med sess2_Med  sex  age\n",
       "45        sub-046          904      0       NaN     no s2    1   73"
      ]
     },
     "execution_count": 130,
     "metadata": {},
     "output_type": "execute_result"
    }
   ],
   "source": [
    "# Participant data\n",
    "p46 = participants[participants['participant_id'] == 'sub-046']\n",
    "p46.head()"
   ]
  },
  {
   "cell_type": "code",
   "execution_count": 131,
   "metadata": {
    "id": "sGgWYKKAKQii"
   },
   "outputs": [],
   "source": [
    "# Section 1\n",
    "url_channels_p46_s01 = commom_path + \"sub-046/ses-01/eeg/sub-046_ses-01_task-SimonConflict_channels.tsv\"\n",
    "url_eletrodes_p46_s01 = commom_path + \"sub-046/ses-01/eeg/sub-046_ses-01_task-SimonConflict_electrodes.tsv\"\n",
    "url_events_p46_s01 = commom_path + \"sub-046/ses-01/eeg/sub-046_ses-01_task-SimonConflict_events.tsv\"\n",
    "\n",
    "channels_p46_s01 = pd.read_csv(url_channels_p46_s01, sep=\"\\t\")\n",
    "eletrodes_p46_s01 = pd.read_csv(url_eletrodes_p46_s01, sep=\"\\t\")\n",
    "events_p46_s01 = pd.read_csv(url_events_p46_s01, sep=\"\\t\")"
   ]
  },
  {
   "cell_type": "markdown",
   "metadata": {
    "id": "25GkRJYnKQrx"
   },
   "source": [
    "# Participant #47\n",
    "Number of sections: 1"
   ]
  },
  {
   "cell_type": "code",
   "execution_count": 132,
   "metadata": {
    "colab": {
     "base_uri": "https://localhost:8080/",
     "height": 80
    },
    "id": "JDv-oMtPe-RM",
    "outputId": "629c59e2-b9fd-440e-fc65-6abc5b2995ea"
   },
   "outputs": [
    {
     "data": {
      "text/html": [
       "<div>\n",
       "<style scoped>\n",
       "    .dataframe tbody tr th:only-of-type {\n",
       "        vertical-align: middle;\n",
       "    }\n",
       "\n",
       "    .dataframe tbody tr th {\n",
       "        vertical-align: top;\n",
       "    }\n",
       "\n",
       "    .dataframe thead th {\n",
       "        text-align: right;\n",
       "    }\n",
       "</style>\n",
       "<table border=\"1\" class=\"dataframe\">\n",
       "  <thead>\n",
       "    <tr style=\"text-align: right;\">\n",
       "      <th></th>\n",
       "      <th>participant_id</th>\n",
       "      <th>Original_ID</th>\n",
       "      <th>Group</th>\n",
       "      <th>sess1_Med</th>\n",
       "      <th>sess2_Med</th>\n",
       "      <th>sex</th>\n",
       "      <th>age</th>\n",
       "    </tr>\n",
       "  </thead>\n",
       "  <tbody>\n",
       "    <tr>\n",
       "      <th>46</th>\n",
       "      <td>sub-047</td>\n",
       "      <td>905</td>\n",
       "      <td>0</td>\n",
       "      <td>NaN</td>\n",
       "      <td>no s2</td>\n",
       "      <td>0</td>\n",
       "      <td>58</td>\n",
       "    </tr>\n",
       "  </tbody>\n",
       "</table>\n",
       "</div>"
      ],
      "text/plain": [
       "   participant_id  Original_ID  Group sess1_Med sess2_Med  sex  age\n",
       "46        sub-047          905      0       NaN     no s2    0   58"
      ]
     },
     "execution_count": 132,
     "metadata": {},
     "output_type": "execute_result"
    }
   ],
   "source": [
    "# Participant data\n",
    "p47 = participants[participants['participant_id'] == 'sub-047']\n",
    "p47.head()"
   ]
  },
  {
   "cell_type": "code",
   "execution_count": 133,
   "metadata": {
    "id": "Qwf0_6MEKQrx"
   },
   "outputs": [],
   "source": [
    "# Section 1\n",
    "url_channels_p47_s01 = commom_path + \"sub-047/ses-01/eeg/sub-047_ses-01_task-SimonConflict_channels.tsv\"\n",
    "url_eletrodes_p47_s01 = commom_path + \"sub-047/ses-01/eeg/sub-047_ses-01_task-SimonConflict_electrodes.tsv\"\n",
    "url_events_p47_s01 = commom_path + \"sub-047/ses-01/eeg/sub-047_ses-01_task-SimonConflict_events.tsv\"\n",
    "\n",
    "channels_p47_s01 = pd.read_csv(url_channels_p47_s01, sep=\"\\t\")\n",
    "eletrodes_p47_s01 = pd.read_csv(url_eletrodes_p47_s01, sep=\"\\t\")\n",
    "events_p47_s01 = pd.read_csv(url_events_p47_s01, sep=\"\\t\")"
   ]
  },
  {
   "cell_type": "markdown",
   "metadata": {
    "id": "ASJrEEM6KQ1e"
   },
   "source": [
    "# Participant #48\n",
    "Number of sections: 1"
   ]
  },
  {
   "cell_type": "code",
   "execution_count": 134,
   "metadata": {
    "colab": {
     "base_uri": "https://localhost:8080/",
     "height": 80
    },
    "id": "H69MKCLRe-o9",
    "outputId": "1372bbe8-a050-43ac-e25f-1c1a7654a583"
   },
   "outputs": [
    {
     "data": {
      "text/html": [
       "<div>\n",
       "<style scoped>\n",
       "    .dataframe tbody tr th:only-of-type {\n",
       "        vertical-align: middle;\n",
       "    }\n",
       "\n",
       "    .dataframe tbody tr th {\n",
       "        vertical-align: top;\n",
       "    }\n",
       "\n",
       "    .dataframe thead th {\n",
       "        text-align: right;\n",
       "    }\n",
       "</style>\n",
       "<table border=\"1\" class=\"dataframe\">\n",
       "  <thead>\n",
       "    <tr style=\"text-align: right;\">\n",
       "      <th></th>\n",
       "      <th>participant_id</th>\n",
       "      <th>Original_ID</th>\n",
       "      <th>Group</th>\n",
       "      <th>sess1_Med</th>\n",
       "      <th>sess2_Med</th>\n",
       "      <th>sex</th>\n",
       "      <th>age</th>\n",
       "    </tr>\n",
       "  </thead>\n",
       "  <tbody>\n",
       "    <tr>\n",
       "      <th>47</th>\n",
       "      <td>sub-048</td>\n",
       "      <td>906</td>\n",
       "      <td>0</td>\n",
       "      <td>NaN</td>\n",
       "      <td>no s2</td>\n",
       "      <td>1</td>\n",
       "      <td>77</td>\n",
       "    </tr>\n",
       "  </tbody>\n",
       "</table>\n",
       "</div>"
      ],
      "text/plain": [
       "   participant_id  Original_ID  Group sess1_Med sess2_Med  sex  age\n",
       "47        sub-048          906      0       NaN     no s2    1   77"
      ]
     },
     "execution_count": 134,
     "metadata": {},
     "output_type": "execute_result"
    }
   ],
   "source": [
    "# Participant data\n",
    "p48 = participants[participants['participant_id'] == 'sub-048']\n",
    "p48.head()"
   ]
  },
  {
   "cell_type": "code",
   "execution_count": 135,
   "metadata": {
    "id": "UaIWITQZKQ1f"
   },
   "outputs": [],
   "source": [
    "# Section 1\n",
    "url_channels_p48_s01 = commom_path + \"sub-048/ses-01/eeg/sub-048_ses-01_task-SimonConflict_channels.tsv\"\n",
    "url_eletrodes_p48_s01 = commom_path + \"sub-048/ses-01/eeg/sub-048_ses-01_task-SimonConflict_electrodes.tsv\"\n",
    "url_events_p48_s01 = commom_path + \"sub-048/ses-01/eeg/sub-048_ses-01_task-SimonConflict_events.tsv\"\n",
    "\n",
    "channels_p48_s01 = pd.read_csv(url_channels_p48_s01, sep=\"\\t\")\n",
    "eletrodes_p48_s01 = pd.read_csv(url_eletrodes_p48_s01, sep=\"\\t\")\n",
    "events_p48_s01 = pd.read_csv(url_events_p48_s01, sep=\"\\t\")"
   ]
  },
  {
   "cell_type": "markdown",
   "metadata": {
    "id": "CuZ96eJHKQ_S"
   },
   "source": [
    "# Participant #49\n",
    "Number of sections: 1"
   ]
  },
  {
   "cell_type": "code",
   "execution_count": 136,
   "metadata": {
    "colab": {
     "base_uri": "https://localhost:8080/",
     "height": 80
    },
    "id": "prGrglpMe-_0",
    "outputId": "0e1416e1-0731-4955-d3c9-4ae49677251c"
   },
   "outputs": [
    {
     "data": {
      "text/html": [
       "<div>\n",
       "<style scoped>\n",
       "    .dataframe tbody tr th:only-of-type {\n",
       "        vertical-align: middle;\n",
       "    }\n",
       "\n",
       "    .dataframe tbody tr th {\n",
       "        vertical-align: top;\n",
       "    }\n",
       "\n",
       "    .dataframe thead th {\n",
       "        text-align: right;\n",
       "    }\n",
       "</style>\n",
       "<table border=\"1\" class=\"dataframe\">\n",
       "  <thead>\n",
       "    <tr style=\"text-align: right;\">\n",
       "      <th></th>\n",
       "      <th>participant_id</th>\n",
       "      <th>Original_ID</th>\n",
       "      <th>Group</th>\n",
       "      <th>sess1_Med</th>\n",
       "      <th>sess2_Med</th>\n",
       "      <th>sex</th>\n",
       "      <th>age</th>\n",
       "    </tr>\n",
       "  </thead>\n",
       "  <tbody>\n",
       "    <tr>\n",
       "      <th>48</th>\n",
       "      <td>sub-049</td>\n",
       "      <td>907</td>\n",
       "      <td>0</td>\n",
       "      <td>NaN</td>\n",
       "      <td>no s2</td>\n",
       "      <td>0</td>\n",
       "      <td>65</td>\n",
       "    </tr>\n",
       "  </tbody>\n",
       "</table>\n",
       "</div>"
      ],
      "text/plain": [
       "   participant_id  Original_ID  Group sess1_Med sess2_Med  sex  age\n",
       "48        sub-049          907      0       NaN     no s2    0   65"
      ]
     },
     "execution_count": 136,
     "metadata": {},
     "output_type": "execute_result"
    }
   ],
   "source": [
    "# Participant data\n",
    "p49 = participants[participants['participant_id'] == 'sub-049']\n",
    "p49.head()"
   ]
  },
  {
   "cell_type": "code",
   "execution_count": 137,
   "metadata": {
    "id": "gDKmXr-ZKQ_T"
   },
   "outputs": [],
   "source": [
    "# Section 1\n",
    "url_channels_p49_s01 = commom_path + \"sub-049/ses-01/eeg/sub-049_ses-01_task-SimonConflict_channels.tsv\"\n",
    "url_eletrodes_p49_s01 = commom_path + \"sub-049/ses-01/eeg/sub-049_ses-01_task-SimonConflict_electrodes.tsv\"\n",
    "url_events_p49_s01 = commom_path + \"sub-049/ses-01/eeg/sub-049_ses-01_task-SimonConflict_events.tsv\"\n",
    "\n",
    "channels_p49_s01 = pd.read_csv(url_channels_p49_s01, sep=\"\\t\")\n",
    "eletrodes_p49_s01 = pd.read_csv(url_eletrodes_p49_s01, sep=\"\\t\")\n",
    "events_p49_s01 = pd.read_csv(url_events_p49_s01, sep=\"\\t\")"
   ]
  },
  {
   "cell_type": "markdown",
   "metadata": {
    "id": "UbmPPiKgKRNA"
   },
   "source": [
    "# Participant #50\n",
    "Number of sections: 1"
   ]
  },
  {
   "cell_type": "code",
   "execution_count": 138,
   "metadata": {
    "colab": {
     "base_uri": "https://localhost:8080/",
     "height": 80
    },
    "id": "raO9pM-Be_Ww",
    "outputId": "7ef9085b-319a-43fa-a326-c7b01fa2e843"
   },
   "outputs": [
    {
     "data": {
      "text/html": [
       "<div>\n",
       "<style scoped>\n",
       "    .dataframe tbody tr th:only-of-type {\n",
       "        vertical-align: middle;\n",
       "    }\n",
       "\n",
       "    .dataframe tbody tr th {\n",
       "        vertical-align: top;\n",
       "    }\n",
       "\n",
       "    .dataframe thead th {\n",
       "        text-align: right;\n",
       "    }\n",
       "</style>\n",
       "<table border=\"1\" class=\"dataframe\">\n",
       "  <thead>\n",
       "    <tr style=\"text-align: right;\">\n",
       "      <th></th>\n",
       "      <th>participant_id</th>\n",
       "      <th>Original_ID</th>\n",
       "      <th>Group</th>\n",
       "      <th>sess1_Med</th>\n",
       "      <th>sess2_Med</th>\n",
       "      <th>sex</th>\n",
       "      <th>age</th>\n",
       "    </tr>\n",
       "  </thead>\n",
       "  <tbody>\n",
       "    <tr>\n",
       "      <th>49</th>\n",
       "      <td>sub-050</td>\n",
       "      <td>908</td>\n",
       "      <td>0</td>\n",
       "      <td>NaN</td>\n",
       "      <td>no s2</td>\n",
       "      <td>1</td>\n",
       "      <td>75</td>\n",
       "    </tr>\n",
       "  </tbody>\n",
       "</table>\n",
       "</div>"
      ],
      "text/plain": [
       "   participant_id  Original_ID  Group sess1_Med sess2_Med  sex  age\n",
       "49        sub-050          908      0       NaN     no s2    1   75"
      ]
     },
     "execution_count": 138,
     "metadata": {},
     "output_type": "execute_result"
    }
   ],
   "source": [
    "# Participant data\n",
    "p50 = participants[participants['participant_id'] == 'sub-050']\n",
    "p50.head()"
   ]
  },
  {
   "cell_type": "code",
   "execution_count": 139,
   "metadata": {
    "id": "xrofqOebKRNB"
   },
   "outputs": [],
   "source": [
    "# Section 1\n",
    "url_channels_p50_s01 = commom_path + \"sub-050/ses-01/eeg/sub-050_ses-01_task-SimonConflict_channels.tsv\"\n",
    "url_eletrodes_p50_s01 = commom_path + \"sub-050/ses-01/eeg/sub-050_ses-01_task-SimonConflict_electrodes.tsv\"\n",
    "url_events_p50_s01 = commom_path + \"sub-050/ses-01/eeg/sub-050_ses-01_task-SimonConflict_events.tsv\"\n",
    "\n",
    "channels_p50_s01 = pd.read_csv(url_channels_p50_s01, sep=\"\\t\")\n",
    "eletrodes_p50_s01 = pd.read_csv(url_eletrodes_p50_s01, sep=\"\\t\")\n",
    "events_p50_s01 = pd.read_csv(url_events_p50_s01, sep=\"\\t\")"
   ]
  },
  {
   "cell_type": "markdown",
   "metadata": {
    "id": "NwULrixVKRXm"
   },
   "source": [
    "# Participant #51\n",
    "Number of sections: 1"
   ]
  },
  {
   "cell_type": "code",
   "execution_count": 140,
   "metadata": {
    "colab": {
     "base_uri": "https://localhost:8080/",
     "height": 80
    },
    "id": "gN7NpsxSe_7P",
    "outputId": "26033609-e595-4908-927b-c732bf95e6f4"
   },
   "outputs": [
    {
     "data": {
      "text/html": [
       "<div>\n",
       "<style scoped>\n",
       "    .dataframe tbody tr th:only-of-type {\n",
       "        vertical-align: middle;\n",
       "    }\n",
       "\n",
       "    .dataframe tbody tr th {\n",
       "        vertical-align: top;\n",
       "    }\n",
       "\n",
       "    .dataframe thead th {\n",
       "        text-align: right;\n",
       "    }\n",
       "</style>\n",
       "<table border=\"1\" class=\"dataframe\">\n",
       "  <thead>\n",
       "    <tr style=\"text-align: right;\">\n",
       "      <th></th>\n",
       "      <th>participant_id</th>\n",
       "      <th>Original_ID</th>\n",
       "      <th>Group</th>\n",
       "      <th>sess1_Med</th>\n",
       "      <th>sess2_Med</th>\n",
       "      <th>sex</th>\n",
       "      <th>age</th>\n",
       "    </tr>\n",
       "  </thead>\n",
       "  <tbody>\n",
       "    <tr>\n",
       "      <th>50</th>\n",
       "      <td>sub-051</td>\n",
       "      <td>909</td>\n",
       "      <td>0</td>\n",
       "      <td>NaN</td>\n",
       "      <td>no s2</td>\n",
       "      <td>1</td>\n",
       "      <td>64</td>\n",
       "    </tr>\n",
       "  </tbody>\n",
       "</table>\n",
       "</div>"
      ],
      "text/plain": [
       "   participant_id  Original_ID  Group sess1_Med sess2_Med  sex  age\n",
       "50        sub-051          909      0       NaN     no s2    1   64"
      ]
     },
     "execution_count": 140,
     "metadata": {},
     "output_type": "execute_result"
    }
   ],
   "source": [
    "# Participant data\n",
    "p51 = participants[participants['participant_id'] == 'sub-051']\n",
    "p51.head()"
   ]
  },
  {
   "cell_type": "code",
   "execution_count": 141,
   "metadata": {
    "id": "3ha3LGoZKRXn"
   },
   "outputs": [],
   "source": [
    "# Section 1\n",
    "url_channels_p51_s01 = commom_path + \"sub-051/ses-01/eeg/sub-051_ses-01_task-SimonConflict_channels.tsv\"\n",
    "url_eletrodes_p51_s01 = commom_path + \"sub-051/ses-01/eeg/sub-051_ses-01_task-SimonConflict_electrodes.tsv\"\n",
    "url_events_p51_s01 = commom_path + \"sub-051/ses-01/eeg/sub-051_ses-01_task-SimonConflict_events.tsv\"\n",
    "\n",
    "channels_p51_s01 = pd.read_csv(url_channels_p51_s01, sep=\"\\t\")\n",
    "eletrodes_p51_s01 = pd.read_csv(url_eletrodes_p51_s01, sep=\"\\t\")\n",
    "events_p51_s01 = pd.read_csv(url_events_p51_s01, sep=\"\\t\")"
   ]
  },
  {
   "cell_type": "markdown",
   "metadata": {
    "id": "5s5AtW1CKRh8"
   },
   "source": [
    "# Participant #52\n",
    "Number of sections: 1"
   ]
  },
  {
   "cell_type": "code",
   "execution_count": 142,
   "metadata": {
    "colab": {
     "base_uri": "https://localhost:8080/",
     "height": 80
    },
    "id": "sziSJsWNfAZm",
    "outputId": "c4d694c8-7ea0-4156-b79f-459227489470"
   },
   "outputs": [
    {
     "data": {
      "text/html": [
       "<div>\n",
       "<style scoped>\n",
       "    .dataframe tbody tr th:only-of-type {\n",
       "        vertical-align: middle;\n",
       "    }\n",
       "\n",
       "    .dataframe tbody tr th {\n",
       "        vertical-align: top;\n",
       "    }\n",
       "\n",
       "    .dataframe thead th {\n",
       "        text-align: right;\n",
       "    }\n",
       "</style>\n",
       "<table border=\"1\" class=\"dataframe\">\n",
       "  <thead>\n",
       "    <tr style=\"text-align: right;\">\n",
       "      <th></th>\n",
       "      <th>participant_id</th>\n",
       "      <th>Original_ID</th>\n",
       "      <th>Group</th>\n",
       "      <th>sess1_Med</th>\n",
       "      <th>sess2_Med</th>\n",
       "      <th>sex</th>\n",
       "      <th>age</th>\n",
       "    </tr>\n",
       "  </thead>\n",
       "  <tbody>\n",
       "    <tr>\n",
       "      <th>51</th>\n",
       "      <td>sub-052</td>\n",
       "      <td>910</td>\n",
       "      <td>0</td>\n",
       "      <td>NaN</td>\n",
       "      <td>no s2</td>\n",
       "      <td>1</td>\n",
       "      <td>75</td>\n",
       "    </tr>\n",
       "  </tbody>\n",
       "</table>\n",
       "</div>"
      ],
      "text/plain": [
       "   participant_id  Original_ID  Group sess1_Med sess2_Med  sex  age\n",
       "51        sub-052          910      0       NaN     no s2    1   75"
      ]
     },
     "execution_count": 142,
     "metadata": {},
     "output_type": "execute_result"
    }
   ],
   "source": [
    "# Participant data\n",
    "p52 = participants[participants['participant_id'] == 'sub-052']\n",
    "p52.head()"
   ]
  },
  {
   "cell_type": "code",
   "execution_count": 143,
   "metadata": {
    "id": "bei23OgYKRh8"
   },
   "outputs": [],
   "source": [
    "# Section 1\n",
    "url_channels_p52_s01 = commom_path + \"sub-052/ses-01/eeg/sub-052_ses-01_task-SimonConflict_channels.tsv\"\n",
    "url_eletrodes_p52_s01 = commom_path + \"sub-052/ses-01/eeg/sub-052_ses-01_task-SimonConflict_electrodes.tsv\"\n",
    "url_events_p52_s01 = commom_path + \"sub-052/ses-01/eeg/sub-052_ses-01_task-SimonConflict_events.tsv\"\n",
    "\n",
    "channels_p52_s01 = pd.read_csv(url_channels_p52_s01, sep=\"\\t\")\n",
    "eletrodes_p52_s01 = pd.read_csv(url_eletrodes_p52_s01, sep=\"\\t\")\n",
    "events_p52_s01 = pd.read_csv(url_events_p52_s01, sep=\"\\t\")"
   ]
  },
  {
   "cell_type": "markdown",
   "metadata": {
    "id": "QNl8lEDtKRst"
   },
   "source": [
    "# Participant #53\n",
    "Number of sections: 1"
   ]
  },
  {
   "cell_type": "code",
   "execution_count": 144,
   "metadata": {
    "colab": {
     "base_uri": "https://localhost:8080/",
     "height": 80
    },
    "id": "sOaoJrhzfA1L",
    "outputId": "0a49b096-bebb-424c-d56c-7c2167691a73"
   },
   "outputs": [
    {
     "data": {
      "text/html": [
       "<div>\n",
       "<style scoped>\n",
       "    .dataframe tbody tr th:only-of-type {\n",
       "        vertical-align: middle;\n",
       "    }\n",
       "\n",
       "    .dataframe tbody tr th {\n",
       "        vertical-align: top;\n",
       "    }\n",
       "\n",
       "    .dataframe thead th {\n",
       "        text-align: right;\n",
       "    }\n",
       "</style>\n",
       "<table border=\"1\" class=\"dataframe\">\n",
       "  <thead>\n",
       "    <tr style=\"text-align: right;\">\n",
       "      <th></th>\n",
       "      <th>participant_id</th>\n",
       "      <th>Original_ID</th>\n",
       "      <th>Group</th>\n",
       "      <th>sess1_Med</th>\n",
       "      <th>sess2_Med</th>\n",
       "      <th>sex</th>\n",
       "      <th>age</th>\n",
       "    </tr>\n",
       "  </thead>\n",
       "  <tbody>\n",
       "    <tr>\n",
       "      <th>52</th>\n",
       "      <td>sub-053</td>\n",
       "      <td>911</td>\n",
       "      <td>0</td>\n",
       "      <td>NaN</td>\n",
       "      <td>no s2</td>\n",
       "      <td>1</td>\n",
       "      <td>73</td>\n",
       "    </tr>\n",
       "  </tbody>\n",
       "</table>\n",
       "</div>"
      ],
      "text/plain": [
       "   participant_id  Original_ID  Group sess1_Med sess2_Med  sex  age\n",
       "52        sub-053          911      0       NaN     no s2    1   73"
      ]
     },
     "execution_count": 144,
     "metadata": {},
     "output_type": "execute_result"
    }
   ],
   "source": [
    "# Participant data\n",
    "p53 = participants[participants['participant_id'] == 'sub-053']\n",
    "p53.head()"
   ]
  },
  {
   "cell_type": "code",
   "execution_count": 145,
   "metadata": {
    "id": "p6XPEEUuKRsu"
   },
   "outputs": [],
   "source": [
    "# Section 1\n",
    "url_channels_p53_s01 = commom_path + \"sub-053/ses-01/eeg/sub-053_ses-01_task-SimonConflict_channels.tsv\"\n",
    "url_eletrodes_p53_s01 = commom_path + \"sub-053/ses-01/eeg/sub-053_ses-01_task-SimonConflict_electrodes.tsv\"\n",
    "url_events_p53_s01 = commom_path + \"sub-053/ses-01/eeg/sub-053_ses-01_task-SimonConflict_events.tsv\"\n",
    "\n",
    "channels_p53_s01 = pd.read_csv(url_channels_p53_s01, sep=\"\\t\")\n",
    "eletrodes_p53_s01 = pd.read_csv(url_eletrodes_p53_s01, sep=\"\\t\")\n",
    "events_p53_s01 = pd.read_csv(url_events_p53_s01, sep=\"\\t\")"
   ]
  },
  {
   "cell_type": "markdown",
   "metadata": {
    "id": "HFZNUuSHKR1v"
   },
   "source": [
    "# Participant #54\n",
    "Number of sections: 1"
   ]
  },
  {
   "cell_type": "code",
   "execution_count": 146,
   "metadata": {
    "colab": {
     "base_uri": "https://localhost:8080/",
     "height": 80
    },
    "id": "genCe1u2fBMW",
    "outputId": "dd3c7c1d-6d2d-4111-b610-31e55f2c716b"
   },
   "outputs": [
    {
     "data": {
      "text/html": [
       "<div>\n",
       "<style scoped>\n",
       "    .dataframe tbody tr th:only-of-type {\n",
       "        vertical-align: middle;\n",
       "    }\n",
       "\n",
       "    .dataframe tbody tr th {\n",
       "        vertical-align: top;\n",
       "    }\n",
       "\n",
       "    .dataframe thead th {\n",
       "        text-align: right;\n",
       "    }\n",
       "</style>\n",
       "<table border=\"1\" class=\"dataframe\">\n",
       "  <thead>\n",
       "    <tr style=\"text-align: right;\">\n",
       "      <th></th>\n",
       "      <th>participant_id</th>\n",
       "      <th>Original_ID</th>\n",
       "      <th>Group</th>\n",
       "      <th>sess1_Med</th>\n",
       "      <th>sess2_Med</th>\n",
       "      <th>sex</th>\n",
       "      <th>age</th>\n",
       "    </tr>\n",
       "  </thead>\n",
       "  <tbody>\n",
       "    <tr>\n",
       "      <th>53</th>\n",
       "      <td>sub-054</td>\n",
       "      <td>912</td>\n",
       "      <td>0</td>\n",
       "      <td>NaN</td>\n",
       "      <td>no s2</td>\n",
       "      <td>1</td>\n",
       "      <td>75</td>\n",
       "    </tr>\n",
       "  </tbody>\n",
       "</table>\n",
       "</div>"
      ],
      "text/plain": [
       "   participant_id  Original_ID  Group sess1_Med sess2_Med  sex  age\n",
       "53        sub-054          912      0       NaN     no s2    1   75"
      ]
     },
     "execution_count": 146,
     "metadata": {},
     "output_type": "execute_result"
    }
   ],
   "source": [
    "# Participant data\n",
    "p54 = participants[participants['participant_id'] == 'sub-054']\n",
    "p54.head()"
   ]
  },
  {
   "cell_type": "code",
   "execution_count": 147,
   "metadata": {
    "id": "SrM6LNpmKR1w"
   },
   "outputs": [],
   "source": [
    "# Section 1\n",
    "url_channels_p54_s01 = commom_path + \"sub-054/ses-01/eeg/sub-054_ses-01_task-SimonConflict_channels.tsv\"\n",
    "url_eletrodes_p54_s01 = commom_path + \"sub-054/ses-01/eeg/sub-054_ses-01_task-SimonConflict_electrodes.tsv\"\n",
    "url_events_p54_s01 = commom_path + \"sub-054/ses-01/eeg/sub-054_ses-01_task-SimonConflict_events.tsv\"\n",
    "\n",
    "channels_p54_s01 = pd.read_csv(url_channels_p54_s01, sep=\"\\t\")\n",
    "eletrodes_p54_s01 = pd.read_csv(url_eletrodes_p54_s01, sep=\"\\t\")\n",
    "events_p54_s01 = pd.read_csv(url_events_p54_s01, sep=\"\\t\")"
   ]
  },
  {
   "cell_type": "markdown",
   "metadata": {
    "id": "wzLCm-OzKR_k"
   },
   "source": [
    "# Participant #55\n",
    "Number of sections: 1"
   ]
  },
  {
   "cell_type": "code",
   "execution_count": 148,
   "metadata": {
    "colab": {
     "base_uri": "https://localhost:8080/",
     "height": 80
    },
    "id": "-P0bkJngfBxq",
    "outputId": "f535962c-a6c4-4d64-b347-c1fd3051934c"
   },
   "outputs": [
    {
     "data": {
      "text/html": [
       "<div>\n",
       "<style scoped>\n",
       "    .dataframe tbody tr th:only-of-type {\n",
       "        vertical-align: middle;\n",
       "    }\n",
       "\n",
       "    .dataframe tbody tr th {\n",
       "        vertical-align: top;\n",
       "    }\n",
       "\n",
       "    .dataframe thead th {\n",
       "        text-align: right;\n",
       "    }\n",
       "</style>\n",
       "<table border=\"1\" class=\"dataframe\">\n",
       "  <thead>\n",
       "    <tr style=\"text-align: right;\">\n",
       "      <th></th>\n",
       "      <th>participant_id</th>\n",
       "      <th>Original_ID</th>\n",
       "      <th>Group</th>\n",
       "      <th>sess1_Med</th>\n",
       "      <th>sess2_Med</th>\n",
       "      <th>sex</th>\n",
       "      <th>age</th>\n",
       "    </tr>\n",
       "  </thead>\n",
       "  <tbody>\n",
       "    <tr>\n",
       "      <th>54</th>\n",
       "      <td>sub-055</td>\n",
       "      <td>913</td>\n",
       "      <td>0</td>\n",
       "      <td>NaN</td>\n",
       "      <td>no s2</td>\n",
       "      <td>1</td>\n",
       "      <td>69</td>\n",
       "    </tr>\n",
       "  </tbody>\n",
       "</table>\n",
       "</div>"
      ],
      "text/plain": [
       "   participant_id  Original_ID  Group sess1_Med sess2_Med  sex  age\n",
       "54        sub-055          913      0       NaN     no s2    1   69"
      ]
     },
     "execution_count": 148,
     "metadata": {},
     "output_type": "execute_result"
    }
   ],
   "source": [
    "# Participant data\n",
    "p55 = participants[participants['participant_id'] == 'sub-055']\n",
    "p55.head()"
   ]
  },
  {
   "cell_type": "code",
   "execution_count": 149,
   "metadata": {
    "id": "wzgKhhg3KR_k"
   },
   "outputs": [],
   "source": [
    "# Section 1\n",
    "url_channels_p55_s01 = commom_path + \"sub-055/ses-01/eeg/sub-055_ses-01_task-SimonConflict_channels.tsv\"\n",
    "url_eletrodes_p55_s01 = commom_path + \"sub-055/ses-01/eeg/sub-055_ses-01_task-SimonConflict_electrodes.tsv\"\n",
    "url_events_p55_s01 = commom_path + \"sub-055/ses-01/eeg/sub-055_ses-01_task-SimonConflict_events.tsv\"\n",
    "\n",
    "channels_p55_s01 = pd.read_csv(url_channels_p55_s01, sep=\"\\t\")\n",
    "eletrodes_p55_s01 = pd.read_csv(url_eletrodes_p55_s01, sep=\"\\t\")\n",
    "events_p55_s01 = pd.read_csv(url_events_p55_s01, sep=\"\\t\")"
   ]
  },
  {
   "cell_type": "markdown",
   "metadata": {
    "id": "_T6AJ1fKa-wU"
   },
   "source": [
    "# Participant #56\n",
    "Number of sections: 1"
   ]
  },
  {
   "cell_type": "code",
   "execution_count": 150,
   "metadata": {
    "colab": {
     "base_uri": "https://localhost:8080/",
     "height": 80
    },
    "id": "qhsg6QQmfCSk",
    "outputId": "41ed0294-d0f9-47c4-debb-19d237c933fd"
   },
   "outputs": [
    {
     "data": {
      "text/html": [
       "<div>\n",
       "<style scoped>\n",
       "    .dataframe tbody tr th:only-of-type {\n",
       "        vertical-align: middle;\n",
       "    }\n",
       "\n",
       "    .dataframe tbody tr th {\n",
       "        vertical-align: top;\n",
       "    }\n",
       "\n",
       "    .dataframe thead th {\n",
       "        text-align: right;\n",
       "    }\n",
       "</style>\n",
       "<table border=\"1\" class=\"dataframe\">\n",
       "  <thead>\n",
       "    <tr style=\"text-align: right;\">\n",
       "      <th></th>\n",
       "      <th>participant_id</th>\n",
       "      <th>Original_ID</th>\n",
       "      <th>Group</th>\n",
       "      <th>sess1_Med</th>\n",
       "      <th>sess2_Med</th>\n",
       "      <th>sex</th>\n",
       "      <th>age</th>\n",
       "    </tr>\n",
       "  </thead>\n",
       "  <tbody>\n",
       "    <tr>\n",
       "      <th>55</th>\n",
       "      <td>sub-056</td>\n",
       "      <td>914</td>\n",
       "      <td>0</td>\n",
       "      <td>NaN</td>\n",
       "      <td>no s2</td>\n",
       "      <td>0</td>\n",
       "      <td>48</td>\n",
       "    </tr>\n",
       "  </tbody>\n",
       "</table>\n",
       "</div>"
      ],
      "text/plain": [
       "   participant_id  Original_ID  Group sess1_Med sess2_Med  sex  age\n",
       "55        sub-056          914      0       NaN     no s2    0   48"
      ]
     },
     "execution_count": 150,
     "metadata": {},
     "output_type": "execute_result"
    }
   ],
   "source": [
    "# Participant data\n",
    "p56 = participants[participants['participant_id'] == 'sub-056']\n",
    "p56.head()"
   ]
  },
  {
   "cell_type": "code",
   "execution_count": 151,
   "metadata": {
    "id": "5b4jin14a-wX"
   },
   "outputs": [],
   "source": [
    "# Section 1\n",
    "url_channels_p56_s01 = commom_path + \"sub-056/ses-01/eeg/sub-056_ses-01_task-SimonConflict_channels.tsv\"\n",
    "url_eletrodes_p56_s01 = commom_path + \"sub-056/ses-01/eeg/sub-056_ses-01_task-SimonConflict_electrodes.tsv\"\n",
    "url_events_p56_s01 = commom_path + \"sub-056/ses-01/eeg/sub-056_ses-01_task-SimonConflict_events.tsv\"\n",
    "\n",
    "channels_p56_s01 = pd.read_csv(url_channels_p56_s01, sep=\"\\t\")\n",
    "eletrodes_p56_s01 = pd.read_csv(url_eletrodes_p56_s01, sep=\"\\t\")\n",
    "events_p56_s01 = pd.read_csv(url_events_p56_s01, sep=\"\\t\")"
   ]
  }
 ],
 "metadata": {
  "colab": {
   "collapsed_sections": [],
   "name": "Entrega-02.ipynb",
   "provenance": []
  },
  "kernelspec": {
   "display_name": "Python 3",
   "language": "python",
   "name": "python3"
  },
  "language_info": {
   "codemirror_mode": {
    "name": "ipython",
    "version": 3
   },
   "file_extension": ".py",
   "mimetype": "text/x-python",
   "name": "python",
   "nbconvert_exporter": "python",
   "pygments_lexer": "ipython3",
   "version": "3.7.9"
  }
 },
 "nbformat": 4,
 "nbformat_minor": 1
}
