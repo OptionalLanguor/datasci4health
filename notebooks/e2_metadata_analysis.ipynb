{
  "nbformat": 4,
  "nbformat_minor": 0,
  "metadata": {
    "colab": {
      "name": "e2_metadata_analysis.ipynb",
      "provenance": [],
      "collapsed_sections": []
    },
    "kernelspec": {
      "display_name": "Python 3",
      "language": "python",
      "name": "python3"
    },
    "language_info": {
      "codemirror_mode": {
        "name": "ipython",
        "version": 3
      },
      "file_extension": ".py",
      "mimetype": "text/x-python",
      "name": "python",
      "nbconvert_exporter": "python",
      "pygments_lexer": "ipython3",
      "version": "3.7.9"
    }
  },
  "cells": [
    {
      "cell_type": "markdown",
      "metadata": {
        "id": "KLSKmBpPaU90"
      },
      "source": [
        "# **Data Science for Health**\n",
        "\n",
        "## Project Activity - E2 - Exploratory Data Analysis"
      ]
    },
    {
      "cell_type": "markdown",
      "metadata": {
        "id": "BMq4xJyR4UDa"
      },
      "source": [
        "---\n",
        "\n",
        "Group Members and RA:\n",
        "\n",
        "Alessandro Welbi Domingues Junior   263535\n",
        "\n",
        "Felipe Augusto Oliveira dos Santos  233292\n",
        "\n",
        "Felipe Marinho Tavares              265680\n",
        "\n",
        "Thiago Machado da Cunha             231357\n",
        "\n",
        "---"
      ]
    },
    {
      "cell_type": "markdown",
      "metadata": {
        "id": "Q4w42K0u4UDa"
      },
      "source": [
        "About the *dataset*:\n",
        "\n",
        ">The dataset consists in Simon conflict task with cost of conflict reinforcement manipulation where 28 Parkinson patients and 28 matched controls were studied. PD came in twice separated by a week, either ON or OFF medication. CTL only came in once.  The data was collected in 2015 at Cognitive Rhythms and Computation Lab at University of New Mexico.  Patients also had an acceleromter taped to their most tremor affected hand.  X, Y, Z dimensions recorded throughout.\n",
        "\n",
        "\n",
        "*About EEG Channels*:\n",
        "\n",
        ">An electrode capturing brainwave activity is called an EEG channel. Typical EEG systems can have as few as a single channel to as many as 256 channels. Electrode placement on the head adheres to a formal standard called the 10/20 system or International 10/20 system. This system uses the distance from the bridge of the nose (the nasion) to the lowest point of the skull from the back of the head (normally indicated by a prominent bump—the inion) as a reference distance for a given person’s head size. The electrodes are then separated from each other either by 10% or 20% of this reference distance "
      ]
    },
    {
      "cell_type": "markdown",
      "metadata": {
        "id": "zJxCIHF44UDc"
      },
      "source": [
        "Out of the total 84 recordings from the dataset, 56 have metadata with information about sex and age."
      ]
    },
    {
      "cell_type": "code",
      "metadata": {
        "id": "0-iJt-HNbkoz"
      },
      "source": [
        "import pandas as pd\n",
        "import matplotlib.pyplot as plt"
      ],
      "execution_count": null,
      "outputs": []
    },
    {
      "cell_type": "markdown",
      "metadata": {
        "id": "FR4KTvftbt7C"
      },
      "source": [
        "# Importing Participants dataset"
      ]
    },
    {
      "cell_type": "code",
      "metadata": {
        "colab": {
          "base_uri": "https://localhost:8080/",
          "height": 202
        },
        "id": "dsi3d-RMbub9",
        "outputId": "1c7eb28b-9e3f-4929-8fdf-c9c3218741f1"
      },
      "source": [
        "commom_path = \"https://raw.githubusercontent.com/OptionalLanguor/datasci4health/master/data/external/eeglab_dataset/\"\n",
        "participants_file = \"participants.tsv\"\n",
        "\n",
        "url_participants = commom_path + participants_file\n",
        "participants = pd.read_csv(url_participants, sep=\"\\t\")\n",
        "\n",
        "participants.head()"
      ],
      "execution_count": 256,
      "outputs": [
        {
          "output_type": "execute_result",
          "data": {
            "text/html": [
              "<div>\n",
              "<style scoped>\n",
              "    .dataframe tbody tr th:only-of-type {\n",
              "        vertical-align: middle;\n",
              "    }\n",
              "\n",
              "    .dataframe tbody tr th {\n",
              "        vertical-align: top;\n",
              "    }\n",
              "\n",
              "    .dataframe thead th {\n",
              "        text-align: right;\n",
              "    }\n",
              "</style>\n",
              "<table border=\"1\" class=\"dataframe\">\n",
              "  <thead>\n",
              "    <tr style=\"text-align: right;\">\n",
              "      <th></th>\n",
              "      <th>participant_id</th>\n",
              "      <th>Original_ID</th>\n",
              "      <th>Group</th>\n",
              "      <th>sess1_Med</th>\n",
              "      <th>sess2_Med</th>\n",
              "      <th>sex</th>\n",
              "      <th>age</th>\n",
              "    </tr>\n",
              "  </thead>\n",
              "  <tbody>\n",
              "    <tr>\n",
              "      <th>0</th>\n",
              "      <td>sub-001</td>\n",
              "      <td>8010</td>\n",
              "      <td>CTL</td>\n",
              "      <td>NaN</td>\n",
              "      <td>no s2</td>\n",
              "      <td>Female</td>\n",
              "      <td>61</td>\n",
              "    </tr>\n",
              "    <tr>\n",
              "      <th>1</th>\n",
              "      <td>sub-002</td>\n",
              "      <td>801</td>\n",
              "      <td>PD</td>\n",
              "      <td>ON</td>\n",
              "      <td>OFF</td>\n",
              "      <td>Female</td>\n",
              "      <td>60</td>\n",
              "    </tr>\n",
              "    <tr>\n",
              "      <th>2</th>\n",
              "      <td>sub-003</td>\n",
              "      <td>802</td>\n",
              "      <td>PD</td>\n",
              "      <td>OFF</td>\n",
              "      <td>ON</td>\n",
              "      <td>Male</td>\n",
              "      <td>75</td>\n",
              "    </tr>\n",
              "    <tr>\n",
              "      <th>3</th>\n",
              "      <td>sub-004</td>\n",
              "      <td>803</td>\n",
              "      <td>PD</td>\n",
              "      <td>OFF</td>\n",
              "      <td>ON</td>\n",
              "      <td>Female</td>\n",
              "      <td>76</td>\n",
              "    </tr>\n",
              "    <tr>\n",
              "      <th>4</th>\n",
              "      <td>sub-005</td>\n",
              "      <td>804</td>\n",
              "      <td>PD</td>\n",
              "      <td>ON</td>\n",
              "      <td>OFF</td>\n",
              "      <td>Male</td>\n",
              "      <td>75</td>\n",
              "    </tr>\n",
              "  </tbody>\n",
              "</table>\n",
              "</div>"
            ],
            "text/plain": [
              "  participant_id  Original_ID Group sess1_Med sess2_Med     sex  age\n",
              "0        sub-001         8010   CTL       NaN     no s2  Female   61\n",
              "1        sub-002          801    PD        ON       OFF  Female   60\n",
              "2        sub-003          802    PD       OFF        ON    Male   75\n",
              "3        sub-004          803    PD       OFF        ON  Female   76\n",
              "4        sub-005          804    PD        ON       OFF    Male   75"
            ]
          },
          "metadata": {
            "tags": []
          },
          "execution_count": 256
        }
      ]
    },
    {
      "cell_type": "markdown",
      "metadata": {
        "id": "zVzGb9p381vi"
      },
      "source": [
        "## Replacing sex values\n",
        "Female: 0\n",
        "Male: 1\n"
      ]
    },
    {
      "cell_type": "code",
      "metadata": {
        "colab": {
          "base_uri": "https://localhost:8080/",
          "height": 202
        },
        "id": "0kmE_dcH5oF1",
        "outputId": "0bc811aa-135f-4374-c6e9-2e1083cc4c97"
      },
      "source": [
        "participants['sex'] = participants['sex'].replace(['Female'], 0)\n",
        "participants['sex'] = participants['sex'].replace(['Male'], 1)\n",
        "\n",
        "participants.head()"
      ],
      "execution_count": 258,
      "outputs": [
        {
          "output_type": "execute_result",
          "data": {
            "text/html": [
              "<div>\n",
              "<style scoped>\n",
              "    .dataframe tbody tr th:only-of-type {\n",
              "        vertical-align: middle;\n",
              "    }\n",
              "\n",
              "    .dataframe tbody tr th {\n",
              "        vertical-align: top;\n",
              "    }\n",
              "\n",
              "    .dataframe thead th {\n",
              "        text-align: right;\n",
              "    }\n",
              "</style>\n",
              "<table border=\"1\" class=\"dataframe\">\n",
              "  <thead>\n",
              "    <tr style=\"text-align: right;\">\n",
              "      <th></th>\n",
              "      <th>participant_id</th>\n",
              "      <th>Original_ID</th>\n",
              "      <th>Group</th>\n",
              "      <th>sess1_Med</th>\n",
              "      <th>sess2_Med</th>\n",
              "      <th>sex</th>\n",
              "      <th>age</th>\n",
              "    </tr>\n",
              "  </thead>\n",
              "  <tbody>\n",
              "    <tr>\n",
              "      <th>0</th>\n",
              "      <td>sub-001</td>\n",
              "      <td>8010</td>\n",
              "      <td>CTL</td>\n",
              "      <td>NaN</td>\n",
              "      <td>no s2</td>\n",
              "      <td>0</td>\n",
              "      <td>61</td>\n",
              "    </tr>\n",
              "    <tr>\n",
              "      <th>1</th>\n",
              "      <td>sub-002</td>\n",
              "      <td>801</td>\n",
              "      <td>PD</td>\n",
              "      <td>ON</td>\n",
              "      <td>OFF</td>\n",
              "      <td>0</td>\n",
              "      <td>60</td>\n",
              "    </tr>\n",
              "    <tr>\n",
              "      <th>2</th>\n",
              "      <td>sub-003</td>\n",
              "      <td>802</td>\n",
              "      <td>PD</td>\n",
              "      <td>OFF</td>\n",
              "      <td>ON</td>\n",
              "      <td>1</td>\n",
              "      <td>75</td>\n",
              "    </tr>\n",
              "    <tr>\n",
              "      <th>3</th>\n",
              "      <td>sub-004</td>\n",
              "      <td>803</td>\n",
              "      <td>PD</td>\n",
              "      <td>OFF</td>\n",
              "      <td>ON</td>\n",
              "      <td>0</td>\n",
              "      <td>76</td>\n",
              "    </tr>\n",
              "    <tr>\n",
              "      <th>4</th>\n",
              "      <td>sub-005</td>\n",
              "      <td>804</td>\n",
              "      <td>PD</td>\n",
              "      <td>ON</td>\n",
              "      <td>OFF</td>\n",
              "      <td>1</td>\n",
              "      <td>75</td>\n",
              "    </tr>\n",
              "  </tbody>\n",
              "</table>\n",
              "</div>"
            ],
            "text/plain": [
              "  participant_id  Original_ID Group sess1_Med sess2_Med  sex  age\n",
              "0        sub-001         8010   CTL       NaN     no s2    0   61\n",
              "1        sub-002          801    PD        ON       OFF    0   60\n",
              "2        sub-003          802    PD       OFF        ON    1   75\n",
              "3        sub-004          803    PD       OFF        ON    0   76\n",
              "4        sub-005          804    PD        ON       OFF    1   75"
            ]
          },
          "metadata": {
            "tags": []
          },
          "execution_count": 258
        }
      ]
    },
    {
      "cell_type": "markdown",
      "metadata": {
        "id": "jKW580yPB6E0"
      },
      "source": [
        "## Replacing group values\n",
        "CTL: 0\n",
        "PD: 1"
      ]
    },
    {
      "cell_type": "code",
      "metadata": {
        "colab": {
          "base_uri": "https://localhost:8080/",
          "height": 202
        },
        "id": "2QijNL7GCClL",
        "outputId": "b35e615f-22dd-4ea8-b6e2-446214ce9ec1"
      },
      "source": [
        "participants['Group'] = participants['Group'].replace(['CTL'], 0)\n",
        "participants['Group'] = participants['Group'].replace(['PD'], 1)\n",
        "\n",
        "participants.head()"
      ],
      "execution_count": 259,
      "outputs": [
        {
          "output_type": "execute_result",
          "data": {
            "text/html": [
              "<div>\n",
              "<style scoped>\n",
              "    .dataframe tbody tr th:only-of-type {\n",
              "        vertical-align: middle;\n",
              "    }\n",
              "\n",
              "    .dataframe tbody tr th {\n",
              "        vertical-align: top;\n",
              "    }\n",
              "\n",
              "    .dataframe thead th {\n",
              "        text-align: right;\n",
              "    }\n",
              "</style>\n",
              "<table border=\"1\" class=\"dataframe\">\n",
              "  <thead>\n",
              "    <tr style=\"text-align: right;\">\n",
              "      <th></th>\n",
              "      <th>participant_id</th>\n",
              "      <th>Original_ID</th>\n",
              "      <th>Group</th>\n",
              "      <th>sess1_Med</th>\n",
              "      <th>sess2_Med</th>\n",
              "      <th>sex</th>\n",
              "      <th>age</th>\n",
              "    </tr>\n",
              "  </thead>\n",
              "  <tbody>\n",
              "    <tr>\n",
              "      <th>0</th>\n",
              "      <td>sub-001</td>\n",
              "      <td>8010</td>\n",
              "      <td>0</td>\n",
              "      <td>NaN</td>\n",
              "      <td>no s2</td>\n",
              "      <td>0</td>\n",
              "      <td>61</td>\n",
              "    </tr>\n",
              "    <tr>\n",
              "      <th>1</th>\n",
              "      <td>sub-002</td>\n",
              "      <td>801</td>\n",
              "      <td>1</td>\n",
              "      <td>ON</td>\n",
              "      <td>OFF</td>\n",
              "      <td>0</td>\n",
              "      <td>60</td>\n",
              "    </tr>\n",
              "    <tr>\n",
              "      <th>2</th>\n",
              "      <td>sub-003</td>\n",
              "      <td>802</td>\n",
              "      <td>1</td>\n",
              "      <td>OFF</td>\n",
              "      <td>ON</td>\n",
              "      <td>1</td>\n",
              "      <td>75</td>\n",
              "    </tr>\n",
              "    <tr>\n",
              "      <th>3</th>\n",
              "      <td>sub-004</td>\n",
              "      <td>803</td>\n",
              "      <td>1</td>\n",
              "      <td>OFF</td>\n",
              "      <td>ON</td>\n",
              "      <td>0</td>\n",
              "      <td>76</td>\n",
              "    </tr>\n",
              "    <tr>\n",
              "      <th>4</th>\n",
              "      <td>sub-005</td>\n",
              "      <td>804</td>\n",
              "      <td>1</td>\n",
              "      <td>ON</td>\n",
              "      <td>OFF</td>\n",
              "      <td>1</td>\n",
              "      <td>75</td>\n",
              "    </tr>\n",
              "  </tbody>\n",
              "</table>\n",
              "</div>"
            ],
            "text/plain": [
              "  participant_id  Original_ID  Group sess1_Med sess2_Med  sex  age\n",
              "0        sub-001         8010      0       NaN     no s2    0   61\n",
              "1        sub-002          801      1        ON       OFF    0   60\n",
              "2        sub-003          802      1       OFF        ON    1   75\n",
              "3        sub-004          803      1       OFF        ON    0   76\n",
              "4        sub-005          804      1        ON       OFF    1   75"
            ]
          },
          "metadata": {
            "tags": []
          },
          "execution_count": 259
        }
      ]
    },
    {
      "cell_type": "markdown",
      "metadata": {
        "id": "qe3NNB5w4ezN"
      },
      "source": [
        "# Replacing sessions information data:\n",
        "\n",
        "*   OFF   (No medication) -> 0 \n",
        "*   ON    (W/ medication) -> 1\n",
        "*   NaN   (No apply)      -> 9\n",
        "*   no s1 (No session 1)  -> 99\n",
        "*   no s2 (No session 2)  -> 99\n"
      ]
    },
    {
      "cell_type": "code",
      "metadata": {
        "colab": {
          "base_uri": "https://localhost:8080/",
          "height": 202
        },
        "id": "Tf0nQTVc4gWQ",
        "outputId": "29a6eb73-80f4-4113-d7bd-bc1a62bcc9a4"
      },
      "source": [
        "participants['sess1_Med'] = participants['sess1_Med'].replace(['OFF'], 0)\n",
        "participants['sess2_Med'] = participants['sess2_Med'].replace(['OFF'], 0)\n",
        "\n",
        "participants['sess1_Med'] = participants['sess1_Med'].replace(['ON'], 1)\n",
        "participants['sess2_Med'] = participants['sess2_Med'].replace(['ON'], 1)\n",
        "\n",
        "participants['sess1_Med'] = participants['sess1_Med'].fillna(9)\n",
        "participants['sess2_Med'] = participants['sess2_Med'].fillna(9)\n",
        "\n",
        "participants['sess1_Med'] = participants['sess1_Med'].replace(['no s1'], 99)\n",
        "participants['sess2_Med'] = participants['sess2_Med'].replace(['no s2'], 99)\n",
        "\n",
        "participants.head()"
      ],
      "execution_count": 260,
      "outputs": [
        {
          "output_type": "execute_result",
          "data": {
            "text/html": [
              "<div>\n",
              "<style scoped>\n",
              "    .dataframe tbody tr th:only-of-type {\n",
              "        vertical-align: middle;\n",
              "    }\n",
              "\n",
              "    .dataframe tbody tr th {\n",
              "        vertical-align: top;\n",
              "    }\n",
              "\n",
              "    .dataframe thead th {\n",
              "        text-align: right;\n",
              "    }\n",
              "</style>\n",
              "<table border=\"1\" class=\"dataframe\">\n",
              "  <thead>\n",
              "    <tr style=\"text-align: right;\">\n",
              "      <th></th>\n",
              "      <th>participant_id</th>\n",
              "      <th>Original_ID</th>\n",
              "      <th>Group</th>\n",
              "      <th>sess1_Med</th>\n",
              "      <th>sess2_Med</th>\n",
              "      <th>sex</th>\n",
              "      <th>age</th>\n",
              "    </tr>\n",
              "  </thead>\n",
              "  <tbody>\n",
              "    <tr>\n",
              "      <th>0</th>\n",
              "      <td>sub-001</td>\n",
              "      <td>8010</td>\n",
              "      <td>0</td>\n",
              "      <td>9.0</td>\n",
              "      <td>99</td>\n",
              "      <td>0</td>\n",
              "      <td>61</td>\n",
              "    </tr>\n",
              "    <tr>\n",
              "      <th>1</th>\n",
              "      <td>sub-002</td>\n",
              "      <td>801</td>\n",
              "      <td>1</td>\n",
              "      <td>1.0</td>\n",
              "      <td>0</td>\n",
              "      <td>0</td>\n",
              "      <td>60</td>\n",
              "    </tr>\n",
              "    <tr>\n",
              "      <th>2</th>\n",
              "      <td>sub-003</td>\n",
              "      <td>802</td>\n",
              "      <td>1</td>\n",
              "      <td>0.0</td>\n",
              "      <td>1</td>\n",
              "      <td>1</td>\n",
              "      <td>75</td>\n",
              "    </tr>\n",
              "    <tr>\n",
              "      <th>3</th>\n",
              "      <td>sub-004</td>\n",
              "      <td>803</td>\n",
              "      <td>1</td>\n",
              "      <td>0.0</td>\n",
              "      <td>1</td>\n",
              "      <td>0</td>\n",
              "      <td>76</td>\n",
              "    </tr>\n",
              "    <tr>\n",
              "      <th>4</th>\n",
              "      <td>sub-005</td>\n",
              "      <td>804</td>\n",
              "      <td>1</td>\n",
              "      <td>1.0</td>\n",
              "      <td>0</td>\n",
              "      <td>1</td>\n",
              "      <td>75</td>\n",
              "    </tr>\n",
              "  </tbody>\n",
              "</table>\n",
              "</div>"
            ],
            "text/plain": [
              "  participant_id  Original_ID  Group  sess1_Med  sess2_Med  sex  age\n",
              "0        sub-001         8010      0        9.0         99    0   61\n",
              "1        sub-002          801      1        1.0          0    0   60\n",
              "2        sub-003          802      1        0.0          1    1   75\n",
              "3        sub-004          803      1        0.0          1    0   76\n",
              "4        sub-005          804      1        1.0          0    1   75"
            ]
          },
          "metadata": {
            "tags": []
          },
          "execution_count": 260
        }
      ]
    },
    {
      "cell_type": "markdown",
      "metadata": {
        "id": "D8ahzTDY4y-O"
      },
      "source": [
        "# Blank dataframe for bandpower dataset"
      ]
    },
    {
      "cell_type": "code",
      "metadata": {
        "id": "JGllEDKU3Sl-"
      },
      "source": [
        "bp_dataset = {\"abs_bp_delta_Cz_s01\":[], \"abs_bp_tetha_Cz_s01\":[], \"abs_bp_alpha_Cz_s01\":[], \"abs_bp_beta_Cz_s01\":[], \"abs_bp_gama_Cz_s01\":[], \"abs_bp_delta_Cz_s02\":[], \"abs_bp_tetha_Cz_s02\":[], \"abs_bp_alpha_Cz_s02\":[], \"abs_bp_beta_Cz_s02\":[], \"abs_bp_gama_Cz_s02\":[],}"
      ],
      "execution_count": 246,
      "outputs": []
    },
    {
      "cell_type": "markdown",
      "metadata": {
        "id": "-8ST1GfJ4OdP"
      },
      "source": [
        "# Import band power dataset"
      ]
    },
    {
      "cell_type": "code",
      "metadata": {
        "id": "CuGe5vKv4Rnc"
      },
      "source": [
        "band_power_path = \"https://raw.githubusercontent.com/OptionalLanguor/datasci4health/dev/data/bandpower/Cz_Fz_Pz_Oz_bandPowers.csv\"\n",
        "df_bp = pd.read_csv(band_power_path)\n",
        "\n",
        "df_bp[[\"absolute_bp\", \"relative_bp\"]] = df_bp[[\"absolute_bp\", \"relative_bp\"]].apply(pd.to_numeric)\n"
      ],
      "execution_count": 271,
      "outputs": []
    },
    {
      "cell_type": "code",
      "metadata": {
        "id": "EkZfyc0EZ93J"
      },
      "source": [
        "bp_dataset = {\"abs_bp_delta_Cz_s01\":[], \"abs_bp_tetha_Cz_s01\":[], \"abs_bp_alpha_Cz_s01\":[], \"abs_bp_beta_Cz_s01\":[], \"abs_bp_gama_Cz_s01\":[], \"abs_bp_delta_Cz_s02\":[], \"abs_bp_tetha_Cz_s02\":[], \"abs_bp_alpha_Cz_s02\":[], \"abs_bp_beta_Cz_s02\":[], \"abs_bp_gama_Cz_s02\":[],}"
      ],
      "execution_count": 272,
      "outputs": []
    },
    {
      "cell_type": "markdown",
      "metadata": {
        "id": "5I3DGV72cCaM"
      },
      "source": [
        "# Extracting Absolute Band Power from channel Cz into new Dataset"
      ]
    },
    {
      "cell_type": "code",
      "metadata": {
        "colab": {
          "base_uri": "https://localhost:8080/",
          "height": 222
        },
        "id": "34qDov6eEtO2",
        "outputId": "d4b1fb62-ef37-46fd-96c2-381c6d98e49a"
      },
      "source": [
        "channels = [\"delta\", \"tetha\", \"alpha\", \"beta\", \"gama\"]\n",
        "eletrode = \"Cz\"\n",
        "channels_count = 0\n",
        "participants_count = 1\n",
        "\n",
        "while channels_count < len(channels):\n",
        "  col = \"abs_bp_\" + channels[channels_count] + \"_\" + eletrode + \"_s01\"\n",
        "  # print(col)\n",
        "  temp_df = df_bp[(df_bp[\"freq_act\"] == channels[channels_count]) & (df_bp[\"sub\"] == participants_count) & (df_bp[\"ses\"] == 1) & (df_bp[\"channel\"] == \"Cz\")]\n",
        "  \n",
        "  if len(temp_df['absolute_bp'].values) == 1:\n",
        "    bp_dataset[col].append(temp_df[\"absolute_bp\"].values[0])\n",
        "\n",
        "  col = \"abs_bp_\" + channels[channels_count] + \"_\" + eletrode + \"_s02\"\n",
        "  try:\n",
        "    if len(temp_df['absolute_bp'].values) == 1:\n",
        "      temp_df = df_bp[(df_bp[\"freq_act\"] == channels[channels_count]) & (df_bp[\"sub\"] == participants_count) & (df_bp[\"ses\"] == 2) & (df_bp[\"channel\"] == \"Cz\")]\n",
        "\n",
        "      bp_dataset[col].append(temp_df[\"absolute_bp\"].values[0])\n",
        "\n",
        "  except:\n",
        "    bp_dataset[col].append(0.0)\n",
        "\n",
        "  participants_count += 1\n",
        "\n",
        "  if participants_count > 56:\n",
        "    participants_count = 0\n",
        "    channels_count += 1\n",
        "\n",
        "\n",
        "df_abs_bp = pd.DataFrame(data=bp_dataset)\n",
        "df_abs_bp.head()"
      ],
      "execution_count": 273,
      "outputs": [
        {
          "output_type": "execute_result",
          "data": {
            "text/html": [
              "<div>\n",
              "<style scoped>\n",
              "    .dataframe tbody tr th:only-of-type {\n",
              "        vertical-align: middle;\n",
              "    }\n",
              "\n",
              "    .dataframe tbody tr th {\n",
              "        vertical-align: top;\n",
              "    }\n",
              "\n",
              "    .dataframe thead th {\n",
              "        text-align: right;\n",
              "    }\n",
              "</style>\n",
              "<table border=\"1\" class=\"dataframe\">\n",
              "  <thead>\n",
              "    <tr style=\"text-align: right;\">\n",
              "      <th></th>\n",
              "      <th>abs_bp_delta_Cz_s01</th>\n",
              "      <th>abs_bp_tetha_Cz_s01</th>\n",
              "      <th>abs_bp_alpha_Cz_s01</th>\n",
              "      <th>abs_bp_beta_Cz_s01</th>\n",
              "      <th>abs_bp_gama_Cz_s01</th>\n",
              "      <th>abs_bp_delta_Cz_s02</th>\n",
              "      <th>abs_bp_tetha_Cz_s02</th>\n",
              "      <th>abs_bp_alpha_Cz_s02</th>\n",
              "      <th>abs_bp_beta_Cz_s02</th>\n",
              "      <th>abs_bp_gama_Cz_s02</th>\n",
              "    </tr>\n",
              "  </thead>\n",
              "  <tbody>\n",
              "    <tr>\n",
              "      <th>0</th>\n",
              "      <td>7.482034</td>\n",
              "      <td>1.626394</td>\n",
              "      <td>0.999210</td>\n",
              "      <td>1.867909</td>\n",
              "      <td>1.966724</td>\n",
              "      <td>0.000000</td>\n",
              "      <td>0.000000</td>\n",
              "      <td>0.000000</td>\n",
              "      <td>0.000000</td>\n",
              "      <td>0.000000</td>\n",
              "    </tr>\n",
              "    <tr>\n",
              "      <th>1</th>\n",
              "      <td>8.416555</td>\n",
              "      <td>0.965854</td>\n",
              "      <td>0.608626</td>\n",
              "      <td>0.644891</td>\n",
              "      <td>1.414223</td>\n",
              "      <td>2.812140</td>\n",
              "      <td>0.558671</td>\n",
              "      <td>0.411411</td>\n",
              "      <td>0.542121</td>\n",
              "      <td>0.701214</td>\n",
              "    </tr>\n",
              "    <tr>\n",
              "      <th>2</th>\n",
              "      <td>22.694244</td>\n",
              "      <td>8.198214</td>\n",
              "      <td>4.478288</td>\n",
              "      <td>5.350492</td>\n",
              "      <td>4.680256</td>\n",
              "      <td>11.598456</td>\n",
              "      <td>7.757655</td>\n",
              "      <td>4.200623</td>\n",
              "      <td>4.093037</td>\n",
              "      <td>2.542612</td>\n",
              "    </tr>\n",
              "    <tr>\n",
              "      <th>3</th>\n",
              "      <td>0.043266</td>\n",
              "      <td>0.030379</td>\n",
              "      <td>0.028278</td>\n",
              "      <td>0.082001</td>\n",
              "      <td>0.438553</td>\n",
              "      <td>10.759656</td>\n",
              "      <td>2.653185</td>\n",
              "      <td>1.995567</td>\n",
              "      <td>2.893754</td>\n",
              "      <td>2.727181</td>\n",
              "    </tr>\n",
              "    <tr>\n",
              "      <th>4</th>\n",
              "      <td>3.823136</td>\n",
              "      <td>0.630612</td>\n",
              "      <td>0.297879</td>\n",
              "      <td>0.464629</td>\n",
              "      <td>1.287740</td>\n",
              "      <td>7.021244</td>\n",
              "      <td>1.046744</td>\n",
              "      <td>0.411496</td>\n",
              "      <td>0.483105</td>\n",
              "      <td>1.481388</td>\n",
              "    </tr>\n",
              "  </tbody>\n",
              "</table>\n",
              "</div>"
            ],
            "text/plain": [
              "   abs_bp_delta_Cz_s01  ...  abs_bp_gama_Cz_s02\n",
              "0             7.482034  ...            0.000000\n",
              "1             8.416555  ...            0.701214\n",
              "2            22.694244  ...            2.542612\n",
              "3             0.043266  ...            2.727181\n",
              "4             3.823136  ...            1.481388\n",
              "\n",
              "[5 rows x 10 columns]"
            ]
          },
          "metadata": {
            "tags": []
          },
          "execution_count": 273
        }
      ]
    },
    {
      "cell_type": "markdown",
      "metadata": {
        "id": "K6keDr3dgLaa"
      },
      "source": [
        "## Merge datasets Participants com Absolut band Power"
      ]
    },
    {
      "cell_type": "code",
      "metadata": {
        "colab": {
          "base_uri": "https://localhost:8080/",
          "height": 222
        },
        "id": "aemZU7u9gQU7",
        "outputId": "18fdfead-2e47-4cc4-8614-672c7035aa90"
      },
      "source": [
        "result = pd.concat([participants, df_abs_bp], axis=1)\n",
        "\n",
        "result = result.drop(['Original_ID'], axis=1)\n",
        "result.head()"
      ],
      "execution_count": 274,
      "outputs": [
        {
          "output_type": "execute_result",
          "data": {
            "text/html": [
              "<div>\n",
              "<style scoped>\n",
              "    .dataframe tbody tr th:only-of-type {\n",
              "        vertical-align: middle;\n",
              "    }\n",
              "\n",
              "    .dataframe tbody tr th {\n",
              "        vertical-align: top;\n",
              "    }\n",
              "\n",
              "    .dataframe thead th {\n",
              "        text-align: right;\n",
              "    }\n",
              "</style>\n",
              "<table border=\"1\" class=\"dataframe\">\n",
              "  <thead>\n",
              "    <tr style=\"text-align: right;\">\n",
              "      <th></th>\n",
              "      <th>participant_id</th>\n",
              "      <th>Group</th>\n",
              "      <th>sess1_Med</th>\n",
              "      <th>sess2_Med</th>\n",
              "      <th>sex</th>\n",
              "      <th>age</th>\n",
              "      <th>abs_bp_delta_Cz_s01</th>\n",
              "      <th>abs_bp_tetha_Cz_s01</th>\n",
              "      <th>abs_bp_alpha_Cz_s01</th>\n",
              "      <th>abs_bp_beta_Cz_s01</th>\n",
              "      <th>abs_bp_gama_Cz_s01</th>\n",
              "      <th>abs_bp_delta_Cz_s02</th>\n",
              "      <th>abs_bp_tetha_Cz_s02</th>\n",
              "      <th>abs_bp_alpha_Cz_s02</th>\n",
              "      <th>abs_bp_beta_Cz_s02</th>\n",
              "      <th>abs_bp_gama_Cz_s02</th>\n",
              "    </tr>\n",
              "  </thead>\n",
              "  <tbody>\n",
              "    <tr>\n",
              "      <th>0</th>\n",
              "      <td>sub-001</td>\n",
              "      <td>0</td>\n",
              "      <td>9.0</td>\n",
              "      <td>99</td>\n",
              "      <td>0</td>\n",
              "      <td>61</td>\n",
              "      <td>7.482034</td>\n",
              "      <td>1.626394</td>\n",
              "      <td>0.999210</td>\n",
              "      <td>1.867909</td>\n",
              "      <td>1.966724</td>\n",
              "      <td>0.000000</td>\n",
              "      <td>0.000000</td>\n",
              "      <td>0.000000</td>\n",
              "      <td>0.000000</td>\n",
              "      <td>0.000000</td>\n",
              "    </tr>\n",
              "    <tr>\n",
              "      <th>1</th>\n",
              "      <td>sub-002</td>\n",
              "      <td>1</td>\n",
              "      <td>1.0</td>\n",
              "      <td>0</td>\n",
              "      <td>0</td>\n",
              "      <td>60</td>\n",
              "      <td>8.416555</td>\n",
              "      <td>0.965854</td>\n",
              "      <td>0.608626</td>\n",
              "      <td>0.644891</td>\n",
              "      <td>1.414223</td>\n",
              "      <td>2.812140</td>\n",
              "      <td>0.558671</td>\n",
              "      <td>0.411411</td>\n",
              "      <td>0.542121</td>\n",
              "      <td>0.701214</td>\n",
              "    </tr>\n",
              "    <tr>\n",
              "      <th>2</th>\n",
              "      <td>sub-003</td>\n",
              "      <td>1</td>\n",
              "      <td>0.0</td>\n",
              "      <td>1</td>\n",
              "      <td>1</td>\n",
              "      <td>75</td>\n",
              "      <td>22.694244</td>\n",
              "      <td>8.198214</td>\n",
              "      <td>4.478288</td>\n",
              "      <td>5.350492</td>\n",
              "      <td>4.680256</td>\n",
              "      <td>11.598456</td>\n",
              "      <td>7.757655</td>\n",
              "      <td>4.200623</td>\n",
              "      <td>4.093037</td>\n",
              "      <td>2.542612</td>\n",
              "    </tr>\n",
              "    <tr>\n",
              "      <th>3</th>\n",
              "      <td>sub-004</td>\n",
              "      <td>1</td>\n",
              "      <td>0.0</td>\n",
              "      <td>1</td>\n",
              "      <td>0</td>\n",
              "      <td>76</td>\n",
              "      <td>0.043266</td>\n",
              "      <td>0.030379</td>\n",
              "      <td>0.028278</td>\n",
              "      <td>0.082001</td>\n",
              "      <td>0.438553</td>\n",
              "      <td>10.759656</td>\n",
              "      <td>2.653185</td>\n",
              "      <td>1.995567</td>\n",
              "      <td>2.893754</td>\n",
              "      <td>2.727181</td>\n",
              "    </tr>\n",
              "    <tr>\n",
              "      <th>4</th>\n",
              "      <td>sub-005</td>\n",
              "      <td>1</td>\n",
              "      <td>1.0</td>\n",
              "      <td>0</td>\n",
              "      <td>1</td>\n",
              "      <td>75</td>\n",
              "      <td>3.823136</td>\n",
              "      <td>0.630612</td>\n",
              "      <td>0.297879</td>\n",
              "      <td>0.464629</td>\n",
              "      <td>1.287740</td>\n",
              "      <td>7.021244</td>\n",
              "      <td>1.046744</td>\n",
              "      <td>0.411496</td>\n",
              "      <td>0.483105</td>\n",
              "      <td>1.481388</td>\n",
              "    </tr>\n",
              "  </tbody>\n",
              "</table>\n",
              "</div>"
            ],
            "text/plain": [
              "  participant_id  Group  ...  abs_bp_beta_Cz_s02  abs_bp_gama_Cz_s02\n",
              "0        sub-001      0  ...            0.000000            0.000000\n",
              "1        sub-002      1  ...            0.542121            0.701214\n",
              "2        sub-003      1  ...            4.093037            2.542612\n",
              "3        sub-004      1  ...            2.893754            2.727181\n",
              "4        sub-005      1  ...            0.483105            1.481388\n",
              "\n",
              "[5 rows x 16 columns]"
            ]
          },
          "metadata": {
            "tags": []
          },
          "execution_count": 274
        }
      ]
    },
    {
      "cell_type": "markdown",
      "metadata": {
        "id": "mvP8gnq_gjY2"
      },
      "source": [
        "## Correlation Matrix"
      ]
    },
    {
      "cell_type": "code",
      "metadata": {
        "colab": {
          "base_uri": "https://localhost:8080/",
          "height": 685
        },
        "id": "bDA3dfWxgn8B",
        "outputId": "48f7dd23-d8c2-4010-d3eb-d9b32366e549"
      },
      "source": [
        "result.corr()"
      ],
      "execution_count": 275,
      "outputs": [
        {
          "output_type": "execute_result",
          "data": {
            "text/html": [
              "<div>\n",
              "<style scoped>\n",
              "    .dataframe tbody tr th:only-of-type {\n",
              "        vertical-align: middle;\n",
              "    }\n",
              "\n",
              "    .dataframe tbody tr th {\n",
              "        vertical-align: top;\n",
              "    }\n",
              "\n",
              "    .dataframe thead th {\n",
              "        text-align: right;\n",
              "    }\n",
              "</style>\n",
              "<table border=\"1\" class=\"dataframe\">\n",
              "  <thead>\n",
              "    <tr style=\"text-align: right;\">\n",
              "      <th></th>\n",
              "      <th>Group</th>\n",
              "      <th>sess1_Med</th>\n",
              "      <th>sess2_Med</th>\n",
              "      <th>sex</th>\n",
              "      <th>age</th>\n",
              "      <th>abs_bp_delta_Cz_s01</th>\n",
              "      <th>abs_bp_tetha_Cz_s01</th>\n",
              "      <th>abs_bp_alpha_Cz_s01</th>\n",
              "      <th>abs_bp_beta_Cz_s01</th>\n",
              "      <th>abs_bp_gama_Cz_s01</th>\n",
              "      <th>abs_bp_delta_Cz_s02</th>\n",
              "      <th>abs_bp_tetha_Cz_s02</th>\n",
              "      <th>abs_bp_alpha_Cz_s02</th>\n",
              "      <th>abs_bp_beta_Cz_s02</th>\n",
              "      <th>abs_bp_gama_Cz_s02</th>\n",
              "    </tr>\n",
              "  </thead>\n",
              "  <tbody>\n",
              "    <tr>\n",
              "      <th>Group</th>\n",
              "      <td>1.000000e+00</td>\n",
              "      <td>-0.996558</td>\n",
              "      <td>-0.999974</td>\n",
              "      <td>-8.118755e-18</td>\n",
              "      <td>0.030575</td>\n",
              "      <td>-0.132923</td>\n",
              "      <td>-0.115780</td>\n",
              "      <td>-0.033214</td>\n",
              "      <td>0.095752</td>\n",
              "      <td>0.126809</td>\n",
              "      <td>0.134842</td>\n",
              "      <td>0.134846</td>\n",
              "      <td>0.134859</td>\n",
              "      <td>0.134891</td>\n",
              "      <td>0.134898</td>\n",
              "    </tr>\n",
              "    <tr>\n",
              "      <th>sess1_Med</th>\n",
              "      <td>-9.965576e-01</td>\n",
              "      <td>1.000000</td>\n",
              "      <td>0.995937</td>\n",
              "      <td>1.286038e-02</td>\n",
              "      <td>-0.045525</td>\n",
              "      <td>0.132817</td>\n",
              "      <td>0.117920</td>\n",
              "      <td>0.042725</td>\n",
              "      <td>-0.079940</td>\n",
              "      <td>-0.110934</td>\n",
              "      <td>-0.150187</td>\n",
              "      <td>-0.150190</td>\n",
              "      <td>-0.150203</td>\n",
              "      <td>-0.150234</td>\n",
              "      <td>-0.150242</td>\n",
              "    </tr>\n",
              "    <tr>\n",
              "      <th>sess2_Med</th>\n",
              "      <td>-9.999742e-01</td>\n",
              "      <td>0.995937</td>\n",
              "      <td>1.000000</td>\n",
              "      <td>-1.113584e-03</td>\n",
              "      <td>-0.029270</td>\n",
              "      <td>0.132889</td>\n",
              "      <td>0.115558</td>\n",
              "      <td>0.032380</td>\n",
              "      <td>-0.097091</td>\n",
              "      <td>-0.128142</td>\n",
              "      <td>-0.133470</td>\n",
              "      <td>-0.133473</td>\n",
              "      <td>-0.133487</td>\n",
              "      <td>-0.133519</td>\n",
              "      <td>-0.133526</td>\n",
              "    </tr>\n",
              "    <tr>\n",
              "      <th>sex</th>\n",
              "      <td>-8.118755e-18</td>\n",
              "      <td>0.012860</td>\n",
              "      <td>-0.001114</td>\n",
              "      <td>1.000000e+00</td>\n",
              "      <td>0.273818</td>\n",
              "      <td>0.105356</td>\n",
              "      <td>0.084574</td>\n",
              "      <td>-0.005295</td>\n",
              "      <td>-0.133443</td>\n",
              "      <td>-0.156193</td>\n",
              "      <td>0.108466</td>\n",
              "      <td>0.108467</td>\n",
              "      <td>0.108473</td>\n",
              "      <td>0.108482</td>\n",
              "      <td>0.108460</td>\n",
              "    </tr>\n",
              "    <tr>\n",
              "      <th>age</th>\n",
              "      <td>3.057489e-02</td>\n",
              "      <td>-0.045525</td>\n",
              "      <td>-0.029270</td>\n",
              "      <td>2.738180e-01</td>\n",
              "      <td>1.000000</td>\n",
              "      <td>-0.005625</td>\n",
              "      <td>0.006019</td>\n",
              "      <td>0.040114</td>\n",
              "      <td>0.069612</td>\n",
              "      <td>0.069913</td>\n",
              "      <td>0.131102</td>\n",
              "      <td>0.131102</td>\n",
              "      <td>0.131102</td>\n",
              "      <td>0.131107</td>\n",
              "      <td>0.131115</td>\n",
              "    </tr>\n",
              "    <tr>\n",
              "      <th>abs_bp_delta_Cz_s01</th>\n",
              "      <td>-1.329226e-01</td>\n",
              "      <td>0.132817</td>\n",
              "      <td>0.132889</td>\n",
              "      <td>1.053558e-01</td>\n",
              "      <td>-0.005625</td>\n",
              "      <td>1.000000</td>\n",
              "      <td>0.989326</td>\n",
              "      <td>0.803050</td>\n",
              "      <td>0.220780</td>\n",
              "      <td>0.060006</td>\n",
              "      <td>-0.018829</td>\n",
              "      <td>-0.018830</td>\n",
              "      <td>-0.018831</td>\n",
              "      <td>-0.018835</td>\n",
              "      <td>-0.018835</td>\n",
              "    </tr>\n",
              "    <tr>\n",
              "      <th>abs_bp_tetha_Cz_s01</th>\n",
              "      <td>-1.157805e-01</td>\n",
              "      <td>0.117920</td>\n",
              "      <td>0.115558</td>\n",
              "      <td>8.457421e-02</td>\n",
              "      <td>0.006019</td>\n",
              "      <td>0.989326</td>\n",
              "      <td>1.000000</td>\n",
              "      <td>0.880716</td>\n",
              "      <td>0.358319</td>\n",
              "      <td>0.201633</td>\n",
              "      <td>-0.021937</td>\n",
              "      <td>-0.021938</td>\n",
              "      <td>-0.021939</td>\n",
              "      <td>-0.021942</td>\n",
              "      <td>-0.021934</td>\n",
              "    </tr>\n",
              "    <tr>\n",
              "      <th>abs_bp_alpha_Cz_s01</th>\n",
              "      <td>-3.321441e-02</td>\n",
              "      <td>0.042725</td>\n",
              "      <td>0.032380</td>\n",
              "      <td>-5.295451e-03</td>\n",
              "      <td>0.040114</td>\n",
              "      <td>0.803050</td>\n",
              "      <td>0.880716</td>\n",
              "      <td>1.000000</td>\n",
              "      <td>0.757440</td>\n",
              "      <td>0.640393</td>\n",
              "      <td>-0.027696</td>\n",
              "      <td>-0.027697</td>\n",
              "      <td>-0.027697</td>\n",
              "      <td>-0.027692</td>\n",
              "      <td>-0.027662</td>\n",
              "    </tr>\n",
              "    <tr>\n",
              "      <th>abs_bp_beta_Cz_s01</th>\n",
              "      <td>9.575248e-02</td>\n",
              "      <td>-0.079940</td>\n",
              "      <td>-0.097091</td>\n",
              "      <td>-1.334425e-01</td>\n",
              "      <td>0.069612</td>\n",
              "      <td>0.220780</td>\n",
              "      <td>0.358319</td>\n",
              "      <td>0.757440</td>\n",
              "      <td>1.000000</td>\n",
              "      <td>0.986074</td>\n",
              "      <td>-0.023194</td>\n",
              "      <td>-0.023194</td>\n",
              "      <td>-0.023193</td>\n",
              "      <td>-0.023181</td>\n",
              "      <td>-0.023131</td>\n",
              "    </tr>\n",
              "    <tr>\n",
              "      <th>abs_bp_gama_Cz_s01</th>\n",
              "      <td>1.268087e-01</td>\n",
              "      <td>-0.110934</td>\n",
              "      <td>-0.128142</td>\n",
              "      <td>-1.561929e-01</td>\n",
              "      <td>0.069913</td>\n",
              "      <td>0.060006</td>\n",
              "      <td>0.201633</td>\n",
              "      <td>0.640393</td>\n",
              "      <td>0.986074</td>\n",
              "      <td>1.000000</td>\n",
              "      <td>-0.020118</td>\n",
              "      <td>-0.020118</td>\n",
              "      <td>-0.020117</td>\n",
              "      <td>-0.020104</td>\n",
              "      <td>-0.020052</td>\n",
              "    </tr>\n",
              "    <tr>\n",
              "      <th>abs_bp_delta_Cz_s02</th>\n",
              "      <td>1.348419e-01</td>\n",
              "      <td>-0.150187</td>\n",
              "      <td>-0.133470</td>\n",
              "      <td>1.084663e-01</td>\n",
              "      <td>0.131102</td>\n",
              "      <td>-0.018829</td>\n",
              "      <td>-0.021937</td>\n",
              "      <td>-0.027696</td>\n",
              "      <td>-0.023194</td>\n",
              "      <td>-0.020118</td>\n",
              "      <td>1.000000</td>\n",
              "      <td>1.000000</td>\n",
              "      <td>1.000000</td>\n",
              "      <td>1.000000</td>\n",
              "      <td>1.000000</td>\n",
              "    </tr>\n",
              "    <tr>\n",
              "      <th>abs_bp_tetha_Cz_s02</th>\n",
              "      <td>1.348456e-01</td>\n",
              "      <td>-0.150190</td>\n",
              "      <td>-0.133473</td>\n",
              "      <td>1.084673e-01</td>\n",
              "      <td>0.131102</td>\n",
              "      <td>-0.018830</td>\n",
              "      <td>-0.021938</td>\n",
              "      <td>-0.027697</td>\n",
              "      <td>-0.023194</td>\n",
              "      <td>-0.020118</td>\n",
              "      <td>1.000000</td>\n",
              "      <td>1.000000</td>\n",
              "      <td>1.000000</td>\n",
              "      <td>1.000000</td>\n",
              "      <td>1.000000</td>\n",
              "    </tr>\n",
              "    <tr>\n",
              "      <th>abs_bp_alpha_Cz_s02</th>\n",
              "      <td>1.348588e-01</td>\n",
              "      <td>-0.150203</td>\n",
              "      <td>-0.133487</td>\n",
              "      <td>1.084735e-01</td>\n",
              "      <td>0.131102</td>\n",
              "      <td>-0.018831</td>\n",
              "      <td>-0.021939</td>\n",
              "      <td>-0.027697</td>\n",
              "      <td>-0.023193</td>\n",
              "      <td>-0.020117</td>\n",
              "      <td>1.000000</td>\n",
              "      <td>1.000000</td>\n",
              "      <td>1.000000</td>\n",
              "      <td>1.000000</td>\n",
              "      <td>1.000000</td>\n",
              "    </tr>\n",
              "    <tr>\n",
              "      <th>abs_bp_beta_Cz_s02</th>\n",
              "      <td>1.348915e-01</td>\n",
              "      <td>-0.150234</td>\n",
              "      <td>-0.133519</td>\n",
              "      <td>1.084816e-01</td>\n",
              "      <td>0.131107</td>\n",
              "      <td>-0.018835</td>\n",
              "      <td>-0.021942</td>\n",
              "      <td>-0.027692</td>\n",
              "      <td>-0.023181</td>\n",
              "      <td>-0.020104</td>\n",
              "      <td>1.000000</td>\n",
              "      <td>1.000000</td>\n",
              "      <td>1.000000</td>\n",
              "      <td>1.000000</td>\n",
              "      <td>1.000000</td>\n",
              "    </tr>\n",
              "    <tr>\n",
              "      <th>abs_bp_gama_Cz_s02</th>\n",
              "      <td>1.348984e-01</td>\n",
              "      <td>-0.150242</td>\n",
              "      <td>-0.133526</td>\n",
              "      <td>1.084596e-01</td>\n",
              "      <td>0.131115</td>\n",
              "      <td>-0.018835</td>\n",
              "      <td>-0.021934</td>\n",
              "      <td>-0.027662</td>\n",
              "      <td>-0.023131</td>\n",
              "      <td>-0.020052</td>\n",
              "      <td>1.000000</td>\n",
              "      <td>1.000000</td>\n",
              "      <td>1.000000</td>\n",
              "      <td>1.000000</td>\n",
              "      <td>1.000000</td>\n",
              "    </tr>\n",
              "  </tbody>\n",
              "</table>\n",
              "</div>"
            ],
            "text/plain": [
              "                            Group  ...  abs_bp_gama_Cz_s02\n",
              "Group                1.000000e+00  ...            0.134898\n",
              "sess1_Med           -9.965576e-01  ...           -0.150242\n",
              "sess2_Med           -9.999742e-01  ...           -0.133526\n",
              "sex                 -8.118755e-18  ...            0.108460\n",
              "age                  3.057489e-02  ...            0.131115\n",
              "abs_bp_delta_Cz_s01 -1.329226e-01  ...           -0.018835\n",
              "abs_bp_tetha_Cz_s01 -1.157805e-01  ...           -0.021934\n",
              "abs_bp_alpha_Cz_s01 -3.321441e-02  ...           -0.027662\n",
              "abs_bp_beta_Cz_s01   9.575248e-02  ...           -0.023131\n",
              "abs_bp_gama_Cz_s01   1.268087e-01  ...           -0.020052\n",
              "abs_bp_delta_Cz_s02  1.348419e-01  ...            1.000000\n",
              "abs_bp_tetha_Cz_s02  1.348456e-01  ...            1.000000\n",
              "abs_bp_alpha_Cz_s02  1.348588e-01  ...            1.000000\n",
              "abs_bp_beta_Cz_s02   1.348915e-01  ...            1.000000\n",
              "abs_bp_gama_Cz_s02   1.348984e-01  ...            1.000000\n",
              "\n",
              "[15 rows x 15 columns]"
            ]
          },
          "metadata": {
            "tags": []
          },
          "execution_count": 275
        }
      ]
    },
    {
      "cell_type": "code",
      "metadata": {
        "colab": {
          "base_uri": "https://localhost:8080/",
          "height": 638
        },
        "id": "cMhGfGJ9gvq8",
        "outputId": "fd7680f8-8aa7-47c6-fd17-9ba158b334e0"
      },
      "source": [
        "f = plt.figure(figsize=(14, 10))\n",
        "plt.matshow(result.corr(), fignum=f.number)\n",
        "\n",
        "cb = plt.colorbar()\n",
        "cb.ax.tick_params(labelsize=14)\n",
        "plt.title('Correlation Matrix', fontsize=16);\n",
        "plt.show()"
      ],
      "execution_count": 276,
      "outputs": [
        {
          "output_type": "display_data",
          "data": {
            "image/png": "[encoded data removed]",
            "text/plain": [
              "<Figure size 1008x720 with 2 Axes>"
            ]
          },
          "metadata": {
            "tags": [],
            "needs_background": "light"
          }
        }
      ]
    },
    {
      "cell_type": "markdown",
      "metadata": {
        "id": "_viPby8qknjQ"
      },
      "source": [
        "## Correlation matrix for parkinson participants"
      ]
    },
    {
      "cell_type": "code",
      "metadata": {
        "colab": {
          "base_uri": "https://localhost:8080/",
          "height": 202
        },
        "id": "Qtj1psdskttH",
        "outputId": "39667c5d-5be8-4860-fc5f-07ac38c38c1f"
      },
      "source": [
        " result = result[result[\"Group\"] == 1]\n",
        " result.head()"
      ],
      "execution_count": 277,
      "outputs": [
        {
          "output_type": "execute_result",
          "data": {
            "text/html": [
              "<div>\n",
              "<style scoped>\n",
              "    .dataframe tbody tr th:only-of-type {\n",
              "        vertical-align: middle;\n",
              "    }\n",
              "\n",
              "    .dataframe tbody tr th {\n",
              "        vertical-align: top;\n",
              "    }\n",
              "\n",
              "    .dataframe thead th {\n",
              "        text-align: right;\n",
              "    }\n",
              "</style>\n",
              "<table border=\"1\" class=\"dataframe\">\n",
              "  <thead>\n",
              "    <tr style=\"text-align: right;\">\n",
              "      <th></th>\n",
              "      <th>participant_id</th>\n",
              "      <th>Group</th>\n",
              "      <th>sess1_Med</th>\n",
              "      <th>sess2_Med</th>\n",
              "      <th>sex</th>\n",
              "      <th>age</th>\n",
              "      <th>abs_bp_delta_Cz_s01</th>\n",
              "      <th>abs_bp_tetha_Cz_s01</th>\n",
              "      <th>abs_bp_alpha_Cz_s01</th>\n",
              "      <th>abs_bp_beta_Cz_s01</th>\n",
              "      <th>abs_bp_gama_Cz_s01</th>\n",
              "      <th>abs_bp_delta_Cz_s02</th>\n",
              "      <th>abs_bp_tetha_Cz_s02</th>\n",
              "      <th>abs_bp_alpha_Cz_s02</th>\n",
              "      <th>abs_bp_beta_Cz_s02</th>\n",
              "      <th>abs_bp_gama_Cz_s02</th>\n",
              "    </tr>\n",
              "  </thead>\n",
              "  <tbody>\n",
              "    <tr>\n",
              "      <th>1</th>\n",
              "      <td>sub-002</td>\n",
              "      <td>1</td>\n",
              "      <td>1.0</td>\n",
              "      <td>0</td>\n",
              "      <td>0</td>\n",
              "      <td>60</td>\n",
              "      <td>8.416555</td>\n",
              "      <td>0.965854</td>\n",
              "      <td>0.608626</td>\n",
              "      <td>0.644891</td>\n",
              "      <td>1.414223</td>\n",
              "      <td>2.812140</td>\n",
              "      <td>0.558671</td>\n",
              "      <td>0.411411</td>\n",
              "      <td>0.542121</td>\n",
              "      <td>0.701214</td>\n",
              "    </tr>\n",
              "    <tr>\n",
              "      <th>2</th>\n",
              "      <td>sub-003</td>\n",
              "      <td>1</td>\n",
              "      <td>0.0</td>\n",
              "      <td>1</td>\n",
              "      <td>1</td>\n",
              "      <td>75</td>\n",
              "      <td>22.694244</td>\n",
              "      <td>8.198214</td>\n",
              "      <td>4.478288</td>\n",
              "      <td>5.350492</td>\n",
              "      <td>4.680256</td>\n",
              "      <td>11.598456</td>\n",
              "      <td>7.757655</td>\n",
              "      <td>4.200623</td>\n",
              "      <td>4.093037</td>\n",
              "      <td>2.542612</td>\n",
              "    </tr>\n",
              "    <tr>\n",
              "      <th>3</th>\n",
              "      <td>sub-004</td>\n",
              "      <td>1</td>\n",
              "      <td>0.0</td>\n",
              "      <td>1</td>\n",
              "      <td>0</td>\n",
              "      <td>76</td>\n",
              "      <td>0.043266</td>\n",
              "      <td>0.030379</td>\n",
              "      <td>0.028278</td>\n",
              "      <td>0.082001</td>\n",
              "      <td>0.438553</td>\n",
              "      <td>10.759656</td>\n",
              "      <td>2.653185</td>\n",
              "      <td>1.995567</td>\n",
              "      <td>2.893754</td>\n",
              "      <td>2.727181</td>\n",
              "    </tr>\n",
              "    <tr>\n",
              "      <th>4</th>\n",
              "      <td>sub-005</td>\n",
              "      <td>1</td>\n",
              "      <td>1.0</td>\n",
              "      <td>0</td>\n",
              "      <td>1</td>\n",
              "      <td>75</td>\n",
              "      <td>3.823136</td>\n",
              "      <td>0.630612</td>\n",
              "      <td>0.297879</td>\n",
              "      <td>0.464629</td>\n",
              "      <td>1.287740</td>\n",
              "      <td>7.021244</td>\n",
              "      <td>1.046744</td>\n",
              "      <td>0.411496</td>\n",
              "      <td>0.483105</td>\n",
              "      <td>1.481388</td>\n",
              "    </tr>\n",
              "    <tr>\n",
              "      <th>5</th>\n",
              "      <td>sub-006</td>\n",
              "      <td>1</td>\n",
              "      <td>1.0</td>\n",
              "      <td>0</td>\n",
              "      <td>1</td>\n",
              "      <td>79</td>\n",
              "      <td>13.843880</td>\n",
              "      <td>1.602052</td>\n",
              "      <td>1.535247</td>\n",
              "      <td>3.605722</td>\n",
              "      <td>1.355070</td>\n",
              "      <td>5.002690</td>\n",
              "      <td>1.095306</td>\n",
              "      <td>1.166728</td>\n",
              "      <td>2.655974</td>\n",
              "      <td>1.505212</td>\n",
              "    </tr>\n",
              "  </tbody>\n",
              "</table>\n",
              "</div>"
            ],
            "text/plain": [
              "  participant_id  Group  ...  abs_bp_beta_Cz_s02  abs_bp_gama_Cz_s02\n",
              "1        sub-002      1  ...            0.542121            0.701214\n",
              "2        sub-003      1  ...            4.093037            2.542612\n",
              "3        sub-004      1  ...            2.893754            2.727181\n",
              "4        sub-005      1  ...            0.483105            1.481388\n",
              "5        sub-006      1  ...            2.655974            1.505212\n",
              "\n",
              "[5 rows x 16 columns]"
            ]
          },
          "metadata": {
            "tags": []
          },
          "execution_count": 277
        }
      ]
    },
    {
      "cell_type": "code",
      "metadata": {
        "colab": {
          "base_uri": "https://localhost:8080/",
          "height": 642
        },
        "id": "KPUwWIKxlJR0",
        "outputId": "44bb3b14-39ab-4922-b72f-c073463946eb"
      },
      "source": [
        "f = plt.figure(figsize=(14, 10))\n",
        "plt.matshow(result.corr(), fignum=f.number)\n",
        "\n",
        "cb = plt.colorbar()\n",
        "cb.ax.tick_params(labelsize=14)\n",
        "plt.title('Correlation Matrix', fontsize=16);\n",
        "plt.show()"
      ],
      "execution_count": 278,
      "outputs": [
        {
          "output_type": "display_data",
          "data": {
            "image/png": "[encoded data removed]",
            "text/plain": [
              "<Figure size 1008x720 with 2 Axes>"
            ]
          },
          "metadata": {
            "tags": [],
            "needs_background": "light"
          }
        }
      ]
    },
    {
      "cell_type": "markdown",
      "metadata": {
        "id": "YexT5MKTcrDk"
      },
      "source": [
        "# Extracting Relative Band Power from channel Cz into new Dataset"
      ]
    },
    {
      "cell_type": "code",
      "metadata": {
        "id": "-ZUOJY1jdAed"
      },
      "source": [
        "rel_bp_dataset = {\"rel_bp_delta_Cz_s01\":[], \"rel_bp_tetha_Cz_s01\":[], \"rel_bp_alpha_Cz_s01\":[], \"rel_bp_beta_Cz_s01\":[], \"rel_bp_gama_Cz_s01\":[], \"rel_bp_delta_Cz_s02\":[], \"rel_bp_tetha_Cz_s02\":[], \"rel_bp_alpha_Cz_s02\":[], \"rel_bp_beta_Cz_s02\":[], \"rel_bp_gama_Cz_s02\":[],}"
      ],
      "execution_count": 279,
      "outputs": []
    },
    {
      "cell_type": "code",
      "metadata": {
        "colab": {
          "base_uri": "https://localhost:8080/",
          "height": 202
        },
        "id": "gshqdpW_cxny",
        "outputId": "71b1116f-6771-4770-a7b0-37c1b0f27aa0"
      },
      "source": [
        "channels = [\"delta\", \"tetha\", \"alpha\", \"beta\", \"gama\"]\n",
        "eletrode = \"Cz\"\n",
        "channels_count = 0\n",
        "participants_count = 1\n",
        "\n",
        "while channels_count < len(channels):\n",
        "  col = \"rel_bp_\" + channels[channels_count] + \"_\" + eletrode + \"_s01\"\n",
        "  # print(col)\n",
        "  temp_df = df_bp[(df_bp[\"freq_act\"] == channels[channels_count]) & (df_bp[\"sub\"] == participants_count) & (df_bp[\"ses\"] == 1) & (df_bp[\"channel\"] == \"Cz\")]\n",
        "  \n",
        "  if len(temp_df['relative_bp'].values) == 1:\n",
        "    rel_bp_dataset[col].append(temp_df[\"relative_bp\"].values[0])\n",
        "\n",
        "  col = \"rel_bp_\" + channels[channels_count] + \"_\" + eletrode + \"_s02\"\n",
        "  try:\n",
        "    if len(temp_df['relative_bp'].values) == 1:\n",
        "      temp_df = df_bp[(df_bp[\"freq_act\"] == channels[channels_count]) & (df_bp[\"sub\"] == participants_count) & (df_bp[\"ses\"] == 2) & (df_bp[\"channel\"] == \"Cz\")]\n",
        "\n",
        "      rel_bp_dataset[col].append(temp_df[\"relative_bp\"].values[0])\n",
        "\n",
        "  except:\n",
        "    rel_bp_dataset[col].append(0.0)\n",
        "\n",
        "  participants_count += 1\n",
        "\n",
        "  if participants_count > 56:\n",
        "    participants_count = 0\n",
        "    channels_count += 1\n",
        "\n",
        "\n",
        "df_rel_bp = pd.DataFrame(data=rel_bp_dataset)\n",
        "df_rel_bp.head()"
      ],
      "execution_count": 280,
      "outputs": [
        {
          "output_type": "execute_result",
          "data": {
            "text/html": [
              "<div>\n",
              "<style scoped>\n",
              "    .dataframe tbody tr th:only-of-type {\n",
              "        vertical-align: middle;\n",
              "    }\n",
              "\n",
              "    .dataframe tbody tr th {\n",
              "        vertical-align: top;\n",
              "    }\n",
              "\n",
              "    .dataframe thead th {\n",
              "        text-align: right;\n",
              "    }\n",
              "</style>\n",
              "<table border=\"1\" class=\"dataframe\">\n",
              "  <thead>\n",
              "    <tr style=\"text-align: right;\">\n",
              "      <th></th>\n",
              "      <th>rel_bp_delta_Cz_s01</th>\n",
              "      <th>rel_bp_tetha_Cz_s01</th>\n",
              "      <th>rel_bp_alpha_Cz_s01</th>\n",
              "      <th>rel_bp_beta_Cz_s01</th>\n",
              "      <th>rel_bp_gama_Cz_s01</th>\n",
              "      <th>rel_bp_delta_Cz_s02</th>\n",
              "      <th>rel_bp_tetha_Cz_s02</th>\n",
              "      <th>rel_bp_alpha_Cz_s02</th>\n",
              "      <th>rel_bp_beta_Cz_s02</th>\n",
              "      <th>rel_bp_gama_Cz_s02</th>\n",
              "    </tr>\n",
              "  </thead>\n",
              "  <tbody>\n",
              "    <tr>\n",
              "      <th>0</th>\n",
              "      <td>0.245037</td>\n",
              "      <td>0.138530</td>\n",
              "      <td>0.104332</td>\n",
              "      <td>0.229690</td>\n",
              "      <td>0.314962</td>\n",
              "      <td>0.000000</td>\n",
              "      <td>0.000000</td>\n",
              "      <td>0.000000</td>\n",
              "      <td>0.000000</td>\n",
              "      <td>0.000000</td>\n",
              "    </tr>\n",
              "    <tr>\n",
              "      <th>1</th>\n",
              "      <td>0.412203</td>\n",
              "      <td>0.115601</td>\n",
              "      <td>0.101370</td>\n",
              "      <td>0.126992</td>\n",
              "      <td>0.384096</td>\n",
              "      <td>0.293444</td>\n",
              "      <td>0.134775</td>\n",
              "      <td>0.122901</td>\n",
              "      <td>0.183026</td>\n",
              "      <td>0.322062</td>\n",
              "    </tr>\n",
              "    <tr>\n",
              "      <th>2</th>\n",
              "      <td>0.162433</td>\n",
              "      <td>0.246097</td>\n",
              "      <td>0.158077</td>\n",
              "      <td>0.221605</td>\n",
              "      <td>0.321814</td>\n",
              "      <td>0.214383</td>\n",
              "      <td>0.316879</td>\n",
              "      <td>0.193108</td>\n",
              "      <td>0.210131</td>\n",
              "      <td>0.240782</td>\n",
              "    </tr>\n",
              "    <tr>\n",
              "      <th>3</th>\n",
              "      <td>0.036183</td>\n",
              "      <td>0.028513</td>\n",
              "      <td>0.026589</td>\n",
              "      <td>0.079157</td>\n",
              "      <td>0.445105</td>\n",
              "      <td>0.313359</td>\n",
              "      <td>0.155954</td>\n",
              "      <td>0.145428</td>\n",
              "      <td>0.238119</td>\n",
              "      <td>0.323778</td>\n",
              "    </tr>\n",
              "    <tr>\n",
              "      <th>4</th>\n",
              "      <td>0.275236</td>\n",
              "      <td>0.116899</td>\n",
              "      <td>0.068510</td>\n",
              "      <td>0.127009</td>\n",
              "      <td>0.442642</td>\n",
              "      <td>0.298485</td>\n",
              "      <td>0.136728</td>\n",
              "      <td>0.070761</td>\n",
              "      <td>0.106484</td>\n",
              "      <td>0.448128</td>\n",
              "    </tr>\n",
              "  </tbody>\n",
              "</table>\n",
              "</div>"
            ],
            "text/plain": [
              "   rel_bp_delta_Cz_s01  ...  rel_bp_gama_Cz_s02\n",
              "0             0.245037  ...            0.000000\n",
              "1             0.412203  ...            0.322062\n",
              "2             0.162433  ...            0.240782\n",
              "3             0.036183  ...            0.323778\n",
              "4             0.275236  ...            0.448128\n",
              "\n",
              "[5 rows x 10 columns]"
            ]
          },
          "metadata": {
            "tags": []
          },
          "execution_count": 280
        }
      ]
    },
    {
      "cell_type": "markdown",
      "metadata": {
        "id": "uKA2d1xfenm8"
      },
      "source": [
        "## Merge dos DFs Participants e Relative BP"
      ]
    },
    {
      "cell_type": "code",
      "metadata": {
        "colab": {
          "base_uri": "https://localhost:8080/",
          "height": 202
        },
        "id": "PY8x3ZU6enSu",
        "outputId": "96eed39e-3032-4216-aa9e-48dd80f5ca4b"
      },
      "source": [
        "result = pd.concat([participants, df_rel_bp], axis=1)\n",
        "\n",
        "result = result.drop(['Original_ID'], axis=1)\n",
        "result.head()"
      ],
      "execution_count": 281,
      "outputs": [
        {
          "output_type": "execute_result",
          "data": {
            "text/html": [
              "<div>\n",
              "<style scoped>\n",
              "    .dataframe tbody tr th:only-of-type {\n",
              "        vertical-align: middle;\n",
              "    }\n",
              "\n",
              "    .dataframe tbody tr th {\n",
              "        vertical-align: top;\n",
              "    }\n",
              "\n",
              "    .dataframe thead th {\n",
              "        text-align: right;\n",
              "    }\n",
              "</style>\n",
              "<table border=\"1\" class=\"dataframe\">\n",
              "  <thead>\n",
              "    <tr style=\"text-align: right;\">\n",
              "      <th></th>\n",
              "      <th>participant_id</th>\n",
              "      <th>Group</th>\n",
              "      <th>sess1_Med</th>\n",
              "      <th>sess2_Med</th>\n",
              "      <th>sex</th>\n",
              "      <th>age</th>\n",
              "      <th>rel_bp_delta_Cz_s01</th>\n",
              "      <th>rel_bp_tetha_Cz_s01</th>\n",
              "      <th>rel_bp_alpha_Cz_s01</th>\n",
              "      <th>rel_bp_beta_Cz_s01</th>\n",
              "      <th>rel_bp_gama_Cz_s01</th>\n",
              "      <th>rel_bp_delta_Cz_s02</th>\n",
              "      <th>rel_bp_tetha_Cz_s02</th>\n",
              "      <th>rel_bp_alpha_Cz_s02</th>\n",
              "      <th>rel_bp_beta_Cz_s02</th>\n",
              "      <th>rel_bp_gama_Cz_s02</th>\n",
              "    </tr>\n",
              "  </thead>\n",
              "  <tbody>\n",
              "    <tr>\n",
              "      <th>0</th>\n",
              "      <td>sub-001</td>\n",
              "      <td>0</td>\n",
              "      <td>9.0</td>\n",
              "      <td>99</td>\n",
              "      <td>0</td>\n",
              "      <td>61</td>\n",
              "      <td>0.245037</td>\n",
              "      <td>0.138530</td>\n",
              "      <td>0.104332</td>\n",
              "      <td>0.229690</td>\n",
              "      <td>0.314962</td>\n",
              "      <td>0.000000</td>\n",
              "      <td>0.000000</td>\n",
              "      <td>0.000000</td>\n",
              "      <td>0.000000</td>\n",
              "      <td>0.000000</td>\n",
              "    </tr>\n",
              "    <tr>\n",
              "      <th>1</th>\n",
              "      <td>sub-002</td>\n",
              "      <td>1</td>\n",
              "      <td>1.0</td>\n",
              "      <td>0</td>\n",
              "      <td>0</td>\n",
              "      <td>60</td>\n",
              "      <td>0.412203</td>\n",
              "      <td>0.115601</td>\n",
              "      <td>0.101370</td>\n",
              "      <td>0.126992</td>\n",
              "      <td>0.384096</td>\n",
              "      <td>0.293444</td>\n",
              "      <td>0.134775</td>\n",
              "      <td>0.122901</td>\n",
              "      <td>0.183026</td>\n",
              "      <td>0.322062</td>\n",
              "    </tr>\n",
              "    <tr>\n",
              "      <th>2</th>\n",
              "      <td>sub-003</td>\n",
              "      <td>1</td>\n",
              "      <td>0.0</td>\n",
              "      <td>1</td>\n",
              "      <td>1</td>\n",
              "      <td>75</td>\n",
              "      <td>0.162433</td>\n",
              "      <td>0.246097</td>\n",
              "      <td>0.158077</td>\n",
              "      <td>0.221605</td>\n",
              "      <td>0.321814</td>\n",
              "      <td>0.214383</td>\n",
              "      <td>0.316879</td>\n",
              "      <td>0.193108</td>\n",
              "      <td>0.210131</td>\n",
              "      <td>0.240782</td>\n",
              "    </tr>\n",
              "    <tr>\n",
              "      <th>3</th>\n",
              "      <td>sub-004</td>\n",
              "      <td>1</td>\n",
              "      <td>0.0</td>\n",
              "      <td>1</td>\n",
              "      <td>0</td>\n",
              "      <td>76</td>\n",
              "      <td>0.036183</td>\n",
              "      <td>0.028513</td>\n",
              "      <td>0.026589</td>\n",
              "      <td>0.079157</td>\n",
              "      <td>0.445105</td>\n",
              "      <td>0.313359</td>\n",
              "      <td>0.155954</td>\n",
              "      <td>0.145428</td>\n",
              "      <td>0.238119</td>\n",
              "      <td>0.323778</td>\n",
              "    </tr>\n",
              "    <tr>\n",
              "      <th>4</th>\n",
              "      <td>sub-005</td>\n",
              "      <td>1</td>\n",
              "      <td>1.0</td>\n",
              "      <td>0</td>\n",
              "      <td>1</td>\n",
              "      <td>75</td>\n",
              "      <td>0.275236</td>\n",
              "      <td>0.116899</td>\n",
              "      <td>0.068510</td>\n",
              "      <td>0.127009</td>\n",
              "      <td>0.442642</td>\n",
              "      <td>0.298485</td>\n",
              "      <td>0.136728</td>\n",
              "      <td>0.070761</td>\n",
              "      <td>0.106484</td>\n",
              "      <td>0.448128</td>\n",
              "    </tr>\n",
              "  </tbody>\n",
              "</table>\n",
              "</div>"
            ],
            "text/plain": [
              "  participant_id  Group  ...  rel_bp_beta_Cz_s02  rel_bp_gama_Cz_s02\n",
              "0        sub-001      0  ...            0.000000            0.000000\n",
              "1        sub-002      1  ...            0.183026            0.322062\n",
              "2        sub-003      1  ...            0.210131            0.240782\n",
              "3        sub-004      1  ...            0.238119            0.323778\n",
              "4        sub-005      1  ...            0.106484            0.448128\n",
              "\n",
              "[5 rows x 16 columns]"
            ]
          },
          "metadata": {
            "tags": []
          },
          "execution_count": 281
        }
      ]
    },
    {
      "cell_type": "markdown",
      "metadata": {
        "id": "hv1jYuzTgA1A"
      },
      "source": [
        "## Correlation matrix"
      ]
    },
    {
      "cell_type": "code",
      "metadata": {
        "colab": {
          "base_uri": "https://localhost:8080/",
          "height": 509
        },
        "id": "EzB7S0NEe_tN",
        "outputId": "82ed9ddd-78b6-4001-c4ff-787995e3c3b5"
      },
      "source": [
        "result.corr()"
      ],
      "execution_count": 263,
      "outputs": [
        {
          "output_type": "execute_result",
          "data": {
            "text/html": [
              "<div>\n",
              "<style scoped>\n",
              "    .dataframe tbody tr th:only-of-type {\n",
              "        vertical-align: middle;\n",
              "    }\n",
              "\n",
              "    .dataframe tbody tr th {\n",
              "        vertical-align: top;\n",
              "    }\n",
              "\n",
              "    .dataframe thead th {\n",
              "        text-align: right;\n",
              "    }\n",
              "</style>\n",
              "<table border=\"1\" class=\"dataframe\">\n",
              "  <thead>\n",
              "    <tr style=\"text-align: right;\">\n",
              "      <th></th>\n",
              "      <th>Group</th>\n",
              "      <th>sess1_Med</th>\n",
              "      <th>sess2_Med</th>\n",
              "      <th>sex</th>\n",
              "      <th>age</th>\n",
              "      <th>rel_bp_delta_Cz_s01</th>\n",
              "      <th>rel_bp_tetha_Cz_s01</th>\n",
              "      <th>rel_bp_alpha_Cz_s01</th>\n",
              "      <th>rel_bp_beta_Cz_s01</th>\n",
              "      <th>rel_bp_gama_Cz_s01</th>\n",
              "      <th>rel_bp_delta_Cz_s02</th>\n",
              "      <th>rel_bp_tetha_Cz_s02</th>\n",
              "      <th>rel_bp_alpha_Cz_s02</th>\n",
              "      <th>rel_bp_beta_Cz_s02</th>\n",
              "      <th>rel_bp_gama_Cz_s02</th>\n",
              "    </tr>\n",
              "  </thead>\n",
              "  <tbody>\n",
              "    <tr>\n",
              "      <th>Group</th>\n",
              "      <td>1.000000e+00</td>\n",
              "      <td>-0.996558</td>\n",
              "      <td>-0.999974</td>\n",
              "      <td>-8.118755e-18</td>\n",
              "      <td>0.030575</td>\n",
              "      <td>-0.204392</td>\n",
              "      <td>0.128370</td>\n",
              "      <td>0.306734</td>\n",
              "      <td>-0.032140</td>\n",
              "      <td>0.001674</td>\n",
              "      <td>0.875322</td>\n",
              "      <td>0.840059</td>\n",
              "      <td>0.843284</td>\n",
              "      <td>0.887761</td>\n",
              "      <td>0.844079</td>\n",
              "    </tr>\n",
              "    <tr>\n",
              "      <th>sess1_Med</th>\n",
              "      <td>-9.965576e-01</td>\n",
              "      <td>1.000000</td>\n",
              "      <td>0.995937</td>\n",
              "      <td>1.286038e-02</td>\n",
              "      <td>-0.045525</td>\n",
              "      <td>0.223183</td>\n",
              "      <td>-0.132646</td>\n",
              "      <td>-0.292489</td>\n",
              "      <td>0.059406</td>\n",
              "      <td>-0.022418</td>\n",
              "      <td>-0.866851</td>\n",
              "      <td>-0.837288</td>\n",
              "      <td>-0.832207</td>\n",
              "      <td>-0.871113</td>\n",
              "      <td>-0.850521</td>\n",
              "    </tr>\n",
              "    <tr>\n",
              "      <th>sess2_Med</th>\n",
              "      <td>-9.999742e-01</td>\n",
              "      <td>0.995937</td>\n",
              "      <td>1.000000</td>\n",
              "      <td>-1.113584e-03</td>\n",
              "      <td>-0.029270</td>\n",
              "      <td>0.202699</td>\n",
              "      <td>-0.127958</td>\n",
              "      <td>-0.307869</td>\n",
              "      <td>0.029768</td>\n",
              "      <td>0.000123</td>\n",
              "      <td>-0.875772</td>\n",
              "      <td>-0.840027</td>\n",
              "      <td>-0.843970</td>\n",
              "      <td>-0.888915</td>\n",
              "      <td>-0.843248</td>\n",
              "    </tr>\n",
              "    <tr>\n",
              "      <th>sex</th>\n",
              "      <td>-8.118755e-18</td>\n",
              "      <td>0.012860</td>\n",
              "      <td>-0.001114</td>\n",
              "      <td>1.000000e+00</td>\n",
              "      <td>0.273818</td>\n",
              "      <td>0.046612</td>\n",
              "      <td>0.116150</td>\n",
              "      <td>0.230202</td>\n",
              "      <td>0.168949</td>\n",
              "      <td>-0.142053</td>\n",
              "      <td>-0.053420</td>\n",
              "      <td>0.120449</td>\n",
              "      <td>0.169748</td>\n",
              "      <td>0.087139</td>\n",
              "      <td>-0.202872</td>\n",
              "    </tr>\n",
              "    <tr>\n",
              "      <th>age</th>\n",
              "      <td>3.057489e-02</td>\n",
              "      <td>-0.045525</td>\n",
              "      <td>-0.029270</td>\n",
              "      <td>2.738180e-01</td>\n",
              "      <td>1.000000</td>\n",
              "      <td>-0.127519</td>\n",
              "      <td>-0.085365</td>\n",
              "      <td>-0.120928</td>\n",
              "      <td>0.050675</td>\n",
              "      <td>0.065375</td>\n",
              "      <td>-0.011847</td>\n",
              "      <td>-0.066410</td>\n",
              "      <td>-0.073357</td>\n",
              "      <td>-0.004101</td>\n",
              "      <td>0.094669</td>\n",
              "    </tr>\n",
              "    <tr>\n",
              "      <th>rel_bp_delta_Cz_s01</th>\n",
              "      <td>-2.043921e-01</td>\n",
              "      <td>0.223183</td>\n",
              "      <td>0.202699</td>\n",
              "      <td>4.661171e-02</td>\n",
              "      <td>-0.127519</td>\n",
              "      <td>1.000000</td>\n",
              "      <td>0.202369</td>\n",
              "      <td>0.076319</td>\n",
              "      <td>0.187517</td>\n",
              "      <td>-0.411510</td>\n",
              "      <td>-0.054127</td>\n",
              "      <td>-0.129108</td>\n",
              "      <td>-0.172069</td>\n",
              "      <td>-0.119877</td>\n",
              "      <td>-0.251117</td>\n",
              "    </tr>\n",
              "    <tr>\n",
              "      <th>rel_bp_tetha_Cz_s01</th>\n",
              "      <td>1.283702e-01</td>\n",
              "      <td>-0.132646</td>\n",
              "      <td>-0.127958</td>\n",
              "      <td>1.161498e-01</td>\n",
              "      <td>-0.085365</td>\n",
              "      <td>0.202369</td>\n",
              "      <td>1.000000</td>\n",
              "      <td>0.712476</td>\n",
              "      <td>0.215712</td>\n",
              "      <td>-0.562517</td>\n",
              "      <td>-0.025823</td>\n",
              "      <td>0.325725</td>\n",
              "      <td>0.230087</td>\n",
              "      <td>0.037704</td>\n",
              "      <td>-0.005859</td>\n",
              "    </tr>\n",
              "    <tr>\n",
              "      <th>rel_bp_alpha_Cz_s01</th>\n",
              "      <td>3.067344e-01</td>\n",
              "      <td>-0.292489</td>\n",
              "      <td>-0.307869</td>\n",
              "      <td>2.302019e-01</td>\n",
              "      <td>-0.120928</td>\n",
              "      <td>0.076319</td>\n",
              "      <td>0.712476</td>\n",
              "      <td>1.000000</td>\n",
              "      <td>0.549476</td>\n",
              "      <td>-0.719154</td>\n",
              "      <td>0.146448</td>\n",
              "      <td>0.431246</td>\n",
              "      <td>0.560891</td>\n",
              "      <td>0.389263</td>\n",
              "      <td>0.012042</td>\n",
              "    </tr>\n",
              "    <tr>\n",
              "      <th>rel_bp_beta_Cz_s01</th>\n",
              "      <td>-3.213966e-02</td>\n",
              "      <td>0.059406</td>\n",
              "      <td>0.029768</td>\n",
              "      <td>1.689494e-01</td>\n",
              "      <td>0.050675</td>\n",
              "      <td>0.187517</td>\n",
              "      <td>0.215712</td>\n",
              "      <td>0.549476</td>\n",
              "      <td>1.000000</td>\n",
              "      <td>-0.672322</td>\n",
              "      <td>-0.027487</td>\n",
              "      <td>-0.027366</td>\n",
              "      <td>0.106513</td>\n",
              "      <td>0.206051</td>\n",
              "      <td>-0.259283</td>\n",
              "    </tr>\n",
              "    <tr>\n",
              "      <th>rel_bp_gama_Cz_s01</th>\n",
              "      <td>1.673515e-03</td>\n",
              "      <td>-0.022418</td>\n",
              "      <td>0.000123</td>\n",
              "      <td>-1.420528e-01</td>\n",
              "      <td>0.065375</td>\n",
              "      <td>-0.411510</td>\n",
              "      <td>-0.562517</td>\n",
              "      <td>-0.719154</td>\n",
              "      <td>-0.672322</td>\n",
              "      <td>1.000000</td>\n",
              "      <td>0.008610</td>\n",
              "      <td>-0.073754</td>\n",
              "      <td>-0.154348</td>\n",
              "      <td>-0.143883</td>\n",
              "      <td>0.207159</td>\n",
              "    </tr>\n",
              "    <tr>\n",
              "      <th>rel_bp_delta_Cz_s02</th>\n",
              "      <td>8.753223e-01</td>\n",
              "      <td>-0.866851</td>\n",
              "      <td>-0.875772</td>\n",
              "      <td>-5.342043e-02</td>\n",
              "      <td>-0.011847</td>\n",
              "      <td>-0.054127</td>\n",
              "      <td>-0.025823</td>\n",
              "      <td>0.146448</td>\n",
              "      <td>-0.027487</td>\n",
              "      <td>0.008610</td>\n",
              "      <td>1.000000</td>\n",
              "      <td>0.760977</td>\n",
              "      <td>0.732830</td>\n",
              "      <td>0.813816</td>\n",
              "      <td>0.653992</td>\n",
              "    </tr>\n",
              "    <tr>\n",
              "      <th>rel_bp_tetha_Cz_s02</th>\n",
              "      <td>8.400595e-01</td>\n",
              "      <td>-0.837288</td>\n",
              "      <td>-0.840027</td>\n",
              "      <td>1.204492e-01</td>\n",
              "      <td>-0.066410</td>\n",
              "      <td>-0.129108</td>\n",
              "      <td>0.325725</td>\n",
              "      <td>0.431246</td>\n",
              "      <td>-0.027366</td>\n",
              "      <td>-0.073754</td>\n",
              "      <td>0.760977</td>\n",
              "      <td>1.000000</td>\n",
              "      <td>0.925651</td>\n",
              "      <td>0.826063</td>\n",
              "      <td>0.581363</td>\n",
              "    </tr>\n",
              "    <tr>\n",
              "      <th>rel_bp_alpha_Cz_s02</th>\n",
              "      <td>8.432841e-01</td>\n",
              "      <td>-0.832207</td>\n",
              "      <td>-0.843970</td>\n",
              "      <td>1.697477e-01</td>\n",
              "      <td>-0.073357</td>\n",
              "      <td>-0.172069</td>\n",
              "      <td>0.230087</td>\n",
              "      <td>0.560891</td>\n",
              "      <td>0.106513</td>\n",
              "      <td>-0.154348</td>\n",
              "      <td>0.732830</td>\n",
              "      <td>0.925651</td>\n",
              "      <td>1.000000</td>\n",
              "      <td>0.911402</td>\n",
              "      <td>0.522886</td>\n",
              "    </tr>\n",
              "    <tr>\n",
              "      <th>rel_bp_beta_Cz_s02</th>\n",
              "      <td>8.877607e-01</td>\n",
              "      <td>-0.871113</td>\n",
              "      <td>-0.888915</td>\n",
              "      <td>8.713922e-02</td>\n",
              "      <td>-0.004101</td>\n",
              "      <td>-0.119877</td>\n",
              "      <td>0.037704</td>\n",
              "      <td>0.389263</td>\n",
              "      <td>0.206051</td>\n",
              "      <td>-0.143883</td>\n",
              "      <td>0.813816</td>\n",
              "      <td>0.826063</td>\n",
              "      <td>0.911402</td>\n",
              "      <td>1.000000</td>\n",
              "      <td>0.607503</td>\n",
              "    </tr>\n",
              "    <tr>\n",
              "      <th>rel_bp_gama_Cz_s02</th>\n",
              "      <td>8.440788e-01</td>\n",
              "      <td>-0.850521</td>\n",
              "      <td>-0.843248</td>\n",
              "      <td>-2.028715e-01</td>\n",
              "      <td>0.094669</td>\n",
              "      <td>-0.251117</td>\n",
              "      <td>-0.005859</td>\n",
              "      <td>0.012042</td>\n",
              "      <td>-0.259283</td>\n",
              "      <td>0.207159</td>\n",
              "      <td>0.653992</td>\n",
              "      <td>0.581363</td>\n",
              "      <td>0.522886</td>\n",
              "      <td>0.607503</td>\n",
              "      <td>1.000000</td>\n",
              "    </tr>\n",
              "  </tbody>\n",
              "</table>\n",
              "</div>"
            ],
            "text/plain": [
              "                            Group  ...  rel_bp_gama_Cz_s02\n",
              "Group                1.000000e+00  ...            0.844079\n",
              "sess1_Med           -9.965576e-01  ...           -0.850521\n",
              "sess2_Med           -9.999742e-01  ...           -0.843248\n",
              "sex                 -8.118755e-18  ...           -0.202872\n",
              "age                  3.057489e-02  ...            0.094669\n",
              "rel_bp_delta_Cz_s01 -2.043921e-01  ...           -0.251117\n",
              "rel_bp_tetha_Cz_s01  1.283702e-01  ...           -0.005859\n",
              "rel_bp_alpha_Cz_s01  3.067344e-01  ...            0.012042\n",
              "rel_bp_beta_Cz_s01  -3.213966e-02  ...           -0.259283\n",
              "rel_bp_gama_Cz_s01   1.673515e-03  ...            0.207159\n",
              "rel_bp_delta_Cz_s02  8.753223e-01  ...            0.653992\n",
              "rel_bp_tetha_Cz_s02  8.400595e-01  ...            0.581363\n",
              "rel_bp_alpha_Cz_s02  8.432841e-01  ...            0.522886\n",
              "rel_bp_beta_Cz_s02   8.877607e-01  ...            0.607503\n",
              "rel_bp_gama_Cz_s02   8.440788e-01  ...            1.000000\n",
              "\n",
              "[15 rows x 15 columns]"
            ]
          },
          "metadata": {
            "tags": []
          },
          "execution_count": 263
        }
      ]
    },
    {
      "cell_type": "code",
      "metadata": {
        "colab": {
          "base_uri": "https://localhost:8080/",
          "height": 638
        },
        "id": "HmySqMyhfax-",
        "outputId": "57a7243e-210c-4f3c-d20b-0ec039a6ed4e"
      },
      "source": [
        "f = plt.figure(figsize=(14, 10))\n",
        "plt.matshow(result.corr(), fignum=f.number)\n",
        "\n",
        "cb = plt.colorbar()\n",
        "cb.ax.tick_params(labelsize=14)\n",
        "plt.title('Correlation Matrix', fontsize=16);\n",
        "plt.show()"
      ],
      "execution_count": 264,
      "outputs": [
        {
          "output_type": "display_data",
          "data": {
            "image/png": "[encoded data removed]",
            "text/plain": [
              "<Figure size 1008x720 with 2 Axes>"
            ]
          },
          "metadata": {
            "tags": [],
            "needs_background": "light"
          }
        }
      ]
    },
    {
      "cell_type": "markdown",
      "metadata": {
        "id": "EIHe5ET6mAqy"
      },
      "source": [
        "## Correlation Matrix for Parkinsons Participants"
      ]
    },
    {
      "cell_type": "code",
      "metadata": {
        "colab": {
          "base_uri": "https://localhost:8080/",
          "height": 202
        },
        "id": "aerWHTG3l-_L",
        "outputId": "31b37bba-1675-48e0-c3ae-f38197a6f5e4"
      },
      "source": [
        " result = result[result[\"Group\"] == 1]\n",
        " result.head()"
      ],
      "execution_count": 283,
      "outputs": [
        {
          "output_type": "execute_result",
          "data": {
            "text/html": [
              "<div>\n",
              "<style scoped>\n",
              "    .dataframe tbody tr th:only-of-type {\n",
              "        vertical-align: middle;\n",
              "    }\n",
              "\n",
              "    .dataframe tbody tr th {\n",
              "        vertical-align: top;\n",
              "    }\n",
              "\n",
              "    .dataframe thead th {\n",
              "        text-align: right;\n",
              "    }\n",
              "</style>\n",
              "<table border=\"1\" class=\"dataframe\">\n",
              "  <thead>\n",
              "    <tr style=\"text-align: right;\">\n",
              "      <th></th>\n",
              "      <th>participant_id</th>\n",
              "      <th>Group</th>\n",
              "      <th>sess1_Med</th>\n",
              "      <th>sess2_Med</th>\n",
              "      <th>sex</th>\n",
              "      <th>age</th>\n",
              "      <th>rel_bp_delta_Cz_s01</th>\n",
              "      <th>rel_bp_tetha_Cz_s01</th>\n",
              "      <th>rel_bp_alpha_Cz_s01</th>\n",
              "      <th>rel_bp_beta_Cz_s01</th>\n",
              "      <th>rel_bp_gama_Cz_s01</th>\n",
              "      <th>rel_bp_delta_Cz_s02</th>\n",
              "      <th>rel_bp_tetha_Cz_s02</th>\n",
              "      <th>rel_bp_alpha_Cz_s02</th>\n",
              "      <th>rel_bp_beta_Cz_s02</th>\n",
              "      <th>rel_bp_gama_Cz_s02</th>\n",
              "    </tr>\n",
              "  </thead>\n",
              "  <tbody>\n",
              "    <tr>\n",
              "      <th>1</th>\n",
              "      <td>sub-002</td>\n",
              "      <td>1</td>\n",
              "      <td>1.0</td>\n",
              "      <td>0</td>\n",
              "      <td>0</td>\n",
              "      <td>60</td>\n",
              "      <td>0.412203</td>\n",
              "      <td>0.115601</td>\n",
              "      <td>0.101370</td>\n",
              "      <td>0.126992</td>\n",
              "      <td>0.384096</td>\n",
              "      <td>0.293444</td>\n",
              "      <td>0.134775</td>\n",
              "      <td>0.122901</td>\n",
              "      <td>0.183026</td>\n",
              "      <td>0.322062</td>\n",
              "    </tr>\n",
              "    <tr>\n",
              "      <th>2</th>\n",
              "      <td>sub-003</td>\n",
              "      <td>1</td>\n",
              "      <td>0.0</td>\n",
              "      <td>1</td>\n",
              "      <td>1</td>\n",
              "      <td>75</td>\n",
              "      <td>0.162433</td>\n",
              "      <td>0.246097</td>\n",
              "      <td>0.158077</td>\n",
              "      <td>0.221605</td>\n",
              "      <td>0.321814</td>\n",
              "      <td>0.214383</td>\n",
              "      <td>0.316879</td>\n",
              "      <td>0.193108</td>\n",
              "      <td>0.210131</td>\n",
              "      <td>0.240782</td>\n",
              "    </tr>\n",
              "    <tr>\n",
              "      <th>3</th>\n",
              "      <td>sub-004</td>\n",
              "      <td>1</td>\n",
              "      <td>0.0</td>\n",
              "      <td>1</td>\n",
              "      <td>0</td>\n",
              "      <td>76</td>\n",
              "      <td>0.036183</td>\n",
              "      <td>0.028513</td>\n",
              "      <td>0.026589</td>\n",
              "      <td>0.079157</td>\n",
              "      <td>0.445105</td>\n",
              "      <td>0.313359</td>\n",
              "      <td>0.155954</td>\n",
              "      <td>0.145428</td>\n",
              "      <td>0.238119</td>\n",
              "      <td>0.323778</td>\n",
              "    </tr>\n",
              "    <tr>\n",
              "      <th>4</th>\n",
              "      <td>sub-005</td>\n",
              "      <td>1</td>\n",
              "      <td>1.0</td>\n",
              "      <td>0</td>\n",
              "      <td>1</td>\n",
              "      <td>75</td>\n",
              "      <td>0.275236</td>\n",
              "      <td>0.116899</td>\n",
              "      <td>0.068510</td>\n",
              "      <td>0.127009</td>\n",
              "      <td>0.442642</td>\n",
              "      <td>0.298485</td>\n",
              "      <td>0.136728</td>\n",
              "      <td>0.070761</td>\n",
              "      <td>0.106484</td>\n",
              "      <td>0.448128</td>\n",
              "    </tr>\n",
              "    <tr>\n",
              "      <th>5</th>\n",
              "      <td>sub-006</td>\n",
              "      <td>1</td>\n",
              "      <td>1.0</td>\n",
              "      <td>0</td>\n",
              "      <td>1</td>\n",
              "      <td>79</td>\n",
              "      <td>0.130054</td>\n",
              "      <td>0.125252</td>\n",
              "      <td>0.148008</td>\n",
              "      <td>0.391698</td>\n",
              "      <td>0.189245</td>\n",
              "      <td>0.147784</td>\n",
              "      <td>0.116841</td>\n",
              "      <td>0.142258</td>\n",
              "      <td>0.354640</td>\n",
              "      <td>0.249235</td>\n",
              "    </tr>\n",
              "  </tbody>\n",
              "</table>\n",
              "</div>"
            ],
            "text/plain": [
              "  participant_id  Group  ...  rel_bp_beta_Cz_s02  rel_bp_gama_Cz_s02\n",
              "1        sub-002      1  ...            0.183026            0.322062\n",
              "2        sub-003      1  ...            0.210131            0.240782\n",
              "3        sub-004      1  ...            0.238119            0.323778\n",
              "4        sub-005      1  ...            0.106484            0.448128\n",
              "5        sub-006      1  ...            0.354640            0.249235\n",
              "\n",
              "[5 rows x 16 columns]"
            ]
          },
          "metadata": {
            "tags": []
          },
          "execution_count": 283
        }
      ]
    },
    {
      "cell_type": "code",
      "metadata": {
        "colab": {
          "base_uri": "https://localhost:8080/",
          "height": 642
        },
        "id": "ETqcEQLjmEvg",
        "outputId": "22c5da03-c2e1-4fec-e0bb-bcd38884ac87"
      },
      "source": [
        "f = plt.figure(figsize=(14, 10))\n",
        "plt.matshow(result.corr(), fignum=f.number)\n",
        "\n",
        "cb = plt.colorbar()\n",
        "cb.ax.tick_params(labelsize=14)\n",
        "plt.title('Correlation Matrix', fontsize=16);\n",
        "plt.show()"
      ],
      "execution_count": 284,
      "outputs": [
        {
          "output_type": "display_data",
          "data": {
            "image/png": "[encoded data removed]",
            "text/plain": [
              "<Figure size 1008x720 with 2 Axes>"
            ]
          },
          "metadata": {
            "tags": [],
            "needs_background": "light"
          }
        }
      ]
    },
    {
      "cell_type": "markdown",
      "metadata": {
        "id": "ryqrHJr-QbxK"
      },
      "source": [
        "# Import stats dataset"
      ]
    },
    {
      "cell_type": "code",
      "metadata": {
        "id": "3x5bv1Ff8VrJ"
      },
      "source": [
        "commom_path_ = \"https://raw.githubusercontent.com/OptionalLanguor/datasci4health/dev/data/interim/\"\n",
        "\n",
        "\n",
        "participants_list = [[] for i in range(56)]\n",
        "\n",
        "d = {0}\n",
        "\n",
        "df_ = pd.DataFrame(d)\n",
        "df_ = df_.fillna(0) # with 0s rather than NaNs\n",
        "\n",
        "for sub in range(56):\n",
        "  data_set_name = \"sub-{0:03d}_ses-01_task-SimonConflict_eeg_stats.csv\".format(sub + 1)\n",
        "\n",
        "  url_participants = commom_path_ + data_set_name\n",
        "  \n",
        "  participants_list[sub].append(pd.read_csv(url_participants))\n",
        "\n",
        "  data_set_name = \"sub-{0:03d}_ses-02_task-SimonConflict_eeg_stats.csv\".format(sub + 1)\n",
        "\n",
        "  url_participants = commom_path_ + data_set_name\n",
        "  try:\n",
        "    participants_list[sub].append(pd.read_csv(url_participants))\n",
        "\n",
        "  except:\n",
        "    participants_list[sub].append(df_)"
      ],
      "execution_count": 257,
      "outputs": []
    },
    {
      "cell_type": "markdown",
      "metadata": {
        "id": "plo-BvGbfZRk"
      },
      "source": [
        "## Creating an empty dataset"
      ]
    },
    {
      "cell_type": "code",
      "metadata": {
        "id": "5gMhWPsiZ6CC"
      },
      "source": [
        "df = {\"Cz_mean_s1\":[], \"Cz_mean_s2\":[], \"Cz_std_s1\":[], \"Cz_std_s2\":[], \"Cz_min_s1\":[], \"Cz_min_s2\":[], \"Cz_max_s1\":[], \"Cz_max_s2\":[], \"Cz_25%_s1\":[], \"Cz_25%_s2\":[], \"Cz_50%_s1\":[], \"Cz_50%_s2\":[], \"Cz_75%_s1\":[], \"Cz_75%_s2\":[]}"
      ],
      "execution_count": 285,
      "outputs": []
    },
    {
      "cell_type": "markdown",
      "metadata": {
        "id": "IaNItqOYfdy2"
      },
      "source": [
        "## Importing all data into new dataframe"
      ]
    },
    {
      "cell_type": "code",
      "metadata": {
        "id": "9sAAJGczP2a4"
      },
      "source": [
        "index_count = 2\n",
        "count = 0\n",
        "\n",
        "while index_count < 9:\n",
        "  my_index = 'Cz_' + participants_list[count][0].keys()[index_count] + '_s1'\n",
        "\n",
        "  df[my_index].append(participants_list[count][0][participants_list[count][0].keys()[index_count]][24])\n",
        "  \n",
        "  my_index = 'Cz_' + participants_list[count][0].keys()[index_count] + '_s2'\n",
        "\n",
        "  try:\n",
        "    df[my_index].append(participants_list[count][1][participants_list[count][0].keys()[index_count]][24])\n",
        "    \n",
        "  except:\n",
        "    df[my_index].append(0)\n",
        "\n",
        "  count += 1\n",
        "\n",
        "  if count == len(participants_list):\n",
        "    index_count += 1\n",
        "    count = 0\n",
        "\n"
      ],
      "execution_count": 286,
      "outputs": []
    },
    {
      "cell_type": "markdown",
      "metadata": {
        "id": "iU8ZCComgZcN"
      },
      "source": [
        "# Converting to dataframe"
      ]
    },
    {
      "cell_type": "code",
      "metadata": {
        "colab": {
          "base_uri": "https://localhost:8080/",
          "height": 202
        },
        "id": "b89YlqaoeFxo",
        "outputId": "651bb72b-6c6a-4a4c-c093-712b1487e116"
      },
      "source": [
        "df_ = pd.DataFrame(data=df)\n",
        "df_.head()"
      ],
      "execution_count": 287,
      "outputs": [
        {
          "output_type": "execute_result",
          "data": {
            "text/html": [
              "<div>\n",
              "<style scoped>\n",
              "    .dataframe tbody tr th:only-of-type {\n",
              "        vertical-align: middle;\n",
              "    }\n",
              "\n",
              "    .dataframe tbody tr th {\n",
              "        vertical-align: top;\n",
              "    }\n",
              "\n",
              "    .dataframe thead th {\n",
              "        text-align: right;\n",
              "    }\n",
              "</style>\n",
              "<table border=\"1\" class=\"dataframe\">\n",
              "  <thead>\n",
              "    <tr style=\"text-align: right;\">\n",
              "      <th></th>\n",
              "      <th>Cz_mean_s1</th>\n",
              "      <th>Cz_mean_s2</th>\n",
              "      <th>Cz_std_s1</th>\n",
              "      <th>Cz_std_s2</th>\n",
              "      <th>Cz_min_s1</th>\n",
              "      <th>Cz_min_s2</th>\n",
              "      <th>Cz_max_s1</th>\n",
              "      <th>Cz_max_s2</th>\n",
              "      <th>Cz_25%_s1</th>\n",
              "      <th>Cz_25%_s2</th>\n",
              "      <th>Cz_50%_s1</th>\n",
              "      <th>Cz_50%_s2</th>\n",
              "      <th>Cz_75%_s1</th>\n",
              "      <th>Cz_75%_s2</th>\n",
              "    </tr>\n",
              "  </thead>\n",
              "  <tbody>\n",
              "    <tr>\n",
              "      <th>0</th>\n",
              "      <td>9894.237877</td>\n",
              "      <td>0.000000</td>\n",
              "      <td>1078.875559</td>\n",
              "      <td>0.000000</td>\n",
              "      <td>7065.527344</td>\n",
              "      <td>0.000000</td>\n",
              "      <td>11240.820312</td>\n",
              "      <td>0.000000</td>\n",
              "      <td>9126.513672</td>\n",
              "      <td>0.000000</td>\n",
              "      <td>9952.490234</td>\n",
              "      <td>0.000000</td>\n",
              "      <td>10924.414062</td>\n",
              "      <td>0.000000</td>\n",
              "    </tr>\n",
              "    <tr>\n",
              "      <th>1</th>\n",
              "      <td>8346.863790</td>\n",
              "      <td>-2453.940964</td>\n",
              "      <td>276.718066</td>\n",
              "      <td>282.798644</td>\n",
              "      <td>7922.119141</td>\n",
              "      <td>-2839.013672</td>\n",
              "      <td>8968.115234</td>\n",
              "      <td>-1744.921875</td>\n",
              "      <td>8121.044922</td>\n",
              "      <td>-2693.945312</td>\n",
              "      <td>8258.935547</td>\n",
              "      <td>-2515.136719</td>\n",
              "      <td>8522.241211</td>\n",
              "      <td>-2206.933594</td>\n",
              "    </tr>\n",
              "    <tr>\n",
              "      <th>2</th>\n",
              "      <td>-14481.515522</td>\n",
              "      <td>-3447.259966</td>\n",
              "      <td>1607.247552</td>\n",
              "      <td>1045.362460</td>\n",
              "      <td>-16720.605469</td>\n",
              "      <td>-5597.363281</td>\n",
              "      <td>-10322.802734</td>\n",
              "      <td>-1678.955078</td>\n",
              "      <td>-15789.990234</td>\n",
              "      <td>-4059.130859</td>\n",
              "      <td>-14770.166016</td>\n",
              "      <td>-3563.281250</td>\n",
              "      <td>-13378.857422</td>\n",
              "      <td>-2524.560547</td>\n",
              "    </tr>\n",
              "    <tr>\n",
              "      <th>3</th>\n",
              "      <td>1440.392564</td>\n",
              "      <td>-4269.264026</td>\n",
              "      <td>342.704833</td>\n",
              "      <td>1063.426040</td>\n",
              "      <td>956.542969</td>\n",
              "      <td>-6137.060547</td>\n",
              "      <td>2069.384766</td>\n",
              "      <td>-2400.830078</td>\n",
              "      <td>1126.806641</td>\n",
              "      <td>-5268.505859</td>\n",
              "      <td>1435.156250</td>\n",
              "      <td>-4184.472656</td>\n",
              "      <td>1732.324219</td>\n",
              "      <td>-3409.667969</td>\n",
              "    </tr>\n",
              "    <tr>\n",
              "      <th>4</th>\n",
              "      <td>4287.420206</td>\n",
              "      <td>3260.026641</td>\n",
              "      <td>135.594173</td>\n",
              "      <td>473.846596</td>\n",
              "      <td>3862.841797</td>\n",
              "      <td>1439.355469</td>\n",
              "      <td>4485.498047</td>\n",
              "      <td>3773.925781</td>\n",
              "      <td>4199.365234</td>\n",
              "      <td>3155.078125</td>\n",
              "      <td>4321.386719</td>\n",
              "      <td>3340.039062</td>\n",
              "      <td>4391.455078</td>\n",
              "      <td>3615.722656</td>\n",
              "    </tr>\n",
              "  </tbody>\n",
              "</table>\n",
              "</div>"
            ],
            "text/plain": [
              "     Cz_mean_s1   Cz_mean_s2  ...     Cz_75%_s1    Cz_75%_s2\n",
              "0   9894.237877     0.000000  ...  10924.414062     0.000000\n",
              "1   8346.863790 -2453.940964  ...   8522.241211 -2206.933594\n",
              "2 -14481.515522 -3447.259966  ... -13378.857422 -2524.560547\n",
              "3   1440.392564 -4269.264026  ...   1732.324219 -3409.667969\n",
              "4   4287.420206  3260.026641  ...   4391.455078  3615.722656\n",
              "\n",
              "[5 rows x 14 columns]"
            ]
          },
          "metadata": {
            "tags": []
          },
          "execution_count": 287
        }
      ]
    },
    {
      "cell_type": "markdown",
      "metadata": {
        "id": "qDLbspK-gzIw"
      },
      "source": [
        "# Merge dataframes Stats with Participants"
      ]
    },
    {
      "cell_type": "code",
      "metadata": {
        "colab": {
          "base_uri": "https://localhost:8080/",
          "height": 202
        },
        "id": "xpE_V7sngy0C",
        "outputId": "93a00399-8181-4747-e27e-c33611247270"
      },
      "source": [
        "result = pd.concat([participants, df_], axis=1)\n",
        "result.head()"
      ],
      "execution_count": 288,
      "outputs": [
        {
          "output_type": "execute_result",
          "data": {
            "text/html": [
              "<div>\n",
              "<style scoped>\n",
              "    .dataframe tbody tr th:only-of-type {\n",
              "        vertical-align: middle;\n",
              "    }\n",
              "\n",
              "    .dataframe tbody tr th {\n",
              "        vertical-align: top;\n",
              "    }\n",
              "\n",
              "    .dataframe thead th {\n",
              "        text-align: right;\n",
              "    }\n",
              "</style>\n",
              "<table border=\"1\" class=\"dataframe\">\n",
              "  <thead>\n",
              "    <tr style=\"text-align: right;\">\n",
              "      <th></th>\n",
              "      <th>participant_id</th>\n",
              "      <th>Original_ID</th>\n",
              "      <th>Group</th>\n",
              "      <th>sess1_Med</th>\n",
              "      <th>sess2_Med</th>\n",
              "      <th>sex</th>\n",
              "      <th>age</th>\n",
              "      <th>Cz_mean_s1</th>\n",
              "      <th>Cz_mean_s2</th>\n",
              "      <th>Cz_std_s1</th>\n",
              "      <th>Cz_std_s2</th>\n",
              "      <th>Cz_min_s1</th>\n",
              "      <th>Cz_min_s2</th>\n",
              "      <th>Cz_max_s1</th>\n",
              "      <th>Cz_max_s2</th>\n",
              "      <th>Cz_25%_s1</th>\n",
              "      <th>Cz_25%_s2</th>\n",
              "      <th>Cz_50%_s1</th>\n",
              "      <th>Cz_50%_s2</th>\n",
              "      <th>Cz_75%_s1</th>\n",
              "      <th>Cz_75%_s2</th>\n",
              "    </tr>\n",
              "  </thead>\n",
              "  <tbody>\n",
              "    <tr>\n",
              "      <th>0</th>\n",
              "      <td>sub-001</td>\n",
              "      <td>8010</td>\n",
              "      <td>0</td>\n",
              "      <td>9.0</td>\n",
              "      <td>99</td>\n",
              "      <td>0</td>\n",
              "      <td>61</td>\n",
              "      <td>9894.237877</td>\n",
              "      <td>0.000000</td>\n",
              "      <td>1078.875559</td>\n",
              "      <td>0.000000</td>\n",
              "      <td>7065.527344</td>\n",
              "      <td>0.000000</td>\n",
              "      <td>11240.820312</td>\n",
              "      <td>0.000000</td>\n",
              "      <td>9126.513672</td>\n",
              "      <td>0.000000</td>\n",
              "      <td>9952.490234</td>\n",
              "      <td>0.000000</td>\n",
              "      <td>10924.414062</td>\n",
              "      <td>0.000000</td>\n",
              "    </tr>\n",
              "    <tr>\n",
              "      <th>1</th>\n",
              "      <td>sub-002</td>\n",
              "      <td>801</td>\n",
              "      <td>1</td>\n",
              "      <td>1.0</td>\n",
              "      <td>0</td>\n",
              "      <td>0</td>\n",
              "      <td>60</td>\n",
              "      <td>8346.863790</td>\n",
              "      <td>-2453.940964</td>\n",
              "      <td>276.718066</td>\n",
              "      <td>282.798644</td>\n",
              "      <td>7922.119141</td>\n",
              "      <td>-2839.013672</td>\n",
              "      <td>8968.115234</td>\n",
              "      <td>-1744.921875</td>\n",
              "      <td>8121.044922</td>\n",
              "      <td>-2693.945312</td>\n",
              "      <td>8258.935547</td>\n",
              "      <td>-2515.136719</td>\n",
              "      <td>8522.241211</td>\n",
              "      <td>-2206.933594</td>\n",
              "    </tr>\n",
              "    <tr>\n",
              "      <th>2</th>\n",
              "      <td>sub-003</td>\n",
              "      <td>802</td>\n",
              "      <td>1</td>\n",
              "      <td>0.0</td>\n",
              "      <td>1</td>\n",
              "      <td>1</td>\n",
              "      <td>75</td>\n",
              "      <td>-14481.515522</td>\n",
              "      <td>-3447.259966</td>\n",
              "      <td>1607.247552</td>\n",
              "      <td>1045.362460</td>\n",
              "      <td>-16720.605469</td>\n",
              "      <td>-5597.363281</td>\n",
              "      <td>-10322.802734</td>\n",
              "      <td>-1678.955078</td>\n",
              "      <td>-15789.990234</td>\n",
              "      <td>-4059.130859</td>\n",
              "      <td>-14770.166016</td>\n",
              "      <td>-3563.281250</td>\n",
              "      <td>-13378.857422</td>\n",
              "      <td>-2524.560547</td>\n",
              "    </tr>\n",
              "    <tr>\n",
              "      <th>3</th>\n",
              "      <td>sub-004</td>\n",
              "      <td>803</td>\n",
              "      <td>1</td>\n",
              "      <td>0.0</td>\n",
              "      <td>1</td>\n",
              "      <td>0</td>\n",
              "      <td>76</td>\n",
              "      <td>1440.392564</td>\n",
              "      <td>-4269.264026</td>\n",
              "      <td>342.704833</td>\n",
              "      <td>1063.426040</td>\n",
              "      <td>956.542969</td>\n",
              "      <td>-6137.060547</td>\n",
              "      <td>2069.384766</td>\n",
              "      <td>-2400.830078</td>\n",
              "      <td>1126.806641</td>\n",
              "      <td>-5268.505859</td>\n",
              "      <td>1435.156250</td>\n",
              "      <td>-4184.472656</td>\n",
              "      <td>1732.324219</td>\n",
              "      <td>-3409.667969</td>\n",
              "    </tr>\n",
              "    <tr>\n",
              "      <th>4</th>\n",
              "      <td>sub-005</td>\n",
              "      <td>804</td>\n",
              "      <td>1</td>\n",
              "      <td>1.0</td>\n",
              "      <td>0</td>\n",
              "      <td>1</td>\n",
              "      <td>75</td>\n",
              "      <td>4287.420206</td>\n",
              "      <td>3260.026641</td>\n",
              "      <td>135.594173</td>\n",
              "      <td>473.846596</td>\n",
              "      <td>3862.841797</td>\n",
              "      <td>1439.355469</td>\n",
              "      <td>4485.498047</td>\n",
              "      <td>3773.925781</td>\n",
              "      <td>4199.365234</td>\n",
              "      <td>3155.078125</td>\n",
              "      <td>4321.386719</td>\n",
              "      <td>3340.039062</td>\n",
              "      <td>4391.455078</td>\n",
              "      <td>3615.722656</td>\n",
              "    </tr>\n",
              "  </tbody>\n",
              "</table>\n",
              "</div>"
            ],
            "text/plain": [
              "  participant_id  Original_ID  Group  ...    Cz_50%_s2     Cz_75%_s1    Cz_75%_s2\n",
              "0        sub-001         8010      0  ...     0.000000  10924.414062     0.000000\n",
              "1        sub-002          801      1  ... -2515.136719   8522.241211 -2206.933594\n",
              "2        sub-003          802      1  ... -3563.281250 -13378.857422 -2524.560547\n",
              "3        sub-004          803      1  ... -4184.472656   1732.324219 -3409.667969\n",
              "4        sub-005          804      1  ...  3340.039062   4391.455078  3615.722656\n",
              "\n",
              "[5 rows x 21 columns]"
            ]
          },
          "metadata": {
            "tags": []
          },
          "execution_count": 288
        }
      ]
    },
    {
      "cell_type": "markdown",
      "metadata": {
        "id": "ntfjNYNJiJFc"
      },
      "source": [
        "# Removing Original_ID Column"
      ]
    },
    {
      "cell_type": "code",
      "metadata": {
        "colab": {
          "base_uri": "https://localhost:8080/",
          "height": 202
        },
        "id": "MzY5em52hw24",
        "outputId": "eb338a69-df3e-4423-ea6e-910fce56c2a5"
      },
      "source": [
        "result = result.drop(['Original_ID'], axis=1)\n",
        "result.head()"
      ],
      "execution_count": 289,
      "outputs": [
        {
          "output_type": "execute_result",
          "data": {
            "text/html": [
              "<div>\n",
              "<style scoped>\n",
              "    .dataframe tbody tr th:only-of-type {\n",
              "        vertical-align: middle;\n",
              "    }\n",
              "\n",
              "    .dataframe tbody tr th {\n",
              "        vertical-align: top;\n",
              "    }\n",
              "\n",
              "    .dataframe thead th {\n",
              "        text-align: right;\n",
              "    }\n",
              "</style>\n",
              "<table border=\"1\" class=\"dataframe\">\n",
              "  <thead>\n",
              "    <tr style=\"text-align: right;\">\n",
              "      <th></th>\n",
              "      <th>participant_id</th>\n",
              "      <th>Group</th>\n",
              "      <th>sess1_Med</th>\n",
              "      <th>sess2_Med</th>\n",
              "      <th>sex</th>\n",
              "      <th>age</th>\n",
              "      <th>Cz_mean_s1</th>\n",
              "      <th>Cz_mean_s2</th>\n",
              "      <th>Cz_std_s1</th>\n",
              "      <th>Cz_std_s2</th>\n",
              "      <th>Cz_min_s1</th>\n",
              "      <th>Cz_min_s2</th>\n",
              "      <th>Cz_max_s1</th>\n",
              "      <th>Cz_max_s2</th>\n",
              "      <th>Cz_25%_s1</th>\n",
              "      <th>Cz_25%_s2</th>\n",
              "      <th>Cz_50%_s1</th>\n",
              "      <th>Cz_50%_s2</th>\n",
              "      <th>Cz_75%_s1</th>\n",
              "      <th>Cz_75%_s2</th>\n",
              "    </tr>\n",
              "  </thead>\n",
              "  <tbody>\n",
              "    <tr>\n",
              "      <th>0</th>\n",
              "      <td>sub-001</td>\n",
              "      <td>0</td>\n",
              "      <td>9.0</td>\n",
              "      <td>99</td>\n",
              "      <td>0</td>\n",
              "      <td>61</td>\n",
              "      <td>9894.237877</td>\n",
              "      <td>0.000000</td>\n",
              "      <td>1078.875559</td>\n",
              "      <td>0.000000</td>\n",
              "      <td>7065.527344</td>\n",
              "      <td>0.000000</td>\n",
              "      <td>11240.820312</td>\n",
              "      <td>0.000000</td>\n",
              "      <td>9126.513672</td>\n",
              "      <td>0.000000</td>\n",
              "      <td>9952.490234</td>\n",
              "      <td>0.000000</td>\n",
              "      <td>10924.414062</td>\n",
              "      <td>0.000000</td>\n",
              "    </tr>\n",
              "    <tr>\n",
              "      <th>1</th>\n",
              "      <td>sub-002</td>\n",
              "      <td>1</td>\n",
              "      <td>1.0</td>\n",
              "      <td>0</td>\n",
              "      <td>0</td>\n",
              "      <td>60</td>\n",
              "      <td>8346.863790</td>\n",
              "      <td>-2453.940964</td>\n",
              "      <td>276.718066</td>\n",
              "      <td>282.798644</td>\n",
              "      <td>7922.119141</td>\n",
              "      <td>-2839.013672</td>\n",
              "      <td>8968.115234</td>\n",
              "      <td>-1744.921875</td>\n",
              "      <td>8121.044922</td>\n",
              "      <td>-2693.945312</td>\n",
              "      <td>8258.935547</td>\n",
              "      <td>-2515.136719</td>\n",
              "      <td>8522.241211</td>\n",
              "      <td>-2206.933594</td>\n",
              "    </tr>\n",
              "    <tr>\n",
              "      <th>2</th>\n",
              "      <td>sub-003</td>\n",
              "      <td>1</td>\n",
              "      <td>0.0</td>\n",
              "      <td>1</td>\n",
              "      <td>1</td>\n",
              "      <td>75</td>\n",
              "      <td>-14481.515522</td>\n",
              "      <td>-3447.259966</td>\n",
              "      <td>1607.247552</td>\n",
              "      <td>1045.362460</td>\n",
              "      <td>-16720.605469</td>\n",
              "      <td>-5597.363281</td>\n",
              "      <td>-10322.802734</td>\n",
              "      <td>-1678.955078</td>\n",
              "      <td>-15789.990234</td>\n",
              "      <td>-4059.130859</td>\n",
              "      <td>-14770.166016</td>\n",
              "      <td>-3563.281250</td>\n",
              "      <td>-13378.857422</td>\n",
              "      <td>-2524.560547</td>\n",
              "    </tr>\n",
              "    <tr>\n",
              "      <th>3</th>\n",
              "      <td>sub-004</td>\n",
              "      <td>1</td>\n",
              "      <td>0.0</td>\n",
              "      <td>1</td>\n",
              "      <td>0</td>\n",
              "      <td>76</td>\n",
              "      <td>1440.392564</td>\n",
              "      <td>-4269.264026</td>\n",
              "      <td>342.704833</td>\n",
              "      <td>1063.426040</td>\n",
              "      <td>956.542969</td>\n",
              "      <td>-6137.060547</td>\n",
              "      <td>2069.384766</td>\n",
              "      <td>-2400.830078</td>\n",
              "      <td>1126.806641</td>\n",
              "      <td>-5268.505859</td>\n",
              "      <td>1435.156250</td>\n",
              "      <td>-4184.472656</td>\n",
              "      <td>1732.324219</td>\n",
              "      <td>-3409.667969</td>\n",
              "    </tr>\n",
              "    <tr>\n",
              "      <th>4</th>\n",
              "      <td>sub-005</td>\n",
              "      <td>1</td>\n",
              "      <td>1.0</td>\n",
              "      <td>0</td>\n",
              "      <td>1</td>\n",
              "      <td>75</td>\n",
              "      <td>4287.420206</td>\n",
              "      <td>3260.026641</td>\n",
              "      <td>135.594173</td>\n",
              "      <td>473.846596</td>\n",
              "      <td>3862.841797</td>\n",
              "      <td>1439.355469</td>\n",
              "      <td>4485.498047</td>\n",
              "      <td>3773.925781</td>\n",
              "      <td>4199.365234</td>\n",
              "      <td>3155.078125</td>\n",
              "      <td>4321.386719</td>\n",
              "      <td>3340.039062</td>\n",
              "      <td>4391.455078</td>\n",
              "      <td>3615.722656</td>\n",
              "    </tr>\n",
              "  </tbody>\n",
              "</table>\n",
              "</div>"
            ],
            "text/plain": [
              "  participant_id  Group  sess1_Med  ...    Cz_50%_s2     Cz_75%_s1    Cz_75%_s2\n",
              "0        sub-001      0        9.0  ...     0.000000  10924.414062     0.000000\n",
              "1        sub-002      1        1.0  ... -2515.136719   8522.241211 -2206.933594\n",
              "2        sub-003      1        0.0  ... -3563.281250 -13378.857422 -2524.560547\n",
              "3        sub-004      1        0.0  ... -4184.472656   1732.324219 -3409.667969\n",
              "4        sub-005      1        1.0  ...  3340.039062   4391.455078  3615.722656\n",
              "\n",
              "[5 rows x 20 columns]"
            ]
          },
          "metadata": {
            "tags": []
          },
          "execution_count": 289
        }
      ]
    },
    {
      "cell_type": "markdown",
      "metadata": {
        "id": "Hj_oOMdShc55"
      },
      "source": [
        "# Correlation"
      ]
    },
    {
      "cell_type": "code",
      "metadata": {
        "colab": {
          "base_uri": "https://localhost:8080/",
          "height": 794
        },
        "id": "4PtN2ypnhfKo",
        "outputId": "ee7b56dd-bd75-4fa0-f1c3-3a5a02c51b56"
      },
      "source": [
        "result.corr()"
      ],
      "execution_count": null,
      "outputs": [
        {
          "output_type": "execute_result",
          "data": {
            "text/html": [
              "<div>\n",
              "<style scoped>\n",
              "    .dataframe tbody tr th:only-of-type {\n",
              "        vertical-align: middle;\n",
              "    }\n",
              "\n",
              "    .dataframe tbody tr th {\n",
              "        vertical-align: top;\n",
              "    }\n",
              "\n",
              "    .dataframe thead th {\n",
              "        text-align: right;\n",
              "    }\n",
              "</style>\n",
              "<table border=\"1\" class=\"dataframe\">\n",
              "  <thead>\n",
              "    <tr style=\"text-align: right;\">\n",
              "      <th></th>\n",
              "      <th>Group</th>\n",
              "      <th>sess1_Med</th>\n",
              "      <th>sess2_Med</th>\n",
              "      <th>sex</th>\n",
              "      <th>age</th>\n",
              "      <th>Cz_mean_s1</th>\n",
              "      <th>Cz_mean_s2</th>\n",
              "      <th>Cz_std_s1</th>\n",
              "      <th>Cz_std_s2</th>\n",
              "      <th>Cz_min_s1</th>\n",
              "      <th>Cz_min_s2</th>\n",
              "      <th>Cz_max_s1</th>\n",
              "      <th>Cz_max_s2</th>\n",
              "      <th>Cz_25%_s1</th>\n",
              "      <th>Cz_25%_s2</th>\n",
              "      <th>Cz_50%_s1</th>\n",
              "      <th>Cz_50%_s2</th>\n",
              "      <th>Cz_75%_s1</th>\n",
              "      <th>Cz_75%_s2</th>\n",
              "    </tr>\n",
              "  </thead>\n",
              "  <tbody>\n",
              "    <tr>\n",
              "      <th>Group</th>\n",
              "      <td>1.000000e+00</td>\n",
              "      <td>-0.996558</td>\n",
              "      <td>-0.999974</td>\n",
              "      <td>-8.118755e-18</td>\n",
              "      <td>0.030575</td>\n",
              "      <td>0.017108</td>\n",
              "      <td>-0.046324</td>\n",
              "      <td>-0.127926</td>\n",
              "      <td>0.149850</td>\n",
              "      <td>0.049697</td>\n",
              "      <td>-0.133071</td>\n",
              "      <td>0.107370</td>\n",
              "      <td>0.155161</td>\n",
              "      <td>0.028996</td>\n",
              "      <td>0.080951</td>\n",
              "      <td>0.009418</td>\n",
              "      <td>0.132027</td>\n",
              "      <td>0.001979</td>\n",
              "      <td>0.175743</td>\n",
              "    </tr>\n",
              "    <tr>\n",
              "      <th>sess1_Med</th>\n",
              "      <td>-9.965576e-01</td>\n",
              "      <td>1.000000</td>\n",
              "      <td>0.995937</td>\n",
              "      <td>1.286038e-02</td>\n",
              "      <td>-0.045525</td>\n",
              "      <td>-0.005769</td>\n",
              "      <td>0.068134</td>\n",
              "      <td>0.124596</td>\n",
              "      <td>-0.165051</td>\n",
              "      <td>-0.040387</td>\n",
              "      <td>0.149546</td>\n",
              "      <td>-0.088583</td>\n",
              "      <td>-0.169015</td>\n",
              "      <td>-0.017304</td>\n",
              "      <td>-0.064242</td>\n",
              "      <td>0.001918</td>\n",
              "      <td>-0.115317</td>\n",
              "      <td>0.008813</td>\n",
              "      <td>-0.159639</td>\n",
              "    </tr>\n",
              "    <tr>\n",
              "      <th>sess2_Med</th>\n",
              "      <td>-9.999742e-01</td>\n",
              "      <td>0.995937</td>\n",
              "      <td>1.000000</td>\n",
              "      <td>-1.113584e-03</td>\n",
              "      <td>-0.029270</td>\n",
              "      <td>-0.018084</td>\n",
              "      <td>0.044420</td>\n",
              "      <td>0.128173</td>\n",
              "      <td>-0.148485</td>\n",
              "      <td>-0.050487</td>\n",
              "      <td>0.131602</td>\n",
              "      <td>-0.108962</td>\n",
              "      <td>-0.153912</td>\n",
              "      <td>-0.029999</td>\n",
              "      <td>-0.082372</td>\n",
              "      <td>-0.010397</td>\n",
              "      <td>-0.133432</td>\n",
              "      <td>-0.002913</td>\n",
              "      <td>-0.177081</td>\n",
              "    </tr>\n",
              "    <tr>\n",
              "      <th>sex</th>\n",
              "      <td>-8.118755e-18</td>\n",
              "      <td>0.012860</td>\n",
              "      <td>-0.001114</td>\n",
              "      <td>1.000000e+00</td>\n",
              "      <td>0.273818</td>\n",
              "      <td>0.121421</td>\n",
              "      <td>-0.000078</td>\n",
              "      <td>0.106950</td>\n",
              "      <td>0.111603</td>\n",
              "      <td>0.081572</td>\n",
              "      <td>-0.095944</td>\n",
              "      <td>-0.088769</td>\n",
              "      <td>0.125169</td>\n",
              "      <td>0.110087</td>\n",
              "      <td>0.165047</td>\n",
              "      <td>0.124252</td>\n",
              "      <td>0.174377</td>\n",
              "      <td>0.132099</td>\n",
              "      <td>0.184307</td>\n",
              "    </tr>\n",
              "    <tr>\n",
              "      <th>age</th>\n",
              "      <td>3.057489e-02</td>\n",
              "      <td>-0.045525</td>\n",
              "      <td>-0.029270</td>\n",
              "      <td>2.738180e-01</td>\n",
              "      <td>1.000000</td>\n",
              "      <td>0.121221</td>\n",
              "      <td>-0.100458</td>\n",
              "      <td>0.092323</td>\n",
              "      <td>0.131778</td>\n",
              "      <td>0.097280</td>\n",
              "      <td>-0.130134</td>\n",
              "      <td>0.118506</td>\n",
              "      <td>0.132029</td>\n",
              "      <td>0.111410</td>\n",
              "      <td>0.017755</td>\n",
              "      <td>0.118506</td>\n",
              "      <td>0.022401</td>\n",
              "      <td>0.128287</td>\n",
              "      <td>0.028259</td>\n",
              "    </tr>\n",
              "    <tr>\n",
              "      <th>Cz_mean_s1</th>\n",
              "      <td>1.710775e-02</td>\n",
              "      <td>-0.005769</td>\n",
              "      <td>-0.018084</td>\n",
              "      <td>1.214207e-01</td>\n",
              "      <td>0.121221</td>\n",
              "      <td>1.000000</td>\n",
              "      <td>0.084988</td>\n",
              "      <td>-0.047699</td>\n",
              "      <td>-0.017166</td>\n",
              "      <td>0.913283</td>\n",
              "      <td>0.027295</td>\n",
              "      <td>0.330508</td>\n",
              "      <td>-0.004071</td>\n",
              "      <td>0.996590</td>\n",
              "      <td>0.142640</td>\n",
              "      <td>0.999496</td>\n",
              "      <td>0.139581</td>\n",
              "      <td>0.996224</td>\n",
              "      <td>0.126617</td>\n",
              "    </tr>\n",
              "    <tr>\n",
              "      <th>Cz_mean_s2</th>\n",
              "      <td>-4.632398e-02</td>\n",
              "      <td>0.068134</td>\n",
              "      <td>0.044420</td>\n",
              "      <td>-7.771645e-05</td>\n",
              "      <td>-0.100458</td>\n",
              "      <td>0.084988</td>\n",
              "      <td>1.000000</td>\n",
              "      <td>0.114328</td>\n",
              "      <td>-0.843164</td>\n",
              "      <td>0.080986</td>\n",
              "      <td>0.886603</td>\n",
              "      <td>-0.030053</td>\n",
              "      <td>-0.794413</td>\n",
              "      <td>0.073096</td>\n",
              "      <td>0.537130</td>\n",
              "      <td>0.084038</td>\n",
              "      <td>0.516143</td>\n",
              "      <td>0.094878</td>\n",
              "      <td>0.501980</td>\n",
              "    </tr>\n",
              "    <tr>\n",
              "      <th>Cz_std_s1</th>\n",
              "      <td>-1.279262e-01</td>\n",
              "      <td>0.124596</td>\n",
              "      <td>0.128173</td>\n",
              "      <td>1.069501e-01</td>\n",
              "      <td>0.092323</td>\n",
              "      <td>-0.047699</td>\n",
              "      <td>0.114328</td>\n",
              "      <td>1.000000</td>\n",
              "      <td>-0.091406</td>\n",
              "      <td>-0.402644</td>\n",
              "      <td>0.096885</td>\n",
              "      <td>0.202348</td>\n",
              "      <td>-0.084783</td>\n",
              "      <td>-0.129071</td>\n",
              "      <td>0.074673</td>\n",
              "      <td>-0.033771</td>\n",
              "      <td>0.065687</td>\n",
              "      <td>0.037323</td>\n",
              "      <td>0.065433</td>\n",
              "    </tr>\n",
              "    <tr>\n",
              "      <th>Cz_std_s2</th>\n",
              "      <td>1.498502e-01</td>\n",
              "      <td>-0.165051</td>\n",
              "      <td>-0.148485</td>\n",
              "      <td>1.116026e-01</td>\n",
              "      <td>0.131778</td>\n",
              "      <td>-0.017166</td>\n",
              "      <td>-0.843164</td>\n",
              "      <td>-0.091406</td>\n",
              "      <td>1.000000</td>\n",
              "      <td>0.005817</td>\n",
              "      <td>-0.996203</td>\n",
              "      <td>-0.032759</td>\n",
              "      <td>0.996323</td>\n",
              "      <td>-0.008891</td>\n",
              "      <td>-0.002356</td>\n",
              "      <td>-0.016541</td>\n",
              "      <td>0.024888</td>\n",
              "      <td>-0.024132</td>\n",
              "      <td>0.041476</td>\n",
              "    </tr>\n",
              "    <tr>\n",
              "      <th>Cz_min_s1</th>\n",
              "      <td>4.969737e-02</td>\n",
              "      <td>-0.040387</td>\n",
              "      <td>-0.050487</td>\n",
              "      <td>8.157207e-02</td>\n",
              "      <td>0.097280</td>\n",
              "      <td>0.913283</td>\n",
              "      <td>0.080986</td>\n",
              "      <td>-0.402644</td>\n",
              "      <td>0.005817</td>\n",
              "      <td>1.000000</td>\n",
              "      <td>0.007126</td>\n",
              "      <td>0.131039</td>\n",
              "      <td>0.020872</td>\n",
              "      <td>0.939152</td>\n",
              "      <td>0.167413</td>\n",
              "      <td>0.906972</td>\n",
              "      <td>0.167229</td>\n",
              "      <td>0.879755</td>\n",
              "      <td>0.157039</td>\n",
              "    </tr>\n",
              "    <tr>\n",
              "      <th>Cz_min_s2</th>\n",
              "      <td>-1.330715e-01</td>\n",
              "      <td>0.149546</td>\n",
              "      <td>0.131602</td>\n",
              "      <td>-9.594381e-02</td>\n",
              "      <td>-0.130134</td>\n",
              "      <td>0.027295</td>\n",
              "      <td>0.886603</td>\n",
              "      <td>0.096885</td>\n",
              "      <td>-0.996203</td>\n",
              "      <td>0.007126</td>\n",
              "      <td>1.000000</td>\n",
              "      <td>0.022652</td>\n",
              "      <td>-0.985225</td>\n",
              "      <td>0.018283</td>\n",
              "      <td>0.088096</td>\n",
              "      <td>0.026570</td>\n",
              "      <td>0.061647</td>\n",
              "      <td>0.034846</td>\n",
              "      <td>0.045473</td>\n",
              "    </tr>\n",
              "    <tr>\n",
              "      <th>Cz_max_s1</th>\n",
              "      <td>1.073704e-01</td>\n",
              "      <td>-0.088583</td>\n",
              "      <td>-0.108962</td>\n",
              "      <td>-8.876886e-02</td>\n",
              "      <td>0.118506</td>\n",
              "      <td>0.330508</td>\n",
              "      <td>-0.030053</td>\n",
              "      <td>0.202348</td>\n",
              "      <td>-0.032759</td>\n",
              "      <td>0.131039</td>\n",
              "      <td>0.022652</td>\n",
              "      <td>1.000000</td>\n",
              "      <td>-0.040760</td>\n",
              "      <td>0.315678</td>\n",
              "      <td>-0.100239</td>\n",
              "      <td>0.321203</td>\n",
              "      <td>-0.105049</td>\n",
              "      <td>0.336127</td>\n",
              "      <td>-0.110221</td>\n",
              "    </tr>\n",
              "    <tr>\n",
              "      <th>Cz_max_s2</th>\n",
              "      <td>1.551615e-01</td>\n",
              "      <td>-0.169015</td>\n",
              "      <td>-0.153912</td>\n",
              "      <td>1.251685e-01</td>\n",
              "      <td>0.132029</td>\n",
              "      <td>-0.004071</td>\n",
              "      <td>-0.794413</td>\n",
              "      <td>-0.084783</td>\n",
              "      <td>0.996323</td>\n",
              "      <td>0.020872</td>\n",
              "      <td>-0.985225</td>\n",
              "      <td>-0.040760</td>\n",
              "      <td>1.000000</td>\n",
              "      <td>0.003331</td>\n",
              "      <td>0.083119</td>\n",
              "      <td>-0.003492</td>\n",
              "      <td>0.109903</td>\n",
              "      <td>-0.010320</td>\n",
              "      <td>0.125818</td>\n",
              "    </tr>\n",
              "    <tr>\n",
              "      <th>Cz_25%_s1</th>\n",
              "      <td>2.899590e-02</td>\n",
              "      <td>-0.017304</td>\n",
              "      <td>-0.029999</td>\n",
              "      <td>1.100871e-01</td>\n",
              "      <td>0.111410</td>\n",
              "      <td>0.996590</td>\n",
              "      <td>0.073096</td>\n",
              "      <td>-0.129071</td>\n",
              "      <td>-0.008891</td>\n",
              "      <td>0.939152</td>\n",
              "      <td>0.018283</td>\n",
              "      <td>0.315678</td>\n",
              "      <td>0.003331</td>\n",
              "      <td>1.000000</td>\n",
              "      <td>0.132889</td>\n",
              "      <td>0.994881</td>\n",
              "      <td>0.130667</td>\n",
              "      <td>0.985803</td>\n",
              "      <td>0.117903</td>\n",
              "    </tr>\n",
              "    <tr>\n",
              "      <th>Cz_25%_s2</th>\n",
              "      <td>8.095134e-02</td>\n",
              "      <td>-0.064242</td>\n",
              "      <td>-0.082372</td>\n",
              "      <td>1.650474e-01</td>\n",
              "      <td>0.017755</td>\n",
              "      <td>0.142640</td>\n",
              "      <td>0.537130</td>\n",
              "      <td>0.074673</td>\n",
              "      <td>-0.002356</td>\n",
              "      <td>0.167413</td>\n",
              "      <td>0.088096</td>\n",
              "      <td>-0.100239</td>\n",
              "      <td>0.083119</td>\n",
              "      <td>0.132889</td>\n",
              "      <td>1.000000</td>\n",
              "      <td>0.142296</td>\n",
              "      <td>0.997299</td>\n",
              "      <td>0.150844</td>\n",
              "      <td>0.991187</td>\n",
              "    </tr>\n",
              "    <tr>\n",
              "      <th>Cz_50%_s1</th>\n",
              "      <td>9.418074e-03</td>\n",
              "      <td>0.001918</td>\n",
              "      <td>-0.010397</td>\n",
              "      <td>1.242524e-01</td>\n",
              "      <td>0.118506</td>\n",
              "      <td>0.999496</td>\n",
              "      <td>0.084038</td>\n",
              "      <td>-0.033771</td>\n",
              "      <td>-0.016541</td>\n",
              "      <td>0.906972</td>\n",
              "      <td>0.026570</td>\n",
              "      <td>0.321203</td>\n",
              "      <td>-0.003492</td>\n",
              "      <td>0.994881</td>\n",
              "      <td>0.142296</td>\n",
              "      <td>1.000000</td>\n",
              "      <td>0.139066</td>\n",
              "      <td>0.997173</td>\n",
              "      <td>0.125713</td>\n",
              "    </tr>\n",
              "    <tr>\n",
              "      <th>Cz_50%_s2</th>\n",
              "      <td>1.320275e-01</td>\n",
              "      <td>-0.115317</td>\n",
              "      <td>-0.133432</td>\n",
              "      <td>1.743768e-01</td>\n",
              "      <td>0.022401</td>\n",
              "      <td>0.139581</td>\n",
              "      <td>0.516143</td>\n",
              "      <td>0.065687</td>\n",
              "      <td>0.024888</td>\n",
              "      <td>0.167229</td>\n",
              "      <td>0.061647</td>\n",
              "      <td>-0.105049</td>\n",
              "      <td>0.109903</td>\n",
              "      <td>0.130667</td>\n",
              "      <td>0.997299</td>\n",
              "      <td>0.139066</td>\n",
              "      <td>1.000000</td>\n",
              "      <td>0.146947</td>\n",
              "      <td>0.997849</td>\n",
              "    </tr>\n",
              "    <tr>\n",
              "      <th>Cz_75%_s1</th>\n",
              "      <td>1.979450e-03</td>\n",
              "      <td>0.008813</td>\n",
              "      <td>-0.002913</td>\n",
              "      <td>1.320992e-01</td>\n",
              "      <td>0.128287</td>\n",
              "      <td>0.996224</td>\n",
              "      <td>0.094878</td>\n",
              "      <td>0.037323</td>\n",
              "      <td>-0.024132</td>\n",
              "      <td>0.879755</td>\n",
              "      <td>0.034846</td>\n",
              "      <td>0.336127</td>\n",
              "      <td>-0.010320</td>\n",
              "      <td>0.985803</td>\n",
              "      <td>0.150844</td>\n",
              "      <td>0.997173</td>\n",
              "      <td>0.146947</td>\n",
              "      <td>1.000000</td>\n",
              "      <td>0.133682</td>\n",
              "    </tr>\n",
              "    <tr>\n",
              "      <th>Cz_75%_s2</th>\n",
              "      <td>1.757433e-01</td>\n",
              "      <td>-0.159639</td>\n",
              "      <td>-0.177081</td>\n",
              "      <td>1.843070e-01</td>\n",
              "      <td>0.028259</td>\n",
              "      <td>0.126617</td>\n",
              "      <td>0.501980</td>\n",
              "      <td>0.065433</td>\n",
              "      <td>0.041476</td>\n",
              "      <td>0.157039</td>\n",
              "      <td>0.045473</td>\n",
              "      <td>-0.110221</td>\n",
              "      <td>0.125818</td>\n",
              "      <td>0.117903</td>\n",
              "      <td>0.991187</td>\n",
              "      <td>0.125713</td>\n",
              "      <td>0.997849</td>\n",
              "      <td>0.133682</td>\n",
              "      <td>1.000000</td>\n",
              "    </tr>\n",
              "  </tbody>\n",
              "</table>\n",
              "</div>"
            ],
            "text/plain": [
              "                   Group  sess1_Med  sess2_Med  ...  Cz_50%_s2  Cz_75%_s1  Cz_75%_s2\n",
              "Group       1.000000e+00  -0.996558  -0.999974  ...   0.132027   0.001979   0.175743\n",
              "sess1_Med  -9.965576e-01   1.000000   0.995937  ...  -0.115317   0.008813  -0.159639\n",
              "sess2_Med  -9.999742e-01   0.995937   1.000000  ...  -0.133432  -0.002913  -0.177081\n",
              "sex        -8.118755e-18   0.012860  -0.001114  ...   0.174377   0.132099   0.184307\n",
              "age         3.057489e-02  -0.045525  -0.029270  ...   0.022401   0.128287   0.028259\n",
              "Cz_mean_s1  1.710775e-02  -0.005769  -0.018084  ...   0.139581   0.996224   0.126617\n",
              "Cz_mean_s2 -4.632398e-02   0.068134   0.044420  ...   0.516143   0.094878   0.501980\n",
              "Cz_std_s1  -1.279262e-01   0.124596   0.128173  ...   0.065687   0.037323   0.065433\n",
              "Cz_std_s2   1.498502e-01  -0.165051  -0.148485  ...   0.024888  -0.024132   0.041476\n",
              "Cz_min_s1   4.969737e-02  -0.040387  -0.050487  ...   0.167229   0.879755   0.157039\n",
              "Cz_min_s2  -1.330715e-01   0.149546   0.131602  ...   0.061647   0.034846   0.045473\n",
              "Cz_max_s1   1.073704e-01  -0.088583  -0.108962  ...  -0.105049   0.336127  -0.110221\n",
              "Cz_max_s2   1.551615e-01  -0.169015  -0.153912  ...   0.109903  -0.010320   0.125818\n",
              "Cz_25%_s1   2.899590e-02  -0.017304  -0.029999  ...   0.130667   0.985803   0.117903\n",
              "Cz_25%_s2   8.095134e-02  -0.064242  -0.082372  ...   0.997299   0.150844   0.991187\n",
              "Cz_50%_s1   9.418074e-03   0.001918  -0.010397  ...   0.139066   0.997173   0.125713\n",
              "Cz_50%_s2   1.320275e-01  -0.115317  -0.133432  ...   1.000000   0.146947   0.997849\n",
              "Cz_75%_s1   1.979450e-03   0.008813  -0.002913  ...   0.146947   1.000000   0.133682\n",
              "Cz_75%_s2   1.757433e-01  -0.159639  -0.177081  ...   0.997849   0.133682   1.000000\n",
              "\n",
              "[19 rows x 19 columns]"
            ]
          },
          "metadata": {
            "tags": []
          },
          "execution_count": 89
        }
      ]
    },
    {
      "cell_type": "code",
      "metadata": {
        "colab": {
          "base_uri": "https://localhost:8080/",
          "height": 638
        },
        "id": "MWRJetjE4-B_",
        "outputId": "9190dc5e-19a7-47eb-8611-9f31d2fb756e"
      },
      "source": [
        "f = plt.figure(figsize=(14, 10))\n",
        "plt.matshow(result.corr(), fignum=f.number)\n",
        "\n",
        "cb = plt.colorbar()\n",
        "cb.ax.tick_params(labelsize=14)\n",
        "plt.title('Correlation Matrix', fontsize=16);\n",
        "plt.show()"
      ],
      "execution_count": null,
      "outputs": [
        {
          "output_type": "display_data",
          "data": {
            "image/png": "[encoded data removed]",
            "text/plain": [
              "<Figure size 1008x720 with 2 Axes>"
            ]
          },
          "metadata": {
            "tags": [],
            "needs_background": "light"
          }
        }
      ]
    },
    {
      "cell_type": "markdown",
      "metadata": {
        "id": "nrtkSsdR5Nl3"
      },
      "source": [
        "As maiores correlações observadas são entre os grupos: Group, sess1_Med, sess_Med.\n",
        "\n",
        "A forte correlação é facilmente explicada pelo fato de haver uma forte correlação entre uma pessoa com doença de Parkinson  ou não, realizar duas sessões do teste. Dois testes são realizados, num deles os indivíduos sob efeito da medição, no outro não. Obviamente indivíduos sem doença de Parkinson não ingerem a medicação.\n",
        "\n",
        "Não há nenhuma correção entre a idade, sexo com a presença da doença."
      ]
    },
    {
      "cell_type": "markdown",
      "metadata": {
        "id": "L9H8V9xRm_Vh"
      },
      "source": [
        "## Correlation Matrix for Parkinsons Participants"
      ]
    },
    {
      "cell_type": "code",
      "metadata": {
        "colab": {
          "base_uri": "https://localhost:8080/",
          "height": 202
        },
        "id": "mbHUoyc7m_Vi",
        "outputId": "d200ee94-19fb-4dc6-f8c2-de100b4bea1e"
      },
      "source": [
        " result = result[result[\"Group\"] == 1]\n",
        " result.head()"
      ],
      "execution_count": 293,
      "outputs": [
        {
          "output_type": "execute_result",
          "data": {
            "text/html": [
              "<div>\n",
              "<style scoped>\n",
              "    .dataframe tbody tr th:only-of-type {\n",
              "        vertical-align: middle;\n",
              "    }\n",
              "\n",
              "    .dataframe tbody tr th {\n",
              "        vertical-align: top;\n",
              "    }\n",
              "\n",
              "    .dataframe thead th {\n",
              "        text-align: right;\n",
              "    }\n",
              "</style>\n",
              "<table border=\"1\" class=\"dataframe\">\n",
              "  <thead>\n",
              "    <tr style=\"text-align: right;\">\n",
              "      <th></th>\n",
              "      <th>participant_id</th>\n",
              "      <th>Group</th>\n",
              "      <th>sess1_Med</th>\n",
              "      <th>sess2_Med</th>\n",
              "      <th>sex</th>\n",
              "      <th>age</th>\n",
              "      <th>Cz_mean_s1</th>\n",
              "      <th>Cz_mean_s2</th>\n",
              "      <th>Cz_std_s1</th>\n",
              "      <th>Cz_std_s2</th>\n",
              "      <th>Cz_min_s1</th>\n",
              "      <th>Cz_min_s2</th>\n",
              "      <th>Cz_max_s1</th>\n",
              "      <th>Cz_max_s2</th>\n",
              "      <th>Cz_25%_s1</th>\n",
              "      <th>Cz_25%_s2</th>\n",
              "      <th>Cz_50%_s1</th>\n",
              "      <th>Cz_50%_s2</th>\n",
              "      <th>Cz_75%_s1</th>\n",
              "      <th>Cz_75%_s2</th>\n",
              "    </tr>\n",
              "  </thead>\n",
              "  <tbody>\n",
              "    <tr>\n",
              "      <th>1</th>\n",
              "      <td>sub-002</td>\n",
              "      <td>1</td>\n",
              "      <td>1.0</td>\n",
              "      <td>0</td>\n",
              "      <td>0</td>\n",
              "      <td>60</td>\n",
              "      <td>8346.863790</td>\n",
              "      <td>-2453.940964</td>\n",
              "      <td>276.718066</td>\n",
              "      <td>282.798644</td>\n",
              "      <td>7922.119141</td>\n",
              "      <td>-2839.013672</td>\n",
              "      <td>8968.115234</td>\n",
              "      <td>-1744.921875</td>\n",
              "      <td>8121.044922</td>\n",
              "      <td>-2693.945312</td>\n",
              "      <td>8258.935547</td>\n",
              "      <td>-2515.136719</td>\n",
              "      <td>8522.241211</td>\n",
              "      <td>-2206.933594</td>\n",
              "    </tr>\n",
              "    <tr>\n",
              "      <th>2</th>\n",
              "      <td>sub-003</td>\n",
              "      <td>1</td>\n",
              "      <td>0.0</td>\n",
              "      <td>1</td>\n",
              "      <td>1</td>\n",
              "      <td>75</td>\n",
              "      <td>-14481.515522</td>\n",
              "      <td>-3447.259966</td>\n",
              "      <td>1607.247552</td>\n",
              "      <td>1045.362460</td>\n",
              "      <td>-16720.605469</td>\n",
              "      <td>-5597.363281</td>\n",
              "      <td>-10322.802734</td>\n",
              "      <td>-1678.955078</td>\n",
              "      <td>-15789.990234</td>\n",
              "      <td>-4059.130859</td>\n",
              "      <td>-14770.166016</td>\n",
              "      <td>-3563.281250</td>\n",
              "      <td>-13378.857422</td>\n",
              "      <td>-2524.560547</td>\n",
              "    </tr>\n",
              "    <tr>\n",
              "      <th>3</th>\n",
              "      <td>sub-004</td>\n",
              "      <td>1</td>\n",
              "      <td>0.0</td>\n",
              "      <td>1</td>\n",
              "      <td>0</td>\n",
              "      <td>76</td>\n",
              "      <td>1440.392564</td>\n",
              "      <td>-4269.264026</td>\n",
              "      <td>342.704833</td>\n",
              "      <td>1063.426040</td>\n",
              "      <td>956.542969</td>\n",
              "      <td>-6137.060547</td>\n",
              "      <td>2069.384766</td>\n",
              "      <td>-2400.830078</td>\n",
              "      <td>1126.806641</td>\n",
              "      <td>-5268.505859</td>\n",
              "      <td>1435.156250</td>\n",
              "      <td>-4184.472656</td>\n",
              "      <td>1732.324219</td>\n",
              "      <td>-3409.667969</td>\n",
              "    </tr>\n",
              "    <tr>\n",
              "      <th>4</th>\n",
              "      <td>sub-005</td>\n",
              "      <td>1</td>\n",
              "      <td>1.0</td>\n",
              "      <td>0</td>\n",
              "      <td>1</td>\n",
              "      <td>75</td>\n",
              "      <td>4287.420206</td>\n",
              "      <td>3260.026641</td>\n",
              "      <td>135.594173</td>\n",
              "      <td>473.846596</td>\n",
              "      <td>3862.841797</td>\n",
              "      <td>1439.355469</td>\n",
              "      <td>4485.498047</td>\n",
              "      <td>3773.925781</td>\n",
              "      <td>4199.365234</td>\n",
              "      <td>3155.078125</td>\n",
              "      <td>4321.386719</td>\n",
              "      <td>3340.039062</td>\n",
              "      <td>4391.455078</td>\n",
              "      <td>3615.722656</td>\n",
              "    </tr>\n",
              "    <tr>\n",
              "      <th>5</th>\n",
              "      <td>sub-006</td>\n",
              "      <td>1</td>\n",
              "      <td>1.0</td>\n",
              "      <td>0</td>\n",
              "      <td>1</td>\n",
              "      <td>79</td>\n",
              "      <td>7789.890484</td>\n",
              "      <td>18300.604615</td>\n",
              "      <td>1671.238422</td>\n",
              "      <td>994.449451</td>\n",
              "      <td>5334.716797</td>\n",
              "      <td>16215.087891</td>\n",
              "      <td>11499.072266</td>\n",
              "      <td>19844.433594</td>\n",
              "      <td>6337.304688</td>\n",
              "      <td>17609.667969</td>\n",
              "      <td>7547.705078</td>\n",
              "      <td>18326.562500</td>\n",
              "      <td>9036.279297</td>\n",
              "      <td>19186.914062</td>\n",
              "    </tr>\n",
              "  </tbody>\n",
              "</table>\n",
              "</div>"
            ],
            "text/plain": [
              "  participant_id  Group  sess1_Med  ...     Cz_50%_s2     Cz_75%_s1     Cz_75%_s2\n",
              "1        sub-002      1        1.0  ...  -2515.136719   8522.241211  -2206.933594\n",
              "2        sub-003      1        0.0  ...  -3563.281250 -13378.857422  -2524.560547\n",
              "3        sub-004      1        0.0  ...  -4184.472656   1732.324219  -3409.667969\n",
              "4        sub-005      1        1.0  ...   3340.039062   4391.455078   3615.722656\n",
              "5        sub-006      1        1.0  ...  18326.562500   9036.279297  19186.914062\n",
              "\n",
              "[5 rows x 20 columns]"
            ]
          },
          "metadata": {
            "tags": []
          },
          "execution_count": 293
        }
      ]
    },
    {
      "cell_type": "code",
      "metadata": {
        "colab": {
          "base_uri": "https://localhost:8080/",
          "height": 642
        },
        "id": "nsa5xauJm_Vi",
        "outputId": "7f2898fb-0af2-4b32-f0c8-a8835d3264bf"
      },
      "source": [
        "f = plt.figure(figsize=(14, 10))\n",
        "plt.matshow(result.corr(), fignum=f.number)\n",
        "\n",
        "cb = plt.colorbar()\n",
        "cb.ax.tick_params(labelsize=14)\n",
        "plt.title('Correlation Matrix', fontsize=16);\n",
        "plt.show()"
      ],
      "execution_count": 294,
      "outputs": [
        {
          "output_type": "display_data",
          "data": {
            "image/png": "[encoded data removed]",
            "text/plain": [
              "<Figure size 1008x720 with 2 Axes>"
            ]
          },
          "metadata": {
            "tags": [],
            "needs_background": "light"
          }
        }
      ]
    },
    {
      "cell_type": "markdown",
      "metadata": {
        "id": "iw9NFPM-9sgP"
      },
      "source": [
        "# Statistics"
      ]
    },
    {
      "cell_type": "code",
      "metadata": {
        "colab": {
          "base_uri": "https://localhost:8080/",
          "height": 264
        },
        "id": "ZZ2n6xpA9yC5",
        "outputId": "1572d4eb-0d27-4ad9-d57a-d3ad3e3caf31"
      },
      "source": [
        "females = participants[participants['sex'] == 0]\n",
        "males = participants[participants['sex'] == 1]\n",
        "\n",
        "total_participants = 56\n",
        "\n",
        "# Pie chart, where the slices will be ordered and plotted counter-clockwise:\n",
        "labels = 'Homens', 'Mulheres'\n",
        "sizes = [len(males), len(females)]\n",
        "explode = (0, 0.1)  # only \"explode\" the 2nd slice (i.e. 'Hogs')\n",
        "\n",
        "fig1, ax1 = plt.subplots()\n",
        "ax1.pie(sizes, explode=explode, labels=labels, autopct='%1.1f%%',\n",
        "        shadow=True, startangle=90)\n",
        "ax1.axis('equal')  # Equal aspect ratio ensures that pie is drawn as a circle.\n",
        "plt.title('Sexo dos participantes')\n",
        "plt.show()"
      ],
      "execution_count": null,
      "outputs": [
        {
          "output_type": "display_data",
          "data": {
            "image/png": "[encoded data removed]",
            "text/plain": [
              "<Figure size 432x288 with 1 Axes>"
            ]
          },
          "metadata": {
            "tags": []
          }
        }
      ]
    },
    {
      "cell_type": "code",
      "metadata": {
        "colab": {
          "base_uri": "https://localhost:8080/",
          "height": 511
        },
        "id": "qoVteycdCTbI",
        "outputId": "93898733-a324-4f17-faec-84b41deaf8b9"
      },
      "source": [
        "females_control_group = females[females['Group'] == 0]\n",
        "females_pacient_group = females[females['Group'] == 1]\n",
        "\n",
        "males_control_group = males[males['Group'] == 0]\n",
        "males_pacient_group = males[males['Group'] == 1]\n",
        "\n",
        "# Pie chart, where the slices will be ordered and plotted counter-clockwise:\n",
        "labels = 'Controle', 'Paciente'\n",
        "sizes = [len(males_control_group), len(males_pacient_group)]\n",
        "explode = (0, 0.1)  # only \"explode\" the 2nd slice (i.e. 'Hogs')\n",
        "fig1, ax1 = plt.subplots()\n",
        "ax1.pie(sizes, explode=explode, labels=labels, autopct='%1.1f%%',\n",
        "        shadow=True, startangle=90)\n",
        "\n",
        "ax1.axis('equal')  # Equal aspect ratio ensures that pie is drawn as a circle.\n",
        "plt.title('Homens')\n",
        "plt.show()\n",
        "\n",
        "# Pie chart, where the slices will be ordered and plotted counter-clockwise:\n",
        "labels = 'Controle', 'Paciente'\n",
        "sizes = [len(females_control_group), len(females_pacient_group)]\n",
        "explode = (0, 0.1)  # only \"explode\" the 2nd slice (i.e. 'Hogs')\n",
        "fig1, ax1 = plt.subplots()\n",
        "ax1.pie(sizes, explode=explode, labels=labels, autopct='%1.1f%%',\n",
        "        shadow=True, startangle=90)\n",
        "ax1.axis('equal')  # Equal aspect ratio ensures that pie is drawn as a circle.\n",
        "plt.title('Mulheres')\n",
        "plt.show()"
      ],
      "execution_count": null,
      "outputs": [
        {
          "output_type": "display_data",
          "data": {
            "image/png": "[encoded data removed]",
            "text/plain": [
              "<Figure size 432x288 with 1 Axes>"
            ]
          },
          "metadata": {
            "tags": []
          }
        },
        {
          "output_type": "display_data",
          "data": {
            "image/png": "[encoded data removed]",
            "text/plain": [
              "<Figure size 432x288 with 1 Axes>"
            ]
          },
          "metadata": {
            "tags": []
          }
        }
      ]
    },
    {
      "cell_type": "code",
      "metadata": {
        "colab": {
          "base_uri": "https://localhost:8080/"
        },
        "id": "QsfyEdBU5SVu",
        "outputId": "e70c4725-996d-4d46-830f-28fe95ad18b6"
      },
      "source": [
        "participants_mean_age = participants[\"age\"].mean()\n",
        "print(\"\\nMédia de idade dos participantes: {:.2f} metros\".format(participants_mean_age))\n",
        "\n",
        "participants_std_age = participants[\"age\"].std()\n",
        "print(\"\\nDesvio padrão da idade dos participantes: {:.2f}\".format(participants_mean_age))\n",
        "\n",
        "participants_sam_age = participants[\"age\"].sem()\n",
        "print(\"\\nDesvio padrão das médias amostrais da idade dos participantes: {:.6f}\".format(participants_sam_age))"
      ],
      "execution_count": null,
      "outputs": [
        {
          "output_type": "stream",
          "text": [
            "\n",
            "Média de idade dos participantes: 69.48 metros\n",
            "\n",
            "Desvio padrão da idade dos participantes: 69.48\n",
            "\n",
            "Desvio padrão das médias amostrais da idade dos participantes: 1.181291\n"
          ],
          "name": "stdout"
        }
      ]
    },
    {
      "cell_type": "markdown",
      "metadata": {
        "id": "Qc1coQXVHqAz"
      },
      "source": [
        "## Distribution of sex and age between Male and Female"
      ]
    },
    {
      "cell_type": "code",
      "metadata": {
        "colab": {
          "base_uri": "https://localhost:8080/",
          "height": 331
        },
        "id": "grh5b4OYGkp1",
        "outputId": "c55dd0a8-656f-4fcb-df99-0dd95efd9840"
      },
      "source": [
        "print(\"Total age distribution\")\n",
        "display(participants[['age']].describe().T)\n",
        "\n",
        "print(\"Female age distribution:\")\n",
        "display(participants[participants['sex'] == 0][['age']].describe().T)\n",
        "\n",
        "print(\"Male age distribution:\")\n",
        "display(participants[participants['sex'] == 1][['age']].describe().T)"
      ],
      "execution_count": null,
      "outputs": [
        {
          "output_type": "stream",
          "text": [
            "Total age distribution\n"
          ],
          "name": "stdout"
        },
        {
          "output_type": "display_data",
          "data": {
            "text/html": [
              "<div>\n",
              "<style scoped>\n",
              "    .dataframe tbody tr th:only-of-type {\n",
              "        vertical-align: middle;\n",
              "    }\n",
              "\n",
              "    .dataframe tbody tr th {\n",
              "        vertical-align: top;\n",
              "    }\n",
              "\n",
              "    .dataframe thead th {\n",
              "        text-align: right;\n",
              "    }\n",
              "</style>\n",
              "<table border=\"1\" class=\"dataframe\">\n",
              "  <thead>\n",
              "    <tr style=\"text-align: right;\">\n",
              "      <th></th>\n",
              "      <th>count</th>\n",
              "      <th>mean</th>\n",
              "      <th>std</th>\n",
              "      <th>min</th>\n",
              "      <th>25%</th>\n",
              "      <th>50%</th>\n",
              "      <th>75%</th>\n",
              "      <th>max</th>\n",
              "    </tr>\n",
              "  </thead>\n",
              "  <tbody>\n",
              "    <tr>\n",
              "      <th>age</th>\n",
              "      <td>56.0</td>\n",
              "      <td>69.482143</td>\n",
              "      <td>8.839973</td>\n",
              "      <td>48.0</td>\n",
              "      <td>64.0</td>\n",
              "      <td>70.0</td>\n",
              "      <td>75.25</td>\n",
              "      <td>84.0</td>\n",
              "    </tr>\n",
              "  </tbody>\n",
              "</table>\n",
              "</div>"
            ],
            "text/plain": [
              "     count       mean       std   min   25%   50%    75%   max\n",
              "age   56.0  69.482143  8.839973  48.0  64.0  70.0  75.25  84.0"
            ]
          },
          "metadata": {
            "tags": []
          }
        },
        {
          "output_type": "stream",
          "text": [
            "Female age distribution:\n"
          ],
          "name": "stdout"
        },
        {
          "output_type": "display_data",
          "data": {
            "text/html": [
              "<div>\n",
              "<style scoped>\n",
              "    .dataframe tbody tr th:only-of-type {\n",
              "        vertical-align: middle;\n",
              "    }\n",
              "\n",
              "    .dataframe tbody tr th {\n",
              "        vertical-align: top;\n",
              "    }\n",
              "\n",
              "    .dataframe thead th {\n",
              "        text-align: right;\n",
              "    }\n",
              "</style>\n",
              "<table border=\"1\" class=\"dataframe\">\n",
              "  <thead>\n",
              "    <tr style=\"text-align: right;\">\n",
              "      <th></th>\n",
              "      <th>count</th>\n",
              "      <th>mean</th>\n",
              "      <th>std</th>\n",
              "      <th>min</th>\n",
              "      <th>25%</th>\n",
              "      <th>50%</th>\n",
              "      <th>75%</th>\n",
              "      <th>max</th>\n",
              "    </tr>\n",
              "  </thead>\n",
              "  <tbody>\n",
              "    <tr>\n",
              "      <th>age</th>\n",
              "      <td>22.0</td>\n",
              "      <td>66.5</td>\n",
              "      <td>9.71376</td>\n",
              "      <td>48.0</td>\n",
              "      <td>61.75</td>\n",
              "      <td>66.5</td>\n",
              "      <td>73.75</td>\n",
              "      <td>83.0</td>\n",
              "    </tr>\n",
              "  </tbody>\n",
              "</table>\n",
              "</div>"
            ],
            "text/plain": [
              "     count  mean      std   min    25%   50%    75%   max\n",
              "age   22.0  66.5  9.71376  48.0  61.75  66.5  73.75  83.0"
            ]
          },
          "metadata": {
            "tags": []
          }
        },
        {
          "output_type": "stream",
          "text": [
            "Male age distribution:\n"
          ],
          "name": "stdout"
        },
        {
          "output_type": "display_data",
          "data": {
            "text/html": [
              "<div>\n",
              "<style scoped>\n",
              "    .dataframe tbody tr th:only-of-type {\n",
              "        vertical-align: middle;\n",
              "    }\n",
              "\n",
              "    .dataframe tbody tr th {\n",
              "        vertical-align: top;\n",
              "    }\n",
              "\n",
              "    .dataframe thead th {\n",
              "        text-align: right;\n",
              "    }\n",
              "</style>\n",
              "<table border=\"1\" class=\"dataframe\">\n",
              "  <thead>\n",
              "    <tr style=\"text-align: right;\">\n",
              "      <th></th>\n",
              "      <th>count</th>\n",
              "      <th>mean</th>\n",
              "      <th>std</th>\n",
              "      <th>min</th>\n",
              "      <th>25%</th>\n",
              "      <th>50%</th>\n",
              "      <th>75%</th>\n",
              "      <th>max</th>\n",
              "    </tr>\n",
              "  </thead>\n",
              "  <tbody>\n",
              "    <tr>\n",
              "      <th>age</th>\n",
              "      <td>34.0</td>\n",
              "      <td>71.411765</td>\n",
              "      <td>7.773762</td>\n",
              "      <td>52.0</td>\n",
              "      <td>68.0</td>\n",
              "      <td>71.5</td>\n",
              "      <td>75.75</td>\n",
              "      <td>84.0</td>\n",
              "    </tr>\n",
              "  </tbody>\n",
              "</table>\n",
              "</div>"
            ],
            "text/plain": [
              "     count       mean       std   min   25%   50%    75%   max\n",
              "age   34.0  71.411765  7.773762  52.0  68.0  71.5  75.75  84.0"
            ]
          },
          "metadata": {
            "tags": []
          }
        }
      ]
    },
    {
      "cell_type": "code",
      "metadata": {
        "id": "A5D5VFar4UDk",
        "outputId": "2c9f0a00-1bcb-4362-af73-a4cb3d10cc10"
      },
      "source": [
        "print(\"Boxplot for the three age distributions\")\n",
        "plt.boxplot([participants['age'].values, females['age'].values, males['age'].values],\n",
        "            labels=['All', 'Females', 'Males'])\n",
        "plt.show()"
      ],
      "execution_count": null,
      "outputs": [
        {
          "output_type": "stream",
          "text": [
            "Boxplot for the three age distributions\n"
          ],
          "name": "stdout"
        },
        {
          "output_type": "display_data",
          "data": {
            "image/png": "[encoded data removed]",
            "text/plain": [
              "<Figure size 432x288 with 1 Axes>"
            ]
          },
          "metadata": {
            "tags": []
          }
        }
      ]
    },
    {
      "cell_type": "code",
      "metadata": {
        "id": "Mz5zRPPU4UDl",
        "outputId": "ff6770f1-2713-49b8-a92c-c4bc4ed21f24"
      },
      "source": [
        "fig, axs = plt.subplots(3, sharey=True, tight_layout=True, figsize=(5,5))\n",
        "axs[0].hist(participants[['age']], bins='auto')\n",
        "axs[0].set_title('Total age distribution')\n",
        "axs[1].hist(females['age'], bins='auto')\n",
        "axs[1].set_title('Female age distribution')\n",
        "axs[2].hist(males['age'], bins='auto')\n",
        "axs[2].set_title('Male age distribution')\n",
        "plt.show()"
      ],
      "execution_count": null,
      "outputs": [
        {
          "output_type": "display_data",
          "data": {
            "image/png": "[encoded data removed]",
            "text/plain": [
              "<Figure size 360x360 with 3 Axes>"
            ]
          },
          "metadata": {
            "tags": []
          }
        }
      ]
    },
    {
      "cell_type": "markdown",
      "metadata": {
        "id": "GJvOBSI5cL1w"
      },
      "source": [
        "# Participant #1\n",
        "Number of sections: 1"
      ]
    },
    {
      "cell_type": "code",
      "metadata": {
        "colab": {
          "base_uri": "https://localhost:8080/",
          "height": 80
        },
        "id": "M8NQ4wQLeaGB",
        "outputId": "c4d694c8-7ea0-4156-b79f-459227489470"
      },
      "source": [
        "# Participant data\n",
        "p01 = participants[participants['participant_id'] == 'sub-001']\n",
        "p01.head()"
      ],
      "execution_count": null,
      "outputs": [
        {
          "output_type": "execute_result",
          "data": {
            "text/html": [
              "<div>\n",
              "<style scoped>\n",
              "    .dataframe tbody tr th:only-of-type {\n",
              "        vertical-align: middle;\n",
              "    }\n",
              "\n",
              "    .dataframe tbody tr th {\n",
              "        vertical-align: top;\n",
              "    }\n",
              "\n",
              "    .dataframe thead th {\n",
              "        text-align: right;\n",
              "    }\n",
              "</style>\n",
              "<table border=\"1\" class=\"dataframe\">\n",
              "  <thead>\n",
              "    <tr style=\"text-align: right;\">\n",
              "      <th></th>\n",
              "      <th>participant_id</th>\n",
              "      <th>Original_ID</th>\n",
              "      <th>Group</th>\n",
              "      <th>sess1_Med</th>\n",
              "      <th>sess2_Med</th>\n",
              "      <th>sex</th>\n",
              "      <th>age</th>\n",
              "    </tr>\n",
              "  </thead>\n",
              "  <tbody>\n",
              "    <tr>\n",
              "      <th>0</th>\n",
              "      <td>sub-001</td>\n",
              "      <td>8010</td>\n",
              "      <td>0</td>\n",
              "      <td>NaN</td>\n",
              "      <td>no s2</td>\n",
              "      <td>0</td>\n",
              "      <td>61</td>\n",
              "    </tr>\n",
              "  </tbody>\n",
              "</table>\n",
              "</div>"
            ],
            "text/plain": [
              "  participant_id  Original_ID  Group sess1_Med sess2_Med  sex  age\n",
              "0        sub-001         8010      0       NaN     no s2    0   61"
            ]
          },
          "metadata": {
            "tags": []
          },
          "execution_count": 10
        }
      ]
    },
    {
      "cell_type": "markdown",
      "metadata": {
        "id": "MnPoOi9VFMh3"
      },
      "source": [
        "# Participant #2\n",
        "Number of sections: 2"
      ]
    },
    {
      "cell_type": "code",
      "metadata": {
        "colab": {
          "base_uri": "https://localhost:8080/",
          "height": 80
        },
        "id": "z0vpjsBJemUt",
        "outputId": "71dc23a4-1e02-4b86-bf62-bc204f229f57"
      },
      "source": [
        "# Participant data\n",
        "p02 = participants[participants['participant_id'] == 'sub-002']\n",
        "p02.head()"
      ],
      "execution_count": null,
      "outputs": [
        {
          "output_type": "execute_result",
          "data": {
            "text/html": [
              "<div>\n",
              "<style scoped>\n",
              "    .dataframe tbody tr th:only-of-type {\n",
              "        vertical-align: middle;\n",
              "    }\n",
              "\n",
              "    .dataframe tbody tr th {\n",
              "        vertical-align: top;\n",
              "    }\n",
              "\n",
              "    .dataframe thead th {\n",
              "        text-align: right;\n",
              "    }\n",
              "</style>\n",
              "<table border=\"1\" class=\"dataframe\">\n",
              "  <thead>\n",
              "    <tr style=\"text-align: right;\">\n",
              "      <th></th>\n",
              "      <th>participant_id</th>\n",
              "      <th>Original_ID</th>\n",
              "      <th>Group</th>\n",
              "      <th>sess1_Med</th>\n",
              "      <th>sess2_Med</th>\n",
              "      <th>sex</th>\n",
              "      <th>age</th>\n",
              "    </tr>\n",
              "  </thead>\n",
              "  <tbody>\n",
              "    <tr>\n",
              "      <th>1</th>\n",
              "      <td>sub-002</td>\n",
              "      <td>801</td>\n",
              "      <td>1</td>\n",
              "      <td>ON</td>\n",
              "      <td>OFF</td>\n",
              "      <td>0</td>\n",
              "      <td>60</td>\n",
              "    </tr>\n",
              "  </tbody>\n",
              "</table>\n",
              "</div>"
            ],
            "text/plain": [
              "  participant_id  Original_ID  Group sess1_Med sess2_Med  sex  age\n",
              "1        sub-002          801      1        ON       OFF    0   60"
            ]
          },
          "metadata": {
            "tags": []
          },
          "execution_count": 14
        }
      ]
    },
    {
      "cell_type": "markdown",
      "metadata": {
        "id": "HA1Hf5xOJvp0"
      },
      "source": [
        "# Participant #3\n",
        "Number of sections: 2"
      ]
    },
    {
      "cell_type": "code",
      "metadata": {
        "colab": {
          "base_uri": "https://localhost:8080/",
          "height": 80
        },
        "id": "npqFE1L_enoF",
        "outputId": "6dc1135c-97f1-476f-c620-f9ace9f3b0ef"
      },
      "source": [
        "# Participant data\n",
        "p03 = participants[participants['participant_id'] == 'sub-003']\n",
        "p03.head()"
      ],
      "execution_count": null,
      "outputs": [
        {
          "output_type": "execute_result",
          "data": {
            "text/html": [
              "<div>\n",
              "<style scoped>\n",
              "    .dataframe tbody tr th:only-of-type {\n",
              "        vertical-align: middle;\n",
              "    }\n",
              "\n",
              "    .dataframe tbody tr th {\n",
              "        vertical-align: top;\n",
              "    }\n",
              "\n",
              "    .dataframe thead th {\n",
              "        text-align: right;\n",
              "    }\n",
              "</style>\n",
              "<table border=\"1\" class=\"dataframe\">\n",
              "  <thead>\n",
              "    <tr style=\"text-align: right;\">\n",
              "      <th></th>\n",
              "      <th>participant_id</th>\n",
              "      <th>Original_ID</th>\n",
              "      <th>Group</th>\n",
              "      <th>sess1_Med</th>\n",
              "      <th>sess2_Med</th>\n",
              "      <th>sex</th>\n",
              "      <th>age</th>\n",
              "    </tr>\n",
              "  </thead>\n",
              "  <tbody>\n",
              "    <tr>\n",
              "      <th>2</th>\n",
              "      <td>sub-003</td>\n",
              "      <td>802</td>\n",
              "      <td>1</td>\n",
              "      <td>OFF</td>\n",
              "      <td>ON</td>\n",
              "      <td>1</td>\n",
              "      <td>75</td>\n",
              "    </tr>\n",
              "  </tbody>\n",
              "</table>\n",
              "</div>"
            ],
            "text/plain": [
              "  participant_id  Original_ID  Group sess1_Med sess2_Med  sex  age\n",
              "2        sub-003          802      1       OFF        ON    1   75"
            ]
          },
          "metadata": {
            "tags": []
          },
          "execution_count": 17
        }
      ]
    },
    {
      "cell_type": "markdown",
      "metadata": {
        "id": "B9uCuc-0KIx_"
      },
      "source": [
        "# Participant #4\n",
        "Number of sections: 2"
      ]
    },
    {
      "cell_type": "code",
      "metadata": {
        "colab": {
          "base_uri": "https://localhost:8080/",
          "height": 80
        },
        "id": "dkNn5_sZeoIO",
        "outputId": "ca1d80bb-73b5-4be7-937b-3881caea9903"
      },
      "source": [
        "# Participant data\n",
        "p04 = participants[participants['participant_id'] == 'sub-004']\n",
        "p04.head()"
      ],
      "execution_count": null,
      "outputs": [
        {
          "output_type": "execute_result",
          "data": {
            "text/html": [
              "<div>\n",
              "<style scoped>\n",
              "    .dataframe tbody tr th:only-of-type {\n",
              "        vertical-align: middle;\n",
              "    }\n",
              "\n",
              "    .dataframe tbody tr th {\n",
              "        vertical-align: top;\n",
              "    }\n",
              "\n",
              "    .dataframe thead th {\n",
              "        text-align: right;\n",
              "    }\n",
              "</style>\n",
              "<table border=\"1\" class=\"dataframe\">\n",
              "  <thead>\n",
              "    <tr style=\"text-align: right;\">\n",
              "      <th></th>\n",
              "      <th>participant_id</th>\n",
              "      <th>Original_ID</th>\n",
              "      <th>Group</th>\n",
              "      <th>sess1_Med</th>\n",
              "      <th>sess2_Med</th>\n",
              "      <th>sex</th>\n",
              "      <th>age</th>\n",
              "    </tr>\n",
              "  </thead>\n",
              "  <tbody>\n",
              "    <tr>\n",
              "      <th>3</th>\n",
              "      <td>sub-004</td>\n",
              "      <td>803</td>\n",
              "      <td>1</td>\n",
              "      <td>OFF</td>\n",
              "      <td>ON</td>\n",
              "      <td>0</td>\n",
              "      <td>76</td>\n",
              "    </tr>\n",
              "  </tbody>\n",
              "</table>\n",
              "</div>"
            ],
            "text/plain": [
              "  participant_id  Original_ID  Group sess1_Med sess2_Med  sex  age\n",
              "3        sub-004          803      1       OFF        ON    0   76"
            ]
          },
          "metadata": {
            "tags": []
          },
          "execution_count": 20
        }
      ]
    },
    {
      "cell_type": "markdown",
      "metadata": {
        "id": "7LkDViCoKJW5"
      },
      "source": [
        "# Participant #5\n",
        "Number of sections: 2"
      ]
    },
    {
      "cell_type": "code",
      "metadata": {
        "colab": {
          "base_uri": "https://localhost:8080/",
          "height": 80
        },
        "id": "0c4jF245eouf",
        "outputId": "c4d694c8-7ea0-4156-b79f-459227489470"
      },
      "source": [
        "# Participant data\n",
        "p05 = participants[participants['participant_id'] == 'sub-005']\n",
        "p05.head()"
      ],
      "execution_count": null,
      "outputs": [
        {
          "output_type": "execute_result",
          "data": {
            "text/html": [
              "<div>\n",
              "<style scoped>\n",
              "    .dataframe tbody tr th:only-of-type {\n",
              "        vertical-align: middle;\n",
              "    }\n",
              "\n",
              "    .dataframe tbody tr th {\n",
              "        vertical-align: top;\n",
              "    }\n",
              "\n",
              "    .dataframe thead th {\n",
              "        text-align: right;\n",
              "    }\n",
              "</style>\n",
              "<table border=\"1\" class=\"dataframe\">\n",
              "  <thead>\n",
              "    <tr style=\"text-align: right;\">\n",
              "      <th></th>\n",
              "      <th>participant_id</th>\n",
              "      <th>Original_ID</th>\n",
              "      <th>Group</th>\n",
              "      <th>sess1_Med</th>\n",
              "      <th>sess2_Med</th>\n",
              "      <th>sex</th>\n",
              "      <th>age</th>\n",
              "    </tr>\n",
              "  </thead>\n",
              "  <tbody>\n",
              "    <tr>\n",
              "      <th>4</th>\n",
              "      <td>sub-005</td>\n",
              "      <td>804</td>\n",
              "      <td>1</td>\n",
              "      <td>ON</td>\n",
              "      <td>OFF</td>\n",
              "      <td>1</td>\n",
              "      <td>75</td>\n",
              "    </tr>\n",
              "  </tbody>\n",
              "</table>\n",
              "</div>"
            ],
            "text/plain": [
              "  participant_id  Original_ID  Group sess1_Med sess2_Med  sex  age\n",
              "4        sub-005          804      1        ON       OFF    1   75"
            ]
          },
          "metadata": {
            "tags": []
          },
          "execution_count": 23
        }
      ]
    },
    {
      "cell_type": "markdown",
      "metadata": {
        "id": "3q_1H0t9KJlD"
      },
      "source": [
        "# Participant #6\n",
        "Number of sections: 2"
      ]
    },
    {
      "cell_type": "code",
      "metadata": {
        "colab": {
          "base_uri": "https://localhost:8080/",
          "height": 80
        },
        "id": "ZuWyaVNnepSe",
        "outputId": "c4d694c8-7ea0-4156-b79f-459227489470"
      },
      "source": [
        "# Participant data\n",
        "p06 = participants[participants['participant_id'] == 'sub-006']\n",
        "p06.head()"
      ],
      "execution_count": null,
      "outputs": [
        {
          "output_type": "execute_result",
          "data": {
            "text/html": [
              "<div>\n",
              "<style scoped>\n",
              "    .dataframe tbody tr th:only-of-type {\n",
              "        vertical-align: middle;\n",
              "    }\n",
              "\n",
              "    .dataframe tbody tr th {\n",
              "        vertical-align: top;\n",
              "    }\n",
              "\n",
              "    .dataframe thead th {\n",
              "        text-align: right;\n",
              "    }\n",
              "</style>\n",
              "<table border=\"1\" class=\"dataframe\">\n",
              "  <thead>\n",
              "    <tr style=\"text-align: right;\">\n",
              "      <th></th>\n",
              "      <th>participant_id</th>\n",
              "      <th>Original_ID</th>\n",
              "      <th>Group</th>\n",
              "      <th>sess1_Med</th>\n",
              "      <th>sess2_Med</th>\n",
              "      <th>sex</th>\n",
              "      <th>age</th>\n",
              "    </tr>\n",
              "  </thead>\n",
              "  <tbody>\n",
              "    <tr>\n",
              "      <th>5</th>\n",
              "      <td>sub-006</td>\n",
              "      <td>805</td>\n",
              "      <td>1</td>\n",
              "      <td>ON</td>\n",
              "      <td>OFF</td>\n",
              "      <td>1</td>\n",
              "      <td>79</td>\n",
              "    </tr>\n",
              "  </tbody>\n",
              "</table>\n",
              "</div>"
            ],
            "text/plain": [
              "  participant_id  Original_ID  Group sess1_Med sess2_Med  sex  age\n",
              "5        sub-006          805      1        ON       OFF    1   79"
            ]
          },
          "metadata": {
            "tags": []
          },
          "execution_count": 26
        }
      ]
    },
    {
      "cell_type": "markdown",
      "metadata": {
        "id": "tqHYu8sQKJyL"
      },
      "source": [
        "# Participant #7\n",
        "Number of sections: 1"
      ]
    },
    {
      "cell_type": "code",
      "metadata": {
        "colab": {
          "base_uri": "https://localhost:8080/",
          "height": 80
        },
        "id": "7DpiXUqLep1Y",
        "outputId": "c4d694c8-7ea0-4156-b79f-459227489470"
      },
      "source": [
        "# Participant data\n",
        "p07 = participants[participants['participant_id'] == 'sub-007']\n",
        "p07.head()"
      ],
      "execution_count": null,
      "outputs": [
        {
          "output_type": "execute_result",
          "data": {
            "text/html": [
              "<div>\n",
              "<style scoped>\n",
              "    .dataframe tbody tr th:only-of-type {\n",
              "        vertical-align: middle;\n",
              "    }\n",
              "\n",
              "    .dataframe tbody tr th {\n",
              "        vertical-align: top;\n",
              "    }\n",
              "\n",
              "    .dataframe thead th {\n",
              "        text-align: right;\n",
              "    }\n",
              "</style>\n",
              "<table border=\"1\" class=\"dataframe\">\n",
              "  <thead>\n",
              "    <tr style=\"text-align: right;\">\n",
              "      <th></th>\n",
              "      <th>participant_id</th>\n",
              "      <th>Original_ID</th>\n",
              "      <th>Group</th>\n",
              "      <th>sess1_Med</th>\n",
              "      <th>sess2_Med</th>\n",
              "      <th>sex</th>\n",
              "      <th>age</th>\n",
              "    </tr>\n",
              "  </thead>\n",
              "  <tbody>\n",
              "    <tr>\n",
              "      <th>6</th>\n",
              "      <td>sub-007</td>\n",
              "      <td>8060</td>\n",
              "      <td>0</td>\n",
              "      <td>NaN</td>\n",
              "      <td>no s2</td>\n",
              "      <td>0</td>\n",
              "      <td>83</td>\n",
              "    </tr>\n",
              "  </tbody>\n",
              "</table>\n",
              "</div>"
            ],
            "text/plain": [
              "  participant_id  Original_ID  Group sess1_Med sess2_Med  sex  age\n",
              "6        sub-007         8060      0       NaN     no s2    0   83"
            ]
          },
          "metadata": {
            "tags": []
          },
          "execution_count": 29
        }
      ]
    },
    {
      "cell_type": "markdown",
      "metadata": {
        "id": "yZL7kpDjKJ8C"
      },
      "source": [
        "# Participant #8\n",
        "Number of sections: 2"
      ]
    },
    {
      "cell_type": "code",
      "metadata": {
        "colab": {
          "base_uri": "https://localhost:8080/",
          "height": 80
        },
        "id": "TKUKlJSfeqQn",
        "outputId": "c4d694c8-7ea0-4156-b79f-459227489470"
      },
      "source": [
        "# Participant data\n",
        "p08 = participants[participants['participant_id'] == 'sub-008']\n",
        "p08.head()"
      ],
      "execution_count": null,
      "outputs": [
        {
          "output_type": "execute_result",
          "data": {
            "text/html": [
              "<div>\n",
              "<style scoped>\n",
              "    .dataframe tbody tr th:only-of-type {\n",
              "        vertical-align: middle;\n",
              "    }\n",
              "\n",
              "    .dataframe tbody tr th {\n",
              "        vertical-align: top;\n",
              "    }\n",
              "\n",
              "    .dataframe thead th {\n",
              "        text-align: right;\n",
              "    }\n",
              "</style>\n",
              "<table border=\"1\" class=\"dataframe\">\n",
              "  <thead>\n",
              "    <tr style=\"text-align: right;\">\n",
              "      <th></th>\n",
              "      <th>participant_id</th>\n",
              "      <th>Original_ID</th>\n",
              "      <th>Group</th>\n",
              "      <th>sess1_Med</th>\n",
              "      <th>sess2_Med</th>\n",
              "      <th>sex</th>\n",
              "      <th>age</th>\n",
              "    </tr>\n",
              "  </thead>\n",
              "  <tbody>\n",
              "    <tr>\n",
              "      <th>7</th>\n",
              "      <td>sub-008</td>\n",
              "      <td>806</td>\n",
              "      <td>1</td>\n",
              "      <td>OFF</td>\n",
              "      <td>ON</td>\n",
              "      <td>0</td>\n",
              "      <td>79</td>\n",
              "    </tr>\n",
              "  </tbody>\n",
              "</table>\n",
              "</div>"
            ],
            "text/plain": [
              "  participant_id  Original_ID  Group sess1_Med sess2_Med  sex  age\n",
              "7        sub-008          806      1       OFF        ON    0   79"
            ]
          },
          "metadata": {
            "tags": []
          },
          "execution_count": 31
        }
      ]
    },
    {
      "cell_type": "markdown",
      "metadata": {
        "id": "IbzxP-sAKKIm"
      },
      "source": [
        "# Participant #9\n",
        "Number of sections: 1"
      ]
    },
    {
      "cell_type": "code",
      "metadata": {
        "colab": {
          "base_uri": "https://localhost:8080/",
          "height": 80
        },
        "id": "3MfuhhGZeqwV",
        "outputId": "c4d694c8-7ea0-4156-b79f-459227489470"
      },
      "source": [
        "# Participant data\n",
        "p09 = participants[participants['participant_id'] == 'sub-009']\n",
        "p09.head()"
      ],
      "execution_count": null,
      "outputs": [
        {
          "output_type": "execute_result",
          "data": {
            "text/html": [
              "<div>\n",
              "<style scoped>\n",
              "    .dataframe tbody tr th:only-of-type {\n",
              "        vertical-align: middle;\n",
              "    }\n",
              "\n",
              "    .dataframe tbody tr th {\n",
              "        vertical-align: top;\n",
              "    }\n",
              "\n",
              "    .dataframe thead th {\n",
              "        text-align: right;\n",
              "    }\n",
              "</style>\n",
              "<table border=\"1\" class=\"dataframe\">\n",
              "  <thead>\n",
              "    <tr style=\"text-align: right;\">\n",
              "      <th></th>\n",
              "      <th>participant_id</th>\n",
              "      <th>Original_ID</th>\n",
              "      <th>Group</th>\n",
              "      <th>sess1_Med</th>\n",
              "      <th>sess2_Med</th>\n",
              "      <th>sex</th>\n",
              "      <th>age</th>\n",
              "    </tr>\n",
              "  </thead>\n",
              "  <tbody>\n",
              "    <tr>\n",
              "      <th>8</th>\n",
              "      <td>sub-009</td>\n",
              "      <td>8070</td>\n",
              "      <td>0</td>\n",
              "      <td>NaN</td>\n",
              "      <td>no s2</td>\n",
              "      <td>0</td>\n",
              "      <td>67</td>\n",
              "    </tr>\n",
              "  </tbody>\n",
              "</table>\n",
              "</div>"
            ],
            "text/plain": [
              "  participant_id  Original_ID  Group sess1_Med sess2_Med  sex  age\n",
              "8        sub-009         8070      0       NaN     no s2    0   67"
            ]
          },
          "metadata": {
            "tags": []
          },
          "execution_count": 34
        }
      ]
    },
    {
      "cell_type": "markdown",
      "metadata": {
        "id": "cjjsQa8gKKUJ"
      },
      "source": [
        "# Participant #10\n",
        "Number of sections: 2"
      ]
    },
    {
      "cell_type": "code",
      "metadata": {
        "colab": {
          "base_uri": "https://localhost:8080/",
          "height": 80
        },
        "id": "PUf-4VvderSY",
        "outputId": "eb1e85d4-be6e-468e-ed7b-f3c22248ccd7"
      },
      "source": [
        "# Participant data\n",
        "p10 = participants[participants['participant_id'] == 'sub-010']\n",
        "p10.head()"
      ],
      "execution_count": null,
      "outputs": [
        {
          "output_type": "execute_result",
          "data": {
            "text/html": [
              "<div>\n",
              "<style scoped>\n",
              "    .dataframe tbody tr th:only-of-type {\n",
              "        vertical-align: middle;\n",
              "    }\n",
              "\n",
              "    .dataframe tbody tr th {\n",
              "        vertical-align: top;\n",
              "    }\n",
              "\n",
              "    .dataframe thead th {\n",
              "        text-align: right;\n",
              "    }\n",
              "</style>\n",
              "<table border=\"1\" class=\"dataframe\">\n",
              "  <thead>\n",
              "    <tr style=\"text-align: right;\">\n",
              "      <th></th>\n",
              "      <th>participant_id</th>\n",
              "      <th>Original_ID</th>\n",
              "      <th>Group</th>\n",
              "      <th>sess1_Med</th>\n",
              "      <th>sess2_Med</th>\n",
              "      <th>sex</th>\n",
              "      <th>age</th>\n",
              "    </tr>\n",
              "  </thead>\n",
              "  <tbody>\n",
              "    <tr>\n",
              "      <th>9</th>\n",
              "      <td>sub-010</td>\n",
              "      <td>807</td>\n",
              "      <td>1</td>\n",
              "      <td>OFF</td>\n",
              "      <td>ON</td>\n",
              "      <td>0</td>\n",
              "      <td>72</td>\n",
              "    </tr>\n",
              "  </tbody>\n",
              "</table>\n",
              "</div>"
            ],
            "text/plain": [
              "  participant_id  Original_ID  Group sess1_Med sess2_Med  sex  age\n",
              "9        sub-010          807      1       OFF        ON    0   72"
            ]
          },
          "metadata": {
            "tags": []
          },
          "execution_count": 36
        }
      ]
    },
    {
      "cell_type": "markdown",
      "metadata": {
        "id": "jvOl-7iXKKf2"
      },
      "source": [
        "# Participant #11\n",
        "Number of sections:2"
      ]
    },
    {
      "cell_type": "code",
      "metadata": {
        "colab": {
          "base_uri": "https://localhost:8080/",
          "height": 80
        },
        "id": "MUVJvpx0ert9",
        "outputId": "83d9a6f6-3ed4-45c6-d83e-5a48a2e21e60"
      },
      "source": [
        "# Participant data\n",
        "p11 = participants[participants['participant_id'] == 'sub-011']\n",
        "p11.head()"
      ],
      "execution_count": null,
      "outputs": [
        {
          "output_type": "execute_result",
          "data": {
            "text/html": [
              "<div>\n",
              "<style scoped>\n",
              "    .dataframe tbody tr th:only-of-type {\n",
              "        vertical-align: middle;\n",
              "    }\n",
              "\n",
              "    .dataframe tbody tr th {\n",
              "        vertical-align: top;\n",
              "    }\n",
              "\n",
              "    .dataframe thead th {\n",
              "        text-align: right;\n",
              "    }\n",
              "</style>\n",
              "<table border=\"1\" class=\"dataframe\">\n",
              "  <thead>\n",
              "    <tr style=\"text-align: right;\">\n",
              "      <th></th>\n",
              "      <th>participant_id</th>\n",
              "      <th>Original_ID</th>\n",
              "      <th>Group</th>\n",
              "      <th>sess1_Med</th>\n",
              "      <th>sess2_Med</th>\n",
              "      <th>sex</th>\n",
              "      <th>age</th>\n",
              "    </tr>\n",
              "  </thead>\n",
              "  <tbody>\n",
              "    <tr>\n",
              "      <th>10</th>\n",
              "      <td>sub-011</td>\n",
              "      <td>808</td>\n",
              "      <td>1</td>\n",
              "      <td>OFF</td>\n",
              "      <td>ON</td>\n",
              "      <td>1</td>\n",
              "      <td>68</td>\n",
              "    </tr>\n",
              "  </tbody>\n",
              "</table>\n",
              "</div>"
            ],
            "text/plain": [
              "   participant_id  Original_ID  Group sess1_Med sess2_Med  sex  age\n",
              "10        sub-011          808      1       OFF        ON    1   68"
            ]
          },
          "metadata": {
            "tags": []
          },
          "execution_count": 39
        }
      ]
    },
    {
      "cell_type": "code",
      "metadata": {
        "colab": {
          "base_uri": "https://localhost:8080/",
          "height": 80
        },
        "id": "AgGScr3GesOq",
        "outputId": "71b79d86-8484-4e47-e1ff-acd15a1d22cb"
      },
      "source": [
        "# Participant data\n",
        "p12 = participants[participants['participant_id'] == 'sub-012']\n",
        "p12.head()"
      ],
      "execution_count": null,
      "outputs": [
        {
          "output_type": "execute_result",
          "data": {
            "text/html": [
              "<div>\n",
              "<style scoped>\n",
              "    .dataframe tbody tr th:only-of-type {\n",
              "        vertical-align: middle;\n",
              "    }\n",
              "\n",
              "    .dataframe tbody tr th {\n",
              "        vertical-align: top;\n",
              "    }\n",
              "\n",
              "    .dataframe thead th {\n",
              "        text-align: right;\n",
              "    }\n",
              "</style>\n",
              "<table border=\"1\" class=\"dataframe\">\n",
              "  <thead>\n",
              "    <tr style=\"text-align: right;\">\n",
              "      <th></th>\n",
              "      <th>participant_id</th>\n",
              "      <th>Original_ID</th>\n",
              "      <th>Group</th>\n",
              "      <th>sess1_Med</th>\n",
              "      <th>sess2_Med</th>\n",
              "      <th>sex</th>\n",
              "      <th>age</th>\n",
              "    </tr>\n",
              "  </thead>\n",
              "  <tbody>\n",
              "    <tr>\n",
              "      <th>11</th>\n",
              "      <td>sub-012</td>\n",
              "      <td>809</td>\n",
              "      <td>1</td>\n",
              "      <td>ON</td>\n",
              "      <td>OFF</td>\n",
              "      <td>1</td>\n",
              "      <td>71</td>\n",
              "    </tr>\n",
              "  </tbody>\n",
              "</table>\n",
              "</div>"
            ],
            "text/plain": [
              "   participant_id  Original_ID  Group sess1_Med sess2_Med  sex  age\n",
              "11        sub-012          809      1        ON       OFF    1   71"
            ]
          },
          "metadata": {
            "tags": []
          },
          "execution_count": 42
        }
      ]
    },
    {
      "cell_type": "markdown",
      "metadata": {
        "id": "_Xgoqq47KK2F"
      },
      "source": [
        "# Participant #13\n",
        "Number of sections: 2"
      ]
    },
    {
      "cell_type": "code",
      "metadata": {
        "colab": {
          "base_uri": "https://localhost:8080/",
          "height": 80
        },
        "id": "2MRjFZE-esux",
        "outputId": "7b558cd3-13b2-486e-b9ed-47f986e2241a"
      },
      "source": [
        "# Participant data\n",
        "p13 = participants[participants['participant_id'] == 'sub-013']\n",
        "p13.head()"
      ],
      "execution_count": null,
      "outputs": [
        {
          "output_type": "execute_result",
          "data": {
            "text/html": [
              "<div>\n",
              "<style scoped>\n",
              "    .dataframe tbody tr th:only-of-type {\n",
              "        vertical-align: middle;\n",
              "    }\n",
              "\n",
              "    .dataframe tbody tr th {\n",
              "        vertical-align: top;\n",
              "    }\n",
              "\n",
              "    .dataframe thead th {\n",
              "        text-align: right;\n",
              "    }\n",
              "</style>\n",
              "<table border=\"1\" class=\"dataframe\">\n",
              "  <thead>\n",
              "    <tr style=\"text-align: right;\">\n",
              "      <th></th>\n",
              "      <th>participant_id</th>\n",
              "      <th>Original_ID</th>\n",
              "      <th>Group</th>\n",
              "      <th>sess1_Med</th>\n",
              "      <th>sess2_Med</th>\n",
              "      <th>sex</th>\n",
              "      <th>age</th>\n",
              "    </tr>\n",
              "  </thead>\n",
              "  <tbody>\n",
              "    <tr>\n",
              "      <th>12</th>\n",
              "      <td>sub-013</td>\n",
              "      <td>810</td>\n",
              "      <td>1</td>\n",
              "      <td>ON</td>\n",
              "      <td>OFF</td>\n",
              "      <td>1</td>\n",
              "      <td>68</td>\n",
              "    </tr>\n",
              "  </tbody>\n",
              "</table>\n",
              "</div>"
            ],
            "text/plain": [
              "   participant_id  Original_ID  Group sess1_Med sess2_Med  sex  age\n",
              "12        sub-013          810      1        ON       OFF    1   68"
            ]
          },
          "metadata": {
            "tags": []
          },
          "execution_count": 45
        }
      ]
    },
    {
      "cell_type": "markdown",
      "metadata": {
        "id": "WJfo6iWoKLAH"
      },
      "source": [
        "# Participant #14\n",
        "Number of sections: 2"
      ]
    },
    {
      "cell_type": "code",
      "metadata": {
        "colab": {
          "base_uri": "https://localhost:8080/",
          "height": 80
        },
        "id": "xDazrjCRetQk",
        "outputId": "c4d694c8-7ea0-4156-b79f-459227489470"
      },
      "source": [
        "# Participant data\n",
        "p14 = participants[participants['participant_id'] == 'sub-014']\n",
        "p14.head()"
      ],
      "execution_count": null,
      "outputs": [
        {
          "output_type": "execute_result",
          "data": {
            "text/html": [
              "<div>\n",
              "<style scoped>\n",
              "    .dataframe tbody tr th:only-of-type {\n",
              "        vertical-align: middle;\n",
              "    }\n",
              "\n",
              "    .dataframe tbody tr th {\n",
              "        vertical-align: top;\n",
              "    }\n",
              "\n",
              "    .dataframe thead th {\n",
              "        text-align: right;\n",
              "    }\n",
              "</style>\n",
              "<table border=\"1\" class=\"dataframe\">\n",
              "  <thead>\n",
              "    <tr style=\"text-align: right;\">\n",
              "      <th></th>\n",
              "      <th>participant_id</th>\n",
              "      <th>Original_ID</th>\n",
              "      <th>Group</th>\n",
              "      <th>sess1_Med</th>\n",
              "      <th>sess2_Med</th>\n",
              "      <th>sex</th>\n",
              "      <th>age</th>\n",
              "    </tr>\n",
              "  </thead>\n",
              "  <tbody>\n",
              "    <tr>\n",
              "      <th>13</th>\n",
              "      <td>sub-014</td>\n",
              "      <td>811</td>\n",
              "      <td>1</td>\n",
              "      <td>ON</td>\n",
              "      <td>OFF</td>\n",
              "      <td>1</td>\n",
              "      <td>68</td>\n",
              "    </tr>\n",
              "  </tbody>\n",
              "</table>\n",
              "</div>"
            ],
            "text/plain": [
              "   participant_id  Original_ID  Group sess1_Med sess2_Med  sex  age\n",
              "13        sub-014          811      1        ON       OFF    1   68"
            ]
          },
          "metadata": {
            "tags": []
          },
          "execution_count": 48
        }
      ]
    },
    {
      "cell_type": "markdown",
      "metadata": {
        "id": "PoNIS5cZKLKV"
      },
      "source": [
        "# Participant #15\n",
        "Number of sections: 2"
      ]
    },
    {
      "cell_type": "code",
      "metadata": {
        "colab": {
          "base_uri": "https://localhost:8080/",
          "height": 80
        },
        "id": "uo8KEkx1etxn",
        "outputId": "b4f96aab-2dc3-483e-aab4-08718eac0007"
      },
      "source": [
        "# Participant data\n",
        "p15 = participants[participants['participant_id'] == 'sub-015']\n",
        "p15.head()"
      ],
      "execution_count": null,
      "outputs": [
        {
          "output_type": "execute_result",
          "data": {
            "text/html": [
              "<div>\n",
              "<style scoped>\n",
              "    .dataframe tbody tr th:only-of-type {\n",
              "        vertical-align: middle;\n",
              "    }\n",
              "\n",
              "    .dataframe tbody tr th {\n",
              "        vertical-align: top;\n",
              "    }\n",
              "\n",
              "    .dataframe thead th {\n",
              "        text-align: right;\n",
              "    }\n",
              "</style>\n",
              "<table border=\"1\" class=\"dataframe\">\n",
              "  <thead>\n",
              "    <tr style=\"text-align: right;\">\n",
              "      <th></th>\n",
              "      <th>participant_id</th>\n",
              "      <th>Original_ID</th>\n",
              "      <th>Group</th>\n",
              "      <th>sess1_Med</th>\n",
              "      <th>sess2_Med</th>\n",
              "      <th>sex</th>\n",
              "      <th>age</th>\n",
              "    </tr>\n",
              "  </thead>\n",
              "  <tbody>\n",
              "    <tr>\n",
              "      <th>14</th>\n",
              "      <td>sub-015</td>\n",
              "      <td>813</td>\n",
              "      <td>1</td>\n",
              "      <td>OFF</td>\n",
              "      <td>ON</td>\n",
              "      <td>1</td>\n",
              "      <td>83</td>\n",
              "    </tr>\n",
              "  </tbody>\n",
              "</table>\n",
              "</div>"
            ],
            "text/plain": [
              "   participant_id  Original_ID  Group sess1_Med sess2_Med  sex  age\n",
              "14        sub-015          813      1       OFF        ON    1   83"
            ]
          },
          "metadata": {
            "tags": []
          },
          "execution_count": 51
        }
      ]
    },
    {
      "cell_type": "markdown",
      "metadata": {
        "id": "hLzhzWwnKLUV"
      },
      "source": [
        "# Participant #16\n",
        "Number of sections: 2"
      ]
    },
    {
      "cell_type": "code",
      "metadata": {
        "colab": {
          "base_uri": "https://localhost:8080/",
          "height": 80
        },
        "id": "_g6nugKWeuVh",
        "outputId": "b85be7ee-8d7e-449d-c564-d0e744b963cd"
      },
      "source": [
        "# Participant data\n",
        "p16 = participants[participants['participant_id'] == 'sub-016']\n",
        "p16.head()"
      ],
      "execution_count": null,
      "outputs": [
        {
          "output_type": "execute_result",
          "data": {
            "text/html": [
              "<div>\n",
              "<style scoped>\n",
              "    .dataframe tbody tr th:only-of-type {\n",
              "        vertical-align: middle;\n",
              "    }\n",
              "\n",
              "    .dataframe tbody tr th {\n",
              "        vertical-align: top;\n",
              "    }\n",
              "\n",
              "    .dataframe thead th {\n",
              "        text-align: right;\n",
              "    }\n",
              "</style>\n",
              "<table border=\"1\" class=\"dataframe\">\n",
              "  <thead>\n",
              "    <tr style=\"text-align: right;\">\n",
              "      <th></th>\n",
              "      <th>participant_id</th>\n",
              "      <th>Original_ID</th>\n",
              "      <th>Group</th>\n",
              "      <th>sess1_Med</th>\n",
              "      <th>sess2_Med</th>\n",
              "      <th>sex</th>\n",
              "      <th>age</th>\n",
              "    </tr>\n",
              "  </thead>\n",
              "  <tbody>\n",
              "    <tr>\n",
              "      <th>15</th>\n",
              "      <td>sub-016</td>\n",
              "      <td>814</td>\n",
              "      <td>1</td>\n",
              "      <td>ON</td>\n",
              "      <td>OFF</td>\n",
              "      <td>1</td>\n",
              "      <td>61</td>\n",
              "    </tr>\n",
              "  </tbody>\n",
              "</table>\n",
              "</div>"
            ],
            "text/plain": [
              "   participant_id  Original_ID  Group sess1_Med sess2_Med  sex  age\n",
              "15        sub-016          814      1        ON       OFF    1   61"
            ]
          },
          "metadata": {
            "tags": []
          },
          "execution_count": 54
        }
      ]
    },
    {
      "cell_type": "markdown",
      "metadata": {
        "id": "AG0xyLoRKLdY"
      },
      "source": [
        "# Participant #17\n",
        "Number of sections: 2"
      ]
    },
    {
      "cell_type": "code",
      "metadata": {
        "colab": {
          "base_uri": "https://localhost:8080/",
          "height": 80
        },
        "id": "JcLQdui1evQE",
        "outputId": "225af8b9-c9c0-4daf-9f0b-727f1d268943"
      },
      "source": [
        "# Participant data\n",
        "p17 = participants[participants['participant_id'] == 'sub-017']\n",
        "p17.head()"
      ],
      "execution_count": null,
      "outputs": [
        {
          "output_type": "execute_result",
          "data": {
            "text/html": [
              "<div>\n",
              "<style scoped>\n",
              "    .dataframe tbody tr th:only-of-type {\n",
              "        vertical-align: middle;\n",
              "    }\n",
              "\n",
              "    .dataframe tbody tr th {\n",
              "        vertical-align: top;\n",
              "    }\n",
              "\n",
              "    .dataframe thead th {\n",
              "        text-align: right;\n",
              "    }\n",
              "</style>\n",
              "<table border=\"1\" class=\"dataframe\">\n",
              "  <thead>\n",
              "    <tr style=\"text-align: right;\">\n",
              "      <th></th>\n",
              "      <th>participant_id</th>\n",
              "      <th>Original_ID</th>\n",
              "      <th>Group</th>\n",
              "      <th>sess1_Med</th>\n",
              "      <th>sess2_Med</th>\n",
              "      <th>sex</th>\n",
              "      <th>age</th>\n",
              "    </tr>\n",
              "  </thead>\n",
              "  <tbody>\n",
              "    <tr>\n",
              "      <th>16</th>\n",
              "      <td>sub-017</td>\n",
              "      <td>815</td>\n",
              "      <td>1</td>\n",
              "      <td>ON</td>\n",
              "      <td>OFF</td>\n",
              "      <td>1</td>\n",
              "      <td>55</td>\n",
              "    </tr>\n",
              "  </tbody>\n",
              "</table>\n",
              "</div>"
            ],
            "text/plain": [
              "   participant_id  Original_ID  Group sess1_Med sess2_Med  sex  age\n",
              "16        sub-017          815      1        ON       OFF    1   55"
            ]
          },
          "metadata": {
            "tags": []
          },
          "execution_count": 57
        }
      ]
    },
    {
      "cell_type": "markdown",
      "metadata": {
        "id": "QhCnPRyaKLnH"
      },
      "source": [
        "# Participant #18\n",
        "Number of sections: 2"
      ]
    },
    {
      "cell_type": "code",
      "metadata": {
        "colab": {
          "base_uri": "https://localhost:8080/",
          "height": 80
        },
        "id": "M8E5nPJuev0u",
        "outputId": "d2fdef2d-3890-4b47-fef6-378a5a41646b"
      },
      "source": [
        "# Participant data\n",
        "p18 = participants[participants['participant_id'] == 'sub-018']\n",
        "p18.head()"
      ],
      "execution_count": null,
      "outputs": [
        {
          "output_type": "execute_result",
          "data": {
            "text/html": [
              "<div>\n",
              "<style scoped>\n",
              "    .dataframe tbody tr th:only-of-type {\n",
              "        vertical-align: middle;\n",
              "    }\n",
              "\n",
              "    .dataframe tbody tr th {\n",
              "        vertical-align: top;\n",
              "    }\n",
              "\n",
              "    .dataframe thead th {\n",
              "        text-align: right;\n",
              "    }\n",
              "</style>\n",
              "<table border=\"1\" class=\"dataframe\">\n",
              "  <thead>\n",
              "    <tr style=\"text-align: right;\">\n",
              "      <th></th>\n",
              "      <th>participant_id</th>\n",
              "      <th>Original_ID</th>\n",
              "      <th>Group</th>\n",
              "      <th>sess1_Med</th>\n",
              "      <th>sess2_Med</th>\n",
              "      <th>sex</th>\n",
              "      <th>age</th>\n",
              "    </tr>\n",
              "  </thead>\n",
              "  <tbody>\n",
              "    <tr>\n",
              "      <th>17</th>\n",
              "      <td>sub-018</td>\n",
              "      <td>816</td>\n",
              "      <td>1</td>\n",
              "      <td>OFF</td>\n",
              "      <td>ON</td>\n",
              "      <td>0</td>\n",
              "      <td>49</td>\n",
              "    </tr>\n",
              "  </tbody>\n",
              "</table>\n",
              "</div>"
            ],
            "text/plain": [
              "   participant_id  Original_ID  Group sess1_Med sess2_Med  sex  age\n",
              "17        sub-018          816      1       OFF        ON    0   49"
            ]
          },
          "metadata": {
            "tags": []
          },
          "execution_count": 60
        }
      ]
    },
    {
      "cell_type": "markdown",
      "metadata": {
        "id": "eE7TVw7PKLw1"
      },
      "source": [
        "# Participant #19\n",
        "Number of sections: 2"
      ]
    },
    {
      "cell_type": "code",
      "metadata": {
        "colab": {
          "base_uri": "https://localhost:8080/",
          "height": 80
        },
        "id": "gMF7oDvgewQk",
        "outputId": "75af5846-ff27-4f1a-ef74-d6eb11bbbe6d"
      },
      "source": [
        "# Participant data\n",
        "p19 = participants[participants['participant_id'] == 'sub-019']\n",
        "p19.head()"
      ],
      "execution_count": null,
      "outputs": [
        {
          "output_type": "execute_result",
          "data": {
            "text/html": [
              "<div>\n",
              "<style scoped>\n",
              "    .dataframe tbody tr th:only-of-type {\n",
              "        vertical-align: middle;\n",
              "    }\n",
              "\n",
              "    .dataframe tbody tr th {\n",
              "        vertical-align: top;\n",
              "    }\n",
              "\n",
              "    .dataframe thead th {\n",
              "        text-align: right;\n",
              "    }\n",
              "</style>\n",
              "<table border=\"1\" class=\"dataframe\">\n",
              "  <thead>\n",
              "    <tr style=\"text-align: right;\">\n",
              "      <th></th>\n",
              "      <th>participant_id</th>\n",
              "      <th>Original_ID</th>\n",
              "      <th>Group</th>\n",
              "      <th>sess1_Med</th>\n",
              "      <th>sess2_Med</th>\n",
              "      <th>sex</th>\n",
              "      <th>age</th>\n",
              "    </tr>\n",
              "  </thead>\n",
              "  <tbody>\n",
              "    <tr>\n",
              "      <th>18</th>\n",
              "      <td>sub-019</td>\n",
              "      <td>817</td>\n",
              "      <td>1</td>\n",
              "      <td>OFF</td>\n",
              "      <td>ON</td>\n",
              "      <td>1</td>\n",
              "      <td>71</td>\n",
              "    </tr>\n",
              "  </tbody>\n",
              "</table>\n",
              "</div>"
            ],
            "text/plain": [
              "   participant_id  Original_ID  Group sess1_Med sess2_Med  sex  age\n",
              "18        sub-019          817      1       OFF        ON    1   71"
            ]
          },
          "metadata": {
            "tags": []
          },
          "execution_count": 63
        }
      ]
    },
    {
      "cell_type": "markdown",
      "metadata": {
        "id": "9iu4pCyqKL5z"
      },
      "source": [
        "# Participant #20\n",
        "Number of sections: 2"
      ]
    },
    {
      "cell_type": "code",
      "metadata": {
        "colab": {
          "base_uri": "https://localhost:8080/",
          "height": 80
        },
        "id": "qhKxrEplewtN",
        "outputId": "c7e22246-7d40-4c60-c9b8-a30a73471bb8"
      },
      "source": [
        "# Participant data\n",
        "p20 = participants[participants['participant_id'] == 'sub-020']\n",
        "p20.head()"
      ],
      "execution_count": null,
      "outputs": [
        {
          "output_type": "execute_result",
          "data": {
            "text/html": [
              "<div>\n",
              "<style scoped>\n",
              "    .dataframe tbody tr th:only-of-type {\n",
              "        vertical-align: middle;\n",
              "    }\n",
              "\n",
              "    .dataframe tbody tr th {\n",
              "        vertical-align: top;\n",
              "    }\n",
              "\n",
              "    .dataframe thead th {\n",
              "        text-align: right;\n",
              "    }\n",
              "</style>\n",
              "<table border=\"1\" class=\"dataframe\">\n",
              "  <thead>\n",
              "    <tr style=\"text-align: right;\">\n",
              "      <th></th>\n",
              "      <th>participant_id</th>\n",
              "      <th>Original_ID</th>\n",
              "      <th>Group</th>\n",
              "      <th>sess1_Med</th>\n",
              "      <th>sess2_Med</th>\n",
              "      <th>sex</th>\n",
              "      <th>age</th>\n",
              "    </tr>\n",
              "  </thead>\n",
              "  <tbody>\n",
              "    <tr>\n",
              "      <th>19</th>\n",
              "      <td>sub-020</td>\n",
              "      <td>818</td>\n",
              "      <td>1</td>\n",
              "      <td>ON</td>\n",
              "      <td>OFF</td>\n",
              "      <td>0</td>\n",
              "      <td>74</td>\n",
              "    </tr>\n",
              "  </tbody>\n",
              "</table>\n",
              "</div>"
            ],
            "text/plain": [
              "   participant_id  Original_ID  Group sess1_Med sess2_Med  sex  age\n",
              "19        sub-020          818      1        ON       OFF    0   74"
            ]
          },
          "metadata": {
            "tags": []
          },
          "execution_count": 66
        }
      ]
    },
    {
      "cell_type": "markdown",
      "metadata": {
        "id": "8UDtNJRhKMEd"
      },
      "source": [
        "# Participant #21\n",
        "Number of sections: 2"
      ]
    },
    {
      "cell_type": "code",
      "metadata": {
        "colab": {
          "base_uri": "https://localhost:8080/",
          "height": 80
        },
        "id": "SYyvC0HFexLm",
        "outputId": "bdb0438b-0e40-4565-dfe5-f000bcd7ee3c"
      },
      "source": [
        "# Participant data\n",
        "p21 = participants[participants['participant_id'] == 'sub-021']\n",
        "p21.head()"
      ],
      "execution_count": null,
      "outputs": [
        {
          "output_type": "execute_result",
          "data": {
            "text/html": [
              "<div>\n",
              "<style scoped>\n",
              "    .dataframe tbody tr th:only-of-type {\n",
              "        vertical-align: middle;\n",
              "    }\n",
              "\n",
              "    .dataframe tbody tr th {\n",
              "        vertical-align: top;\n",
              "    }\n",
              "\n",
              "    .dataframe thead th {\n",
              "        text-align: right;\n",
              "    }\n",
              "</style>\n",
              "<table border=\"1\" class=\"dataframe\">\n",
              "  <thead>\n",
              "    <tr style=\"text-align: right;\">\n",
              "      <th></th>\n",
              "      <th>participant_id</th>\n",
              "      <th>Original_ID</th>\n",
              "      <th>Group</th>\n",
              "      <th>sess1_Med</th>\n",
              "      <th>sess2_Med</th>\n",
              "      <th>sex</th>\n",
              "      <th>age</th>\n",
              "    </tr>\n",
              "  </thead>\n",
              "  <tbody>\n",
              "    <tr>\n",
              "      <th>20</th>\n",
              "      <td>sub-021</td>\n",
              "      <td>819</td>\n",
              "      <td>1</td>\n",
              "      <td>OFF</td>\n",
              "      <td>ON</td>\n",
              "      <td>1</td>\n",
              "      <td>76</td>\n",
              "    </tr>\n",
              "  </tbody>\n",
              "</table>\n",
              "</div>"
            ],
            "text/plain": [
              "   participant_id  Original_ID  Group sess1_Med sess2_Med  sex  age\n",
              "20        sub-021          819      1       OFF        ON    1   76"
            ]
          },
          "metadata": {
            "tags": []
          },
          "execution_count": 69
        }
      ]
    },
    {
      "cell_type": "markdown",
      "metadata": {
        "id": "0vnzsEQqKMQl"
      },
      "source": [
        "# Participant #22\n",
        "Number of sections: 2"
      ]
    },
    {
      "cell_type": "code",
      "metadata": {
        "colab": {
          "base_uri": "https://localhost:8080/",
          "height": 80
        },
        "id": "Vp5ViUnyexp8",
        "outputId": "eba9214f-8f9f-40df-f61d-7f687725e479"
      },
      "source": [
        "# Participant data\n",
        "p22 = participants[participants['participant_id'] == 'sub-022']\n",
        "p22.head()"
      ],
      "execution_count": null,
      "outputs": [
        {
          "output_type": "execute_result",
          "data": {
            "text/html": [
              "<div>\n",
              "<style scoped>\n",
              "    .dataframe tbody tr th:only-of-type {\n",
              "        vertical-align: middle;\n",
              "    }\n",
              "\n",
              "    .dataframe tbody tr th {\n",
              "        vertical-align: top;\n",
              "    }\n",
              "\n",
              "    .dataframe thead th {\n",
              "        text-align: right;\n",
              "    }\n",
              "</style>\n",
              "<table border=\"1\" class=\"dataframe\">\n",
              "  <thead>\n",
              "    <tr style=\"text-align: right;\">\n",
              "      <th></th>\n",
              "      <th>participant_id</th>\n",
              "      <th>Original_ID</th>\n",
              "      <th>Group</th>\n",
              "      <th>sess1_Med</th>\n",
              "      <th>sess2_Med</th>\n",
              "      <th>sex</th>\n",
              "      <th>age</th>\n",
              "    </tr>\n",
              "  </thead>\n",
              "  <tbody>\n",
              "    <tr>\n",
              "      <th>21</th>\n",
              "      <td>sub-022</td>\n",
              "      <td>820</td>\n",
              "      <td>1</td>\n",
              "      <td>ON</td>\n",
              "      <td>OFF</td>\n",
              "      <td>1</td>\n",
              "      <td>72</td>\n",
              "    </tr>\n",
              "  </tbody>\n",
              "</table>\n",
              "</div>"
            ],
            "text/plain": [
              "   participant_id  Original_ID  Group sess1_Med sess2_Med  sex  age\n",
              "21        sub-022          820      1        ON       OFF    1   72"
            ]
          },
          "metadata": {
            "tags": []
          },
          "execution_count": 72
        }
      ]
    },
    {
      "cell_type": "markdown",
      "metadata": {
        "id": "gimVEmyoKMag"
      },
      "source": [
        "# Participant #23\n",
        "Number of sections: 2"
      ]
    },
    {
      "cell_type": "code",
      "metadata": {
        "colab": {
          "base_uri": "https://localhost:8080/",
          "height": 80
        },
        "id": "B74d6IlceyQZ",
        "outputId": "0bbdf012-cd0d-4e55-8354-3acf9702ea5e"
      },
      "source": [
        "# Participant data\n",
        "p23 = participants[participants['participant_id'] == 'sub-023']\n",
        "p23.head()"
      ],
      "execution_count": null,
      "outputs": [
        {
          "output_type": "execute_result",
          "data": {
            "text/html": [
              "<div>\n",
              "<style scoped>\n",
              "    .dataframe tbody tr th:only-of-type {\n",
              "        vertical-align: middle;\n",
              "    }\n",
              "\n",
              "    .dataframe tbody tr th {\n",
              "        vertical-align: top;\n",
              "    }\n",
              "\n",
              "    .dataframe thead th {\n",
              "        text-align: right;\n",
              "    }\n",
              "</style>\n",
              "<table border=\"1\" class=\"dataframe\">\n",
              "  <thead>\n",
              "    <tr style=\"text-align: right;\">\n",
              "      <th></th>\n",
              "      <th>participant_id</th>\n",
              "      <th>Original_ID</th>\n",
              "      <th>Group</th>\n",
              "      <th>sess1_Med</th>\n",
              "      <th>sess2_Med</th>\n",
              "      <th>sex</th>\n",
              "      <th>age</th>\n",
              "    </tr>\n",
              "  </thead>\n",
              "  <tbody>\n",
              "    <tr>\n",
              "      <th>22</th>\n",
              "      <td>sub-023</td>\n",
              "      <td>821</td>\n",
              "      <td>1</td>\n",
              "      <td>ON</td>\n",
              "      <td>OFF</td>\n",
              "      <td>0</td>\n",
              "      <td>49</td>\n",
              "    </tr>\n",
              "  </tbody>\n",
              "</table>\n",
              "</div>"
            ],
            "text/plain": [
              "   participant_id  Original_ID  Group sess1_Med sess2_Med  sex  age\n",
              "22        sub-023          821      1        ON       OFF    0   49"
            ]
          },
          "metadata": {
            "tags": []
          },
          "execution_count": 75
        }
      ]
    },
    {
      "cell_type": "markdown",
      "metadata": {
        "id": "Hoxx2vzlKMmu"
      },
      "source": [
        "# Participant #24\n",
        "Number of sections: 2"
      ]
    },
    {
      "cell_type": "code",
      "metadata": {
        "colab": {
          "base_uri": "https://localhost:8080/",
          "height": 80
        },
        "id": "T3t5vPUReyu3",
        "outputId": "10f1f9a1-d93f-4b4b-e7cc-579e403ec370"
      },
      "source": [
        "# Participant data\n",
        "p24 = participants[participants['participant_id'] == 'sub-024']\n",
        "p24.head()"
      ],
      "execution_count": null,
      "outputs": [
        {
          "output_type": "execute_result",
          "data": {
            "text/html": [
              "<div>\n",
              "<style scoped>\n",
              "    .dataframe tbody tr th:only-of-type {\n",
              "        vertical-align: middle;\n",
              "    }\n",
              "\n",
              "    .dataframe tbody tr th {\n",
              "        vertical-align: top;\n",
              "    }\n",
              "\n",
              "    .dataframe thead th {\n",
              "        text-align: right;\n",
              "    }\n",
              "</style>\n",
              "<table border=\"1\" class=\"dataframe\">\n",
              "  <thead>\n",
              "    <tr style=\"text-align: right;\">\n",
              "      <th></th>\n",
              "      <th>participant_id</th>\n",
              "      <th>Original_ID</th>\n",
              "      <th>Group</th>\n",
              "      <th>sess1_Med</th>\n",
              "      <th>sess2_Med</th>\n",
              "      <th>sex</th>\n",
              "      <th>age</th>\n",
              "    </tr>\n",
              "  </thead>\n",
              "  <tbody>\n",
              "    <tr>\n",
              "      <th>23</th>\n",
              "      <td>sub-024</td>\n",
              "      <td>822</td>\n",
              "      <td>1</td>\n",
              "      <td>ON</td>\n",
              "      <td>OFF</td>\n",
              "      <td>1</td>\n",
              "      <td>70</td>\n",
              "    </tr>\n",
              "  </tbody>\n",
              "</table>\n",
              "</div>"
            ],
            "text/plain": [
              "   participant_id  Original_ID  Group sess1_Med sess2_Med  sex  age\n",
              "23        sub-024          822      1        ON       OFF    1   70"
            ]
          },
          "metadata": {
            "tags": []
          },
          "execution_count": 78
        }
      ]
    },
    {
      "cell_type": "markdown",
      "metadata": {
        "id": "Woxst48wKMxj"
      },
      "source": [
        "# Participant #25\n",
        "Number of sections: 2"
      ]
    },
    {
      "cell_type": "code",
      "metadata": {
        "colab": {
          "base_uri": "https://localhost:8080/",
          "height": 80
        },
        "id": "d7V9byV4ezIM",
        "outputId": "6891ffeb-9137-49cd-a958-a28ec5812ece"
      },
      "source": [
        "# Participant data\n",
        "p25 = participants[participants['participant_id'] == 'sub-025']\n",
        "p25.head()"
      ],
      "execution_count": null,
      "outputs": [
        {
          "output_type": "execute_result",
          "data": {
            "text/html": [
              "<div>\n",
              "<style scoped>\n",
              "    .dataframe tbody tr th:only-of-type {\n",
              "        vertical-align: middle;\n",
              "    }\n",
              "\n",
              "    .dataframe tbody tr th {\n",
              "        vertical-align: top;\n",
              "    }\n",
              "\n",
              "    .dataframe thead th {\n",
              "        text-align: right;\n",
              "    }\n",
              "</style>\n",
              "<table border=\"1\" class=\"dataframe\">\n",
              "  <thead>\n",
              "    <tr style=\"text-align: right;\">\n",
              "      <th></th>\n",
              "      <th>participant_id</th>\n",
              "      <th>Original_ID</th>\n",
              "      <th>Group</th>\n",
              "      <th>sess1_Med</th>\n",
              "      <th>sess2_Med</th>\n",
              "      <th>sex</th>\n",
              "      <th>age</th>\n",
              "    </tr>\n",
              "  </thead>\n",
              "  <tbody>\n",
              "    <tr>\n",
              "      <th>24</th>\n",
              "      <td>sub-025</td>\n",
              "      <td>823</td>\n",
              "      <td>1</td>\n",
              "      <td>OFF</td>\n",
              "      <td>ON</td>\n",
              "      <td>0</td>\n",
              "      <td>64</td>\n",
              "    </tr>\n",
              "  </tbody>\n",
              "</table>\n",
              "</div>"
            ],
            "text/plain": [
              "   participant_id  Original_ID  Group sess1_Med sess2_Med  sex  age\n",
              "24        sub-025          823      1       OFF        ON    0   64"
            ]
          },
          "metadata": {
            "tags": []
          },
          "execution_count": 81
        }
      ]
    },
    {
      "cell_type": "markdown",
      "metadata": {
        "id": "MgUKO8CiKM8C"
      },
      "source": [
        "# Participant #26\n",
        "Number of sections: 2"
      ]
    },
    {
      "cell_type": "code",
      "metadata": {
        "colab": {
          "base_uri": "https://localhost:8080/",
          "height": 80
        },
        "id": "7elb_d3eezpW",
        "outputId": "025c69e9-8f1d-4791-80aa-8a316b3401f6"
      },
      "source": [
        "# Participant data\n",
        "p26 = participants[participants['participant_id'] == 'sub-026']\n",
        "p26.head()"
      ],
      "execution_count": null,
      "outputs": [
        {
          "output_type": "execute_result",
          "data": {
            "text/html": [
              "<div>\n",
              "<style scoped>\n",
              "    .dataframe tbody tr th:only-of-type {\n",
              "        vertical-align: middle;\n",
              "    }\n",
              "\n",
              "    .dataframe tbody tr th {\n",
              "        vertical-align: top;\n",
              "    }\n",
              "\n",
              "    .dataframe thead th {\n",
              "        text-align: right;\n",
              "    }\n",
              "</style>\n",
              "<table border=\"1\" class=\"dataframe\">\n",
              "  <thead>\n",
              "    <tr style=\"text-align: right;\">\n",
              "      <th></th>\n",
              "      <th>participant_id</th>\n",
              "      <th>Original_ID</th>\n",
              "      <th>Group</th>\n",
              "      <th>sess1_Med</th>\n",
              "      <th>sess2_Med</th>\n",
              "      <th>sex</th>\n",
              "      <th>age</th>\n",
              "    </tr>\n",
              "  </thead>\n",
              "  <tbody>\n",
              "    <tr>\n",
              "      <th>25</th>\n",
              "      <td>sub-026</td>\n",
              "      <td>824</td>\n",
              "      <td>1</td>\n",
              "      <td>OFF</td>\n",
              "      <td>ON</td>\n",
              "      <td>1</td>\n",
              "      <td>78</td>\n",
              "    </tr>\n",
              "  </tbody>\n",
              "</table>\n",
              "</div>"
            ],
            "text/plain": [
              "   participant_id  Original_ID  Group sess1_Med sess2_Med  sex  age\n",
              "25        sub-026          824      1       OFF        ON    1   78"
            ]
          },
          "metadata": {
            "tags": []
          },
          "execution_count": 84
        }
      ]
    },
    {
      "cell_type": "markdown",
      "metadata": {
        "id": "biTMU42MKNJM"
      },
      "source": [
        "# Participant #27\n",
        "Number of sections: 2"
      ]
    },
    {
      "cell_type": "code",
      "metadata": {
        "colab": {
          "base_uri": "https://localhost:8080/",
          "height": 80
        },
        "id": "YMbrotJoe0Nk",
        "outputId": "5c4079da-9b6a-42f6-cf89-ecf28c9946aa"
      },
      "source": [
        "# Participant data\n",
        "p27 = participants[participants['participant_id'] == 'sub-027']\n",
        "p27.head()"
      ],
      "execution_count": null,
      "outputs": [
        {
          "output_type": "execute_result",
          "data": {
            "text/html": [
              "<div>\n",
              "<style scoped>\n",
              "    .dataframe tbody tr th:only-of-type {\n",
              "        vertical-align: middle;\n",
              "    }\n",
              "\n",
              "    .dataframe tbody tr th {\n",
              "        vertical-align: top;\n",
              "    }\n",
              "\n",
              "    .dataframe thead th {\n",
              "        text-align: right;\n",
              "    }\n",
              "</style>\n",
              "<table border=\"1\" class=\"dataframe\">\n",
              "  <thead>\n",
              "    <tr style=\"text-align: right;\">\n",
              "      <th></th>\n",
              "      <th>participant_id</th>\n",
              "      <th>Original_ID</th>\n",
              "      <th>Group</th>\n",
              "      <th>sess1_Med</th>\n",
              "      <th>sess2_Med</th>\n",
              "      <th>sex</th>\n",
              "      <th>age</th>\n",
              "    </tr>\n",
              "  </thead>\n",
              "  <tbody>\n",
              "    <tr>\n",
              "      <th>26</th>\n",
              "      <td>sub-027</td>\n",
              "      <td>825</td>\n",
              "      <td>1</td>\n",
              "      <td>ON</td>\n",
              "      <td>OFF</td>\n",
              "      <td>0</td>\n",
              "      <td>77</td>\n",
              "    </tr>\n",
              "  </tbody>\n",
              "</table>\n",
              "</div>"
            ],
            "text/plain": [
              "   participant_id  Original_ID  Group sess1_Med sess2_Med  sex  age\n",
              "26        sub-027          825      1        ON       OFF    0   77"
            ]
          },
          "metadata": {
            "tags": []
          },
          "execution_count": 87
        }
      ]
    },
    {
      "cell_type": "markdown",
      "metadata": {
        "id": "XNbXjWuVKNTo"
      },
      "source": [
        "# Participant #28\n",
        "Number of sections: 2"
      ]
    },
    {
      "cell_type": "code",
      "metadata": {
        "colab": {
          "base_uri": "https://localhost:8080/",
          "height": 80
        },
        "id": "ikO1yEKAe0x8",
        "outputId": "16b498f2-6a47-44da-e503-8d36d1d014ce"
      },
      "source": [
        "# Participant data\n",
        "p28 = participants[participants['participant_id'] == 'sub-028']\n",
        "p28.head()"
      ],
      "execution_count": null,
      "outputs": [
        {
          "output_type": "execute_result",
          "data": {
            "text/html": [
              "<div>\n",
              "<style scoped>\n",
              "    .dataframe tbody tr th:only-of-type {\n",
              "        vertical-align: middle;\n",
              "    }\n",
              "\n",
              "    .dataframe tbody tr th {\n",
              "        vertical-align: top;\n",
              "    }\n",
              "\n",
              "    .dataframe thead th {\n",
              "        text-align: right;\n",
              "    }\n",
              "</style>\n",
              "<table border=\"1\" class=\"dataframe\">\n",
              "  <thead>\n",
              "    <tr style=\"text-align: right;\">\n",
              "      <th></th>\n",
              "      <th>participant_id</th>\n",
              "      <th>Original_ID</th>\n",
              "      <th>Group</th>\n",
              "      <th>sess1_Med</th>\n",
              "      <th>sess2_Med</th>\n",
              "      <th>sex</th>\n",
              "      <th>age</th>\n",
              "    </tr>\n",
              "  </thead>\n",
              "  <tbody>\n",
              "    <tr>\n",
              "      <th>27</th>\n",
              "      <td>sub-028</td>\n",
              "      <td>826</td>\n",
              "      <td>1</td>\n",
              "      <td>ON</td>\n",
              "      <td>OFF</td>\n",
              "      <td>1</td>\n",
              "      <td>66</td>\n",
              "    </tr>\n",
              "  </tbody>\n",
              "</table>\n",
              "</div>"
            ],
            "text/plain": [
              "   participant_id  Original_ID  Group sess1_Med sess2_Med  sex  age\n",
              "27        sub-028          826      1        ON       OFF    1   66"
            ]
          },
          "metadata": {
            "tags": []
          },
          "execution_count": 90
        }
      ]
    },
    {
      "cell_type": "markdown",
      "metadata": {
        "id": "Ba7T-92tKNer"
      },
      "source": [
        "# Participant #29\n",
        "Number of sections: 2"
      ]
    },
    {
      "cell_type": "code",
      "metadata": {
        "colab": {
          "base_uri": "https://localhost:8080/",
          "height": 80
        },
        "id": "sik8avWLe1PR",
        "outputId": "06f372ec-22f4-4ebf-e01c-9f2defacc483"
      },
      "source": [
        "# Participant data\n",
        "p29 = participants[participants['participant_id'] == 'sub-029']\n",
        "p29.head()"
      ],
      "execution_count": null,
      "outputs": [
        {
          "output_type": "execute_result",
          "data": {
            "text/html": [
              "<div>\n",
              "<style scoped>\n",
              "    .dataframe tbody tr th:only-of-type {\n",
              "        vertical-align: middle;\n",
              "    }\n",
              "\n",
              "    .dataframe tbody tr th {\n",
              "        vertical-align: top;\n",
              "    }\n",
              "\n",
              "    .dataframe thead th {\n",
              "        text-align: right;\n",
              "    }\n",
              "</style>\n",
              "<table border=\"1\" class=\"dataframe\">\n",
              "  <thead>\n",
              "    <tr style=\"text-align: right;\">\n",
              "      <th></th>\n",
              "      <th>participant_id</th>\n",
              "      <th>Original_ID</th>\n",
              "      <th>Group</th>\n",
              "      <th>sess1_Med</th>\n",
              "      <th>sess2_Med</th>\n",
              "      <th>sex</th>\n",
              "      <th>age</th>\n",
              "    </tr>\n",
              "  </thead>\n",
              "  <tbody>\n",
              "    <tr>\n",
              "      <th>28</th>\n",
              "      <td>sub-029</td>\n",
              "      <td>827</td>\n",
              "      <td>1</td>\n",
              "      <td>OFF</td>\n",
              "      <td>ON</td>\n",
              "      <td>1</td>\n",
              "      <td>68</td>\n",
              "    </tr>\n",
              "  </tbody>\n",
              "</table>\n",
              "</div>"
            ],
            "text/plain": [
              "   participant_id  Original_ID  Group sess1_Med sess2_Med  sex  age\n",
              "28        sub-029          827      1       OFF        ON    1   68"
            ]
          },
          "metadata": {
            "tags": []
          },
          "execution_count": 93
        }
      ]
    },
    {
      "cell_type": "markdown",
      "metadata": {
        "id": "pwjhyiOSKN0w"
      },
      "source": [
        "# Participant #30\n",
        "Number of sections: 2"
      ]
    },
    {
      "cell_type": "code",
      "metadata": {
        "colab": {
          "base_uri": "https://localhost:8080/",
          "height": 80
        },
        "id": "FED2EXuve1ql",
        "outputId": "b4a75df7-b711-4a68-fb64-20dc196b070d"
      },
      "source": [
        "# Participant data\n",
        "p30 = participants[participants['participant_id'] == 'sub-030']\n",
        "p30.head()"
      ],
      "execution_count": null,
      "outputs": [
        {
          "output_type": "execute_result",
          "data": {
            "text/html": [
              "<div>\n",
              "<style scoped>\n",
              "    .dataframe tbody tr th:only-of-type {\n",
              "        vertical-align: middle;\n",
              "    }\n",
              "\n",
              "    .dataframe tbody tr th {\n",
              "        vertical-align: top;\n",
              "    }\n",
              "\n",
              "    .dataframe thead th {\n",
              "        text-align: right;\n",
              "    }\n",
              "</style>\n",
              "<table border=\"1\" class=\"dataframe\">\n",
              "  <thead>\n",
              "    <tr style=\"text-align: right;\">\n",
              "      <th></th>\n",
              "      <th>participant_id</th>\n",
              "      <th>Original_ID</th>\n",
              "      <th>Group</th>\n",
              "      <th>sess1_Med</th>\n",
              "      <th>sess2_Med</th>\n",
              "      <th>sex</th>\n",
              "      <th>age</th>\n",
              "    </tr>\n",
              "  </thead>\n",
              "  <tbody>\n",
              "    <tr>\n",
              "      <th>29</th>\n",
              "      <td>sub-030</td>\n",
              "      <td>828</td>\n",
              "      <td>1</td>\n",
              "      <td>OFF</td>\n",
              "      <td>ON</td>\n",
              "      <td>0</td>\n",
              "      <td>76</td>\n",
              "    </tr>\n",
              "  </tbody>\n",
              "</table>\n",
              "</div>"
            ],
            "text/plain": [
              "   participant_id  Original_ID  Group sess1_Med sess2_Med  sex  age\n",
              "29        sub-030          828      1       OFF        ON    0   76"
            ]
          },
          "metadata": {
            "tags": []
          },
          "execution_count": 96
        }
      ]
    },
    {
      "cell_type": "markdown",
      "metadata": {
        "id": "sA4wVH_oKOB0"
      },
      "source": [
        "# Participant #31\n",
        "Number of sections: 2"
      ]
    },
    {
      "cell_type": "code",
      "metadata": {
        "colab": {
          "base_uri": "https://localhost:8080/",
          "height": 80
        },
        "id": "VQ-ECn3ze2Kj",
        "outputId": "30aa5b16-397e-4f59-d1dd-3e6602572301"
      },
      "source": [
        "# Participant data\n",
        "p31 = participants[participants['participant_id'] == 'sub-031']\n",
        "p31.head()"
      ],
      "execution_count": null,
      "outputs": [
        {
          "output_type": "execute_result",
          "data": {
            "text/html": [
              "<div>\n",
              "<style scoped>\n",
              "    .dataframe tbody tr th:only-of-type {\n",
              "        vertical-align: middle;\n",
              "    }\n",
              "\n",
              "    .dataframe tbody tr th {\n",
              "        vertical-align: top;\n",
              "    }\n",
              "\n",
              "    .dataframe thead th {\n",
              "        text-align: right;\n",
              "    }\n",
              "</style>\n",
              "<table border=\"1\" class=\"dataframe\">\n",
              "  <thead>\n",
              "    <tr style=\"text-align: right;\">\n",
              "      <th></th>\n",
              "      <th>participant_id</th>\n",
              "      <th>Original_ID</th>\n",
              "      <th>Group</th>\n",
              "      <th>sess1_Med</th>\n",
              "      <th>sess2_Med</th>\n",
              "      <th>sex</th>\n",
              "      <th>age</th>\n",
              "    </tr>\n",
              "  </thead>\n",
              "  <tbody>\n",
              "    <tr>\n",
              "      <th>30</th>\n",
              "      <td>sub-031</td>\n",
              "      <td>829</td>\n",
              "      <td>1</td>\n",
              "      <td>OFF</td>\n",
              "      <td>ON</td>\n",
              "      <td>0</td>\n",
              "      <td>73</td>\n",
              "    </tr>\n",
              "  </tbody>\n",
              "</table>\n",
              "</div>"
            ],
            "text/plain": [
              "   participant_id  Original_ID  Group sess1_Med sess2_Med  sex  age\n",
              "30        sub-031          829      1       OFF        ON    0   73"
            ]
          },
          "metadata": {
            "tags": []
          },
          "execution_count": 99
        }
      ]
    },
    {
      "cell_type": "markdown",
      "metadata": {
        "id": "FU0nJa1FKOMq"
      },
      "source": [
        "# Participant #32\n",
        "Number of sections: 1"
      ]
    },
    {
      "cell_type": "code",
      "metadata": {
        "colab": {
          "base_uri": "https://localhost:8080/",
          "height": 80
        },
        "id": "mTNE1u1Oe2sO",
        "outputId": "cbbfff0b-a4fb-40aa-d860-1313d35ad918"
      },
      "source": [
        "# Participant data\n",
        "p32 = participants[participants['participant_id'] == 'sub-032']\n",
        "p32.head()"
      ],
      "execution_count": null,
      "outputs": [
        {
          "output_type": "execute_result",
          "data": {
            "text/html": [
              "<div>\n",
              "<style scoped>\n",
              "    .dataframe tbody tr th:only-of-type {\n",
              "        vertical-align: middle;\n",
              "    }\n",
              "\n",
              "    .dataframe tbody tr th {\n",
              "        vertical-align: top;\n",
              "    }\n",
              "\n",
              "    .dataframe thead th {\n",
              "        text-align: right;\n",
              "    }\n",
              "</style>\n",
              "<table border=\"1\" class=\"dataframe\">\n",
              "  <thead>\n",
              "    <tr style=\"text-align: right;\">\n",
              "      <th></th>\n",
              "      <th>participant_id</th>\n",
              "      <th>Original_ID</th>\n",
              "      <th>Group</th>\n",
              "      <th>sess1_Med</th>\n",
              "      <th>sess2_Med</th>\n",
              "      <th>sex</th>\n",
              "      <th>age</th>\n",
              "    </tr>\n",
              "  </thead>\n",
              "  <tbody>\n",
              "    <tr>\n",
              "      <th>31</th>\n",
              "      <td>sub-032</td>\n",
              "      <td>890</td>\n",
              "      <td>0</td>\n",
              "      <td>NaN</td>\n",
              "      <td>no s2</td>\n",
              "      <td>0</td>\n",
              "      <td>66</td>\n",
              "    </tr>\n",
              "  </tbody>\n",
              "</table>\n",
              "</div>"
            ],
            "text/plain": [
              "   participant_id  Original_ID  Group sess1_Med sess2_Med  sex  age\n",
              "31        sub-032          890      0       NaN     no s2    0   66"
            ]
          },
          "metadata": {
            "tags": []
          },
          "execution_count": 102
        }
      ]
    },
    {
      "cell_type": "markdown",
      "metadata": {
        "id": "Oq1MEg6TKOWn"
      },
      "source": [
        "# Participant #33\n",
        "Number of sections: 1"
      ]
    },
    {
      "cell_type": "code",
      "metadata": {
        "colab": {
          "base_uri": "https://localhost:8080/",
          "height": 80
        },
        "id": "PU2A5Fqve3JL",
        "outputId": "cdb2a6ea-0ae3-40d2-c549-b9a6339eed3b"
      },
      "source": [
        "# Participant data\n",
        "p33 = participants[participants['participant_id'] == 'sub-033']\n",
        "p33.head()"
      ],
      "execution_count": null,
      "outputs": [
        {
          "output_type": "execute_result",
          "data": {
            "text/html": [
              "<div>\n",
              "<style scoped>\n",
              "    .dataframe tbody tr th:only-of-type {\n",
              "        vertical-align: middle;\n",
              "    }\n",
              "\n",
              "    .dataframe tbody tr th {\n",
              "        vertical-align: top;\n",
              "    }\n",
              "\n",
              "    .dataframe thead th {\n",
              "        text-align: right;\n",
              "    }\n",
              "</style>\n",
              "<table border=\"1\" class=\"dataframe\">\n",
              "  <thead>\n",
              "    <tr style=\"text-align: right;\">\n",
              "      <th></th>\n",
              "      <th>participant_id</th>\n",
              "      <th>Original_ID</th>\n",
              "      <th>Group</th>\n",
              "      <th>sess1_Med</th>\n",
              "      <th>sess2_Med</th>\n",
              "      <th>sex</th>\n",
              "      <th>age</th>\n",
              "    </tr>\n",
              "  </thead>\n",
              "  <tbody>\n",
              "    <tr>\n",
              "      <th>32</th>\n",
              "      <td>sub-033</td>\n",
              "      <td>891</td>\n",
              "      <td>0</td>\n",
              "      <td>NaN</td>\n",
              "      <td>no s2</td>\n",
              "      <td>1</td>\n",
              "      <td>80</td>\n",
              "    </tr>\n",
              "  </tbody>\n",
              "</table>\n",
              "</div>"
            ],
            "text/plain": [
              "   participant_id  Original_ID  Group sess1_Med sess2_Med  sex  age\n",
              "32        sub-033          891      0       NaN     no s2    1   80"
            ]
          },
          "metadata": {
            "tags": []
          },
          "execution_count": 104
        }
      ]
    },
    {
      "cell_type": "markdown",
      "metadata": {
        "id": "e9BMMLqIKOgR"
      },
      "source": [
        "# Participant #34\n",
        "Number of sections: 1"
      ]
    },
    {
      "cell_type": "code",
      "metadata": {
        "colab": {
          "base_uri": "https://localhost:8080/",
          "height": 80
        },
        "id": "DuUSskUde3oV",
        "outputId": "b8ff51f5-1624-49a6-c49b-713455dbce24"
      },
      "source": [
        "# Participant data\n",
        "p34 = participants[participants['participant_id'] == 'sub-034']\n",
        "p34.head()"
      ],
      "execution_count": null,
      "outputs": [
        {
          "output_type": "execute_result",
          "data": {
            "text/html": [
              "<div>\n",
              "<style scoped>\n",
              "    .dataframe tbody tr th:only-of-type {\n",
              "        vertical-align: middle;\n",
              "    }\n",
              "\n",
              "    .dataframe tbody tr th {\n",
              "        vertical-align: top;\n",
              "    }\n",
              "\n",
              "    .dataframe thead th {\n",
              "        text-align: right;\n",
              "    }\n",
              "</style>\n",
              "<table border=\"1\" class=\"dataframe\">\n",
              "  <thead>\n",
              "    <tr style=\"text-align: right;\">\n",
              "      <th></th>\n",
              "      <th>participant_id</th>\n",
              "      <th>Original_ID</th>\n",
              "      <th>Group</th>\n",
              "      <th>sess1_Med</th>\n",
              "      <th>sess2_Med</th>\n",
              "      <th>sex</th>\n",
              "      <th>age</th>\n",
              "    </tr>\n",
              "  </thead>\n",
              "  <tbody>\n",
              "    <tr>\n",
              "      <th>33</th>\n",
              "      <td>sub-034</td>\n",
              "      <td>892</td>\n",
              "      <td>0</td>\n",
              "      <td>NaN</td>\n",
              "      <td>no s2</td>\n",
              "      <td>0</td>\n",
              "      <td>64</td>\n",
              "    </tr>\n",
              "  </tbody>\n",
              "</table>\n",
              "</div>"
            ],
            "text/plain": [
              "   participant_id  Original_ID  Group sess1_Med sess2_Med  sex  age\n",
              "33        sub-034          892      0       NaN     no s2    0   64"
            ]
          },
          "metadata": {
            "tags": []
          },
          "execution_count": 106
        }
      ]
    },
    {
      "cell_type": "markdown",
      "metadata": {
        "id": "zUzpTepgKOpR"
      },
      "source": [
        "# Participant #35\n",
        "Number of sections: 1"
      ]
    },
    {
      "cell_type": "code",
      "metadata": {
        "colab": {
          "base_uri": "https://localhost:8080/",
          "height": 80
        },
        "id": "SXjQHBvne4At",
        "outputId": "8945394b-a0e6-43d4-f34a-49110a819a0d"
      },
      "source": [
        "# Participant data\n",
        "p35 = participants[participants['participant_id'] == 'sub-035']\n",
        "p35.head()"
      ],
      "execution_count": null,
      "outputs": [
        {
          "output_type": "execute_result",
          "data": {
            "text/html": [
              "<div>\n",
              "<style scoped>\n",
              "    .dataframe tbody tr th:only-of-type {\n",
              "        vertical-align: middle;\n",
              "    }\n",
              "\n",
              "    .dataframe tbody tr th {\n",
              "        vertical-align: top;\n",
              "    }\n",
              "\n",
              "    .dataframe thead th {\n",
              "        text-align: right;\n",
              "    }\n",
              "</style>\n",
              "<table border=\"1\" class=\"dataframe\">\n",
              "  <thead>\n",
              "    <tr style=\"text-align: right;\">\n",
              "      <th></th>\n",
              "      <th>participant_id</th>\n",
              "      <th>Original_ID</th>\n",
              "      <th>Group</th>\n",
              "      <th>sess1_Med</th>\n",
              "      <th>sess2_Med</th>\n",
              "      <th>sex</th>\n",
              "      <th>age</th>\n",
              "    </tr>\n",
              "  </thead>\n",
              "  <tbody>\n",
              "    <tr>\n",
              "      <th>34</th>\n",
              "      <td>sub-035</td>\n",
              "      <td>893</td>\n",
              "      <td>0</td>\n",
              "      <td>NaN</td>\n",
              "      <td>no s2</td>\n",
              "      <td>0</td>\n",
              "      <td>64</td>\n",
              "    </tr>\n",
              "  </tbody>\n",
              "</table>\n",
              "</div>"
            ],
            "text/plain": [
              "   participant_id  Original_ID  Group sess1_Med sess2_Med  sex  age\n",
              "34        sub-035          893      0       NaN     no s2    0   64"
            ]
          },
          "metadata": {
            "tags": []
          },
          "execution_count": 108
        }
      ]
    },
    {
      "cell_type": "markdown",
      "metadata": {
        "id": "276tVSMMKO0K"
      },
      "source": [
        "# Participant #36\n",
        "Number of sections: 1"
      ]
    },
    {
      "cell_type": "code",
      "metadata": {
        "colab": {
          "base_uri": "https://localhost:8080/",
          "height": 80
        },
        "id": "p5zwddwee4iJ",
        "outputId": "c40eed6b-dc42-4c16-da5a-166161910d39"
      },
      "source": [
        "# Participant data\n",
        "p36 = participants[participants['participant_id'] == 'sub-036']\n",
        "p36.head()"
      ],
      "execution_count": null,
      "outputs": [
        {
          "output_type": "execute_result",
          "data": {
            "text/html": [
              "<div>\n",
              "<style scoped>\n",
              "    .dataframe tbody tr th:only-of-type {\n",
              "        vertical-align: middle;\n",
              "    }\n",
              "\n",
              "    .dataframe tbody tr th {\n",
              "        vertical-align: top;\n",
              "    }\n",
              "\n",
              "    .dataframe thead th {\n",
              "        text-align: right;\n",
              "    }\n",
              "</style>\n",
              "<table border=\"1\" class=\"dataframe\">\n",
              "  <thead>\n",
              "    <tr style=\"text-align: right;\">\n",
              "      <th></th>\n",
              "      <th>participant_id</th>\n",
              "      <th>Original_ID</th>\n",
              "      <th>Group</th>\n",
              "      <th>sess1_Med</th>\n",
              "      <th>sess2_Med</th>\n",
              "      <th>sex</th>\n",
              "      <th>age</th>\n",
              "    </tr>\n",
              "  </thead>\n",
              "  <tbody>\n",
              "    <tr>\n",
              "      <th>35</th>\n",
              "      <td>sub-036</td>\n",
              "      <td>894</td>\n",
              "      <td>0</td>\n",
              "      <td>NaN</td>\n",
              "      <td>no s2</td>\n",
              "      <td>0</td>\n",
              "      <td>69</td>\n",
              "    </tr>\n",
              "  </tbody>\n",
              "</table>\n",
              "</div>"
            ],
            "text/plain": [
              "   participant_id  Original_ID  Group sess1_Med sess2_Med  sex  age\n",
              "35        sub-036          894      0       NaN     no s2    0   69"
            ]
          },
          "metadata": {
            "tags": []
          },
          "execution_count": 110
        }
      ]
    },
    {
      "cell_type": "markdown",
      "metadata": {
        "id": "wJFPBeYSKO-M"
      },
      "source": [
        "# Participant #37\n",
        "Number of sections: 1"
      ]
    },
    {
      "cell_type": "code",
      "metadata": {
        "colab": {
          "base_uri": "https://localhost:8080/",
          "height": 80
        },
        "id": "paGSWQxRe47V",
        "outputId": "d8298742-508b-4018-dd82-cb001d813dc5"
      },
      "source": [
        "# Participant data\n",
        "p37 = participants[participants['participant_id'] == 'sub-037']\n",
        "p37.head()"
      ],
      "execution_count": null,
      "outputs": [
        {
          "output_type": "execute_result",
          "data": {
            "text/html": [
              "<div>\n",
              "<style scoped>\n",
              "    .dataframe tbody tr th:only-of-type {\n",
              "        vertical-align: middle;\n",
              "    }\n",
              "\n",
              "    .dataframe tbody tr th {\n",
              "        vertical-align: top;\n",
              "    }\n",
              "\n",
              "    .dataframe thead th {\n",
              "        text-align: right;\n",
              "    }\n",
              "</style>\n",
              "<table border=\"1\" class=\"dataframe\">\n",
              "  <thead>\n",
              "    <tr style=\"text-align: right;\">\n",
              "      <th></th>\n",
              "      <th>participant_id</th>\n",
              "      <th>Original_ID</th>\n",
              "      <th>Group</th>\n",
              "      <th>sess1_Med</th>\n",
              "      <th>sess2_Med</th>\n",
              "      <th>sex</th>\n",
              "      <th>age</th>\n",
              "    </tr>\n",
              "  </thead>\n",
              "  <tbody>\n",
              "    <tr>\n",
              "      <th>36</th>\n",
              "      <td>sub-037</td>\n",
              "      <td>895</td>\n",
              "      <td>0</td>\n",
              "      <td>NaN</td>\n",
              "      <td>no s2</td>\n",
              "      <td>1</td>\n",
              "      <td>69</td>\n",
              "    </tr>\n",
              "  </tbody>\n",
              "</table>\n",
              "</div>"
            ],
            "text/plain": [
              "   participant_id  Original_ID  Group sess1_Med sess2_Med  sex  age\n",
              "36        sub-037          895      0       NaN     no s2    1   69"
            ]
          },
          "metadata": {
            "tags": []
          },
          "execution_count": 112
        }
      ]
    },
    {
      "cell_type": "markdown",
      "metadata": {
        "id": "qKPRp-23KPIM"
      },
      "source": [
        "# Participant #38\n",
        "Number of sections: 1"
      ]
    },
    {
      "cell_type": "code",
      "metadata": {
        "colab": {
          "base_uri": "https://localhost:8080/",
          "height": 80
        },
        "id": "mkuYsFaOe5So",
        "outputId": "34a7739c-91b9-4277-fa06-c0e77210dece"
      },
      "source": [
        "# Participant data\n",
        "p38 = participants[participants['participant_id'] == 'sub-038']\n",
        "p38.head()"
      ],
      "execution_count": null,
      "outputs": [
        {
          "output_type": "execute_result",
          "data": {
            "text/html": [
              "<div>\n",
              "<style scoped>\n",
              "    .dataframe tbody tr th:only-of-type {\n",
              "        vertical-align: middle;\n",
              "    }\n",
              "\n",
              "    .dataframe tbody tr th {\n",
              "        vertical-align: top;\n",
              "    }\n",
              "\n",
              "    .dataframe thead th {\n",
              "        text-align: right;\n",
              "    }\n",
              "</style>\n",
              "<table border=\"1\" class=\"dataframe\">\n",
              "  <thead>\n",
              "    <tr style=\"text-align: right;\">\n",
              "      <th></th>\n",
              "      <th>participant_id</th>\n",
              "      <th>Original_ID</th>\n",
              "      <th>Group</th>\n",
              "      <th>sess1_Med</th>\n",
              "      <th>sess2_Med</th>\n",
              "      <th>sex</th>\n",
              "      <th>age</th>\n",
              "    </tr>\n",
              "  </thead>\n",
              "  <tbody>\n",
              "    <tr>\n",
              "      <th>37</th>\n",
              "      <td>sub-038</td>\n",
              "      <td>896</td>\n",
              "      <td>0</td>\n",
              "      <td>NaN</td>\n",
              "      <td>no s2</td>\n",
              "      <td>1</td>\n",
              "      <td>58</td>\n",
              "    </tr>\n",
              "  </tbody>\n",
              "</table>\n",
              "</div>"
            ],
            "text/plain": [
              "   participant_id  Original_ID  Group sess1_Med sess2_Med  sex  age\n",
              "37        sub-038          896      0       NaN     no s2    1   58"
            ]
          },
          "metadata": {
            "tags": []
          },
          "execution_count": 114
        }
      ]
    },
    {
      "cell_type": "markdown",
      "metadata": {
        "id": "mRS8A2z3KPV2"
      },
      "source": [
        "# Participant #39\n",
        "Number of sections: 1"
      ]
    },
    {
      "cell_type": "code",
      "metadata": {
        "colab": {
          "base_uri": "https://localhost:8080/",
          "height": 80
        },
        "id": "YxeP9UJDe5x_",
        "outputId": "600c9ea5-6965-4029-e676-7462622e3d24"
      },
      "source": [
        "# Participant data\n",
        "p39 = participants[participants['participant_id'] == 'sub-039']\n",
        "p39.head()"
      ],
      "execution_count": null,
      "outputs": [
        {
          "output_type": "execute_result",
          "data": {
            "text/html": [
              "<div>\n",
              "<style scoped>\n",
              "    .dataframe tbody tr th:only-of-type {\n",
              "        vertical-align: middle;\n",
              "    }\n",
              "\n",
              "    .dataframe tbody tr th {\n",
              "        vertical-align: top;\n",
              "    }\n",
              "\n",
              "    .dataframe thead th {\n",
              "        text-align: right;\n",
              "    }\n",
              "</style>\n",
              "<table border=\"1\" class=\"dataframe\">\n",
              "  <thead>\n",
              "    <tr style=\"text-align: right;\">\n",
              "      <th></th>\n",
              "      <th>participant_id</th>\n",
              "      <th>Original_ID</th>\n",
              "      <th>Group</th>\n",
              "      <th>sess1_Med</th>\n",
              "      <th>sess2_Med</th>\n",
              "      <th>sex</th>\n",
              "      <th>age</th>\n",
              "    </tr>\n",
              "  </thead>\n",
              "  <tbody>\n",
              "    <tr>\n",
              "      <th>38</th>\n",
              "      <td>sub-039</td>\n",
              "      <td>897</td>\n",
              "      <td>0</td>\n",
              "      <td>NaN</td>\n",
              "      <td>no s2</td>\n",
              "      <td>1</td>\n",
              "      <td>70</td>\n",
              "    </tr>\n",
              "  </tbody>\n",
              "</table>\n",
              "</div>"
            ],
            "text/plain": [
              "   participant_id  Original_ID  Group sess1_Med sess2_Med  sex  age\n",
              "38        sub-039          897      0       NaN     no s2    1   70"
            ]
          },
          "metadata": {
            "tags": []
          },
          "execution_count": 116
        }
      ]
    },
    {
      "cell_type": "markdown",
      "metadata": {
        "id": "gDILYo5hKPoq"
      },
      "source": [
        "# Participant #40\n",
        "Number of sections: 1"
      ]
    },
    {
      "cell_type": "code",
      "metadata": {
        "colab": {
          "base_uri": "https://localhost:8080/",
          "height": 80
        },
        "id": "PWFblg6We60n",
        "outputId": "f4e485c3-21e8-4596-9e64-d70b55af031e"
      },
      "source": [
        "# Participant data\n",
        "p40 = participants[participants['participant_id'] == 'sub-040']\n",
        "p40.head()"
      ],
      "execution_count": null,
      "outputs": [
        {
          "output_type": "execute_result",
          "data": {
            "text/html": [
              "<div>\n",
              "<style scoped>\n",
              "    .dataframe tbody tr th:only-of-type {\n",
              "        vertical-align: middle;\n",
              "    }\n",
              "\n",
              "    .dataframe tbody tr th {\n",
              "        vertical-align: top;\n",
              "    }\n",
              "\n",
              "    .dataframe thead th {\n",
              "        text-align: right;\n",
              "    }\n",
              "</style>\n",
              "<table border=\"1\" class=\"dataframe\">\n",
              "  <thead>\n",
              "    <tr style=\"text-align: right;\">\n",
              "      <th></th>\n",
              "      <th>participant_id</th>\n",
              "      <th>Original_ID</th>\n",
              "      <th>Group</th>\n",
              "      <th>sess1_Med</th>\n",
              "      <th>sess2_Med</th>\n",
              "      <th>sex</th>\n",
              "      <th>age</th>\n",
              "    </tr>\n",
              "  </thead>\n",
              "  <tbody>\n",
              "    <tr>\n",
              "      <th>39</th>\n",
              "      <td>sub-040</td>\n",
              "      <td>898</td>\n",
              "      <td>0</td>\n",
              "      <td>NaN</td>\n",
              "      <td>no s2</td>\n",
              "      <td>1</td>\n",
              "      <td>64</td>\n",
              "    </tr>\n",
              "  </tbody>\n",
              "</table>\n",
              "</div>"
            ],
            "text/plain": [
              "   participant_id  Original_ID  Group sess1_Med sess2_Med  sex  age\n",
              "39        sub-040          898      0       NaN     no s2    1   64"
            ]
          },
          "metadata": {
            "tags": []
          },
          "execution_count": 118
        }
      ]
    },
    {
      "cell_type": "markdown",
      "metadata": {
        "id": "cG_YWUaAKPyj"
      },
      "source": [
        "# Participant #41\n",
        "Number of sections: 1"
      ]
    },
    {
      "cell_type": "code",
      "metadata": {
        "colab": {
          "base_uri": "https://localhost:8080/",
          "height": 80
        },
        "id": "_g1lnKKNe75C",
        "outputId": "1689552b-2282-4dc4-bacb-a948d08ddb75"
      },
      "source": [
        "# Participant data\n",
        "p41 = participants[participants['participant_id'] == 'sub-041']\n",
        "p41.head()"
      ],
      "execution_count": null,
      "outputs": [
        {
          "output_type": "execute_result",
          "data": {
            "text/html": [
              "<div>\n",
              "<style scoped>\n",
              "    .dataframe tbody tr th:only-of-type {\n",
              "        vertical-align: middle;\n",
              "    }\n",
              "\n",
              "    .dataframe tbody tr th {\n",
              "        vertical-align: top;\n",
              "    }\n",
              "\n",
              "    .dataframe thead th {\n",
              "        text-align: right;\n",
              "    }\n",
              "</style>\n",
              "<table border=\"1\" class=\"dataframe\">\n",
              "  <thead>\n",
              "    <tr style=\"text-align: right;\">\n",
              "      <th></th>\n",
              "      <th>participant_id</th>\n",
              "      <th>Original_ID</th>\n",
              "      <th>Group</th>\n",
              "      <th>sess1_Med</th>\n",
              "      <th>sess2_Med</th>\n",
              "      <th>sex</th>\n",
              "      <th>age</th>\n",
              "    </tr>\n",
              "  </thead>\n",
              "  <tbody>\n",
              "    <tr>\n",
              "      <th>40</th>\n",
              "      <td>sub-041</td>\n",
              "      <td>899</td>\n",
              "      <td>0</td>\n",
              "      <td>NaN</td>\n",
              "      <td>no s2</td>\n",
              "      <td>1</td>\n",
              "      <td>52</td>\n",
              "    </tr>\n",
              "  </tbody>\n",
              "</table>\n",
              "</div>"
            ],
            "text/plain": [
              "   participant_id  Original_ID  Group sess1_Med sess2_Med  sex  age\n",
              "40        sub-041          899      0       NaN     no s2    1   52"
            ]
          },
          "metadata": {
            "tags": []
          },
          "execution_count": 120
        }
      ]
    },
    {
      "cell_type": "markdown",
      "metadata": {
        "id": "kACyjQPzKP82"
      },
      "source": [
        "# Participant #42\n",
        "Number of sections: 1"
      ]
    },
    {
      "cell_type": "code",
      "metadata": {
        "colab": {
          "base_uri": "https://localhost:8080/",
          "height": 80
        },
        "id": "8S2k0_sge8Vq",
        "outputId": "fb5c0ed3-9358-4cc2-9fa6-871bd96d5153"
      },
      "source": [
        "# Participant data\n",
        "p42 = participants[participants['participant_id'] == 'sub-042']\n",
        "p42.head()"
      ],
      "execution_count": null,
      "outputs": [
        {
          "output_type": "execute_result",
          "data": {
            "text/html": [
              "<div>\n",
              "<style scoped>\n",
              "    .dataframe tbody tr th:only-of-type {\n",
              "        vertical-align: middle;\n",
              "    }\n",
              "\n",
              "    .dataframe tbody tr th {\n",
              "        vertical-align: top;\n",
              "    }\n",
              "\n",
              "    .dataframe thead th {\n",
              "        text-align: right;\n",
              "    }\n",
              "</style>\n",
              "<table border=\"1\" class=\"dataframe\">\n",
              "  <thead>\n",
              "    <tr style=\"text-align: right;\">\n",
              "      <th></th>\n",
              "      <th>participant_id</th>\n",
              "      <th>Original_ID</th>\n",
              "      <th>Group</th>\n",
              "      <th>sess1_Med</th>\n",
              "      <th>sess2_Med</th>\n",
              "      <th>sex</th>\n",
              "      <th>age</th>\n",
              "    </tr>\n",
              "  </thead>\n",
              "  <tbody>\n",
              "    <tr>\n",
              "      <th>41</th>\n",
              "      <td>sub-042</td>\n",
              "      <td>900</td>\n",
              "      <td>0</td>\n",
              "      <td>NaN</td>\n",
              "      <td>no s2</td>\n",
              "      <td>1</td>\n",
              "      <td>84</td>\n",
              "    </tr>\n",
              "  </tbody>\n",
              "</table>\n",
              "</div>"
            ],
            "text/plain": [
              "   participant_id  Original_ID  Group sess1_Med sess2_Med  sex  age\n",
              "41        sub-042          900      0       NaN     no s2    1   84"
            ]
          },
          "metadata": {
            "tags": []
          },
          "execution_count": 122
        }
      ]
    },
    {
      "cell_type": "markdown",
      "metadata": {
        "id": "PLM-_ET1KQGO"
      },
      "source": [
        "# Participant #43\n",
        "Number of sections: 1"
      ]
    },
    {
      "cell_type": "code",
      "metadata": {
        "colab": {
          "base_uri": "https://localhost:8080/",
          "height": 80
        },
        "id": "GBHzs5uue83B",
        "outputId": "3fd8e522-4adf-49c1-e2e9-c69b58e53816"
      },
      "source": [
        "# Participant data\n",
        "p43 = participants[participants['participant_id'] == 'sub-043']\n",
        "p43.head()"
      ],
      "execution_count": null,
      "outputs": [
        {
          "output_type": "execute_result",
          "data": {
            "text/html": [
              "<div>\n",
              "<style scoped>\n",
              "    .dataframe tbody tr th:only-of-type {\n",
              "        vertical-align: middle;\n",
              "    }\n",
              "\n",
              "    .dataframe tbody tr th {\n",
              "        vertical-align: top;\n",
              "    }\n",
              "\n",
              "    .dataframe thead th {\n",
              "        text-align: right;\n",
              "    }\n",
              "</style>\n",
              "<table border=\"1\" class=\"dataframe\">\n",
              "  <thead>\n",
              "    <tr style=\"text-align: right;\">\n",
              "      <th></th>\n",
              "      <th>participant_id</th>\n",
              "      <th>Original_ID</th>\n",
              "      <th>Group</th>\n",
              "      <th>sess1_Med</th>\n",
              "      <th>sess2_Med</th>\n",
              "      <th>sex</th>\n",
              "      <th>age</th>\n",
              "    </tr>\n",
              "  </thead>\n",
              "  <tbody>\n",
              "    <tr>\n",
              "      <th>42</th>\n",
              "      <td>sub-043</td>\n",
              "      <td>901</td>\n",
              "      <td>0</td>\n",
              "      <td>NaN</td>\n",
              "      <td>no s2</td>\n",
              "      <td>0</td>\n",
              "      <td>69</td>\n",
              "    </tr>\n",
              "  </tbody>\n",
              "</table>\n",
              "</div>"
            ],
            "text/plain": [
              "   participant_id  Original_ID  Group sess1_Med sess2_Med  sex  age\n",
              "42        sub-043          901      0       NaN     no s2    0   69"
            ]
          },
          "metadata": {
            "tags": []
          },
          "execution_count": 124
        }
      ]
    },
    {
      "cell_type": "markdown",
      "metadata": {
        "id": "qmI4mOe0KQPz"
      },
      "source": [
        "# Participant #44\n",
        "Number of sections: 1"
      ]
    },
    {
      "cell_type": "code",
      "metadata": {
        "colab": {
          "base_uri": "https://localhost:8080/",
          "height": 80
        },
        "id": "IGlwUN0oe9Os",
        "outputId": "47136c0c-48eb-4238-a9d3-9455f59d1993"
      },
      "source": [
        "# Participant data\n",
        "p44 = participants[participants['participant_id'] == 'sub-044']\n",
        "p44.head()"
      ],
      "execution_count": null,
      "outputs": [
        {
          "output_type": "execute_result",
          "data": {
            "text/html": [
              "<div>\n",
              "<style scoped>\n",
              "    .dataframe tbody tr th:only-of-type {\n",
              "        vertical-align: middle;\n",
              "    }\n",
              "\n",
              "    .dataframe tbody tr th {\n",
              "        vertical-align: top;\n",
              "    }\n",
              "\n",
              "    .dataframe thead th {\n",
              "        text-align: right;\n",
              "    }\n",
              "</style>\n",
              "<table border=\"1\" class=\"dataframe\">\n",
              "  <thead>\n",
              "    <tr style=\"text-align: right;\">\n",
              "      <th></th>\n",
              "      <th>participant_id</th>\n",
              "      <th>Original_ID</th>\n",
              "      <th>Group</th>\n",
              "      <th>sess1_Med</th>\n",
              "      <th>sess2_Med</th>\n",
              "      <th>sex</th>\n",
              "      <th>age</th>\n",
              "    </tr>\n",
              "  </thead>\n",
              "  <tbody>\n",
              "    <tr>\n",
              "      <th>43</th>\n",
              "      <td>sub-044</td>\n",
              "      <td>902</td>\n",
              "      <td>0</td>\n",
              "      <td>NaN</td>\n",
              "      <td>no s2</td>\n",
              "      <td>1</td>\n",
              "      <td>83</td>\n",
              "    </tr>\n",
              "  </tbody>\n",
              "</table>\n",
              "</div>"
            ],
            "text/plain": [
              "   participant_id  Original_ID  Group sess1_Med sess2_Med  sex  age\n",
              "43        sub-044          902      0       NaN     no s2    1   83"
            ]
          },
          "metadata": {
            "tags": []
          },
          "execution_count": 126
        }
      ]
    },
    {
      "cell_type": "markdown",
      "metadata": {
        "id": "wepW1eQoKQZ3"
      },
      "source": [
        "# Participant #45\n",
        "Number of sections: 1"
      ]
    },
    {
      "cell_type": "code",
      "metadata": {
        "colab": {
          "base_uri": "https://localhost:8080/",
          "height": 80
        },
        "id": "Hl3NefdCe9kZ",
        "outputId": "33de77b1-501f-4b86-9dd3-bdf49fd6c11f"
      },
      "source": [
        "# Participant data\n",
        "p45 = participants[participants['participant_id'] == 'sub-045']\n",
        "p45.head()"
      ],
      "execution_count": null,
      "outputs": [
        {
          "output_type": "execute_result",
          "data": {
            "text/html": [
              "<div>\n",
              "<style scoped>\n",
              "    .dataframe tbody tr th:only-of-type {\n",
              "        vertical-align: middle;\n",
              "    }\n",
              "\n",
              "    .dataframe tbody tr th {\n",
              "        vertical-align: top;\n",
              "    }\n",
              "\n",
              "    .dataframe thead th {\n",
              "        text-align: right;\n",
              "    }\n",
              "</style>\n",
              "<table border=\"1\" class=\"dataframe\">\n",
              "  <thead>\n",
              "    <tr style=\"text-align: right;\">\n",
              "      <th></th>\n",
              "      <th>participant_id</th>\n",
              "      <th>Original_ID</th>\n",
              "      <th>Group</th>\n",
              "      <th>sess1_Med</th>\n",
              "      <th>sess2_Med</th>\n",
              "      <th>sex</th>\n",
              "      <th>age</th>\n",
              "    </tr>\n",
              "  </thead>\n",
              "  <tbody>\n",
              "    <tr>\n",
              "      <th>44</th>\n",
              "      <td>sub-045</td>\n",
              "      <td>903</td>\n",
              "      <td>0</td>\n",
              "      <td>NaN</td>\n",
              "      <td>no s2</td>\n",
              "      <td>1</td>\n",
              "      <td>83</td>\n",
              "    </tr>\n",
              "  </tbody>\n",
              "</table>\n",
              "</div>"
            ],
            "text/plain": [
              "   participant_id  Original_ID  Group sess1_Med sess2_Med  sex  age\n",
              "44        sub-045          903      0       NaN     no s2    1   83"
            ]
          },
          "metadata": {
            "tags": []
          },
          "execution_count": 128
        }
      ]
    },
    {
      "cell_type": "markdown",
      "metadata": {
        "id": "aT2-6sZiKQih"
      },
      "source": [
        "# Participant #46\n",
        "Number of sections: 1"
      ]
    },
    {
      "cell_type": "code",
      "metadata": {
        "colab": {
          "base_uri": "https://localhost:8080/",
          "height": 80
        },
        "id": "g2CNaXLQe964",
        "outputId": "a93ea616-3aea-48fd-bc5d-4de0a4e96e22"
      },
      "source": [
        ""
      ],
      "execution_count": null,
      "outputs": [
        {
          "output_type": "execute_result",
          "data": {
            "text/html": [
              "<div>\n",
              "<style scoped>\n",
              "    .dataframe tbody tr th:only-of-type {\n",
              "        vertical-align: middle;\n",
              "    }\n",
              "\n",
              "    .dataframe tbody tr th {\n",
              "        vertical-align: top;\n",
              "    }\n",
              "\n",
              "    .dataframe thead th {\n",
              "        text-align: right;\n",
              "    }\n",
              "</style>\n",
              "<table border=\"1\" class=\"dataframe\">\n",
              "  <thead>\n",
              "    <tr style=\"text-align: right;\">\n",
              "      <th></th>\n",
              "      <th>participant_id</th>\n",
              "      <th>Original_ID</th>\n",
              "      <th>Group</th>\n",
              "      <th>sess1_Med</th>\n",
              "      <th>sess2_Med</th>\n",
              "      <th>sex</th>\n",
              "      <th>age</th>\n",
              "    </tr>\n",
              "  </thead>\n",
              "  <tbody>\n",
              "    <tr>\n",
              "      <th>45</th>\n",
              "      <td>sub-046</td>\n",
              "      <td>904</td>\n",
              "      <td>0</td>\n",
              "      <td>NaN</td>\n",
              "      <td>no s2</td>\n",
              "      <td>1</td>\n",
              "      <td>73</td>\n",
              "    </tr>\n",
              "  </tbody>\n",
              "</table>\n",
              "</div>"
            ],
            "text/plain": [
              "   participant_id  Original_ID  Group sess1_Med sess2_Med  sex  age\n",
              "45        sub-046          904      0       NaN     no s2    1   73"
            ]
          },
          "metadata": {
            "tags": []
          },
          "execution_count": 130
        }
      ]
    },
    {
      "cell_type": "markdown",
      "metadata": {
        "id": "25GkRJYnKQrx"
      },
      "source": [
        "# Participant #47\n",
        "Number of sections: 1"
      ]
    },
    {
      "cell_type": "code",
      "metadata": {
        "colab": {
          "base_uri": "https://localhost:8080/",
          "height": 80
        },
        "id": "JDv-oMtPe-RM",
        "outputId": "629c59e2-b9fd-440e-fc65-6abc5b2995ea"
      },
      "source": [
        ""
      ],
      "execution_count": null,
      "outputs": [
        {
          "output_type": "execute_result",
          "data": {
            "text/html": [
              "<div>\n",
              "<style scoped>\n",
              "    .dataframe tbody tr th:only-of-type {\n",
              "        vertical-align: middle;\n",
              "    }\n",
              "\n",
              "    .dataframe tbody tr th {\n",
              "        vertical-align: top;\n",
              "    }\n",
              "\n",
              "    .dataframe thead th {\n",
              "        text-align: right;\n",
              "    }\n",
              "</style>\n",
              "<table border=\"1\" class=\"dataframe\">\n",
              "  <thead>\n",
              "    <tr style=\"text-align: right;\">\n",
              "      <th></th>\n",
              "      <th>participant_id</th>\n",
              "      <th>Original_ID</th>\n",
              "      <th>Group</th>\n",
              "      <th>sess1_Med</th>\n",
              "      <th>sess2_Med</th>\n",
              "      <th>sex</th>\n",
              "      <th>age</th>\n",
              "    </tr>\n",
              "  </thead>\n",
              "  <tbody>\n",
              "    <tr>\n",
              "      <th>46</th>\n",
              "      <td>sub-047</td>\n",
              "      <td>905</td>\n",
              "      <td>0</td>\n",
              "      <td>NaN</td>\n",
              "      <td>no s2</td>\n",
              "      <td>0</td>\n",
              "      <td>58</td>\n",
              "    </tr>\n",
              "  </tbody>\n",
              "</table>\n",
              "</div>"
            ],
            "text/plain": [
              "   participant_id  Original_ID  Group sess1_Med sess2_Med  sex  age\n",
              "46        sub-047          905      0       NaN     no s2    0   58"
            ]
          },
          "metadata": {
            "tags": []
          },
          "execution_count": 132
        }
      ]
    },
    {
      "cell_type": "markdown",
      "metadata": {
        "id": "ASJrEEM6KQ1e"
      },
      "source": [
        "# Participant #48\n",
        "Number of sections: 1"
      ]
    },
    {
      "cell_type": "code",
      "metadata": {
        "colab": {
          "base_uri": "https://localhost:8080/",
          "height": 80
        },
        "id": "H69MKCLRe-o9",
        "outputId": "1372bbe8-a050-43ac-e25f-1c1a7654a583"
      },
      "source": [
        "# Participant data\n",
        "p48 = participants[participants['participant_id'] == 'sub-048']\n",
        "p48.head()"
      ],
      "execution_count": null,
      "outputs": [
        {
          "output_type": "execute_result",
          "data": {
            "text/html": [
              "<div>\n",
              "<style scoped>\n",
              "    .dataframe tbody tr th:only-of-type {\n",
              "        vertical-align: middle;\n",
              "    }\n",
              "\n",
              "    .dataframe tbody tr th {\n",
              "        vertical-align: top;\n",
              "    }\n",
              "\n",
              "    .dataframe thead th {\n",
              "        text-align: right;\n",
              "    }\n",
              "</style>\n",
              "<table border=\"1\" class=\"dataframe\">\n",
              "  <thead>\n",
              "    <tr style=\"text-align: right;\">\n",
              "      <th></th>\n",
              "      <th>participant_id</th>\n",
              "      <th>Original_ID</th>\n",
              "      <th>Group</th>\n",
              "      <th>sess1_Med</th>\n",
              "      <th>sess2_Med</th>\n",
              "      <th>sex</th>\n",
              "      <th>age</th>\n",
              "    </tr>\n",
              "  </thead>\n",
              "  <tbody>\n",
              "    <tr>\n",
              "      <th>47</th>\n",
              "      <td>sub-048</td>\n",
              "      <td>906</td>\n",
              "      <td>0</td>\n",
              "      <td>NaN</td>\n",
              "      <td>no s2</td>\n",
              "      <td>1</td>\n",
              "      <td>77</td>\n",
              "    </tr>\n",
              "  </tbody>\n",
              "</table>\n",
              "</div>"
            ],
            "text/plain": [
              "   participant_id  Original_ID  Group sess1_Med sess2_Med  sex  age\n",
              "47        sub-048          906      0       NaN     no s2    1   77"
            ]
          },
          "metadata": {
            "tags": []
          },
          "execution_count": 134
        }
      ]
    },
    {
      "cell_type": "markdown",
      "metadata": {
        "id": "CuZ96eJHKQ_S"
      },
      "source": [
        "# Participant #49\n",
        "Number of sections: 1"
      ]
    },
    {
      "cell_type": "code",
      "metadata": {
        "colab": {
          "base_uri": "https://localhost:8080/",
          "height": 80
        },
        "id": "prGrglpMe-_0",
        "outputId": "0e1416e1-0731-4955-d3c9-4ae49677251c"
      },
      "source": [
        "# Participant data\n",
        "p49 = participants[participants['participant_id'] == 'sub-049']\n",
        "p49.head()"
      ],
      "execution_count": null,
      "outputs": [
        {
          "output_type": "execute_result",
          "data": {
            "text/html": [
              "<div>\n",
              "<style scoped>\n",
              "    .dataframe tbody tr th:only-of-type {\n",
              "        vertical-align: middle;\n",
              "    }\n",
              "\n",
              "    .dataframe tbody tr th {\n",
              "        vertical-align: top;\n",
              "    }\n",
              "\n",
              "    .dataframe thead th {\n",
              "        text-align: right;\n",
              "    }\n",
              "</style>\n",
              "<table border=\"1\" class=\"dataframe\">\n",
              "  <thead>\n",
              "    <tr style=\"text-align: right;\">\n",
              "      <th></th>\n",
              "      <th>participant_id</th>\n",
              "      <th>Original_ID</th>\n",
              "      <th>Group</th>\n",
              "      <th>sess1_Med</th>\n",
              "      <th>sess2_Med</th>\n",
              "      <th>sex</th>\n",
              "      <th>age</th>\n",
              "    </tr>\n",
              "  </thead>\n",
              "  <tbody>\n",
              "    <tr>\n",
              "      <th>48</th>\n",
              "      <td>sub-049</td>\n",
              "      <td>907</td>\n",
              "      <td>0</td>\n",
              "      <td>NaN</td>\n",
              "      <td>no s2</td>\n",
              "      <td>0</td>\n",
              "      <td>65</td>\n",
              "    </tr>\n",
              "  </tbody>\n",
              "</table>\n",
              "</div>"
            ],
            "text/plain": [
              "   participant_id  Original_ID  Group sess1_Med sess2_Med  sex  age\n",
              "48        sub-049          907      0       NaN     no s2    0   65"
            ]
          },
          "metadata": {
            "tags": []
          },
          "execution_count": 136
        }
      ]
    },
    {
      "cell_type": "markdown",
      "metadata": {
        "id": "UbmPPiKgKRNA"
      },
      "source": [
        "# Participant #50\n",
        "Number of sections: 1"
      ]
    },
    {
      "cell_type": "code",
      "metadata": {
        "colab": {
          "base_uri": "https://localhost:8080/",
          "height": 80
        },
        "id": "raO9pM-Be_Ww",
        "outputId": "7ef9085b-319a-43fa-a326-c7b01fa2e843"
      },
      "source": [
        "# Participant data\n",
        "p50 = participants[participants['participant_id'] == 'sub-050']\n",
        "p50.head()"
      ],
      "execution_count": null,
      "outputs": [
        {
          "output_type": "execute_result",
          "data": {
            "text/html": [
              "<div>\n",
              "<style scoped>\n",
              "    .dataframe tbody tr th:only-of-type {\n",
              "        vertical-align: middle;\n",
              "    }\n",
              "\n",
              "    .dataframe tbody tr th {\n",
              "        vertical-align: top;\n",
              "    }\n",
              "\n",
              "    .dataframe thead th {\n",
              "        text-align: right;\n",
              "    }\n",
              "</style>\n",
              "<table border=\"1\" class=\"dataframe\">\n",
              "  <thead>\n",
              "    <tr style=\"text-align: right;\">\n",
              "      <th></th>\n",
              "      <th>participant_id</th>\n",
              "      <th>Original_ID</th>\n",
              "      <th>Group</th>\n",
              "      <th>sess1_Med</th>\n",
              "      <th>sess2_Med</th>\n",
              "      <th>sex</th>\n",
              "      <th>age</th>\n",
              "    </tr>\n",
              "  </thead>\n",
              "  <tbody>\n",
              "    <tr>\n",
              "      <th>49</th>\n",
              "      <td>sub-050</td>\n",
              "      <td>908</td>\n",
              "      <td>0</td>\n",
              "      <td>NaN</td>\n",
              "      <td>no s2</td>\n",
              "      <td>1</td>\n",
              "      <td>75</td>\n",
              "    </tr>\n",
              "  </tbody>\n",
              "</table>\n",
              "</div>"
            ],
            "text/plain": [
              "   participant_id  Original_ID  Group sess1_Med sess2_Med  sex  age\n",
              "49        sub-050          908      0       NaN     no s2    1   75"
            ]
          },
          "metadata": {
            "tags": []
          },
          "execution_count": 138
        }
      ]
    },
    {
      "cell_type": "markdown",
      "metadata": {
        "id": "NwULrixVKRXm"
      },
      "source": [
        "# Participant #51\n",
        "Number of sections: 1"
      ]
    },
    {
      "cell_type": "code",
      "metadata": {
        "colab": {
          "base_uri": "https://localhost:8080/",
          "height": 80
        },
        "id": "gN7NpsxSe_7P",
        "outputId": "26033609-e595-4908-927b-c732bf95e6f4"
      },
      "source": [
        "# Participant data\n",
        "p51 = participants[participants['participant_id'] == 'sub-051']\n",
        "p51.head()"
      ],
      "execution_count": null,
      "outputs": [
        {
          "output_type": "execute_result",
          "data": {
            "text/html": [
              "<div>\n",
              "<style scoped>\n",
              "    .dataframe tbody tr th:only-of-type {\n",
              "        vertical-align: middle;\n",
              "    }\n",
              "\n",
              "    .dataframe tbody tr th {\n",
              "        vertical-align: top;\n",
              "    }\n",
              "\n",
              "    .dataframe thead th {\n",
              "        text-align: right;\n",
              "    }\n",
              "</style>\n",
              "<table border=\"1\" class=\"dataframe\">\n",
              "  <thead>\n",
              "    <tr style=\"text-align: right;\">\n",
              "      <th></th>\n",
              "      <th>participant_id</th>\n",
              "      <th>Original_ID</th>\n",
              "      <th>Group</th>\n",
              "      <th>sess1_Med</th>\n",
              "      <th>sess2_Med</th>\n",
              "      <th>sex</th>\n",
              "      <th>age</th>\n",
              "    </tr>\n",
              "  </thead>\n",
              "  <tbody>\n",
              "    <tr>\n",
              "      <th>50</th>\n",
              "      <td>sub-051</td>\n",
              "      <td>909</td>\n",
              "      <td>0</td>\n",
              "      <td>NaN</td>\n",
              "      <td>no s2</td>\n",
              "      <td>1</td>\n",
              "      <td>64</td>\n",
              "    </tr>\n",
              "  </tbody>\n",
              "</table>\n",
              "</div>"
            ],
            "text/plain": [
              "   participant_id  Original_ID  Group sess1_Med sess2_Med  sex  age\n",
              "50        sub-051          909      0       NaN     no s2    1   64"
            ]
          },
          "metadata": {
            "tags": []
          },
          "execution_count": 140
        }
      ]
    },
    {
      "cell_type": "markdown",
      "metadata": {
        "id": "5s5AtW1CKRh8"
      },
      "source": [
        "# Participant #52\n",
        "Number of sections: 1"
      ]
    },
    {
      "cell_type": "code",
      "metadata": {
        "colab": {
          "base_uri": "https://localhost:8080/",
          "height": 80
        },
        "id": "sziSJsWNfAZm",
        "outputId": "c4d694c8-7ea0-4156-b79f-459227489470"
      },
      "source": [
        "# Participant data\n",
        "p52 = participants[participants['participant_id'] == 'sub-052']\n",
        "p52.head()"
      ],
      "execution_count": null,
      "outputs": [
        {
          "output_type": "execute_result",
          "data": {
            "text/html": [
              "<div>\n",
              "<style scoped>\n",
              "    .dataframe tbody tr th:only-of-type {\n",
              "        vertical-align: middle;\n",
              "    }\n",
              "\n",
              "    .dataframe tbody tr th {\n",
              "        vertical-align: top;\n",
              "    }\n",
              "\n",
              "    .dataframe thead th {\n",
              "        text-align: right;\n",
              "    }\n",
              "</style>\n",
              "<table border=\"1\" class=\"dataframe\">\n",
              "  <thead>\n",
              "    <tr style=\"text-align: right;\">\n",
              "      <th></th>\n",
              "      <th>participant_id</th>\n",
              "      <th>Original_ID</th>\n",
              "      <th>Group</th>\n",
              "      <th>sess1_Med</th>\n",
              "      <th>sess2_Med</th>\n",
              "      <th>sex</th>\n",
              "      <th>age</th>\n",
              "    </tr>\n",
              "  </thead>\n",
              "  <tbody>\n",
              "    <tr>\n",
              "      <th>51</th>\n",
              "      <td>sub-052</td>\n",
              "      <td>910</td>\n",
              "      <td>0</td>\n",
              "      <td>NaN</td>\n",
              "      <td>no s2</td>\n",
              "      <td>1</td>\n",
              "      <td>75</td>\n",
              "    </tr>\n",
              "  </tbody>\n",
              "</table>\n",
              "</div>"
            ],
            "text/plain": [
              "   participant_id  Original_ID  Group sess1_Med sess2_Med  sex  age\n",
              "51        sub-052          910      0       NaN     no s2    1   75"
            ]
          },
          "metadata": {
            "tags": []
          },
          "execution_count": 142
        }
      ]
    },
    {
      "cell_type": "markdown",
      "metadata": {
        "id": "QNl8lEDtKRst"
      },
      "source": [
        "# Participant #53\n",
        "Number of sections: 1"
      ]
    },
    {
      "cell_type": "code",
      "metadata": {
        "colab": {
          "base_uri": "https://localhost:8080/",
          "height": 80
        },
        "id": "sOaoJrhzfA1L",
        "outputId": "0a49b096-bebb-424c-d56c-7c2167691a73"
      },
      "source": [
        "# Participant data\n",
        "p53 = participants[participants['participant_id'] == 'sub-053']\n",
        "p53.head()"
      ],
      "execution_count": null,
      "outputs": [
        {
          "output_type": "execute_result",
          "data": {
            "text/html": [
              "<div>\n",
              "<style scoped>\n",
              "    .dataframe tbody tr th:only-of-type {\n",
              "        vertical-align: middle;\n",
              "    }\n",
              "\n",
              "    .dataframe tbody tr th {\n",
              "        vertical-align: top;\n",
              "    }\n",
              "\n",
              "    .dataframe thead th {\n",
              "        text-align: right;\n",
              "    }\n",
              "</style>\n",
              "<table border=\"1\" class=\"dataframe\">\n",
              "  <thead>\n",
              "    <tr style=\"text-align: right;\">\n",
              "      <th></th>\n",
              "      <th>participant_id</th>\n",
              "      <th>Original_ID</th>\n",
              "      <th>Group</th>\n",
              "      <th>sess1_Med</th>\n",
              "      <th>sess2_Med</th>\n",
              "      <th>sex</th>\n",
              "      <th>age</th>\n",
              "    </tr>\n",
              "  </thead>\n",
              "  <tbody>\n",
              "    <tr>\n",
              "      <th>52</th>\n",
              "      <td>sub-053</td>\n",
              "      <td>911</td>\n",
              "      <td>0</td>\n",
              "      <td>NaN</td>\n",
              "      <td>no s2</td>\n",
              "      <td>1</td>\n",
              "      <td>73</td>\n",
              "    </tr>\n",
              "  </tbody>\n",
              "</table>\n",
              "</div>"
            ],
            "text/plain": [
              "   participant_id  Original_ID  Group sess1_Med sess2_Med  sex  age\n",
              "52        sub-053          911      0       NaN     no s2    1   73"
            ]
          },
          "metadata": {
            "tags": []
          },
          "execution_count": 144
        }
      ]
    },
    {
      "cell_type": "markdown",
      "metadata": {
        "id": "HFZNUuSHKR1v"
      },
      "source": [
        "# Participant #54\n",
        "Number of sections: 1"
      ]
    },
    {
      "cell_type": "code",
      "metadata": {
        "colab": {
          "base_uri": "https://localhost:8080/",
          "height": 80
        },
        "id": "genCe1u2fBMW",
        "outputId": "dd3c7c1d-6d2d-4111-b610-31e55f2c716b"
      },
      "source": [
        "# Participant data\n",
        "p54 = participants[participants['participant_id'] == 'sub-054']\n",
        "p54.head()"
      ],
      "execution_count": null,
      "outputs": [
        {
          "output_type": "execute_result",
          "data": {
            "text/html": [
              "<div>\n",
              "<style scoped>\n",
              "    .dataframe tbody tr th:only-of-type {\n",
              "        vertical-align: middle;\n",
              "    }\n",
              "\n",
              "    .dataframe tbody tr th {\n",
              "        vertical-align: top;\n",
              "    }\n",
              "\n",
              "    .dataframe thead th {\n",
              "        text-align: right;\n",
              "    }\n",
              "</style>\n",
              "<table border=\"1\" class=\"dataframe\">\n",
              "  <thead>\n",
              "    <tr style=\"text-align: right;\">\n",
              "      <th></th>\n",
              "      <th>participant_id</th>\n",
              "      <th>Original_ID</th>\n",
              "      <th>Group</th>\n",
              "      <th>sess1_Med</th>\n",
              "      <th>sess2_Med</th>\n",
              "      <th>sex</th>\n",
              "      <th>age</th>\n",
              "    </tr>\n",
              "  </thead>\n",
              "  <tbody>\n",
              "    <tr>\n",
              "      <th>53</th>\n",
              "      <td>sub-054</td>\n",
              "      <td>912</td>\n",
              "      <td>0</td>\n",
              "      <td>NaN</td>\n",
              "      <td>no s2</td>\n",
              "      <td>1</td>\n",
              "      <td>75</td>\n",
              "    </tr>\n",
              "  </tbody>\n",
              "</table>\n",
              "</div>"
            ],
            "text/plain": [
              "   participant_id  Original_ID  Group sess1_Med sess2_Med  sex  age\n",
              "53        sub-054          912      0       NaN     no s2    1   75"
            ]
          },
          "metadata": {
            "tags": []
          },
          "execution_count": 146
        }
      ]
    },
    {
      "cell_type": "markdown",
      "metadata": {
        "id": "wzLCm-OzKR_k"
      },
      "source": [
        "# Participant #55\n",
        "Number of sections: 1"
      ]
    },
    {
      "cell_type": "code",
      "metadata": {
        "colab": {
          "base_uri": "https://localhost:8080/",
          "height": 80
        },
        "id": "-P0bkJngfBxq",
        "outputId": "f535962c-a6c4-4d64-b347-c1fd3051934c"
      },
      "source": [
        "# Participant data\n",
        "p55 = participants[participants['participant_id'] == 'sub-055']\n",
        "p55.head()"
      ],
      "execution_count": null,
      "outputs": [
        {
          "output_type": "execute_result",
          "data": {
            "text/html": [
              "<div>\n",
              "<style scoped>\n",
              "    .dataframe tbody tr th:only-of-type {\n",
              "        vertical-align: middle;\n",
              "    }\n",
              "\n",
              "    .dataframe tbody tr th {\n",
              "        vertical-align: top;\n",
              "    }\n",
              "\n",
              "    .dataframe thead th {\n",
              "        text-align: right;\n",
              "    }\n",
              "</style>\n",
              "<table border=\"1\" class=\"dataframe\">\n",
              "  <thead>\n",
              "    <tr style=\"text-align: right;\">\n",
              "      <th></th>\n",
              "      <th>participant_id</th>\n",
              "      <th>Original_ID</th>\n",
              "      <th>Group</th>\n",
              "      <th>sess1_Med</th>\n",
              "      <th>sess2_Med</th>\n",
              "      <th>sex</th>\n",
              "      <th>age</th>\n",
              "    </tr>\n",
              "  </thead>\n",
              "  <tbody>\n",
              "    <tr>\n",
              "      <th>54</th>\n",
              "      <td>sub-055</td>\n",
              "      <td>913</td>\n",
              "      <td>0</td>\n",
              "      <td>NaN</td>\n",
              "      <td>no s2</td>\n",
              "      <td>1</td>\n",
              "      <td>69</td>\n",
              "    </tr>\n",
              "  </tbody>\n",
              "</table>\n",
              "</div>"
            ],
            "text/plain": [
              "   participant_id  Original_ID  Group sess1_Med sess2_Med  sex  age\n",
              "54        sub-055          913      0       NaN     no s2    1   69"
            ]
          },
          "metadata": {
            "tags": []
          },
          "execution_count": 148
        }
      ]
    },
    {
      "cell_type": "markdown",
      "metadata": {
        "id": "_T6AJ1fKa-wU"
      },
      "source": [
        "# Participant #56\n",
        "Number of sections: 1"
      ]
    },
    {
      "cell_type": "code",
      "metadata": {
        "colab": {
          "base_uri": "https://localhost:8080/",
          "height": 80
        },
        "id": "qhsg6QQmfCSk",
        "outputId": "41ed0294-d0f9-47c4-debb-19d237c933fd"
      },
      "source": [
        "# Participant data\n",
        "p56 = participants[participants['participant_id'] == 'sub-056']\n",
        "p56.head()"
      ],
      "execution_count": null,
      "outputs": [
        {
          "output_type": "execute_result",
          "data": {
            "text/html": [
              "<div>\n",
              "<style scoped>\n",
              "    .dataframe tbody tr th:only-of-type {\n",
              "        vertical-align: middle;\n",
              "    }\n",
              "\n",
              "    .dataframe tbody tr th {\n",
              "        vertical-align: top;\n",
              "    }\n",
              "\n",
              "    .dataframe thead th {\n",
              "        text-align: right;\n",
              "    }\n",
              "</style>\n",
              "<table border=\"1\" class=\"dataframe\">\n",
              "  <thead>\n",
              "    <tr style=\"text-align: right;\">\n",
              "      <th></th>\n",
              "      <th>participant_id</th>\n",
              "      <th>Original_ID</th>\n",
              "      <th>Group</th>\n",
              "      <th>sess1_Med</th>\n",
              "      <th>sess2_Med</th>\n",
              "      <th>sex</th>\n",
              "      <th>age</th>\n",
              "    </tr>\n",
              "  </thead>\n",
              "  <tbody>\n",
              "    <tr>\n",
              "      <th>55</th>\n",
              "      <td>sub-056</td>\n",
              "      <td>914</td>\n",
              "      <td>0</td>\n",
              "      <td>NaN</td>\n",
              "      <td>no s2</td>\n",
              "      <td>0</td>\n",
              "      <td>48</td>\n",
              "    </tr>\n",
              "  </tbody>\n",
              "</table>\n",
              "</div>"
            ],
            "text/plain": [
              "   participant_id  Original_ID  Group sess1_Med sess2_Med  sex  age\n",
              "55        sub-056          914      0       NaN     no s2    0   48"
            ]
          },
          "metadata": {
            "tags": []
          },
          "execution_count": 150
        }
      ]
    }
  ]
}